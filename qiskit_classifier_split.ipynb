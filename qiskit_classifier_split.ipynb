{
 "cells": [
  {
   "cell_type": "code",
   "execution_count": 3,
   "metadata": {},
   "outputs": [],
   "source": [
    "import numpy as np\n",
    "import matplotlib.pyplot as plt\n",
    "\n",
    "from qiskit import Aer, QuantumCircuit\n",
    "from qiskit.quantum_info import Statevector\n",
    "from qiskit.visualization import plot_bloch_multivector\n",
    "from qiskit.visualization import plot_state_qsphere\n",
    "from qiskit.opflow import Z, I, StateFn\n",
    "from qiskit.utils import QuantumInstance\n",
    "from qiskit.circuit import Parameter\n",
    "from qiskit.circuit.library import RealAmplitudes, ZZFeatureMap\n",
    "from qiskit.algorithms.optimizers import *\n",
    "import qiskit.quantum_info as qi\n",
    "\n",
    "from qiskit_machine_learning.neural_networks import TwoLayerQNN, CircuitQNN\n",
    "from qiskit_machine_learning.algorithms.classifiers import NeuralNetworkClassifier, VQC\n",
    "from qiskit_machine_learning.algorithms.regressors import NeuralNetworkRegressor, VQR\n",
    "\n",
    "from sklearn.datasets import load_iris\n",
    "from sklearn.model_selection import train_test_split\n",
    "\n",
    "from typing import Union\n",
    "\n",
    "from qiskit_machine_learning.exceptions import QiskitMachineLearningError\n",
    "\n",
    "from IPython.display import clear_output\n",
    "\n",
    "import warnings\n",
    "warnings.simplefilter('ignore')\n",
    "\n",
    "import random\n",
    "import time\n",
    "\n",
    "random.seed(69069)\n",
    "np.random.seed(69069)"
   ]
  },
  {
   "cell_type": "code",
   "execution_count": 5,
   "metadata": {},
   "outputs": [],
   "source": [
    "#previously used data normalizer\n",
    "#code to normalize weights to a range of -1 and 1\n",
    "from sklearn.preprocessing import MinMaxScaler\n",
    "\n",
    "def normalize_data(data):\n",
    "    return MinMaxScaler().fit_transform(data) * 2 - 1"
   ]
  },
  {
   "cell_type": "code",
   "execution_count": 4,
   "metadata": {},
   "outputs": [],
   "source": [
    "#More functions needed for training\n",
    "# callback function that draws a live plot when the .fit() method is called\n",
    "def callback_graph(weights, obj_func_eval):\n",
    "    clear_output(wait=True)\n",
    "    objective_func_vals.append(obj_func_eval)\n",
    "    plt.title(\"Objective function value against iteration\")\n",
    "    plt.xlabel(\"Iteration\")\n",
    "    plt.ylabel(\"Objective function value\")\n",
    "    plt.plot(range(len(objective_func_vals)), objective_func_vals)\n",
    "    plt.show()"
   ]
  },
  {
   "cell_type": "code",
   "execution_count": 6,
   "metadata": {},
   "outputs": [],
   "source": [
    "def fit_and_score(circuit_classifier, features, targets, random_state = 69069):\n",
    "    X_train, X_test, y_train, y_test = train_test_split(features, targets, test_size=1-3/4, random_state=random_state)\n",
    "\n",
    "    plt.rcParams[\"figure.figsize\"] = (12, 6)\n",
    "\n",
    "    # fit classifier to data\n",
    "    circuit_classifier.fit(X_train, y_train)\n",
    "    score_train =  circuit_classifier.score(X_train, y_train)\n",
    "    score_test =  circuit_classifier.score(X_test, y_test)\n",
    "    print(\"Mean Accuracy traingin: \" + str(score_train))\n",
    "    print(\"Mean Accuracy testing: \" + str(score_test))\n",
    "\n",
    "    # return to default figsize\n",
    "    plt.rcParams[\"figure.figsize\"] = (6, 4)\n",
    "\n",
    "    # score classifier\n",
    "    score =  circuit_classifier.score(features, targets)\n",
    "    print('Mean Accuracy overall: ' + str(score))"
   ]
  },
  {
   "cell_type": "code",
   "execution_count": 7,
   "metadata": {},
   "outputs": [],
   "source": [
    "dataset = load_iris()\n",
    "data = dataset['data']\n",
    "targets = np.array(dataset['target'])\n",
    "\n",
    "quantum_instance = QuantumInstance(Aer.get_backend('aer_simulator'), shots=1024)\n",
    "\n",
    "data = np.array(normalize_data(data))"
   ]
  },
  {
   "cell_type": "code",
   "execution_count": 17,
   "metadata": {},
   "outputs": [
    {
     "data": {
      "text/plain": [
       "150"
      ]
     },
     "execution_count": 17,
     "metadata": {},
     "output_type": "execute_result"
    }
   ],
   "source": [
    "data.shape[0]"
   ]
  },
  {
   "cell_type": "code",
   "execution_count": 8,
   "metadata": {},
   "outputs": [],
   "source": [
    "#building the circuit that got ~0.89 accuracy\n",
    "#we need to update the parity function to resemble 3 classes\n",
    "output_shape = 3  # corresponds to the number of classes, possible outcomes of the (parity) mapping.\n",
    "def parity(x):\n",
    "    return '{:b}'.format(x).count('1') % 3\n",
    "\n",
    "\n",
    "feature_map = QuantumCircuit(4)\n",
    "ansatz = QuantumCircuit(4)\n",
    "for i in range(len(data[1])):\n",
    "    feature_map.ry(Parameter('i_' + str(i)),i)\n",
    "    ansatz.ry(Parameter('w_' + str(i)),i)\n",
    "    ansatz.cry(Parameter('w_' + str(10+i)), i, (i+1)%4)\n",
    "\n",
    "\n",
    "qc = QuantumCircuit(4)\n",
    "qc.append(feature_map, range(4))\n",
    "qc.append(ansatz, range(4))\n",
    "\n",
    "circuit_qnn = CircuitQNN(circuit=qc,    \n",
    "                         input_params=feature_map.parameters,\n",
    "                         weight_params=ansatz.parameters,\n",
    "                         interpret=parity,\n",
    "                         output_shape=output_shape,\n",
    "                         quantum_instance=quantum_instance)\n",
    "\n",
    "# construct classifier\n",
    "circuit_classifier = NeuralNetworkClassifier(neural_network=circuit_qnn,                                             \n",
    "                                             optimizer=COBYLA(),\n",
    "                                             #Warm start needed to not start from 0\n",
    "                                             warm_start=True,\n",
    "                                             callback=callback_graph)\n",
    "\n",
    "\n",
    "\n",
    "# create empty array for callback to store evaluations of the objective function\n",
    "objective_func_vals = []\n",
    "#fit_and_score(circuit_classifier, data, targets)"
   ]
  },
  {
   "cell_type": "code",
   "execution_count": 18,
   "metadata": {},
   "outputs": [
    {
     "data": {
      "image/png": "[encoded data removed]",
      "text/plain": [
       "<Figure size 864x432 with 1 Axes>"
      ]
     },
     "metadata": {
      "needs_background": "light"
     },
     "output_type": "display_data"
    },
    {
     "name": "stdout",
     "output_type": "stream",
     "text": [
      "Mean Accuracy traingin: 0.8660714285714286\n",
      "Mean Accuracy testing: 0.8421052631578947\n",
      "Mean Accuracy overall: 0.84\n"
     ]
    }
   ],
   "source": [
    "#Let's now retrain using another random test/train split\n",
    "objective_func_vals = []\n",
    "fit_and_score(circuit_classifier, data, targets, random_state=43792)"
   ]
  },
  {
   "cell_type": "code",
   "execution_count": 19,
   "metadata": {},
   "outputs": [
    {
     "data": {
      "image/png": "[encoded data removed]",
      "text/plain": [
       "<Figure size 864x432 with 1 Axes>"
      ]
     },
     "metadata": {
      "needs_background": "light"
     },
     "output_type": "display_data"
    },
    {
     "name": "stdout",
     "output_type": "stream",
     "text": [
      "Mean Accuracy traingin: 0.7589285714285714\n",
      "Mean Accuracy testing: 0.7368421052631579\n",
      "Mean Accuracy overall: 0.76\n"
     ]
    }
   ],
   "source": [
    "#Let's now retrain using another random test/train split\n",
    "objective_func_vals = []\n",
    "fit_and_score(circuit_classifier, data, targets, random_state=17609)"
   ]
  },
  {
   "cell_type": "code",
   "execution_count": 20,
   "metadata": {},
   "outputs": [
    {
     "data": {
      "image/png": "[encoded data removed]",
      "text/plain": [
       "<Figure size 864x432 with 1 Axes>"
      ]
     },
     "metadata": {
      "needs_background": "light"
     },
     "output_type": "display_data"
    },
    {
     "name": "stdout",
     "output_type": "stream",
     "text": [
      "Mean Accuracy traingin: 0.6964285714285714\n",
      "Mean Accuracy testing: 0.7631578947368421\n",
      "Mean Accuracy overall: 0.7\n"
     ]
    }
   ],
   "source": [
    "#Let's now retrain using another random test/train split\n",
    "objective_func_vals = []\n",
    "fit_and_score(circuit_classifier, data, targets, random_state=42069)"
   ]
  },
  {
   "cell_type": "code",
   "execution_count": 44,
   "metadata": {},
   "outputs": [
    {
     "name": "stdout",
     "output_type": "stream",
     "text": [
      "     ┌───────────┐┌───────────┐                          ┌───────────┐┌───┐»\n",
      "q_0: ┤ R(i0,π/2) ├┤ R(w0,π/2) ├──■────────────────────■──┤ Ry(w10/2) ├┤ X ├»\n",
      "     ├───────────┤├───────────┤┌─┴─┐┌──────────────┐┌─┴─┐├───────────┤└─┬─┘»\n",
      "q_1: ┤ R(i1,π/2) ├┤ Ry(w01/2) ├┤ X ├┤ Ry(-0.5*w01) ├┤ X ├┤ R(w1,π/2) ├──■──»\n",
      "     └───────────┘└───────────┘└───┘└──────────────┘└───┘└───────────┘     »\n",
      "«     ┌──────────────┐┌───┐\n",
      "«q_0: ┤ Ry(-0.5*w10) ├┤ X ├\n",
      "«     └──────────────┘└─┬─┘\n",
      "«q_1: ──────────────────■──\n",
      "«                          \n"
     ]
    },
    {
     "data": {
      "text/plain": [
       "None"
      ]
     },
     "metadata": {},
     "output_type": "display_data"
    },
    {
     "name": "stdout",
     "output_type": "stream",
     "text": [
      "     ┌───────────┐┌───────────┐                          ┌───────────┐┌───┐»\n",
      "q_0: ┤ R(i0,π/2) ├┤ R(w0,π/2) ├──■────────────────────■──┤ Ry(w10/2) ├┤ X ├»\n",
      "     ├───────────┤├───────────┤┌─┴─┐┌──────────────┐┌─┴─┐├───────────┤└─┬─┘»\n",
      "q_1: ┤ R(i1,π/2) ├┤ Ry(w01/2) ├┤ X ├┤ Ry(-0.5*w01) ├┤ X ├┤ R(w1,π/2) ├──■──»\n",
      "     └───────────┘└───────────┘└───┘└──────────────┘└───┘└───────────┘     »\n",
      "«     ┌──────────────┐┌───┐\n",
      "«q_0: ┤ Ry(-0.5*w10) ├┤ X ├\n",
      "«     └──────────────┘└─┬─┘\n",
      "«q_1: ──────────────────■──\n",
      "«                          \n"
     ]
    },
    {
     "data": {
      "text/plain": [
       "None"
      ]
     },
     "metadata": {},
     "output_type": "display_data"
    },
    {
     "name": "stdout",
     "output_type": "stream",
     "text": [
      "     ┌───────────┐┌───────────┐                          ┌───────────┐┌───┐»\n",
      "q_0: ┤ R(i0,π/2) ├┤ R(w0,π/2) ├──■────────────────────■──┤ Ry(w10/2) ├┤ X ├»\n",
      "     ├───────────┤├───────────┤┌─┴─┐┌──────────────┐┌─┴─┐├───────────┤└─┬─┘»\n",
      "q_1: ┤ R(i1,π/2) ├┤ Ry(w01/2) ├┤ X ├┤ Ry(-0.5*w01) ├┤ X ├┤ R(w1,π/2) ├──■──»\n",
      "     └───────────┘└───────────┘└───┘└──────────────┘└───┘└───────────┘     »\n",
      "«     ┌──────────────┐┌───┐\n",
      "«q_0: ┤ Ry(-0.5*w10) ├┤ X ├\n",
      "«     └──────────────┘└─┬─┘\n",
      "«q_1: ──────────────────■──\n",
      "«                          \n"
     ]
    },
    {
     "data": {
      "text/plain": [
       "None"
      ]
     },
     "metadata": {},
     "output_type": "display_data"
    },
    {
     "name": "stdout",
     "output_type": "stream",
     "text": [
      "ListOp([\n",
      "  ListOp([\n",
      "    CircuitStateFn(\n",
      "         ┌──────────────────────────┐  ┌────────┐                           »\n",
      "    q_0: ┤ Ry(i0 + 1.5707963267949) ├──┤ Ry(w0) ├───■────────────────────■──»\n",
      "         └────────┬────────┬────────┘┌─┴────────┴┐┌─┴─┐┌──────────────┐┌─┴─┐»\n",
      "    q_1: ─────────┤ Ry(i1) ├─────────┤ Ry(w01/2) ├┤ X ├┤ Ry(-0.5*w01) ├┤ X ├»\n",
      "                  └────────┘         └───────────┘└───┘└──────────────┘└───┘»\n",
      "    «     ┌───────────┐┌───┐┌──────────────┐┌───┐\n",
      "    «q_0: ┤ Ry(w10/2) ├┤ X ├┤ Ry(-0.5*w10) ├┤ X ├\n",
      "    «     └─┬────────┬┘└─┬─┘└──────────────┘└─┬─┘\n",
      "    «q_1: ──┤ Ry(w1) ├───■────────────────────■──\n",
      "    «       └────────┘                           \n",
      "    ),\n",
      "    CircuitStateFn(\n",
      "         ┌──────────────────────────┐  ┌────────┐                           »\n",
      "    q_0: ┤ Ry(i0 - 1.5707963267949) ├──┤ Ry(w0) ├───■────────────────────■──»\n",
      "         └────────┬────────┬────────┘┌─┴────────┴┐┌─┴─┐┌──────────────┐┌─┴─┐»\n",
      "    q_1: ─────────┤ Ry(i1) ├─────────┤ Ry(w01/2) ├┤ X ├┤ Ry(-0.5*w01) ├┤ X ├»\n",
      "                  └────────┘         └───────────┘└───┘└──────────────┘└───┘»\n",
      "    «     ┌───────────┐┌───┐┌──────────────┐┌───┐\n",
      "    «q_0: ┤ Ry(w10/2) ├┤ X ├┤ Ry(-0.5*w10) ├┤ X ├\n",
      "    «     └─┬────────┬┘└─┬─┘└──────────────┘└─┬─┘\n",
      "    «q_1: ──┤ Ry(w1) ├───■────────────────────■──\n",
      "    «       └────────┘                           \n",
      "    )\n",
      "  ]),\n",
      "  ListOp([\n",
      "    CircuitStateFn(\n",
      "                  ┌────────┐           ┌────────┐                           »\n",
      "    q_0: ─────────┤ Ry(i0) ├───────────┤ Ry(w0) ├───■────────────────────■──»\n",
      "         ┌────────┴────────┴────────┐┌─┴────────┴┐┌─┴─┐┌──────────────┐┌─┴─┐»\n",
      "    q_1: ┤ Ry(i1 + 1.5707963267949) ├┤ Ry(w01/2) ├┤ X ├┤ Ry(-0.5*w01) ├┤ X ├»\n",
      "         └──────────────────────────┘└───────────┘└───┘└──────────────┘└───┘»\n",
      "    «     ┌───────────┐┌───┐┌──────────────┐┌───┐\n",
      "    «q_0: ┤ Ry(w10/2) ├┤ X ├┤ Ry(-0.5*w10) ├┤ X ├\n",
      "    «     └─┬────────┬┘└─┬─┘└──────────────┘└─┬─┘\n",
      "    «q_1: ──┤ Ry(w1) ├───■────────────────────■──\n",
      "    «       └────────┘                           \n",
      "    ),\n",
      "    CircuitStateFn(\n",
      "                  ┌────────┐           ┌────────┐                           »\n",
      "    q_0: ─────────┤ Ry(i0) ├───────────┤ Ry(w0) ├───■────────────────────■──»\n",
      "         ┌────────┴────────┴────────┐┌─┴────────┴┐┌─┴─┐┌──────────────┐┌─┴─┐»\n",
      "    q_1: ┤ Ry(i1 - 1.5707963267949) ├┤ Ry(w01/2) ├┤ X ├┤ Ry(-0.5*w01) ├┤ X ├»\n",
      "         └──────────────────────────┘└───────────┘└───┘└──────────────┘└───┘»\n",
      "    «     ┌───────────┐┌───┐┌──────────────┐┌───┐\n",
      "    «q_0: ┤ Ry(w10/2) ├┤ X ├┤ Ry(-0.5*w10) ├┤ X ├\n",
      "    «     └─┬────────┬┘└─┬─┘└──────────────┘└─┬─┘\n",
      "    «q_1: ──┤ Ry(w1) ├───■────────────────────■──\n",
      "    «       └────────┘                           \n",
      "    )\n",
      "  ]),\n",
      "  ListOp([\n",
      "    CircuitStateFn(\n",
      "         ┌────────┐┌──────────────────────────┐                          »\n",
      "    q_0: ┤ Ry(i0) ├┤ Ry(w0 + 1.5707963267949) ├──■────────────────────■──»\n",
      "         ├────────┤└──────┬───────────┬───────┘┌─┴─┐┌──────────────┐┌─┴─┐»\n",
      "    q_1: ┤ Ry(i1) ├───────┤ Ry(w01/2) ├────────┤ X ├┤ Ry(-0.5*w01) ├┤ X ├»\n",
      "         └────────┘       └───────────┘        └───┘└──────────────┘└───┘»\n",
      "    «     ┌───────────┐┌───┐┌──────────────┐┌───┐\n",
      "    «q_0: ┤ Ry(w10/2) ├┤ X ├┤ Ry(-0.5*w10) ├┤ X ├\n",
      "    «     └─┬────────┬┘└─┬─┘└──────────────┘└─┬─┘\n",
      "    «q_1: ──┤ Ry(w1) ├───■────────────────────■──\n",
      "    «       └────────┘                           \n",
      "    ),\n",
      "    CircuitStateFn(\n",
      "         ┌────────┐┌──────────────────────────┐                          »\n",
      "    q_0: ┤ Ry(i0) ├┤ Ry(w0 - 1.5707963267949) ├──■────────────────────■──»\n",
      "         ├────────┤└──────┬───────────┬───────┘┌─┴─┐┌──────────────┐┌─┴─┐»\n",
      "    q_1: ┤ Ry(i1) ├───────┤ Ry(w01/2) ├────────┤ X ├┤ Ry(-0.5*w01) ├┤ X ├»\n",
      "         └────────┘       └───────────┘        └───┘└──────────────┘└───┘»\n",
      "    «     ┌───────────┐┌───┐┌──────────────┐┌───┐\n",
      "    «q_0: ┤ Ry(w10/2) ├┤ X ├┤ Ry(-0.5*w10) ├┤ X ├\n",
      "    «     └─┬────────┬┘└─┬─┘└──────────────┘└─┬─┘\n",
      "    «q_1: ──┤ Ry(w1) ├───■────────────────────■──\n",
      "    «       └────────┘                           \n",
      "    )\n",
      "  ]),\n",
      "  SummedOp([\n",
      "    0.5 * ListOp([\n",
      "      CircuitStateFn(\n",
      "           ┌────────┐           ┌────────┐                                    »\n",
      "      q_0: ┤ Ry(i0) ├───────────┤ Ry(w0) ├────────────■────────────────────■──»\n",
      "           ├────────┤┌──────────┴────────┴─────────┐┌─┴─┐┌──────────────┐┌─┴─┐»\n",
      "      q_1: ┤ Ry(i1) ├┤ Ry(w01/2 + 1.5707963267949) ├┤ X ├┤ Ry(-0.5*w01) ├┤ X ├»\n",
      "           └────────┘└─────────────────────────────┘└───┘└──────────────┘└───┘»\n",
      "      «     ┌───────────┐┌───┐┌──────────────┐┌───┐\n",
      "      «q_0: ┤ Ry(w10/2) ├┤ X ├┤ Ry(-0.5*w10) ├┤ X ├\n",
      "      «     └─┬────────┬┘└─┬─┘└──────────────┘└─┬─┘\n",
      "      «q_1: ──┤ Ry(w1) ├───■────────────────────■──\n",
      "      «       └────────┘                           \n",
      "      ),\n",
      "      CircuitStateFn(\n",
      "           ┌────────┐           ┌────────┐                                    »\n",
      "      q_0: ┤ Ry(i0) ├───────────┤ Ry(w0) ├────────────■────────────────────■──»\n",
      "           ├────────┤┌──────────┴────────┴─────────┐┌─┴─┐┌──────────────┐┌─┴─┐»\n",
      "      q_1: ┤ Ry(i1) ├┤ Ry(w01/2 - 1.5707963267949) ├┤ X ├┤ Ry(-0.5*w01) ├┤ X ├»\n",
      "           └────────┘└─────────────────────────────┘└───┘└──────────────┘└───┘»\n",
      "      «     ┌───────────┐┌───┐┌──────────────┐┌───┐\n",
      "      «q_0: ┤ Ry(w10/2) ├┤ X ├┤ Ry(-0.5*w10) ├┤ X ├\n",
      "      «     └─┬────────┬┘└─┬─┘└──────────────┘└─┬─┘\n",
      "      «q_1: ──┤ Ry(w1) ├───■────────────────────■──\n",
      "      «       └────────┘                           \n",
      "      )\n",
      "    ]),\n",
      "    -0.5 * ListOp([\n",
      "      CircuitStateFn(\n",
      "           ┌────────┐  ┌────────┐                                            »\n",
      "      q_0: ┤ Ry(i0) ├──┤ Ry(w0) ├───■─────────────────────────────────────■──»\n",
      "           ├────────┤┌─┴────────┴┐┌─┴─┐┌───────────────────────────────┐┌─┴─┐»\n",
      "      q_1: ┤ Ry(i1) ├┤ Ry(w01/2) ├┤ X ├┤ Ry(1.5707963267949 - 0.5*w01) ├┤ X ├»\n",
      "           └────────┘└───────────┘└───┘└───────────────────────────────┘└───┘»\n",
      "      «     ┌───────────┐┌───┐┌──────────────┐┌───┐\n",
      "      «q_0: ┤ Ry(w10/2) ├┤ X ├┤ Ry(-0.5*w10) ├┤ X ├\n",
      "      «     └─┬────────┬┘└─┬─┘└──────────────┘└─┬─┘\n",
      "      «q_1: ──┤ Ry(w1) ├───■────────────────────■──\n",
      "      «       └────────┘                           \n",
      "      ),\n",
      "      CircuitStateFn(\n",
      "           ┌────────┐  ┌────────┐                                             »\n",
      "      q_0: ┤ Ry(i0) ├──┤ Ry(w0) ├───■──────────────────────────────────────■──»\n",
      "           ├────────┤┌─┴────────┴┐┌─┴─┐┌────────────────────────────────┐┌─┴─┐»\n",
      "      q_1: ┤ Ry(i1) ├┤ Ry(w01/2) ├┤ X ├┤ Ry(-0.5*w01 - 1.5707963267949) ├┤ X ├»\n",
      "           └────────┘└───────────┘└───┘└────────────────────────────────┘└───┘»\n",
      "      «     ┌───────────┐┌───┐┌──────────────┐┌───┐\n",
      "      «q_0: ┤ Ry(w10/2) ├┤ X ├┤ Ry(-0.5*w10) ├┤ X ├\n",
      "      «     └─┬────────┬┘└─┬─┘└──────────────┘└─┬─┘\n",
      "      «q_1: ──┤ Ry(w1) ├───■────────────────────■──\n",
      "      «       └────────┘                           \n",
      "      )\n",
      "    ])\n",
      "  ]),\n",
      "  ListOp([\n",
      "    CircuitStateFn(\n",
      "         ┌────────┐  ┌────────┐                           »\n",
      "    q_0: ┤ Ry(i0) ├──┤ Ry(w0) ├───■────────────────────■──»\n",
      "         ├────────┤┌─┴────────┴┐┌─┴─┐┌──────────────┐┌─┴─┐»\n",
      "    q_1: ┤ Ry(i1) ├┤ Ry(w01/2) ├┤ X ├┤ Ry(-0.5*w01) ├┤ X ├»\n",
      "         └────────┘└───────────┘└───┘└──────────────┘└───┘»\n",
      "    «            ┌───────────┐        ┌───┐┌──────────────┐┌───┐\n",
      "    «q_0: ───────┤ Ry(w10/2) ├────────┤ X ├┤ Ry(-0.5*w10) ├┤ X ├\n",
      "    «     ┌──────┴───────────┴───────┐└─┬─┘└──────────────┘└─┬─┘\n",
      "    «q_1: ┤ Ry(w1 + 1.5707963267949) ├──■────────────────────■──\n",
      "    «     └──────────────────────────┘                          \n",
      "    ),\n",
      "    CircuitStateFn(\n",
      "         ┌────────┐  ┌────────┐                           »\n",
      "    q_0: ┤ Ry(i0) ├──┤ Ry(w0) ├───■────────────────────■──»\n",
      "         ├────────┤┌─┴────────┴┐┌─┴─┐┌──────────────┐┌─┴─┐»\n",
      "    q_1: ┤ Ry(i1) ├┤ Ry(w01/2) ├┤ X ├┤ Ry(-0.5*w01) ├┤ X ├»\n",
      "         └────────┘└───────────┘└───┘└──────────────┘└───┘»\n",
      "    «            ┌───────────┐        ┌───┐┌──────────────┐┌───┐\n",
      "    «q_0: ───────┤ Ry(w10/2) ├────────┤ X ├┤ Ry(-0.5*w10) ├┤ X ├\n",
      "    «     ┌──────┴───────────┴───────┐└─┬─┘└──────────────┘└─┬─┘\n",
      "    «q_1: ┤ Ry(w1 - 1.5707963267949) ├──■────────────────────■──\n",
      "    «     └──────────────────────────┘                          \n",
      "    )\n",
      "  ]),\n",
      "  SummedOp([\n",
      "    0.5 * ListOp([\n",
      "      CircuitStateFn(\n",
      "           ┌────────┐  ┌────────┐                           »\n",
      "      q_0: ┤ Ry(i0) ├──┤ Ry(w0) ├───■────────────────────■──»\n",
      "           ├────────┤┌─┴────────┴┐┌─┴─┐┌──────────────┐┌─┴─┐»\n",
      "      q_1: ┤ Ry(i1) ├┤ Ry(w01/2) ├┤ X ├┤ Ry(-0.5*w01) ├┤ X ├»\n",
      "           └────────┘└───────────┘└───┘└──────────────┘└───┘»\n",
      "      «     ┌─────────────────────────────┐┌───┐┌──────────────┐┌───┐\n",
      "      «q_0: ┤ Ry(w10/2 + 1.5707963267949) ├┤ X ├┤ Ry(-0.5*w10) ├┤ X ├\n",
      "      «     └──────────┬────────┬─────────┘└─┬─┘└──────────────┘└─┬─┘\n",
      "      «q_1: ───────────┤ Ry(w1) ├────────────■────────────────────■──\n",
      "      «                └────────┘                                    \n",
      "      ),\n",
      "      CircuitStateFn(\n",
      "           ┌────────┐  ┌────────┐                           »\n",
      "      q_0: ┤ Ry(i0) ├──┤ Ry(w0) ├───■────────────────────■──»\n",
      "           ├────────┤┌─┴────────┴┐┌─┴─┐┌──────────────┐┌─┴─┐»\n",
      "      q_1: ┤ Ry(i1) ├┤ Ry(w01/2) ├┤ X ├┤ Ry(-0.5*w01) ├┤ X ├»\n",
      "           └────────┘└───────────┘└───┘└──────────────┘└───┘»\n",
      "      «     ┌─────────────────────────────┐┌───┐┌──────────────┐┌───┐\n",
      "      «q_0: ┤ Ry(w10/2 - 1.5707963267949) ├┤ X ├┤ Ry(-0.5*w10) ├┤ X ├\n",
      "      «     └──────────┬────────┬─────────┘└─┬─┘└──────────────┘└─┬─┘\n",
      "      «q_1: ───────────┤ Ry(w1) ├────────────■────────────────────■──\n",
      "      «                └────────┘                                    \n",
      "      )\n",
      "    ]),\n",
      "    -0.5 * ListOp([\n",
      "      CircuitStateFn(\n",
      "           ┌────────┐  ┌────────┐                           ┌───────────┐┌───┐»\n",
      "      q_0: ┤ Ry(i0) ├──┤ Ry(w0) ├───■────────────────────■──┤ Ry(w10/2) ├┤ X ├»\n",
      "           ├────────┤┌─┴────────┴┐┌─┴─┐┌──────────────┐┌─┴─┐└─┬────────┬┘└─┬─┘»\n",
      "      q_1: ┤ Ry(i1) ├┤ Ry(w01/2) ├┤ X ├┤ Ry(-0.5*w01) ├┤ X ├──┤ Ry(w1) ├───■──»\n",
      "           └────────┘└───────────┘└───┘└──────────────┘└───┘  └────────┘      »\n",
      "      «     ┌───────────────────────────────┐┌───┐\n",
      "      «q_0: ┤ Ry(1.5707963267949 - 0.5*w10) ├┤ X ├\n",
      "      «     └───────────────────────────────┘└─┬─┘\n",
      "      «q_1: ───────────────────────────────────■──\n",
      "      «                                           \n",
      "      ),\n",
      "      CircuitStateFn(\n",
      "           ┌────────┐  ┌────────┐                           ┌───────────┐┌───┐»\n",
      "      q_0: ┤ Ry(i0) ├──┤ Ry(w0) ├───■────────────────────■──┤ Ry(w10/2) ├┤ X ├»\n",
      "           ├────────┤┌─┴────────┴┐┌─┴─┐┌──────────────┐┌─┴─┐└─┬────────┬┘└─┬─┘»\n",
      "      q_1: ┤ Ry(i1) ├┤ Ry(w01/2) ├┤ X ├┤ Ry(-0.5*w01) ├┤ X ├──┤ Ry(w1) ├───■──»\n",
      "           └────────┘└───────────┘└───┘└──────────────┘└───┘  └────────┘      »\n",
      "      «     ┌────────────────────────────────┐┌───┐\n",
      "      «q_0: ┤ Ry(-0.5*w10 - 1.5707963267949) ├┤ X ├\n",
      "      «     └────────────────────────────────┘└─┬─┘\n",
      "      «q_1: ────────────────────────────────────■──\n",
      "      «                                            \n",
      "      )\n",
      "    ])\n",
      "  ])\n",
      "])\n"
     ]
    },
    {
     "data": {
      "text/plain": [
       "None"
      ]
     },
     "metadata": {},
     "output_type": "display_data"
    },
    {
     "name": "stdout",
     "output_type": "stream",
     "text": [
      "1.0\n"
     ]
    },
    {
     "data": {
      "text/plain": [
       "None"
      ]
     },
     "metadata": {},
     "output_type": "display_data"
    }
   ],
   "source": [
    "from qiskit.opflow import Gradient, CircuitSampler, StateFn, OpflowError\n",
    "from qiskit.opflow.expectations.pauli_expectation import PauliExpectation\n",
    "\n",
    "test_qc = QuantumCircuit(2)\n",
    "test_qc.ry(Parameter('i0'), 0)\n",
    "test_qc.ry(Parameter('i1'), 1)\n",
    "test_qc.ry(Parameter('w0'), 0)\n",
    "test_qc.cry(Parameter('w01'), 0, 1)\n",
    "test_qc.ry(Parameter('w1'), 1)\n",
    "test_qc.cry(Parameter('w10'), 1, 0)\n",
    "\n",
    "display(print(test_qc.decompose()))\n",
    "expec_op  = PauliExpectation(group_paulis=False).convert(test_qc)\n",
    "display(print(expec_op.decompose()))\n",
    "display(print(expec_op.decompose()))\n",
    "display(print(Gradient().convert(StateFn(test_qc))))\n",
    "display(print((Gradient().convert(StateFn(test_qc)).coeff)))\n"
   ]
  }
 ],
 "metadata": {
  "interpreter": {
   "hash": "7dff90bf0edc63b1a5b0049d053e2a20a1e4479256ba225ac630738703d0db5a"
  },
  "kernelspec": {
   "display_name": "Python 3.9.7 64-bit ('pa21': conda)",
   "language": "python",
   "name": "python3"
  },
  "language_info": {
   "codemirror_mode": {
    "name": "ipython",
    "version": 3
   },
   "file_extension": ".py",
   "mimetype": "text/x-python",
   "name": "python",
   "nbconvert_exporter": "python",
   "pygments_lexer": "ipython3",
   "version": "3.9.7"
  },
  "orig_nbformat": 4
 },
 "nbformat": 4,
 "nbformat_minor": 2
}
