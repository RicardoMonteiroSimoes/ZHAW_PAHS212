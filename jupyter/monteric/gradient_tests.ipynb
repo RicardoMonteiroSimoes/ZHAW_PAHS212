{
 "cells": [
  {
   "cell_type": "code",
   "execution_count": 1,
   "metadata": {},
   "outputs": [],
   "source": [
    "#General imports\n",
    "import numpy as np\n",
    "\n",
    "#Operator Imports\n",
    "from qiskit.opflow import Z, X, I, StateFn, CircuitStateFn, SummedOp, CircuitOp\n",
    "from qiskit.opflow.gradients import Gradient, NaturalGradient, QFI, Hessian\n",
    "\n",
    "#Circuit imports\n",
    "from qiskit.circuit import QuantumCircuit, QuantumRegister, Parameter, ParameterVector, ParameterExpression\n",
    "from qiskit.circuit.library import EfficientSU2\n",
    "\n",
    "\n",
    "from qiskit import Aer\n",
    "from qiskit_machine_learning.neural_networks import  CircuitQNN\n",
    "from qiskit_machine_learning.algorithms.classifiers import NeuralNetworkClassifier\n",
    "from qiskit.utils import QuantumInstance"
   ]
  },
  {
   "cell_type": "code",
   "execution_count": 9,
   "metadata": {},
   "outputs": [
    {
     "data": {
      "image/png": "[encoded data removed]",
      "text/plain": [
       "<Figure size 133.526x84.28 with 1 Axes>"
      ]
     },
     "execution_count": 9,
     "metadata": {},
     "output_type": "execute_result"
    }
   ],
   "source": [
    "circuit = QuantumCircuit(1)\n",
    "circuit.ry(Parameter('i_0'), 0)\n",
    "circuit.ry(Parameter('w_0'), 0)\n",
    "circuit.draw('mpl')"
   ]
  },
  {
   "cell_type": "code",
   "execution_count": 39,
   "metadata": {},
   "outputs": [
    {
     "data": {
      "text/html": [
       "<pre style=\"word-wrap: normal;white-space: pre;background: #fff0;line-height: 1.1;font-family: &quot;Courier New&quot;,Courier,monospace\">     ┌────────┐┌────────┐                     ┌─────────┐\n",
       "q_0: ┤ Ry(i0) ├┤ Ry(w0) ├─────■───────────────┤ Ry(w10) ├\n",
       "     ├────────┤└────────┘┌────┴────┐┌────────┐└────┬────┘\n",
       "q_1: ┤ Ry(i1) ├──────────┤ Ry(w01) ├┤ Ry(w1) ├─────■─────\n",
       "     └────────┘          └─────────┘└────────┘           </pre>"
      ],
      "text/plain": [
       "     ┌────────┐┌────────┐                     ┌─────────┐\n",
       "q_0: ┤ Ry(i0) ├┤ Ry(w0) ├─────■───────────────┤ Ry(w10) ├\n",
       "     ├────────┤└────────┘┌────┴────┐┌────────┐└────┬────┘\n",
       "q_1: ┤ Ry(i1) ├──────────┤ Ry(w01) ├┤ Ry(w1) ├─────■─────\n",
       "     └────────┘          └─────────┘└────────┘           "
      ]
     },
     "execution_count": 39,
     "metadata": {},
     "output_type": "execute_result"
    }
   ],
   "source": [
    "circuit = QuantumCircuit(2)\n",
    "circuit.ry(Parameter('i0'),0)\n",
    "circuit.ry(Parameter('i1'),1)\n",
    "circuit.ry(Parameter('w0'),0)\n",
    "circuit.cry(Parameter('w01'),0,1)\n",
    "circuit.ry(Parameter('w1'),1)\n",
    "circuit.cry(Parameter('w10'),1,0)\n",
    "\n",
    "circuit.draw()"
   ]
  },
  {
   "cell_type": "code",
   "execution_count": 55,
   "metadata": {},
   "outputs": [
    {
     "data": {
      "text/html": [
       "<pre style=\"word-wrap: normal;white-space: pre;background: #fff0;line-height: 1.1;font-family: &quot;Courier New&quot;,Courier,monospace\">     ┌───────────┐  ┌───────────┐                                »\n",
       "q_0: ┤ U(i0,0,0) ├──┤ U(w0,0,0) ├────■────────────────────────■──»\n",
       "     ├───────────┤┌─┴───────────┴─┐┌─┴─┐┌──────────────────┐┌─┴─┐»\n",
       "q_1: ┤ U(i1,0,0) ├┤ U3(w01/2,0,0) ├┤ X ├┤ U3(-0.5*w01,0,0) ├┤ X ├»\n",
       "     └───────────┘└───────────────┘└───┘└──────────────────┘└───┘»\n",
       "«     ┌───────────────┐┌───┐┌──────────────────┐┌───┐\n",
       "«q_0: ┤ U3(w10/2,0,0) ├┤ X ├┤ U3(-0.5*w10,0,0) ├┤ X ├\n",
       "«     └─┬───────────┬─┘└─┬─┘└──────────────────┘└─┬─┘\n",
       "«q_1: ──┤ U(w1,0,0) ├────■────────────────────────■──\n",
       "«       └───────────┘                                </pre>"
      ],
      "text/plain": [
       "     ┌───────────┐  ┌───────────┐                                »\n",
       "q_0: ┤ U(i0,0,0) ├──┤ U(w0,0,0) ├────■────────────────────────■──»\n",
       "     ├───────────┤┌─┴───────────┴─┐┌─┴─┐┌──────────────────┐┌─┴─┐»\n",
       "q_1: ┤ U(i1,0,0) ├┤ U3(w01/2,0,0) ├┤ X ├┤ U3(-0.5*w01,0,0) ├┤ X ├»\n",
       "     └───────────┘└───────────────┘└───┘└──────────────────┘└───┘»\n",
       "«     ┌───────────────┐┌───┐┌──────────────────┐┌───┐\n",
       "«q_0: ┤ U3(w10/2,0,0) ├┤ X ├┤ U3(-0.5*w10,0,0) ├┤ X ├\n",
       "«     └─┬───────────┬─┘└─┬─┘└──────────────────┘└─┬─┘\n",
       "«q_1: ──┤ U(w1,0,0) ├────■────────────────────────■──\n",
       "«       └───────────┘                                "
      ]
     },
     "execution_count": 55,
     "metadata": {},
     "output_type": "execute_result"
    }
   ],
   "source": [
    "circuit.decompose().decompose().decompose().draw()"
   ]
  },
  {
   "cell_type": "code",
   "execution_count": 48,
   "metadata": {},
   "outputs": [
    {
     "name": "stdout",
     "output_type": "stream",
     "text": [
      "     ┌────────┐┌────────┐                     ┌─────────┐\n",
      "q_0: ┤ Ry(i0) ├┤ Ry(w0) ├─────■───────────────┤ Ry(w10) ├\n",
      "     ├────────┤└────────┘┌────┴────┐┌────────┐└────┬────┘\n",
      "q_1: ┤ Ry(i1) ├──────────┤ Ry(w01) ├┤ Ry(w1) ├─────■─────\n",
      "     └────────┘          └─────────┘└────────┘           \n"
     ]
    }
   ],
   "source": [
    "op = CircuitOp(circuit)\n",
    "print(op)"
   ]
  },
  {
   "cell_type": "code",
   "execution_count": 44,
   "metadata": {},
   "outputs": [
    {
     "ename": "AttributeError",
     "evalue": "'NoneType' object has no attribute 'assign_parameters'",
     "output_type": "error",
     "traceback": [
      "\u001b[0;31m---------------------------------------------------------------------------\u001b[0m",
      "\u001b[0;31mAttributeError\u001b[0m                            Traceback (most recent call last)",
      "\u001b[0;32m/tmp/ipykernel_693/2174614107.py\u001b[0m in \u001b[0;36m<module>\u001b[0;34m\u001b[0m\n\u001b[1;32m      1\u001b[0m \u001b[0mgrad\u001b[0m \u001b[0;34m=\u001b[0m \u001b[0mGradient\u001b[0m\u001b[0;34m(\u001b[0m\u001b[0;34m)\u001b[0m\u001b[0;34m.\u001b[0m\u001b[0mconvert\u001b[0m\u001b[0;34m(\u001b[0m\u001b[0moperator\u001b[0m \u001b[0;34m=\u001b[0m \u001b[0mStateFn\u001b[0m\u001b[0;34m(\u001b[0m\u001b[0mop\u001b[0m\u001b[0;34m)\u001b[0m\u001b[0;34m,\u001b[0m \u001b[0mparams\u001b[0m \u001b[0;34m=\u001b[0m \u001b[0mcircuit\u001b[0m\u001b[0;34m.\u001b[0m\u001b[0mparameters\u001b[0m\u001b[0;34m)\u001b[0m\u001b[0;34m\u001b[0m\u001b[0;34m\u001b[0m\u001b[0m\n\u001b[0;32m----> 2\u001b[0;31m \u001b[0mprint\u001b[0m\u001b[0;34m(\u001b[0m\u001b[0mgrad\u001b[0m\u001b[0;34m.\u001b[0m\u001b[0massign_parameters\u001b[0m\u001b[0;34m(\u001b[0m\u001b[0;34m[\u001b[0m\u001b[0;34m-\u001b[0m\u001b[0;36m1\u001b[0m\u001b[0;34m,\u001b[0m\u001b[0;36m1\u001b[0m\u001b[0;34m,\u001b[0m\u001b[0;36m1\u001b[0m\u001b[0;34m,\u001b[0m\u001b[0;34m-\u001b[0m\u001b[0;36m1\u001b[0m\u001b[0;34m,\u001b[0m\u001b[0;36m1\u001b[0m\u001b[0;34m,\u001b[0m\u001b[0;34m-\u001b[0m\u001b[0;36m1\u001b[0m\u001b[0;34m]\u001b[0m\u001b[0;34m)\u001b[0m\u001b[0;34m)\u001b[0m\u001b[0;34m\u001b[0m\u001b[0;34m\u001b[0m\u001b[0m\n\u001b[0m",
      "\u001b[0;31mAttributeError\u001b[0m: 'NoneType' object has no attribute 'assign_parameters'"
     ]
    }
   ],
   "source": [
    "grad = Gradient().convert(operator = StateFn(op), params = circuit.parameters)\n",
    "print(grad.assign_parameters([-1,1,1,-1,1,-1]))"
   ]
  }
 ],
 "metadata": {
  "interpreter": {
   "hash": "7dff90bf0edc63b1a5b0049d053e2a20a1e4479256ba225ac630738703d0db5a"
  },
  "kernelspec": {
   "display_name": "Python 3.9.7 64-bit ('pa21': conda)",
   "language": "python",
   "name": "python3"
  },
  "language_info": {
   "codemirror_mode": {
    "name": "ipython",
    "version": 3
   },
   "file_extension": ".py",
   "mimetype": "text/x-python",
   "name": "python",
   "nbconvert_exporter": "python",
   "pygments_lexer": "ipython3",
   "version": "3.9.7"
  },
  "orig_nbformat": 4
 },
 "nbformat": 4,
 "nbformat_minor": 2
}
