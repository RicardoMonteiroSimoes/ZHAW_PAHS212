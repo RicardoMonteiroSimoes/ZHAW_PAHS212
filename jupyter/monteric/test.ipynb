{
 "cells": [
  {
   "cell_type": "code",
   "execution_count": null,
   "metadata": {},
   "outputs": [],
   "source": []
  },
  {
   "cell_type": "markdown",
   "metadata": {},
   "source": [
    "$$\n",
    "\\bra{\\psi}\\mathrm{M}_1\\ket{\\psi} =\\ \\begin{pmatrix} \\frac{i}{\\sqrt{2}} & \\frac{-i}{\\sqrt{2}} \\end{pmatrix}\\begin{pmatrix} 1 & 0 \\\\ 0 & 0\\end{pmatrix}\\begin{pmatrix} \\frac{-i}{\\sqrt{2}} \\\\ \\frac{i}{\\sqrt{2}}\\end{pmatrix}\n",
    "$$"
   ]
  },
  {
   "cell_type": "code",
   "execution_count": 1,
   "metadata": {},
   "outputs": [],
   "source": [
    "import sys\n",
    "stdout = sys.stdout\n",
    "import matplotlib\n",
    "import matplotlib.pyplot as plt\n",
    "from qiskit.quantum_info import Statevector\n",
    "%matplotlib inline\n",
    "import numpy as np\n",
    "from qiskit import *\n",
    "from qiskit.circuit import Parameter\n",
    "from qiskit.visualization import plot_histogram, circuit_drawer\n",
    "from qiskit.providers.aer import QasmSimulator\n",
    "from qiskit.visualization import plot_bloch_multivector\n",
    "from qiskit.visualization import plot_state_qsphere\n",
    "\n",
    "import warnings\n",
    "warnings.simplefilter('ignore')\n",
    "\n",
    "#fix output\n",
    "sys.stdout = stdout\n",
    "simulator = QasmSimulator()"
   ]
  },
  {
   "cell_type": "code",
   "execution_count": 2,
   "metadata": {},
   "outputs": [],
   "source": [
    "def compile_circuit_and_measure(circuit, shots=10000):\n",
    "    simulator = QasmSimulator()\n",
    "    circuit.measure_all()\n",
    "    compiled_circuit = transpile(circuit, simulator)\n",
    "    job = simulator.run(compiled_circuit, shots=shots)\n",
    "    result = job.result()\n",
    "    counts = result.get_counts(circuit)\n",
    "    return counts"
   ]
  },
  {
   "cell_type": "code",
   "execution_count": 5,
   "metadata": {},
   "outputs": [
    {
     "data": {
      "image/png": "[encoded data removed]",
      "text/plain": [
       "<Figure size 267.052x144.48 with 1 Axes>"
      ]
     },
     "metadata": {},
     "output_type": "display_data"
    },
    {
     "name": "stdout",
     "output_type": "stream",
     "text": [
      "\\documentclass[border=2px]{standalone}\n",
      "        \n",
      "\\usepackage[braket, qm]{qcircuit}\n",
      "\\usepackage{graphicx}\n",
      "\n",
      "\\begin{document} \n",
      "\\scalebox{1.0}{\n",
      "\\Qcircuit @C=1.0em @R=0.2em @!R { \\\\\n",
      "\t \t\\nghost{ {q}_{0} :  } & \\lstick{ {q}_{0} :  } & \\gate{\\mathrm{H}} & \\ctrl{1} & \\gate{\\mathrm{R_Y}\\,(\\mathrm{\\frac{\\pi}{4}})} & \\qw & \\qw\\\\ \n",
      "\t \t\\nghost{ {q}_{1} :  } & \\lstick{ {q}_{1} :  } & \\gate{\\mathrm{H}} & \\control\\qw & \\qw & \\qw & \\qw\\\\ \n",
      "\\\\ }}\n",
      "\\end{document}\n"
     ]
    }
   ],
   "source": [
    "circuit = QuantumCircuit(2)\n",
    "circuit.h(range(2))\n",
    "circuit.cz(0,1)\n",
    "circuit.ry(np.pi/4,0)\n",
    "display(circuit.draw('mpl'))\n",
    "print(circuit_drawer(circuit, output='latex_source'))\n"
   ]
  }
 ],
 "metadata": {
  "interpreter": {
   "hash": "7dff90bf0edc63b1a5b0049d053e2a20a1e4479256ba225ac630738703d0db5a"
  },
  "kernelspec": {
   "display_name": "Python 3.9.7 64-bit ('pa21': conda)",
   "language": "python",
   "name": "python3"
  },
  "language_info": {
   "codemirror_mode": {
    "name": "ipython",
    "version": 3
   },
   "file_extension": ".py",
   "mimetype": "text/x-python",
   "name": "python",
   "nbconvert_exporter": "python",
   "pygments_lexer": "ipython3",
   "version": "3.9.7"
  },
  "orig_nbformat": 4
 },
 "nbformat": 4,
 "nbformat_minor": 2
}
