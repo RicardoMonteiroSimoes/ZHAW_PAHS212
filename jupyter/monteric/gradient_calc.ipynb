{
 "cells": [
  {
   "cell_type": "markdown",
   "metadata": {},
   "source": [
    "# Calculating the gradient function of various amounts of circuits\n",
    "\n",
    "Based on [Evaluating analytic gradients on quantum hardware](https://arxiv.org/abs/1811.11184)"
   ]
  },
  {
   "cell_type": "code",
   "execution_count": 2,
   "metadata": {},
   "outputs": [],
   "source": [
    "import numpy as np\n",
    "import matplotlib.pyplot as plt\n",
    "from qiskit import  QuantumCircuit\n",
    "from qiskit.circuit import Parameter"
   ]
  },
  {
   "cell_type": "code",
   "execution_count": 10,
   "metadata": {},
   "outputs": [
    {
     "data": {
      "image/png": "[encoded data removed]",
      "text/plain": [
       "<Figure size 133.526x84.28 with 1 Axes>"
      ]
     },
     "execution_count": 10,
     "metadata": {},
     "output_type": "execute_result"
    }
   ],
   "source": [
    "# First example circuit\n",
    "circuit = QuantumCircuit(1)\n",
    "circuit.ry(Parameter(\"u\"),0)\n",
    "circuit.draw('mpl')"
   ]
  },
  {
   "cell_type": "markdown",
   "metadata": {},
   "source": [
    "### Calculating the circuit\n",
    "\n",
    "We have defined\n",
    "\n",
    "$$\n",
    "\\vartheta_{\\mu}f = \\bra{\\psi}\\mathcal{G}^\\dagger\\hat{Q}\\left(\\vartheta_{\\mu}\\mathcal{G}\\right)\\ket{\\psi} + h.c.\n",
    "$$\n",
    "\n",
    "where\n",
    "\n",
    "$$\n",
    "\\hat{Q} =\\ V^\\dagger\\hat{B}V \\\\\n",
    "\\ket{\\psi} =\\ W\\ket{0}\n",
    "$$\n",
    "\n",
    "As we have nothing before our $RY(\\mu)$ gate, we can set $W = I^{2\\times2}$, so that:\n",
    "\n",
    "$$\n",
    "\\ket{\\psi} =\\ W\\ket{0} =\\ I^{2\\times2}\\ket{0} =\\ \\ket{0} =\\ \\begin{pmatrix} 1 \\\\ 0 \\end{pmatrix} \\\\\n",
    "\\bra{\\psi} =\\ \\ket{\\psi}^T =\\ \\begin{pmatrix} 1 & 0 \\end{pmatrix}\n",
    "$$\n",
    "\n",
    "Calculating $\\hat{Q}$ is in this case easy too, as $\\hat{B}$ symbolizes the normal measurment, of the circuit up to $\\mathcal{G}$.\n",
    "\n",
    "$$\n",
    "\\hat{Q} =\\ (I^{2\\times2})^\\dagger\\hat{B}I^{2\\times2} =\\ \\hat{B} \\\\\n",
    "\\hat{B} =\\ \n",
    "$$\n",
    "\n",
    "Using this symplification, we get:\n",
    "\n",
    "$$\n",
    "\\vartheta{\\mu}f =\\ \\bra{0}RY(\\mu)^\\dagger \\left(\\vartheta_{\\mu}RY(\\mu)\\right)\\ket{0}\n",
    "$$\n"
   ]
  }
 ],
 "metadata": {
  "interpreter": {
   "hash": "7dff90bf0edc63b1a5b0049d053e2a20a1e4479256ba225ac630738703d0db5a"
  },
  "kernelspec": {
   "display_name": "Python 3.9.7 64-bit ('pa21': conda)",
   "language": "python",
   "name": "python3"
  },
  "language_info": {
   "codemirror_mode": {
    "name": "ipython",
    "version": 3
   },
   "file_extension": ".py",
   "mimetype": "text/x-python",
   "name": "python",
   "nbconvert_exporter": "python",
   "pygments_lexer": "ipython3",
   "version": "3.9.7"
  },
  "orig_nbformat": 4
 },
 "nbformat": 4,
 "nbformat_minor": 2
}
