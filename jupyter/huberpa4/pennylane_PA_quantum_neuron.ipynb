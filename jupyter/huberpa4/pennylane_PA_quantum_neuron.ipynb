{
 "cells": [
  {
   "cell_type": "markdown",
   "metadata": {},
   "source": [
    "# PA Quantum Neuron\n",
    "\n",
    "Build a classical neuron with a quantum circuit"
   ]
  },
  {
   "cell_type": "code",
   "execution_count": 71,
   "metadata": {},
   "outputs": [],
   "source": [
    "from pennylane import numpy as np\n",
    "# pennylane code\n",
    "import pennylane as qml\n",
    "# from pennylane import numpy as np\n"
   ]
  },
  {
   "cell_type": "markdown",
   "metadata": {},
   "source": [
    "## Basis encoding"
   ]
  },
  {
   "cell_type": "code",
   "execution_count": 78,
   "metadata": {},
   "outputs": [
    {
     "name": "stdout",
     "output_type": "stream",
     "text": [
      "x_1 =>\n",
      " decimal: [5, 6] \n",
      " binary: [101, 110] \n",
      " basis encoded quantum state: |101110> \n",
      "\n",
      "x_2 =>\n",
      " decimal: [4, 1] \n",
      " binary: [100, 001] \n",
      " basis encoded quantum state: |100001>\n"
     ]
    }
   ],
   "source": [
    "# Basis encoding\n",
    "x_1 = [5 ,6]\n",
    "x_2 = [4 ,1]\n",
    "\n",
    "# dec, binary, qstate\n",
    "print('x_1 =>\\n decimal: [{}, {}]'.format(x_1[0],x_1[1])\n",
    "      , '\\n binary: [{:03b}, {:03b}]'.format(x_1[0],x_1[1])\n",
    "      , '\\n basis encoded quantum state: |{:03b}{:03b}>'.format(x_1[0],x_1[1])\n",
    "      , '\\n' )\n",
    "\n",
    "print('x_2 =>\\n decimal: [{}, {}]'.format(x_2[0],x_2[1])\n",
    "      , '\\n binary: [{:03b}, {:03b}]'.format(x_2[0],x_2[1])\n",
    "      , '\\n basis encoded quantum state: |{:03b}{:03b}>'.format(x_2[0],x_2[1]) )"
   ]
  },
  {
   "cell_type": "code",
   "execution_count": 73,
   "metadata": {},
   "outputs": [
    {
     "name": "stdout",
     "output_type": "stream",
     "text": [
      " 0: ──H──X──X──╭┤ State \n",
      " 1: ──H────────├┤ State \n",
      " 2: ──H──X─────├┤ State \n",
      " 3: ──H──X─────├┤ State \n",
      " 4: ──H──X─────├┤ State \n",
      " 5: ──H──X─────╰┤ State \n",
      "\n"
     ]
    }
   ],
   "source": [
    "\n",
    "# quantum device where you want to run and how many Qubits\n",
    "dev = qml.device('default.qubit', wires=6)\n",
    "\n",
    "@qml.qnode(dev)\n",
    "def circuit(data):\n",
    "    for i in range(6):\n",
    "        qml.Hadamard(i)\n",
    "    for i in range(len(data)):\n",
    "        BasisEmbedding(features=data[i], wires=range(6),do_queue=True)\n",
    "    return  qml.state()\n",
    "\n",
    "data=[[1,0,1,1,1,0],\n",
    "      [1,0,0,0,0,1]]\n",
    "\n",
    "circuit(data)\n",
    "\n",
    "print(circuit.draw(show_all_wires=True))\n",
    "\n",
    "# Watch out when intepreting the drawing\n",
    "# => The last X-gate on qubit #5 is should be on the right hand side (3rd gate position)\n",
    "# pennylane drawings don't keep paddings\n"
   ]
  }
 ],
 "metadata": {
  "interpreter": {
   "hash": "3067ead486e059ec00ffe7555bdb889e6e264a24dc711bf108106cc7baee8d5d"
  },
  "kernelspec": {
   "display_name": "Python 3.8.3 64-bit ('base': conda)",
   "name": "python3"
  },
  "language_info": {
   "codemirror_mode": {
    "name": "ipython",
    "version": 3
   },
   "file_extension": ".py",
   "mimetype": "text/x-python",
   "name": "python",
   "nbconvert_exporter": "python",
   "pygments_lexer": "ipython3",
   "version": "3.8.3"
  },
  "orig_nbformat": 4
 },
 "nbformat": 4,
 "nbformat_minor": 2
}
