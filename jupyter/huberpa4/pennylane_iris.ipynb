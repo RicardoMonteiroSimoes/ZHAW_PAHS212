{
 "cells": [
  {
   "cell_type": "markdown",
   "metadata": {},
   "source": [
    "# PennyLane: Variational classifier with Iris data\n",
    "\n",
    "Variational circuits are circuits that can be trained using supervised learning or labelled data to classify new data.\n",
    "\n",
    "The Variational Circuit can be implemented using the Parity Function:\n",
    "\n",
    "$$\n",
    "\\begin{split}f: x \\in \\{0,1\\}^{\\otimes n} \\rightarrow y =\n",
    "\\begin{cases} 1 \\text{  if uneven number of ones in } x \\\\ 0\n",
    "\\text{ otherwise} \\end{cases}.\\end{split}\n",
    "$$\n",
    "\n",
    "<img src=\"images/circuit-centric quantum classifier.png\" alt=\"\" />"
   ]
  },
  {
   "cell_type": "code",
   "execution_count": 25,
   "metadata": {},
   "outputs": [],
   "source": [
    "import pennylane as qml\n",
    "from pennylane import numpy as np\n",
    "from pennylane.optimize import NesterovMomentumOptimizer"
   ]
  },
  {
   "cell_type": "markdown",
   "metadata": {},
   "source": [
    "Create quantum device"
   ]
  },
  {
   "cell_type": "code",
   "execution_count": 26,
   "metadata": {},
   "outputs": [],
   "source": [
    "dev = qml.device(\"default.qubit\", wires=2)\n",
    "#dev = qml.device(\"qiskit.aer\", wires=2)"
   ]
  },
  {
   "cell_type": "markdown",
   "metadata": {},
   "source": [
    "## [Step 1] State preparation:\n",
    "Every input x is translated into a set of angles\n",
    "\n",
    "> This is amplitude encoding, which literally means you prepare an amplitude vector that resembles your data input.\n",
    "\n",
    "The statepreparation circuit is coded according to the scheme in this Paper: [Transformation of quantum states using uniformly controlled rotations](https://arxiv.org/abs/quant-ph/0407010)"
   ]
  },
  {
   "cell_type": "code",
   "execution_count": 27,
   "metadata": {},
   "outputs": [],
   "source": [
    "def get_angles(x):\n",
    "    beta0 = 2 * np.arcsin(np.sqrt(x[1] ** 2) / np.sqrt(x[0] ** 2 + x[1] ** 2 + 1e-12))\n",
    "    beta1 = 2 * np.arcsin(np.sqrt(x[3] ** 2) / np.sqrt(x[2] ** 2 + x[3] ** 2 + 1e-12))\n",
    "    beta2 = 2 * np.arcsin(\n",
    "        np.sqrt(x[2] ** 2 + x[3] ** 2)\n",
    "        / np.sqrt(x[0] ** 2 + x[1] ** 2 + x[2] ** 2 + x[3] ** 2)\n",
    "    )\n",
    "    return np.array([beta2, -beta1 / 2, beta1 / 2, -beta0 / 2, beta0 / 2])\n",
    "\n",
    "def statepreparation(a):\n",
    "    qml.RY(a[0], wires=0)\n",
    "\n",
    "    qml.CNOT(wires=[0, 1])\n",
    "    qml.RY(a[1], wires=1)\n",
    "    qml.CNOT(wires=[0, 1])\n",
    "    qml.RY(a[2], wires=1)\n",
    "\n",
    "    qml.PauliX(wires=0)\n",
    "    qml.CNOT(wires=[0, 1])\n",
    "    qml.RY(a[3], wires=1)\n",
    "    qml.CNOT(wires=[0, 1])\n",
    "    qml.RY(a[4], wires=1)\n",
    "    qml.PauliX(wires=0)"
   ]
  },
  {
   "cell_type": "markdown",
   "metadata": {},
   "source": [
    "Test the current routine:"
   ]
  },
  {
   "cell_type": "code",
   "execution_count": 28,
   "metadata": {},
   "outputs": [
    {
     "name": "stdout",
     "output_type": "stream",
     "text": [
      "x               :  [0.53896774 0.79503606 0.27826503 0.        ]\n",
      "angles          :  [ 0.56397465 -0.          0.         -0.97504604  0.97504604]\n",
      "amplitude vector:  [ 5.38967743e-01  7.95036065e-01  2.78265032e-01 -2.77555756e-17]\n",
      " 0: ──RY(0.564)──╭C──────────╭C──X──────╭C──────────────╭C──X──────────┤ ⟨Z⟩ \n",
      " 1: ─────────────╰X──RY(-0)──╰X──RY(0)──╰X──RY(-0.975)──╰X──RY(0.975)──┤     \n",
      "\n"
     ]
    }
   ],
   "source": [
    "x = np.array([0.53896774, 0.79503606, 0.27826503, 0.0], requires_grad=False) # <-- already preprocessed data example (preprocessing will follow below)\n",
    "ang = get_angles(x)\n",
    "\n",
    "@qml.qnode(dev)\n",
    "def test(angles):\n",
    "    statepreparation(angles)\n",
    "    return qml.expval(qml.PauliZ(0))\n",
    "\n",
    "test(ang)\n",
    "\n",
    "print(\"x               : \", x)\n",
    "print(\"angles          : \", ang)\n",
    "print(\"amplitude vector: \", np.real(dev.state))\n",
    "print(test.draw())"
   ]
  },
  {
   "cell_type": "markdown",
   "metadata": {},
   "source": [
    "Define the layer function:\n",
    "\n",
    "`qml.Rot(phi, theta, omega, wires)`:\n",
    "\n",
    "Arbitrary single qubit rotation:\n",
    "$$\n",
    "\\begin{split}R(\\phi,\\theta,\\omega) = RZ(\\omega)RY(\\theta)RZ(\\phi)= \\begin{bmatrix}\n",
    "e^{-i(\\phi+\\omega)/2}\\cos(\\theta/2) & -e^{i(\\phi-\\omega)/2}\\sin(\\theta/2) \\\\\n",
    "e^{-i(\\phi-\\omega)/2}\\sin(\\theta/2) & e^{i(\\phi+\\omega)/2}\\cos(\\theta/2)\n",
    "\\end{bmatrix}.\\end{split}\n",
    "$$"
   ]
  },
  {
   "cell_type": "code",
   "execution_count": 29,
   "metadata": {},
   "outputs": [],
   "source": [
    "def layer(W):\n",
    "    qml.Rot(W[0, 0], W[0, 1], W[0, 2], wires=0)\n",
    "    qml.Rot(W[1, 0], W[1, 1], W[1, 2], wires=1)\n",
    "    qml.CNOT(wires=[0, 1])"
   ]
  },
  {
   "cell_type": "markdown",
   "metadata": {},
   "source": [
    "Define `circuit`, variational classifier model, `square_loss`, `cost` and `accuracy` function"
   ]
  },
  {
   "cell_type": "code",
   "execution_count": 30,
   "metadata": {},
   "outputs": [],
   "source": [
    "@qml.qnode(dev)\n",
    "def circuit(weights, angles):\n",
    "    statepreparation(angles)\n",
    "    for W in weights:\n",
    "        layer(W)\n",
    "    return qml.expval(qml.PauliZ(0))\n",
    "\n",
    "def variational_classifier(var, angles):\n",
    "    weights = var[0]\n",
    "    bias = var[1]\n",
    "    return circuit(weights, angles) + bias\n",
    "\n",
    "def square_loss(labels, predictions):\n",
    "    loss = 0\n",
    "    for l, p in zip(labels, predictions):\n",
    "        loss = loss + (l - p) ** 2\n",
    "    loss = loss / len(labels)\n",
    "    return loss\n",
    "\n",
    "def cost(weights, features, labels):\n",
    "    predictions = [variational_classifier(weights, f) for f in features]\n",
    "    return square_loss(labels, predictions)\n",
    "\n",
    "def accuracy(labels, predictions):\n",
    "    loss = 0\n",
    "    for l, p in zip(labels, predictions):\n",
    "        if abs(l - p) < 1e-5:\n",
    "            loss = loss + 1\n",
    "    loss = loss / len(labels)\n",
    "    return loss"
   ]
  },
  {
   "cell_type": "markdown",
   "metadata": {},
   "source": [
    "## Data: Load the Iris data set. \n",
    "\n",
    "Link: [iris_classes1and2_scaled.txt](https://raw.githubusercontent.com/XanaduAI/qml/master/demonstrations/variational_classifier/data/iris_classes1and2_scaled.txt)\n",
    "> The Iris dataset is scaled (by putting zero mean and unit deviation), and classes 1 and 2 were selected.\n",
    "\n",
    "## Stages of preprocessing\n",
    "Do some preprocessing withe the iris data:\n",
    "- Padding:\n",
    "  - For example x = (x<sub>1</sub>, x<sub>2</sub>, x<sub>3</sub>)<sup>T</sup> would be extended to  x' = (x<sub>1</sub>, x<sub>2</sub>, x<sub>3</sub>, 0)<sup>T</sup>\n",
    "- Normalization by using the formerly padded X data\n",
    "- Create features by using `get_angles` function from above unsig the formerly padded and normalized X data"
   ]
  },
  {
   "cell_type": "code",
   "execution_count": 31,
   "metadata": {},
   "outputs": [
    {
     "name": "stdout",
     "output_type": "stream",
     "text": [
      "First X sample (original)  : [0.4  0.75]\n",
      "First X sample (padded)    : [0.4  0.75 0.3  0.  ]\n",
      "First X sample (normalized): [0.44376016 0.83205029 0.33282012 0.        ]\n",
      "First features sample      : [ 0.67858523 -0.          0.         -1.080839    1.080839  ]\n"
     ]
    }
   ],
   "source": [
    "data = np.loadtxt(\"data/iris_classes1and2_scaled.txt\")\n",
    "X = data[:, 0:2]\n",
    "print(\"First X sample (original)  :\", X[0])\n",
    "\n",
    "# pad the vectors to size 2^2 with constant values\n",
    "padding = 0.3 * np.ones((len(X), 1))\n",
    "X_pad = np.c_[np.c_[X, padding], np.zeros((len(X), 1))]\n",
    "print(\"First X sample (padded)    :\", X_pad[0])\n",
    "\n",
    "# normalize each input\n",
    "normalization = np.sqrt(np.sum(X_pad ** 2, -1))\n",
    "X_norm = (X_pad.T / normalization).T\n",
    "print(\"First X sample (normalized):\", X_norm[0])\n",
    "\n",
    "# angles for state preparation are new features\n",
    "# X is renamed to features\n",
    "features = np.array([get_angles(x) for x in X_norm])\n",
    "print(\"First features sample      :\", features[0])\n",
    "\n",
    "Y = data[:, -1]\n"
   ]
  },
  {
   "cell_type": "markdown",
   "metadata": {},
   "source": [
    "Stages of preprocessing: plots"
   ]
  },
  {
   "cell_type": "code",
   "execution_count": 32,
   "metadata": {},
   "outputs": [
    {
     "data": {
      "image/png": "[encoded data removed]",
      "text/plain": [
       "<Figure size 432x288 with 1 Axes>"
      ]
     },
     "metadata": {
      "needs_background": "light"
     },
     "output_type": "display_data"
    },
    {
     "data": {
      "image/png": "[encoded data removed]",
      "text/plain": [
       "<Figure size 432x288 with 1 Axes>"
      ]
     },
     "metadata": {
      "needs_background": "light"
     },
     "output_type": "display_data"
    },
    {
     "data": {
      "image/png": "[encoded data removed]",
      "text/plain": [
       "<Figure size 432x288 with 1 Axes>"
      ]
     },
     "metadata": {
      "needs_background": "light"
     },
     "output_type": "display_data"
    }
   ],
   "source": [
    "import matplotlib.pyplot as plt\n",
    "\n",
    "plt.figure()\n",
    "plt.scatter(X[:, 0][Y == 1], X[:, 1][Y == 1], c=\"b\", marker=\"o\", edgecolors=\"k\")\n",
    "plt.scatter(X[:, 0][Y == -1], X[:, 1][Y == -1], c=\"r\", marker=\"o\", edgecolors=\"k\")\n",
    "plt.title(\"Original data\")\n",
    "plt.show()\n",
    "\n",
    "plt.figure()\n",
    "dim1 = 0\n",
    "dim2 = 1\n",
    "plt.scatter(\n",
    "    X_norm[:, dim1][Y == 1], X_norm[:, dim2][Y == 1], c=\"b\", marker=\"o\", edgecolors=\"k\"\n",
    ")\n",
    "plt.scatter(\n",
    "    X_norm[:, dim1][Y == -1], X_norm[:, dim2][Y == -1], c=\"r\", marker=\"o\", edgecolors=\"k\"\n",
    ")\n",
    "plt.title(\"Padded and normalised data (dims {} and {})\".format(dim1, dim2))\n",
    "plt.show()\n",
    "\n",
    "plt.figure()\n",
    "dim1 = 0\n",
    "dim2 = 3\n",
    "plt.scatter(\n",
    "    features[:, dim1][Y == 1], features[:, dim2][Y == 1], c=\"b\", marker=\"o\", edgecolors=\"k\"\n",
    ")\n",
    "plt.scatter(\n",
    "    features[:, dim1][Y == -1], features[:, dim2][Y == -1], c=\"r\", marker=\"o\", edgecolors=\"k\"\n",
    ")\n",
    "plt.title(\"Feature vectors (dims {} and {})\".format(dim1, dim2))\n",
    "plt.show()"
   ]
  },
  {
   "cell_type": "markdown",
   "metadata": {},
   "source": [
    "Split data into training and validation set"
   ]
  },
  {
   "cell_type": "code",
   "execution_count": 33,
   "metadata": {},
   "outputs": [],
   "source": [
    "np.random.seed(0)\n",
    "num_data = len(Y)\n",
    "num_train = int(0.75 * num_data)\n",
    "index = np.random.permutation(range(num_data))\n",
    "feats_train = features[index[:num_train]]\n",
    "Y_train = Y[index[:num_train]]\n",
    "feats_val = features[index[num_train:]]\n",
    "Y_val = Y[index[num_train:]]\n",
    "\n",
    "# We need these later for plotting\n",
    "X_train = X[index[:num_train]]\n",
    "X_val = X[index[num_train:]]"
   ]
  },
  {
   "cell_type": "markdown",
   "metadata": {},
   "source": [
    "Initialize variables"
   ]
  },
  {
   "cell_type": "code",
   "execution_count": 34,
   "metadata": {},
   "outputs": [],
   "source": [
    "num_qubits = 2\n",
    "num_layers = 6\n",
    "var_init = (0.01 * np.random.randn(num_layers, num_qubits, 3), 0.0)"
   ]
  },
  {
   "cell_type": "markdown",
   "metadata": {},
   "source": [
    "Optimize cost"
   ]
  },
  {
   "cell_type": "code",
   "execution_count": 35,
   "metadata": {},
   "outputs": [
    {
     "name": "stdout",
     "output_type": "stream",
     "text": [
      "[56 16 24 29 21]\n",
      "[[ 0.76721826 -0.          0.         -1.22777239  1.22777239]\n",
      " [ 0.7062555  -0.          0.         -1.38544838  1.38544838]\n",
      " [ 0.9850817  -0.          0.         -1.10714872  1.10714872]\n",
      " [ 0.44944204 -0.          0.         -0.30970294  0.30970294]\n",
      " [ 0.67428266 -0.          0.         -0.11710874  0.11710874]]\n",
      "[-1. -1. -1.  1.  1.]\n",
      "(tensor([[[ 0.00425393, -0.00027971,  0.0147599 ],\n",
      "         [ 0.0064678 , -0.00364334, -0.00678777]],\n",
      "\n",
      "        [[-0.00353628, -0.00740747, -0.00675022],\n",
      "         [-0.00132784,  0.00619801,  0.01791168]],\n",
      "\n",
      "        [[ 0.00171   , -0.01725671,  0.00160659],\n",
      "         [-0.00858985, -0.00206421,  0.00488426]],\n",
      "\n",
      "        [[-0.00838331,  0.00381164, -0.00990903],\n",
      "         [ 0.0101788 ,  0.00341587, -0.01250886]],\n",
      "\n",
      "        [[ 0.00925251, -0.00904786,  0.01843692],\n",
      "         [ 0.01525507, -0.01445536,  0.00377161]],\n",
      "\n",
      "        [[-0.00070557,  0.0060416 ,  0.00472149],\n",
      "         [ 0.00819917,  0.0090752 , -0.00585823]]], requires_grad=True), 0.0)\n",
      "Iter:     1 | Cost: 1.4490948 | Acc train: 0.4933333 | Acc validation: 0.5600000 \n"
     ]
    }
   ],
   "source": [
    "opt = NesterovMomentumOptimizer(0.01)\n",
    "batch_size = 5\n",
    "\n",
    "# train the variational classifier\n",
    "var = var_init\n",
    "\n",
    "# Do 60 iterations\n",
    "for it in range(1):\n",
    "\n",
    "    # Update the weights by one optimizer step\n",
    "    batch_index = np.random.randint(0, num_train, (batch_size,))\n",
    "    feats_train_batch = feats_train[batch_index]\n",
    "    Y_train_batch = Y_train[batch_index]\n",
    "    print(batch_index)\n",
    "    print(feats_train_batch)\n",
    "    print(Y_train_batch)\n",
    "    print(var)\n",
    "    var = opt.step(lambda v: cost(v, feats_train_batch, Y_train_batch), var)\n",
    "\n",
    "    # Compute predictions on train and validation set\n",
    "    predictions_train = [np.sign(variational_classifier(var, f)) for f in feats_train]\n",
    "    predictions_val = [np.sign(variational_classifier(var, f)) for f in feats_val]\n",
    "\n",
    "    # Compute accuracy on train and validation set\n",
    "    acc_train = accuracy(Y_train, predictions_train)\n",
    "    acc_val = accuracy(Y_val, predictions_val)\n",
    "\n",
    "    print(\n",
    "        \"Iter: {:5d} | Cost: {:0.7f} | Acc train: {:0.7f} | Acc validation: {:0.7f} \"\n",
    "        \"\".format(it + 1, cost(var, features, Y), acc_train, acc_val)\n",
    "    )"
   ]
  },
  {
   "cell_type": "code",
   "execution_count": 36,
   "metadata": {},
   "outputs": [
    {
     "name": "stdout",
     "output_type": "stream",
     "text": [
      " 0: ──RY(0.712)──╭C──────────╭C──X──────╭C──────────────╭C──X──────────Rot(0.00426, 0.00353, 0.0148)─────╭C──Rot(-0.00353, 0.0059, -0.00675)──╭C──Rot(0.00171, -0.0135, 0.00161)────╭C──Rot(-0.00838, 0.0171, -0.00991)──╭C──Rot(0.00925, -0.00537, 0.0184)──╭C──Rot(-0.000706, 0.0193, 0.00472)──╭C──┤ ⟨Z⟩ \n",
      " 1: ─────────────╰X──RY(-0)──╰X──RY(0)──╰X──RY(-0.519)──╰X──RY(0.519)──Rot(0.00647, -0.00363, -0.00679)──╰X──Rot(-0.00133, 0.00656, 0.0179)───╰X──Rot(-0.00859, -0.00202, 0.00489)──╰X──Rot(0.0102, 0.00354, -0.0125)────╰X──Rot(0.0153, -0.0144, 0.00377)───╰X──Rot(0.0082, 0.00908, -0.00586)───╰X──┤     \n",
      "\n"
     ]
    }
   ],
   "source": [
    "# if device is \"default.qubit\"\n",
    "print(circuit.draw())\n",
    "\n",
    "# if device is \"qiskit.aer\"\n",
    "# dev._circuit.draw(output=\"mpl\") \n",
    "# dev._circuit.draw() "
   ]
  },
  {
   "cell_type": "markdown",
   "metadata": {},
   "source": [
    "Final Plot of the continuous output of the variational classifier for the first two dimensions of the Iris data set:"
   ]
  },
  {
   "cell_type": "code",
   "execution_count": 42,
   "metadata": {},
   "outputs": [
    {
     "name": "stdout",
     "output_type": "stream",
     "text": [
      "predictions_grid [tensor(-1.01799511, requires_grad=True), tensor(-0.88079389, requires_grad=True), tensor(-0.57153653, requires_grad=True), tensor(-0.23544697, requires_grad=True), tensor(0.0480063, requires_grad=True), tensor(0.26372802, requires_grad=True), tensor(0.42231338, requires_grad=True), tensor(0.53848476, requires_grad=True), tensor(0.62444405, requires_grad=True), tensor(0.6890323, requires_grad=True), tensor(0.73838715, requires_grad=True), tensor(0.77673318, requires_grad=True), tensor(0.80699564, requires_grad=True), tensor(0.83122531, requires_grad=True), tensor(0.85088141, requires_grad=True), tensor(0.86701858, requires_grad=True), tensor(0.88041083, requires_grad=True), tensor(0.89163464, requires_grad=True), tensor(0.90112534, requires_grad=True), tensor(0.90921594, requires_grad=True), tensor(-0.90946585, requires_grad=True), tensor(-0.7871328, requires_grad=True), tensor(-0.50817083, requires_grad=True), tensor(-0.1987433, requires_grad=True), tensor(0.06756364, requires_grad=True), tensor(0.27363057, requires_grad=True), tensor(0.42704067, requires_grad=True), tensor(0.54047574, requires_grad=True), tensor(0.62499337, requires_grad=True), tensor(0.68882852, requires_grad=True), tensor(0.73780062, requires_grad=True), tensor(0.77596539, requires_grad=True), tensor(0.80615695, requires_grad=True), tensor(0.83037596, requires_grad=True), tensor(0.8500537, requires_grad=True), tensor(0.86622899, requires_grad=True), tensor(0.87966686, requires_grad=True), tensor(0.89093871, requires_grad=True), tensor(0.90047703, requires_grad=True), tensor(0.90861331, requires_grad=True), tensor(-0.61955085, requires_grad=True), tensor(-0.53094291, requires_grad=True), tensor(-0.32346745, requires_grad=True), tensor(-0.08147801, requires_grad=True), tensor(0.13783474, requires_grad=True), tensor(0.31514149, requires_grad=True), tensor(0.45173395, requires_grad=True), tensor(0.55538225, requires_grad=True), tensor(0.63412778, requires_grad=True), tensor(0.69448855, requires_grad=True), tensor(0.74132321, requires_grad=True), tensor(0.77814568, requires_grad=True), tensor(0.80747893, requires_grad=True), tensor(0.83114092, requires_grad=True), tensor(0.8504531, requires_grad=True), tensor(0.86638681, requires_grad=True), tensor(0.8796647, requires_grad=True), tensor(0.89083101, requires_grad=True), tensor(0.90030056, requires_grad=True), tensor(0.90839315, requires_grad=True), tensor(-0.29210511, requires_grad=True), tensor(-0.23496965, requires_grad=True), tensor(-0.09761077, requires_grad=True), tensor(0.07230924, requires_grad=True), tensor(0.23655667, requires_grad=True), tensor(0.37724631, requires_grad=True), tensor(0.49087751, requires_grad=True), tensor(0.58036499, requires_grad=True), tensor(0.65033684, requires_grad=True), tensor(0.70518191, requires_grad=True), tensor(0.74848409, requires_grad=True), tensor(0.78299977, requires_grad=True), tensor(0.81079807, requires_grad=True), tensor(0.83342083, requires_grad=True), tensor(0.85201838, requires_grad=True), tensor(0.86745392, requires_grad=True), tensor(0.88038049, requires_grad=True), tensor(0.89129666, requires_grad=True), tensor(0.90058677, requires_grad=True), tensor(0.90854993, requires_grad=True), tensor(-0.01016528, requires_grad=True), tensor(0.02532292, requires_grad=True), tensor(0.11212745, requires_grad=True), tensor(0.22533263, requires_grad=True), tensor(0.34178511, requires_grad=True), tensor(0.44765178, requires_grad=True), tensor(0.53767401, requires_grad=True), tensor(0.61163444, requires_grad=True), tensor(0.67146708, requires_grad=True), tensor(0.71965538, requires_grad=True), tensor(0.7585355, requires_grad=True), tensor(0.79007052, requires_grad=True), tensor(0.81582848, requires_grad=True), tensor(0.83703316, requires_grad=True), tensor(0.85463081, requires_grad=True), tensor(0.86935185, requires_grad=True), tensor(0.88176165, requires_grad=True), tensor(0.8923, requires_grad=True), tensor(0.90131121, requires_grad=True), tensor(0.90906682, requires_grad=True), tensor(0.20760701, requires_grad=True), tensor(0.22984427, requires_grad=True), tensor(0.28456992, requires_grad=True), tensor(0.35896913, requires_grad=True), tensor(0.43966711, requires_grad=True), tensor(0.51709741, requires_grad=True), tensor(0.58627123, requires_grad=True), tensor(0.64557642, requires_grad=True), tensor(0.69529378, requires_grad=True), tensor(0.73652881, requires_grad=True), tensor(0.77060961, requires_grad=True), tensor(0.79880336, requires_grad=True), tensor(0.82220972, requires_grad=True), tensor(0.84173969, requires_grad=True), tensor(0.85813042, requires_grad=True), tensor(0.87197157, requires_grad=True), tensor(0.88373284, requires_grad=True), tensor(0.89378831, requires_grad=True), tensor(0.90243662, requires_grad=True), tensor(0.90991717, requires_grad=True), tensor(0.36965525, requires_grad=True), tensor(0.38401226, requires_grad=True), tensor(0.41920837, requires_grad=True), tensor(0.46853549, requires_grad=True), tensor(0.5243487, requires_grad=True), tensor(0.58040347, requires_grad=True), tensor(0.63273347, requires_grad=True), tensor(0.6794173, requires_grad=True), tensor(0.71993153, requires_grad=True), tensor(0.75453898, requires_grad=True), tensor(0.78386185, requires_grad=True), tensor(0.8086309, requires_grad=True), tensor(0.82955729, requires_grad=True), tensor(0.84727711, requires_grad=True), tensor(0.86233481, requires_grad=True), tensor(0.87518525, requires_grad=True), tensor(0.88620347, requires_grad=True), tensor(0.89569671, requires_grad=True), tensor(0.90391604, requires_grad=True), tensor(0.91106671, requires_grad=True), tensor(0.48963965, requires_grad=True), tensor(0.4992585, requires_grad=True), tensor(0.52256271, requires_grad=True), tensor(0.55592177, requires_grad=True), tensor(0.59491754, requires_grad=True), tensor(0.63556601, requires_grad=True), tensor(0.6749658, requires_grad=True), tensor(0.71138094, requires_grad=True), tensor(0.74401035, requires_grad=True), tensor(0.77267805, requires_grad=True), tensor(0.79756784, requires_grad=True), tensor(0.81903758, requires_grad=True), tensor(0.83750495, requires_grad=True), tensor(0.8533845, requires_grad=True), tensor(0.8670571, requires_grad=True), tensor(0.87885809, requires_grad=True), tensor(0.88907555, requires_grad=True), tensor(0.89795338, requires_grad=True), tensor(0.90569642, requires_grad=True), tensor(0.91247593, requires_grad=True), tensor(0.57929637, requires_grad=True), tensor(0.5859867, requires_grad=True), tensor(0.6019104, requires_grad=True), tensor(0.62502442, requires_grad=True), tensor(0.65271823, requires_grad=True), tensor(0.68245569, requires_grad=True), tensor(0.71219553, requires_grad=True), tensor(0.74053694, requires_grad=True), tensor(0.766669, requires_grad=True), tensor(0.79023186, requires_grad=True), tensor(0.81116755, requires_grad=True), tensor(0.82959706, requires_grad=True), tensor(0.84573311, requires_grad=True), tensor(0.85982395, requires_grad=True), tensor(0.87212045, requires_grad=True), tensor(0.88285845, requires_grad=True), tensor(0.89225072, requires_grad=True), tensor(0.90048451, requires_grad=True), tensor(0.90772203, requires_grad=True), tensor(0.91410253, requires_grad=True), tensor(0.6472885, requires_grad=True), tensor(0.65210793, requires_grad=True), tensor(0.6633276, requires_grad=True), tensor(0.6797514, requires_grad=True), tensor(0.69979459, requires_grad=True), tensor(0.72182759, requires_grad=True), tensor(0.74443588, requires_grad=True), tensor(0.76654889, requires_grad=True), tensor(0.78745562, requires_grad=True), tensor(0.80675277, requires_grad=True), tensor(0.82426794, requires_grad=True), tensor(0.83998487, requires_grad=True), tensor(0.85398287, requires_grad=True), tensor(0.86639284, requires_grad=True), tensor(0.87736796, requires_grad=True), tensor(0.88706543, requires_grad=True), tensor(0.89563598, requires_grad=True), tensor(0.90321846, requires_grad=True), tensor(0.90993761, requires_grad=True), tensor(0.91590371, requires_grad=True), tensor(0.69970605, requires_grad=True), tensor(0.70328943, requires_grad=True), tensor(0.71142383, requires_grad=True), tensor(0.72338202, requires_grad=True), tensor(0.73817424, requires_grad=True), tensor(0.75473717, requires_grad=True), tensor(0.77209244, requires_grad=True), tensor(0.78944294, requires_grad=True), tensor(0.80620632, requires_grad=True), tensor(0.82200311, requires_grad=True), tensor(0.83662121, requires_grad=True), tensor(0.84997346, requires_grad=True), tensor(0.86205843, requires_grad=True), tensor(0.87292882, requires_grad=True), tensor(0.88266795, requires_grad=True), tensor(0.89137363, requires_grad=True), tensor(0.89914757, requires_grad=True), tensor(0.90608893, requires_grad=True), tensor(0.91229072, requires_grad=True), tensor(0.917838, requires_grad=True), tensor(0.74078148, requires_grad=True), tensor(0.7435218, requires_grad=True), tensor(0.74957486, requires_grad=True), tensor(0.7584828, requires_grad=True), tensor(0.76960991, requires_grad=True), tensor(0.7822496, requires_grad=True), tensor(0.7957213, requires_grad=True), tensor(0.8094379, requires_grad=True), tensor(0.82293885, requires_grad=True), tensor(0.83589473, requires_grad=True), tensor(0.84809344, requires_grad=True), tensor(0.85941786, requires_grad=True), tensor(0.86982194, requires_grad=True), tensor(0.87930924, requires_grad=True), tensor(0.88791545, requires_grad=True), tensor(0.89569532, requires_grad=True), tensor(0.90271327, requires_grad=True), tensor(0.90903702, requires_grad=True), tensor(0.91473358, requires_grad=True), tensor(0.91986675, requires_grad=True), tensor(0.77346925, requires_grad=True), tensor(0.77561738, requires_grad=True), tensor(0.78022863, requires_grad=True), tensor(0.78700533, requires_grad=True), tensor(0.79552821, requires_grad=True), tensor(0.80531858, requires_grad=True), tensor(0.81589833, requires_grad=True), tensor(0.82683589, requires_grad=True), tensor(0.83777348, requires_grad=True), tensor(0.84843703, requires_grad=True), tensor(0.85863305, requires_grad=True), tensor(0.86823797, requires_grad=True), tensor(0.87718438, requires_grad=True), tensor(0.88544712, requires_grad=True), tensor(0.89303096, requires_grad=True), tensor(0.89996067, requires_grad=True), tensor(0.90627322, requires_grad=True), tensor(0.91201226, requires_grad=True), tensor(0.91722408, requires_grad=True), tensor(0.92195506, requires_grad=True), tensor(0.79985515, requires_grad=True), tensor(0.8015761, requires_grad=True), tensor(0.80516377, requires_grad=True), tensor(0.81041898, requires_grad=True), tensor(0.81705824, requires_grad=True), tensor(0.82475097, requires_grad=True), tensor(0.83315723, requires_grad=True), tensor(0.84195872, requires_grad=True), tensor(0.85087973, requires_grad=True), tensor(0.85969751, requires_grad=True), tensor(0.86824396, requires_grad=True), tensor(0.87640146, requires_grad=True), tensor(0.88409536, requires_grad=True), tensor(0.89128544, requires_grad=True), tensor(0.8979576, requires_grad=True), tensor(0.90411653, requires_grad=True), tensor(0.90977974, requires_grad=True), tensor(0.9149729, requires_grad=True), tensor(0.9197263, requires_grad=True), tensor(0.92407238, requires_grad=True), tensor(0.82143285, requires_grad=True), tensor(0.82283813, requires_grad=True), tensor(0.82568268, requires_grad=True), tensor(0.82982968, requires_grad=True), tensor(0.83508297, requires_grad=True), tensor(0.84121001, requires_grad=True), tensor(0.84796589, requires_grad=True), tensor(0.85511438, requires_grad=True), tensor(0.8624434, requires_grad=True), tensor(0.8697742, requires_grad=True), tensor(0.87696479, requires_grad=True), tensor(0.88390913, requires_grad=True), tensor(0.89053342, requires_grad=True), tensor(0.89679111, requires_grad=True), tensor(0.90265748, requires_grad=True), tensor(0.90812449, requires_grad=True), tensor(0.91319629, requires_grad=True), tensor(0.91788556, requires_grad=True), tensor(0.9222105, requires_grad=True), tensor(0.92619266, requires_grad=True), tensor(0.83928821, requires_grad=True), tensor(0.84045513, requires_grad=True), tensor(0.84274905, requires_grad=True), tensor(0.84607373, requires_grad=True), tensor(0.85029056, requires_grad=True), tensor(0.855233, requires_grad=True), tensor(0.86072227, requires_grad=True), tensor(0.86658161, requires_grad=True), tensor(0.87264761, requires_grad=True), tensor(0.87877767, requires_grad=True), tensor(0.88485379, requires_grad=True), tensor(0.89078338, requires_grad=True), tensor(0.89649771, requires_grad=True), tensor(0.90194921, requires_grad=True), tensor(0.90710803, requires_grad=True), tensor(0.91195857, requires_grad=True), tensor(0.91649623, requires_grad=True), tensor(0.92072454, requires_grad=True), tensor(0.92465283, requires_grad=True), tensor(0.92829431, requires_grad=True), tensor(0.85422256, requires_grad=True), tensor(0.85520597, requires_grad=True), tensor(0.85708426, requires_grad=True), tensor(0.85978826, requires_grad=True), tensor(0.8632181, requires_grad=True), tensor(0.86725252, requires_grad=True), tensor(0.87175926, requires_grad=True), tensor(0.87660489, requires_grad=True), tensor(0.88166295, requires_grad=True), tensor(0.88681988, requires_grad=True), tensor(0.89197855, requires_grad=True), tensor(0.89705962, requires_grad=True), tensor(0.90200135, requires_grad=True), tensor(0.90675812, requires_grad=True), tensor(0.9112985, requires_grad=True), tensor(0.91560288, requires_grad=True), tensor(0.9196612, requires_grad=True), tensor(0.92347083, requires_grad=True), tensor(0.92703475, requires_grad=True), tensor(0.93035994, requires_grad=True), tensor(0.86683583, requires_grad=True), tensor(0.86767548, requires_grad=True), tensor(0.8692347, requires_grad=True), tensor(0.87146282, requires_grad=True), tensor(0.87428657, requires_grad=True), tensor(0.87761628, requires_grad=True), tensor(0.88135286, requires_grad=True), tensor(0.88539459, requires_grad=True), tensor(0.88964309, requires_grad=True), tensor(0.89400785, requires_grad=True), tensor(0.89840926, requires_grad=True), tensor(0.90278017, requires_grad=True), tensor(0.90706627, requires_grad=True), tensor(0.91122552, requires_grad=True), tensor(0.91522699, requires_grad=True), tensor(0.91904943, requires_grad=True), tensor(0.92267969, requires_grad=True), tensor(0.92611118, requires_grad=True), tensor(0.92934244, requires_grad=True), tensor(0.93237593, requires_grad=True), tensor(0.87758339, requires_grad=True), tensor(0.87830862, requires_grad=True), tensor(0.87961911, requires_grad=True), tensor(0.88147707, requires_grad=True), tensor(0.88382787, requires_grad=True), tensor(0.88660422, requires_grad=True), tensor(0.88973096, requires_grad=True), tensor(0.89312981, requires_grad=True), tensor(0.89672373, requires_grad=True), tensor(0.90044039, requires_grad=True), tensor(0.90421465, requires_grad=True), tensor(0.90799006, requires_grad=True), tensor(0.91171953, requires_grad=True), tensor(0.9153652, requires_grad=True), tensor(0.91889791, requires_grad=True), tensor(0.92229627, requires_grad=True), tensor(0.92554565, requires_grad=True), tensor(0.92863705, requires_grad=True), tensor(0.93156609, requires_grad=True), tensor(0.93433202, requires_grad=True), tensor(0.88681525, requires_grad=True), tensor(0.88744812, requires_grad=True), tensor(0.88856199, requires_grad=True), tensor(0.89012819, requires_grad=True), tensor(0.8921054, requires_grad=True), tensor(0.89444242, requires_grad=True), tensor(0.89708158, requires_grad=True), tensor(0.89996206, requires_grad=True), tensor(0.90302312, requires_grad=True), tensor(0.90620672, requires_grad=True), tensor(0.90945954, requires_grad=True), tensor(0.91273432, requires_grad=True), tensor(0.91599057, requires_grad=True), tensor(0.91919475, requires_grad=True), tensor(0.92232004, requires_grad=True), tensor(0.92534587, requires_grad=True), tensor(0.92825719, requires_grad=True), tensor(0.93104373, requires_grad=True), tensor(0.93369925, requires_grad=True), tensor(0.9362208, requires_grad=True)]\n",
      "predictions_grid <class 'list'>\n"
     ]
    },
    {
     "data": {
      "image/png": "[encoded data removed]",
      "text/plain": [
       "<Figure size 640x480 with 2 Axes>"
      ]
     },
     "metadata": {
      "needs_background": "light"
     },
     "output_type": "display_data"
    }
   ],
   "source": [
    "plt.figure(figsize=(8, 6), dpi=80)\n",
    "cm = plt.cm.RdBu\n",
    "\n",
    "# make data for decision regions\n",
    "xx, yy = np.meshgrid(np.linspace(0.0, 1.5, 20), np.linspace(0.0, 1.5, 20))\n",
    "X_grid = [np.array([x, y]) for x, y in zip(xx.flatten(), yy.flatten())]\n",
    "\n",
    "# preprocess grid points like data inputs above\n",
    "padding = 0.3 * np.ones((len(X_grid), 1))\n",
    "X_grid = np.c_[np.c_[X_grid, padding], np.zeros((len(X_grid), 1))]  # pad each input\n",
    "normalization = np.sqrt(np.sum(X_grid ** 2, -1))\n",
    "X_grid = (X_grid.T / normalization).T  # normalize each input\n",
    "features_grid = np.array(\n",
    "    [get_angles(x) for x in X_grid]\n",
    ")  # angles for state preparation are new features\n",
    "# print(\"features_grid\", features_grid)\n",
    "predictions_grid = [variational_classifier(var, f) for f in features_grid]\n",
    "print(\"predictions_grid\", predictions_grid)\n",
    "print(\"predictions_grid\", type(predictions_grid))\n",
    "# print(xx.shape)\n",
    "Z = np.reshape(predictions_grid, xx.shape)\n",
    "\n",
    "# plot decision regions\n",
    "cnt = plt.contourf(\n",
    "    xx, yy, Z, levels=np.arange(-1, 1.1, 0.1), cmap=cm, alpha=0.8, extend=\"both\"\n",
    ")\n",
    "plt.contour(\n",
    "    xx, yy, Z, levels=[0.0], colors=(\"black\",), linestyles=(\"--\",), linewidths=(0.8,)\n",
    ")\n",
    "plt.colorbar(cnt, ticks=[-1, 0, 1])\n",
    "\n",
    "# plot data\n",
    "plt.scatter(\n",
    "    X_train[:, 0][Y_train == 1],\n",
    "    X_train[:, 1][Y_train == 1],\n",
    "    c=\"b\",\n",
    "    marker=\"o\",\n",
    "    edgecolors=\"k\",\n",
    "    label=\"class 1 train\",\n",
    ")\n",
    "plt.scatter(\n",
    "    X_val[:, 0][Y_val == 1],\n",
    "    X_val[:, 1][Y_val == 1],\n",
    "    c=\"b\",\n",
    "    marker=\"^\",\n",
    "    edgecolors=\"k\",\n",
    "    label=\"class 1 validation\",\n",
    ")\n",
    "plt.scatter(\n",
    "    X_train[:, 0][Y_train == -1],\n",
    "    X_train[:, 1][Y_train == -1],\n",
    "    c=\"r\",\n",
    "    marker=\"o\",\n",
    "    edgecolors=\"k\",\n",
    "    label=\"class -1 train\",\n",
    ")\n",
    "plt.scatter(\n",
    "    X_val[:, 0][Y_val == -1],\n",
    "    X_val[:, 1][Y_val == -1],\n",
    "    c=\"r\",\n",
    "    marker=\"^\",\n",
    "    edgecolors=\"k\",\n",
    "    label=\"class -1 validation\",\n",
    ")\n",
    "\n",
    "plt.legend()\n",
    "plt.show()"
   ]
  },
  {
   "cell_type": "markdown",
   "metadata": {},
   "source": [
    "Relevant links & papers:\n",
    "- https://pennylane.ai/qml/demos/tutorial_variational_classifier.html\n",
    "- [Circuit-centric quantum classifiers](https://arxiv.org/pdf/1804.00633.pdf)\n",
    "- [Transformation of quantum states using uniformly controlled rotations](https://arxiv.org/abs/quant-ph/0407010)\n",
    "- https://pennylane.ai/qml/demos/tutorial_general_parshift.html\n"
   ]
  }
 ],
 "metadata": {
  "interpreter": {
   "hash": "3067ead486e059ec00ffe7555bdb889e6e264a24dc711bf108106cc7baee8d5d"
  },
  "kernelspec": {
   "display_name": "Python 3.8.3 64-bit ('base': conda)",
   "name": "python3"
  },
  "language_info": {
   "codemirror_mode": {
    "name": "ipython",
    "version": 3
   },
   "file_extension": ".py",
   "mimetype": "text/x-python",
   "name": "python",
   "nbconvert_exporter": "python",
   "pygments_lexer": "ipython3",
   "version": "3.8.3"
  },
  "orig_nbformat": 4
 },
 "nbformat": 4,
 "nbformat_minor": 2
}
