{
 "cells": [
  {
   "cell_type": "markdown",
   "metadata": {},
   "source": [
    "## Angle encoding example used in PA document\n"
   ]
  },
  {
   "cell_type": "code",
   "execution_count": 1,
   "metadata": {},
   "outputs": [
    {
     "name": "stdout",
     "output_type": "stream",
     "text": [
      "State vector:\n",
      "[0.33126825+0.j 0.74021789+0.j 0.23900489+0.j 0.53405569+0.j]\n",
      "Probabilities:\n",
      "[0.10973865 0.54792253 0.05712334 0.28521548]\n"
     ]
    }
   ],
   "source": [
    "# pennylane.ai python library angle embedding example\n",
    "import pennylane as qml\n",
    "from pennylane import numpy as np\n",
    "\n",
    "# features\n",
    "x = 1.25\n",
    "y = 2.3\n",
    "data = np.array([[x, y]])\n",
    "\n",
    "# quantum device (simulator) and circuit\n",
    "dev = qml.device('default.qubit', wires=2)\n",
    "\n",
    "@qml.qnode(dev)\n",
    "def circuit(data, probs=False):\n",
    "  for i in range(len(data)):\n",
    "    qml.RY(data[i][0], wires=0) # input feature x\n",
    "    qml.RY(data[i][1], wires=1) # input feature y\n",
    "  if probs:\n",
    "    return qml.probs(wires=range(2))\n",
    "  return qml.state()\n",
    "\n",
    "# print the probabilities\n",
    "print(\"State vector:\")\n",
    "print(circuit(data))\n",
    "print(\"Probabilities:\")\n",
    "print(circuit(data, True))"
   ]
  },
  {
   "cell_type": "code",
   "execution_count": 29,
   "metadata": {},
   "outputs": [
    {
     "name": "stdout",
     "output_type": "stream",
     "text": [
      "Statevector([0.33126825+0.j, 0.74021789+0.j, 0.23900489+0.j,\n",
      "             0.53405569+0.j],\n",
      "            dims=(2, 2))\n",
      "Probabilities:\n",
      "{'00': 0.10973865301954258, '01': 0.5479225281780917, '10': 0.05712333634054544, '11': 0.2852154824618202}\n"
     ]
    }
   ],
   "source": [
    "# qiskit.org python library angle embedding example\n",
    "from qiskit import QuantumCircuit\n",
    "from qiskit.quantum_info import Statevector\n",
    "import numpy as np\n",
    "\n",
    "# features\n",
    "x = 1.25\n",
    "y = 2.3\n",
    "data = np.array([[x, y]])\n",
    "\n",
    "# create circuit\n",
    "circuit = QuantumCircuit(2)\n",
    "for i in range(len(data)):\n",
    "  circuit.ry(data[i][0],0) # input feature x\n",
    "  circuit.ry(data[i][1],1) # input feature y\n",
    "\n",
    "# get the probabilities\n",
    "state = Statevector.from_instruction(circuit.reverse_bits())\n",
    "# probs = state.probabilities()\n",
    "probs = state.probabilities_dict()\n",
    "\n",
    "# print the probabilities\n",
    "print(state)\n",
    "print(\"Probabilities:\")\n",
    "print(probs)"
   ]
  }
 ],
 "metadata": {
  "interpreter": {
   "hash": "3067ead486e059ec00ffe7555bdb889e6e264a24dc711bf108106cc7baee8d5d"
  },
  "kernelspec": {
   "display_name": "Python 3.8.3 64-bit ('base': conda)",
   "name": "python3"
  },
  "language_info": {
   "codemirror_mode": {
    "name": "ipython",
    "version": 3
   },
   "file_extension": ".py",
   "mimetype": "text/x-python",
   "name": "python",
   "nbconvert_exporter": "python",
   "pygments_lexer": "ipython3",
   "version": "3.9.7"
  },
  "orig_nbformat": 4
 },
 "nbformat": 4,
 "nbformat_minor": 2
}
