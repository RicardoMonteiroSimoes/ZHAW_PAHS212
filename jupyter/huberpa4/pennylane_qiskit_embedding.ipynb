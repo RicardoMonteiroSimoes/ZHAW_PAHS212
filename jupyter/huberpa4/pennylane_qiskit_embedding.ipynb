{
 "cells": [
  {
   "cell_type": "markdown",
   "metadata": {},
   "source": [
    "## Angle encoding example used in PA document\n"
   ]
  },
  {
   "cell_type": "code",
   "execution_count": 2,
   "metadata": {},
   "outputs": [
    {
     "name": "stdout",
     "output_type": "stream",
     "text": [
      "State vector:\n",
      "[0.33126825+0.j 0.74021789+0.j 0.23900489+0.j 0.53405569+0.j]\n",
      "Probabilities:\n",
      "[0.10973865 0.54792253 0.05712334 0.28521548]\n"
     ]
    }
   ],
   "source": [
    "# pennylane.ai python library\n",
    "import pennylane as qml\n",
    "from pennylane import numpy as np\n",
    "\n",
    "# features\n",
    "x = 1.25\n",
    "y = 2.3\n",
    "data = np.array([[x, y]])\n",
    "\n",
    "# quantum device (simulator) and circuit\n",
    "dev = qml.device('default.qubit', wires=2)\n",
    "\n",
    "@qml.qnode(dev)\n",
    "def circuit(data, probs=False):\n",
    "  for i in range(len(data)):\n",
    "    qml.RY(data[i][0], wires=0) # input feature x\n",
    "    qml.RY(data[i][1], wires=1) # input feature y\n",
    "  if probs:\n",
    "    return qml.probs(wires=range(2))\n",
    "  return qml.state()\n",
    "\n",
    "# run and print the circuit\n",
    "print(\"State vector:\")\n",
    "print(circuit(data))\n",
    "print(\"Probabilities:\")\n",
    "print(circuit(data, True))"
   ]
  },
  {
   "cell_type": "code",
   "execution_count": null,
   "metadata": {},
   "outputs": [],
   "source": [
    "# qiskit python library\n",
    "from qiskit import QuantumCircuit\n",
    "import numpy as np\n",
    "\n",
    "# features\n",
    "x = 1.25\n",
    "y = 2.3\n",
    "data = np.array([[x, y]])\n",
    "\n",
    "#\n",
    "def circuit():\n",
    "  _circuit = QuantumCircuit(2)\n",
    "  for i in range(len(data)):\n",
    "    _circuit.ry(data[i][0],0)\n",
    "    _circuit.ry(data[i][1],1)\n",
    "\n"
   ]
  }
 ],
 "metadata": {
  "interpreter": {
   "hash": "3067ead486e059ec00ffe7555bdb889e6e264a24dc711bf108106cc7baee8d5d"
  },
  "kernelspec": {
   "display_name": "Python 3.8.3 64-bit ('base': conda)",
   "name": "python3"
  },
  "language_info": {
   "codemirror_mode": {
    "name": "ipython",
    "version": 3
   },
   "file_extension": ".py",
   "mimetype": "text/x-python",
   "name": "python",
   "nbconvert_exporter": "python",
   "pygments_lexer": "ipython3",
   "version": "3.9.7"
  },
  "orig_nbformat": 4
 },
 "nbformat": 4,
 "nbformat_minor": 2
}
