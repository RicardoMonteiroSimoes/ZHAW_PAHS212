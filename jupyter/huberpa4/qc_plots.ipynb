{
 "cells": [
  {
   "cell_type": "code",
   "execution_count": 2,
   "metadata": {},
   "outputs": [],
   "source": [
    "\n",
    "import sys\n",
    "stdout = sys.stdout\n",
    "import matplotlib\n",
    "import matplotlib.pyplot as plt\n",
    "from qiskit.quantum_info import Statevector\n",
    "%matplotlib inline\n",
    "import numpy as np\n",
    "from qiskit import *\n",
    "from qiskit.circuit import Parameter\n",
    "from qiskit.visualization import plot_histogram, circuit_drawer\n",
    "from qiskit.providers.aer import QasmSimulator\n",
    "from qiskit.visualization import plot_bloch_multivector\n",
    "from qiskit.visualization import plot_state_qsphere\n",
    "\n",
    "import warnings\n",
    "warnings.simplefilter('ignore')\n",
    "\n",
    "#fix output\n",
    "sys.stdout = stdout\n",
    "simulator = QasmSimulator()"
   ]
  },
  {
   "cell_type": "code",
   "execution_count": 9,
   "metadata": {},
   "outputs": [
    {
     "data": {
      "image/png": "[encoded data removed]",
      "text/plain": [
       "<Figure size 554.926x84.28 with 1 Axes>"
      ]
     },
     "metadata": {},
     "output_type": "display_data"
    },
    {
     "name": "stdout",
     "output_type": "stream",
     "text": [
      "-------------\n",
      "\\documentclass[border=2px]{standalone}\n",
      "        \n",
      "\\usepackage[braket, qm]{qcircuit}\n",
      "\\usepackage{graphicx}\n",
      "\n",
      "\\begin{document} \n",
      "\\scalebox{1.0}{\n",
      "\\Qcircuit @C=1.0em @R=0.2em @!R { \\\\\n",
      "\t \t\\nghost{ {q}_{0} :  } & \\lstick{ {q}_{0} :  } & \\gate{\\mathrm{R_Y}\\,(\\mathrm{\\pi})} & \\gate{\\mathrm{R_Z}\\,(\\mathrm{\\frac{\\pi}{10}})} & \\gate{\\mathrm{R_Y}\\,(\\mathrm{\\frac{\\pi}{10}})} & \\gate{\\mathrm{R_Z}\\,(\\mathrm{\\frac{\\pi}{10}})} & \\gate{\\mathrm{R_Y}\\,(\\mathrm{\\pi})} & \\gate{\\mathrm{R_Z}\\,(\\mathrm{\\frac{\\pi}{10}})} & \\gate{\\mathrm{R_Y}\\,(\\mathrm{\\frac{\\pi}{10}})} & \\gate{\\mathrm{R_Z}\\,(\\mathrm{\\frac{\\pi}{10}})} & \\qw & \\qw\\\\ \n",
      "\\\\ }}\n",
      "\\end{document}\n"
     ]
    }
   ],
   "source": [
    "circuit = QuantumCircuit(1)\n",
    "circuit.ry(np.pi,0)\n",
    "\n",
    "circuit.rz(np.pi/10,0)\n",
    "circuit.ry(np.pi/10,0)\n",
    "circuit.rz(np.pi/10,0)\n",
    "\n",
    "circuit.ry(np.pi,0)\n",
    "\n",
    "circuit.rz(np.pi/10,0)\n",
    "circuit.ry(np.pi/10,0)\n",
    "circuit.rz(np.pi/10,0)\n",
    "\n",
    "display(circuit.draw('mpl'))\n",
    "print(\"-------------\")\n",
    "print(circuit_drawer(circuit, output='latex_source'))"
   ]
  },
  {
   "cell_type": "code",
   "execution_count": 10,
   "metadata": {},
   "outputs": [
    {
     "data": {
      "image/png": "[encoded data removed]",
      "text/plain": [
       "<Figure size 554.926x84.28 with 1 Axes>"
      ]
     },
     "metadata": {},
     "output_type": "display_data"
    },
    {
     "name": "stdout",
     "output_type": "stream",
     "text": [
      "-------------\n",
      "\\documentclass[border=2px]{standalone}\n",
      "        \n",
      "\\usepackage[braket, qm]{qcircuit}\n",
      "\\usepackage{graphicx}\n",
      "\n",
      "\\begin{document} \n",
      "\\scalebox{1.0}{\n",
      "\\Qcircuit @C=1.0em @R=0.2em @!R { \\\\\n",
      "\t \t\\nghost{ {q}_{0} :  } & \\lstick{ {q}_{0} :  } & \\gate{\\mathrm{R_Y}\\,(\\mathrm{0})} & \\gate{\\mathrm{R_Z}\\,(\\mathrm{0})} & \\gate{\\mathrm{R_Y}\\,(\\mathrm{1})} & \\gate{\\mathrm{R_Z}\\,(\\mathrm{2})} & \\gate{\\mathrm{R_X}\\,(\\mathrm{1})} & \\gate{\\mathrm{R_Z}\\,(\\mathrm{3})} & \\gate{\\mathrm{R_Y}\\,(\\mathrm{4})} & \\gate{\\mathrm{R_Z}\\,(\\mathrm{5})} & \\qw & \\qw\\\\ \n",
      "\\\\ }}\n",
      "\\end{document}\n"
     ]
    }
   ],
   "source": [
    "circuit = QuantumCircuit(1)\n",
    "circuit.ry(0,0)\n",
    "\n",
    "circuit.rz(0,0)\n",
    "circuit.ry(1,0)\n",
    "circuit.rz(2,0)\n",
    "\n",
    "circuit.rx(1,0)\n",
    "\n",
    "circuit.rz(3,0)\n",
    "circuit.ry(4,0)\n",
    "circuit.rz(5,0)\n",
    "\n",
    "display(circuit.draw('mpl'))\n",
    "print(\"-------------\")\n",
    "print(circuit_drawer(circuit, output='latex_source'))"
   ]
  },
  {
   "cell_type": "code",
   "execution_count": 12,
   "metadata": {},
   "outputs": [
    {
     "data": {
      "image/png": "[encoded data removed]",
      "text/plain": [
       "<Figure size 507.852x144.48 with 1 Axes>"
      ]
     },
     "metadata": {},
     "output_type": "display_data"
    },
    {
     "name": "stdout",
     "output_type": "stream",
     "text": [
      "-------------\n",
      "\\documentclass[border=2px]{standalone}\n",
      "        \n",
      "\\usepackage[braket, qm]{qcircuit}\n",
      "\\usepackage{graphicx}\n",
      "\n",
      "\\begin{document} \n",
      "\\scalebox{1.0}{\n",
      "\\Qcircuit @C=1.0em @R=0.2em @!R { \\\\\n",
      "\t \t\\nghost{ {q}_{0} :  } & \\lstick{ {q}_{0} :  } & \\gate{\\mathrm{H}} & \\gate{\\mathrm{R_Y}\\,(\\mathrm{0})} & \\ctrl{1} & \\gate{\\mathrm{R_Z}\\,(\\mathrm{0})} & \\gate{\\mathrm{R_Y}\\,(\\mathrm{1})} & \\gate{\\mathrm{R_Z}\\,(\\mathrm{2})} & \\ctrl{1} & \\qw & \\qw\\\\ \n",
      "\t \t\\nghost{ {q}_{1} :  } & \\lstick{ {q}_{1} :  } & \\gate{\\mathrm{H}} & \\gate{\\mathrm{R_Y}\\,(\\mathrm{1})} & \\targ & \\gate{\\mathrm{R_Z}\\,(\\mathrm{3})} & \\gate{\\mathrm{R_Y}\\,(\\mathrm{4})} & \\gate{\\mathrm{R_Z}\\,(\\mathrm{5})} & \\targ & \\qw & \\qw\\\\ \n",
      "\\\\ }}\n",
      "\\end{document}\n"
     ]
    }
   ],
   "source": [
    "circuit = QuantumCircuit(2)\n",
    "circuit.h(0)\n",
    "circuit.h(1)\n",
    "\n",
    "circuit.ry(0,0)\n",
    "circuit.ry(1,1)\n",
    "circuit.cx(0,1)\n",
    "\n",
    "circuit.rz(0,0)\n",
    "circuit.ry(1,0)\n",
    "circuit.rz(2,0)\n",
    "\n",
    "circuit.rz(3,1)\n",
    "circuit.ry(4,1)\n",
    "circuit.rz(5,1)\n",
    "\n",
    "circuit.cx(0,1)\n",
    "\n",
    "display(circuit.draw('mpl'))\n",
    "print(\"-------------\")\n",
    "print(circuit_drawer(circuit, output='latex_source'))"
   ]
  },
  {
   "cell_type": "code",
   "execution_count": 13,
   "metadata": {},
   "outputs": [
    {
     "data": {
      "image/png": "[encoded data removed]",
      "text/plain": [
       "<Figure size 568.052x144.48 with 1 Axes>"
      ]
     },
     "metadata": {},
     "output_type": "display_data"
    },
    {
     "name": "stdout",
     "output_type": "stream",
     "text": [
      "-------------\n",
      "\\documentclass[border=2px]{standalone}\n",
      "        \n",
      "\\usepackage[braket, qm]{qcircuit}\n",
      "\\usepackage{graphicx}\n",
      "\n",
      "\\begin{document} \n",
      "\\scalebox{1.0}{\n",
      "\\Qcircuit @C=1.0em @R=0.2em @!R { \\\\\n",
      "\t \t\\nghost{ {q}_{0} :  } & \\lstick{ {q}_{0} :  } & \\gate{\\mathrm{H}} & \\gate{\\mathrm{R_Y}\\,(\\mathrm{0})} & \\gate{\\mathrm{R_X}\\,(\\mathrm{1})} & \\ctrl{1} & \\gate{\\mathrm{R_Z}\\,(\\mathrm{10})} & \\gate{\\mathrm{R_Y}\\,(\\mathrm{11})} & \\gate{\\mathrm{R_Z}\\,(\\mathrm{12})} & \\ctrl{1} & \\qw & \\qw\\\\ \n",
      "\t \t\\nghost{ {q}_{1} :  } & \\lstick{ {q}_{1} :  } & \\gate{\\mathrm{H}} & \\qw & \\qw & \\targ & \\gate{\\mathrm{R_Z}\\,(\\mathrm{13})} & \\gate{\\mathrm{R_Y}\\,(\\mathrm{14})} & \\gate{\\mathrm{R_Z}\\,(\\mathrm{15})} & \\targ & \\qw & \\qw\\\\ \n",
      "\\\\ }}\n",
      "\\end{document}\n"
     ]
    }
   ],
   "source": [
    "circuit = QuantumCircuit(2)\n",
    "circuit.h(0)\n",
    "circuit.h(1)\n",
    "\n",
    "circuit.ry(0,0)\n",
    "circuit.rx(1,0)\n",
    "circuit.cx(0,1)\n",
    "\n",
    "circuit.rz(10,0)\n",
    "circuit.ry(11,0)\n",
    "circuit.rz(12,0)\n",
    "\n",
    "circuit.rz(13,1)\n",
    "circuit.ry(14,1)\n",
    "circuit.rz(15,1)\n",
    "\n",
    "circuit.cx(0,1)\n",
    "\n",
    "display(circuit.draw('mpl'))\n",
    "print(\"-------------\")\n",
    "print(circuit_drawer(circuit, output='latex_source'))"
   ]
  },
  {
   "cell_type": "code",
   "execution_count": 14,
   "metadata": {},
   "outputs": [
    {
     "data": {
      "image/png": "[encoded data removed]",
      "text/plain": [
       "<Figure size 507.852x144.48 with 1 Axes>"
      ]
     },
     "metadata": {},
     "output_type": "display_data"
    },
    {
     "name": "stdout",
     "output_type": "stream",
     "text": [
      "-------------\n",
      "\\documentclass[border=2px]{standalone}\n",
      "        \n",
      "\\usepackage[braket, qm]{qcircuit}\n",
      "\\usepackage{graphicx}\n",
      "\n",
      "\\begin{document} \n",
      "\\scalebox{1.0}{\n",
      "\\Qcircuit @C=1.0em @R=0.2em @!R { \\\\\n",
      "\t \t\\nghost{ {q}_{0} :  } & \\lstick{ {q}_{0} :  } & \\gate{\\mathrm{H}} & \\gate{\\mathrm{R_Y}\\,(\\mathrm{0})} & \\ctrl{1} & \\gate{\\mathrm{R_Z}\\,(\\mathrm{10})} & \\gate{\\mathrm{R_Y}\\,(\\mathrm{11})} & \\gate{\\mathrm{R_Z}\\,(\\mathrm{12})} & \\ctrl{1} & \\qw & \\qw\\\\ \n",
      "\t \t\\nghost{ {q}_{1} :  } & \\lstick{ {q}_{1} :  } & \\gate{\\mathrm{H}} & \\gate{\\mathrm{R_X}\\,(\\mathrm{1})} & \\targ & \\gate{\\mathrm{R_Z}\\,(\\mathrm{13})} & \\gate{\\mathrm{R_Y}\\,(\\mathrm{14})} & \\gate{\\mathrm{R_Z}\\,(\\mathrm{15})} & \\targ & \\qw & \\qw\\\\ \n",
      "\\\\ }}\n",
      "\\end{document}\n"
     ]
    }
   ],
   "source": [
    "circuit = QuantumCircuit(2)\n",
    "circuit.h(0)\n",
    "circuit.h(1)\n",
    "\n",
    "circuit.ry(0,0)\n",
    "circuit.rx(1,1)\n",
    "circuit.cx(0,1)\n",
    "\n",
    "circuit.rz(10,0)\n",
    "circuit.ry(11,0)\n",
    "circuit.rz(12,0)\n",
    "\n",
    "circuit.rz(13,1)\n",
    "circuit.ry(14,1)\n",
    "circuit.rz(15,1)\n",
    "\n",
    "circuit.cx(0,1)\n",
    "\n",
    "display(circuit.draw('mpl'))\n",
    "print(\"-------------\")\n",
    "print(circuit_drawer(circuit, output='latex_source'))"
   ]
  },
  {
   "cell_type": "code",
   "execution_count": 7,
   "metadata": {},
   "outputs": [
    {
     "data": {
      "image/png": "[encoded data removed]",
      "text/plain": [
       "<Figure size 1410.85x144.48 with 1 Axes>"
      ]
     },
     "metadata": {},
     "output_type": "display_data"
    },
    {
     "name": "stdout",
     "output_type": "stream",
     "text": [
      "-------------\n",
      "\\documentclass[border=2px]{standalone}\n",
      "        \n",
      "\\usepackage[braket, qm]{qcircuit}\n",
      "\\usepackage{graphicx}\n",
      "\n",
      "\\begin{document} \n",
      "\\scalebox{1.0}{\n",
      "\\Qcircuit @C=1.0em @R=0.2em @!R { \\\\\n",
      "\t \t\\nghost{ {q}_{0} :  } & \\lstick{ {q}_{0} :  } & \\gate{\\mathrm{H}} \\barrier[0em]{1} & \\qw & \\gate{\\mathrm{R_Y}\\,(\\mathrm{0})} & \\ctrl{1} & \\gate{\\mathrm{R_Z}\\,(\\mathrm{10})} & \\gate{\\mathrm{R_Y}\\,(\\mathrm{11})} & \\gate{\\mathrm{R_Z}\\,(\\mathrm{12})} & \\ctrl{1} \\barrier[0em]{1} & \\qw & \\gate{\\mathrm{R_Y}\\,(\\mathrm{0})} & \\ctrl{1} & \\gate{\\mathrm{R_Z}\\,(\\mathrm{16})} & \\gate{\\mathrm{R_Y}\\,(\\mathrm{17})} & \\gate{\\mathrm{R_Z}\\,(\\mathrm{18})} & \\ctrl{1} \\barrier[0em]{1} & \\qw & \\gate{\\mathrm{R_Y}\\,(\\mathrm{0})} & \\ctrl{1} & \\gate{\\mathrm{R_Z}\\,(\\mathrm{22})} & \\gate{\\mathrm{R_Y}\\,(\\mathrm{23})} & \\gate{\\mathrm{R_Z}\\,(\\mathrm{24})} & \\ctrl{1} & \\qw & \\qw\\\\ \n",
      "\t \t\\nghost{ {q}_{1} :  } & \\lstick{ {q}_{1} :  } & \\gate{\\mathrm{H}} & \\qw & \\gate{\\mathrm{R_Y}\\,(\\mathrm{1})} & \\targ & \\gate{\\mathrm{R_Z}\\,(\\mathrm{13})} & \\gate{\\mathrm{R_Y}\\,(\\mathrm{14})} & \\gate{\\mathrm{R_Z}\\,(\\mathrm{15})} & \\targ & \\qw & \\gate{\\mathrm{R_Y}\\,(\\mathrm{1})} & \\targ & \\gate{\\mathrm{R_Z}\\,(\\mathrm{19})} & \\gate{\\mathrm{R_Y}\\,(\\mathrm{20})} & \\gate{\\mathrm{R_Z}\\,(\\mathrm{21})} & \\targ & \\qw & \\gate{\\mathrm{R_Y}\\,(\\mathrm{1})} & \\targ & \\gate{\\mathrm{R_Z}\\,(\\mathrm{25})} & \\gate{\\mathrm{R_Y}\\,(\\mathrm{26})} & \\gate{\\mathrm{R_Z}\\,(\\mathrm{27})} & \\targ & \\qw & \\qw\\\\ \n",
      "\\\\ }}\n",
      "\\end{document}\n"
     ]
    }
   ],
   "source": [
    "circuit = QuantumCircuit(2)\n",
    "circuit.h(0)\n",
    "circuit.h(1)\n",
    "\n",
    "circuit.barrier()\n",
    "# layer 1\n",
    "circuit.ry(0,0)\n",
    "circuit.ry(1,1)\n",
    "circuit.cx(0,1)\n",
    "\n",
    "circuit.rz(10,0)\n",
    "circuit.ry(11,0)\n",
    "circuit.rz(12,0)\n",
    "\n",
    "circuit.rz(13,1)\n",
    "circuit.ry(14,1)\n",
    "circuit.rz(15,1)\n",
    "\n",
    "circuit.cx(0,1)\n",
    "\n",
    "circuit.barrier()\n",
    "# layer 2\n",
    "circuit.ry(0,0)\n",
    "circuit.ry(1,1)\n",
    "circuit.cx(0,1)\n",
    "\n",
    "circuit.rz(16,0)\n",
    "circuit.ry(17,0)\n",
    "circuit.rz(18,0)\n",
    "\n",
    "circuit.rz(19,1)\n",
    "circuit.ry(20,1)\n",
    "circuit.rz(21,1)\n",
    "\n",
    "circuit.cx(0,1)\n",
    "\n",
    "circuit.barrier()\n",
    "# layer 3\n",
    "circuit.ry(0,0)\n",
    "circuit.ry(1,1)\n",
    "circuit.cx(0,1)\n",
    "\n",
    "circuit.rz(22,0)\n",
    "circuit.ry(23,0)\n",
    "circuit.rz(24,0)\n",
    "\n",
    "circuit.rz(25,1)\n",
    "circuit.ry(26,1)\n",
    "circuit.rz(27,1)\n",
    "\n",
    "circuit.cx(0,1)\n",
    "\n",
    "display(circuit.draw('mpl'))\n",
    "print(\"-------------\")\n",
    "print(circuit_drawer(circuit, output='latex_source'))"
   ]
  },
  {
   "cell_type": "code",
   "execution_count": 8,
   "metadata": {},
   "outputs": [
    {
     "data": {
      "image/png": "[encoded data removed]",
      "text/plain": [
       "<Figure size 1591.45x144.48 with 1 Axes>"
      ]
     },
     "metadata": {},
     "output_type": "display_data"
    },
    {
     "name": "stdout",
     "output_type": "stream",
     "text": [
      "-------------\n",
      "\\documentclass[border=2px]{standalone}\n",
      "        \n",
      "\\usepackage[braket, qm]{qcircuit}\n",
      "\\usepackage{graphicx}\n",
      "\n",
      "\\begin{document} \n",
      "\\scalebox{1.0}{\n",
      "\\Qcircuit @C=1.0em @R=0.2em @!R { \\\\\n",
      "\t \t\\nghost{ {q}_{0} :  } & \\lstick{ {q}_{0} :  } & \\gate{\\mathrm{H}} \\barrier[0em]{1} & \\qw & \\gate{\\mathrm{R_Y}\\,(\\mathrm{0})} & \\gate{\\mathrm{R_X}\\,(\\mathrm{1})} & \\ctrl{1} & \\gate{\\mathrm{R_Z}\\,(\\mathrm{10})} & \\gate{\\mathrm{R_Y}\\,(\\mathrm{11})} & \\gate{\\mathrm{R_Z}\\,(\\mathrm{12})} & \\ctrl{1} \\barrier[0em]{1} & \\qw & \\gate{\\mathrm{R_Y}\\,(\\mathrm{0})} & \\gate{\\mathrm{R_X}\\,(\\mathrm{1})} & \\ctrl{1} & \\gate{\\mathrm{R_Z}\\,(\\mathrm{16})} & \\gate{\\mathrm{R_Y}\\,(\\mathrm{17})} & \\gate{\\mathrm{R_Z}\\,(\\mathrm{18})} & \\ctrl{1} \\barrier[0em]{1} & \\qw & \\gate{\\mathrm{R_Y}\\,(\\mathrm{0})} & \\gate{\\mathrm{R_X}\\,(\\mathrm{1})} & \\ctrl{1} & \\gate{\\mathrm{R_Z}\\,(\\mathrm{22})} & \\gate{\\mathrm{R_Y}\\,(\\mathrm{23})} & \\gate{\\mathrm{R_Z}\\,(\\mathrm{24})} & \\ctrl{1} & \\qw & \\qw\\\\ \n",
      "\t \t\\nghost{ {q}_{1} :  } & \\lstick{ {q}_{1} :  } & \\gate{\\mathrm{H}} & \\qw & \\qw & \\qw & \\targ & \\gate{\\mathrm{R_Z}\\,(\\mathrm{13})} & \\gate{\\mathrm{R_Y}\\,(\\mathrm{14})} & \\gate{\\mathrm{R_Z}\\,(\\mathrm{15})} & \\targ & \\qw & \\qw & \\qw & \\targ & \\gate{\\mathrm{R_Z}\\,(\\mathrm{19})} & \\gate{\\mathrm{R_Y}\\,(\\mathrm{20})} & \\gate{\\mathrm{R_Z}\\,(\\mathrm{21})} & \\targ & \\qw & \\qw & \\qw & \\targ & \\gate{\\mathrm{R_Z}\\,(\\mathrm{25})} & \\gate{\\mathrm{R_Y}\\,(\\mathrm{26})} & \\gate{\\mathrm{R_Z}\\,(\\mathrm{27})} & \\targ & \\qw & \\qw\\\\ \n",
      "\\\\ }}\n",
      "\\end{document}\n"
     ]
    }
   ],
   "source": [
    "circuit = QuantumCircuit(2)\n",
    "circuit.h(0)\n",
    "circuit.h(1)\n",
    "\n",
    "circuit.barrier()\n",
    "# layer 1\n",
    "circuit.ry(0,0)\n",
    "circuit.rx(1,0)\n",
    "circuit.cx(0,1)\n",
    "\n",
    "circuit.rz(10,0)\n",
    "circuit.ry(11,0)\n",
    "circuit.rz(12,0)\n",
    "\n",
    "circuit.rz(13,1)\n",
    "circuit.ry(14,1)\n",
    "circuit.rz(15,1)\n",
    "\n",
    "circuit.cx(0,1)\n",
    "\n",
    "circuit.barrier()\n",
    "# layer 2\n",
    "circuit.ry(0,0)\n",
    "circuit.rx(1,0)\n",
    "circuit.cx(0,1)\n",
    "\n",
    "circuit.rz(16,0)\n",
    "circuit.ry(17,0)\n",
    "circuit.rz(18,0)\n",
    "\n",
    "circuit.rz(19,1)\n",
    "circuit.ry(20,1)\n",
    "circuit.rz(21,1)\n",
    "\n",
    "circuit.cx(0,1)\n",
    "\n",
    "circuit.barrier()\n",
    "# layer 3\n",
    "circuit.ry(0,0)\n",
    "circuit.rx(1,0)\n",
    "circuit.cx(0,1)\n",
    "\n",
    "circuit.rz(22,0)\n",
    "circuit.ry(23,0)\n",
    "circuit.rz(24,0)\n",
    "\n",
    "circuit.rz(25,1)\n",
    "circuit.ry(26,1)\n",
    "circuit.rz(27,1)\n",
    "\n",
    "circuit.cx(0,1)\n",
    "\n",
    "display(circuit.draw('mpl'))\n",
    "print(\"-------------\")\n",
    "print(circuit_drawer(circuit, output='latex_source'))"
   ]
  },
  {
   "cell_type": "code",
   "execution_count": 9,
   "metadata": {},
   "outputs": [
    {
     "data": {
      "image/png": "[encoded data removed]",
      "text/plain": [
       "<Figure size 1410.85x144.48 with 1 Axes>"
      ]
     },
     "metadata": {},
     "output_type": "display_data"
    },
    {
     "name": "stdout",
     "output_type": "stream",
     "text": [
      "-------------\n",
      "\\documentclass[border=2px]{standalone}\n",
      "        \n",
      "\\usepackage[braket, qm]{qcircuit}\n",
      "\\usepackage{graphicx}\n",
      "\n",
      "\\begin{document} \n",
      "\\scalebox{1.0}{\n",
      "\\Qcircuit @C=1.0em @R=0.2em @!R { \\\\\n",
      "\t \t\\nghost{ {q}_{0} :  } & \\lstick{ {q}_{0} :  } & \\gate{\\mathrm{H}} \\barrier[0em]{1} & \\qw & \\gate{\\mathrm{R_Y}\\,(\\mathrm{0})} & \\ctrl{1} & \\gate{\\mathrm{R_Z}\\,(\\mathrm{10})} & \\gate{\\mathrm{R_Y}\\,(\\mathrm{11})} & \\gate{\\mathrm{R_Z}\\,(\\mathrm{12})} & \\ctrl{1} \\barrier[0em]{1} & \\qw & \\gate{\\mathrm{R_Y}\\,(\\mathrm{0})} & \\ctrl{1} & \\gate{\\mathrm{R_Z}\\,(\\mathrm{16})} & \\gate{\\mathrm{R_Y}\\,(\\mathrm{17})} & \\gate{\\mathrm{R_Z}\\,(\\mathrm{18})} & \\ctrl{1} \\barrier[0em]{1} & \\qw & \\gate{\\mathrm{R_Y}\\,(\\mathrm{0})} & \\ctrl{1} & \\gate{\\mathrm{R_Z}\\,(\\mathrm{22})} & \\gate{\\mathrm{R_Y}\\,(\\mathrm{23})} & \\gate{\\mathrm{R_Z}\\,(\\mathrm{24})} & \\ctrl{1} & \\qw & \\qw\\\\ \n",
      "\t \t\\nghost{ {q}_{1} :  } & \\lstick{ {q}_{1} :  } & \\gate{\\mathrm{H}} & \\qw & \\gate{\\mathrm{R_X}\\,(\\mathrm{1})} & \\targ & \\gate{\\mathrm{R_Z}\\,(\\mathrm{13})} & \\gate{\\mathrm{R_Y}\\,(\\mathrm{14})} & \\gate{\\mathrm{R_Z}\\,(\\mathrm{15})} & \\targ & \\qw & \\gate{\\mathrm{R_X}\\,(\\mathrm{1})} & \\targ & \\gate{\\mathrm{R_Z}\\,(\\mathrm{19})} & \\gate{\\mathrm{R_Y}\\,(\\mathrm{20})} & \\gate{\\mathrm{R_Z}\\,(\\mathrm{21})} & \\targ & \\qw & \\gate{\\mathrm{R_X}\\,(\\mathrm{1})} & \\targ & \\gate{\\mathrm{R_Z}\\,(\\mathrm{25})} & \\gate{\\mathrm{R_Y}\\,(\\mathrm{26})} & \\gate{\\mathrm{R_Z}\\,(\\mathrm{27})} & \\targ & \\qw & \\qw\\\\ \n",
      "\\\\ }}\n",
      "\\end{document}\n"
     ]
    }
   ],
   "source": [
    "circuit = QuantumCircuit(2)\n",
    "circuit.h(0)\n",
    "circuit.h(1)\n",
    "\n",
    "circuit.barrier()\n",
    "# layer 1\n",
    "circuit.ry(0,0)\n",
    "circuit.rx(1,1)\n",
    "circuit.cx(0,1)\n",
    "\n",
    "circuit.rz(10,0)\n",
    "circuit.ry(11,0)\n",
    "circuit.rz(12,0)\n",
    "\n",
    "circuit.rz(13,1)\n",
    "circuit.ry(14,1)\n",
    "circuit.rz(15,1)\n",
    "\n",
    "circuit.cx(0,1)\n",
    "\n",
    "circuit.barrier()\n",
    "# layer 2\n",
    "circuit.ry(0,0)\n",
    "circuit.rx(1,1)\n",
    "circuit.cx(0,1)\n",
    "\n",
    "circuit.rz(16,0)\n",
    "circuit.ry(17,0)\n",
    "circuit.rz(18,0)\n",
    "\n",
    "circuit.rz(19,1)\n",
    "circuit.ry(20,1)\n",
    "circuit.rz(21,1)\n",
    "\n",
    "circuit.cx(0,1)\n",
    "\n",
    "circuit.barrier()\n",
    "# layer 3\n",
    "circuit.ry(0,0)\n",
    "circuit.rx(1,1)\n",
    "circuit.cx(0,1)\n",
    "\n",
    "circuit.rz(22,0)\n",
    "circuit.ry(23,0)\n",
    "circuit.rz(24,0)\n",
    "\n",
    "circuit.rz(25,1)\n",
    "circuit.ry(26,1)\n",
    "circuit.rz(27,1)\n",
    "\n",
    "circuit.cx(0,1)\n",
    "\n",
    "display(circuit.draw('mpl'))\n",
    "print(\"-------------\")\n",
    "print(circuit_drawer(circuit, output='latex_source'))"
   ]
  }
 ],
 "metadata": {
  "interpreter": {
   "hash": "44399f90d2aeb8fdaf7f58b208400057db399922c275710611f7af66dc82cb78"
  },
  "kernelspec": {
   "display_name": "Python 3.9.7 64-bit ('base': conda)",
   "language": "python",
   "name": "python3"
  },
  "language_info": {
   "codemirror_mode": {
    "name": "ipython",
    "version": 3
   },
   "file_extension": ".py",
   "mimetype": "text/x-python",
   "name": "python",
   "nbconvert_exporter": "python",
   "pygments_lexer": "ipython3",
   "version": "3.9.7"
  },
  "orig_nbformat": 4
 },
 "nbformat": 4,
 "nbformat_minor": 2
}
