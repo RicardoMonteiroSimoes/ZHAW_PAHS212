{
 "cells": [
  {
   "cell_type": "markdown",
   "metadata": {},
   "source": [
    "# PennyLane: Quantum Data embedding Methods for Quantum Machine Learning\n",
    "\n",
    "Link Website: https://medium.datadriveninvestor.com/all-about-data-encoding-for-quantum-machine-learning-2a7344b1dfef\n",
    "- https://arxiv.org/pdf/2101.11020.pdf (Paper by: Maria Schuld)\n",
    "\n",
    "\n",
    "![](https://miro.medium.com/max/549/1*dqxQbP8iJ8g6ZMaEBcELlg.png)\n",
    "\n",
    "\n",
    "## Preprocessing and state preparation:\n",
    "\n",
    "![](https://miro.medium.com/max/700/1*VFsEP9cVIkIJS_vo6ufujQ.png)\n"
   ]
  },
  {
   "cell_type": "code",
   "execution_count": 71,
   "metadata": {},
   "outputs": [],
   "source": [
    "from pennylane import numpy as np\n",
    "\n",
    "# helper functions\n",
    "# Function to print the output\n",
    "def printTheArray(arr, n):\n",
    " \n",
    "    for i in range(0, n):\n",
    "        print(arr[i], end = \" \")\n",
    "     \n",
    "    print()\n",
    " \n",
    "# Function to generate all binary strings\n",
    "def generateAllBinaryStrings(n, arr, i):\n",
    " \n",
    "    if i == n:\n",
    "        printTheArray(arr, n)\n",
    "        return\n",
    "     \n",
    "    # First assign \"0\" at ith position\n",
    "    # and try for all other permutations\n",
    "    # for remaining positions\n",
    "    arr[i] = 0\n",
    "    generateAllBinaryStrings(n, arr, i + 1)\n",
    " \n",
    "    # And then assign \"1\" at ith position\n",
    "    # and try for all other permutations\n",
    "    # for remaining positions\n",
    "    arr[i] = 1\n",
    "    generateAllBinaryStrings(n, arr, i + 1)"
   ]
  },
  {
   "cell_type": "markdown",
   "metadata": {},
   "source": [
    "## Basis encoding"
   ]
  },
  {
   "cell_type": "code",
   "execution_count": 78,
   "metadata": {},
   "outputs": [
    {
     "name": "stdout",
     "output_type": "stream",
     "text": [
      "x_1 =>\n",
      " decimal: [5, 6] \n",
      " binary: [101, 110] \n",
      " basis encoded quantum state: |101110> \n",
      "\n",
      "x_2 =>\n",
      " decimal: [4, 1] \n",
      " binary: [100, 001] \n",
      " basis encoded quantum state: |100001>\n"
     ]
    }
   ],
   "source": [
    "# Basis encoding\n",
    "\n",
    "x_1 = [5 ,6]\n",
    "x_2 = [4 ,1]\n",
    "\n",
    "# dec, binary, qstate\n",
    "print('x_1 =>\\n decimal: [{}, {}]'.format(x_1[0],x_1[1])\n",
    "      , '\\n binary: [{:03b}, {:03b}]'.format(x_1[0],x_1[1])\n",
    "      , '\\n basis encoded quantum state: |{:03b}{:03b}>'.format(x_1[0],x_1[1])\n",
    "      , '\\n' )\n",
    "\n",
    "print('x_2 =>\\n decimal: [{}, {}]'.format(x_2[0],x_2[1])\n",
    "      , '\\n binary: [{:03b}, {:03b}]'.format(x_2[0],x_2[1])\n",
    "      , '\\n basis encoded quantum state: |{:03b}{:03b}>'.format(x_2[0],x_2[1]) )"
   ]
  },
  {
   "cell_type": "code",
   "execution_count": 73,
   "metadata": {},
   "outputs": [
    {
     "name": "stdout",
     "output_type": "stream",
     "text": [
      " 0: ──H──X──X──╭┤ State \n",
      " 1: ──H────────├┤ State \n",
      " 2: ──H──X─────├┤ State \n",
      " 3: ──H──X─────├┤ State \n",
      " 4: ──H──X─────├┤ State \n",
      " 5: ──H──X─────╰┤ State \n",
      "\n"
     ]
    }
   ],
   "source": [
    "# pennylane code\n",
    "import pennylane as qml\n",
    "from pennylane import numpy as np\n",
    "\n",
    "# import the template\n",
    "from pennylane.templates.embeddings import BasisEmbedding\n",
    "\n",
    "# quantum device where you want to run and how many Qubits\n",
    "dev = qml.device('default.qubit', wires=6)\n",
    "\n",
    "@qml.qnode(dev)\n",
    "def circuit(data):\n",
    "    for i in range(6):\n",
    "        qml.Hadamard(i)\n",
    "    for i in range(len(data)):\n",
    "        BasisEmbedding(features=data[i], wires=range(6),do_queue=True)\n",
    "    return  qml.state()\n",
    "\n",
    "data=[[1,0,1,1,1,0],\n",
    "      [1,0,0,0,0,1]]\n",
    "\n",
    "circuit(data)\n",
    "\n",
    "print(circuit.draw(show_all_wires=True))\n",
    "\n",
    "# Watch out when intepreting the drawing\n",
    "# => The last X-gate on qubit #5 is should be on the right hand side (3rd gate position)\n",
    "# pennylane drawings don't keep paddings\n"
   ]
  },
  {
   "cell_type": "markdown",
   "metadata": {},
   "source": [
    "## Amplitude encoding\n",
    "\n",
    "![](https://miro.medium.com/max/700/1*GL5v5y2uokrTVo3_Pkr3bw.png)"
   ]
  },
  {
   "cell_type": "code",
   "execution_count": 79,
   "metadata": {},
   "outputs": [
    {
     "name": "stdout",
     "output_type": "stream",
     "text": [
      "Amplitude encoding: 6.0/19.12|00> -  -12.5/19.12|01> + 11.15/19.12|10> + 7.0/19.12|11>  \n",
      "Amplitudes:  [ 0.31380835 -0.65376739  0.58316051  0.36610974]\n"
     ]
    }
   ],
   "source": [
    "# Amplitude encoding\n",
    "\n",
    "data = np.array([6,-12.5,11.15,7])\n",
    "\n",
    "# normalization\n",
    "normalization = np.linalg.norm(data)\n",
    "X_norm = (data.T / normalization).T\n",
    "\n",
    "print( 'Amplitude encoding: {}/{norm:.2f}|00> -  {}/{norm:.2f}|01> + {}/{norm:.2f}|10> + {}/{norm:.2f}|11> '.format(data[0], data[1], data[2], data[3], norm=normalization) \n",
    "       , \"\\nAmplitudes: \", X_norm)"
   ]
  },
  {
   "cell_type": "code",
   "execution_count": 75,
   "metadata": {},
   "outputs": [
    {
     "name": "stdout",
     "output_type": "stream",
     "text": [
      " 0: ──╭QubitStateVector(M0)──╭┤ State \n",
      " 1: ──╰QubitStateVector(M0)──╰┤ State \n",
      "M0 =\n",
      "[ 0.31380835+0.j -0.65376739+0.j  0.58316051+0.j  0.36610974+0.j]\n",
      "\n",
      "probs:\n",
      "[0.09847568 0.4274118  0.34007618 0.13403634]\n",
      "\n",
      "Binary permutations for 2:\n",
      "0 0 \n",
      "0 1 \n",
      "1 0 \n",
      "1 1 \n"
     ]
    }
   ],
   "source": [
    "# pennylane code\n",
    "# import the template\n",
    "from pennylane.templates.embeddings import AmplitudeEmbedding\n",
    "\n",
    "# quantum device where you want to run and how many Qubits\n",
    "\n",
    "dev = qml.device('default.qubit', wires=2)\n",
    "@qml.qnode(dev)\n",
    "def circuit(data, probs=False):\n",
    "    AmplitudeEmbedding(features=data, wires=range(2),normalize=True)\n",
    "    if probs:\n",
    "      return  qml.probs(wires=range(2))\n",
    "    return qml.state()\n",
    "\n",
    "data = [6, -12.5, 11.15, 7]\n",
    "circuit(data)\n",
    "\n",
    "print(circuit.draw(show_all_wires=True))\n",
    "print(\"probs:\")\n",
    "print(circuit(data, True))\n",
    "\n",
    "# Print all binary strings\n",
    "qubits=2\n",
    "print(\"\\nBinary permutations for {}:\".format(qubits))\n",
    "generateAllBinaryStrings(qubits, [None] * qubits, 0)"
   ]
  },
  {
   "cell_type": "markdown",
   "metadata": {},
   "source": [
    "## Angle encoding\n",
    "\n",
    "![](https://miro.medium.com/max/700/1*zL56tgxQZNlT-30jcxYlug.png)"
   ]
  },
  {
   "cell_type": "code",
   "execution_count": 76,
   "metadata": {},
   "outputs": [
    {
     "name": "stdout",
     "output_type": "stream",
     "text": [
      "\n",
      "Values:\n",
      " [[ 3.    -6.25   5.575  3.5  ]\n",
      " [ 4.     4.75  -5.5   -2.5  ]\n",
      " [ 2.5    0.25   4.    -3.5  ]]\n"
     ]
    }
   ],
   "source": [
    "# Angle encoding\n",
    "\n",
    "data = np.array([[6,-12.5,11.15,7],[8,9.5,-11,-5],[5,0.5,8,-7]])\n",
    "\n",
    "# x/2\n",
    "X_half = (data.T / 2).T\n",
    "\n",
    "print(  \"\\nValues:\\n\", X_half)"
   ]
  },
  {
   "cell_type": "code",
   "execution_count": 77,
   "metadata": {},
   "outputs": [
    {
     "name": "stdout",
     "output_type": "stream",
     "text": [
      "[ 0.01231807+0.j  0.08506659+0.j -0.08261645+0.j -0.57053559+0.j\n",
      " -0.00617374+0.j -0.04263481+0.j  0.04140682+0.j  0.28594865+0.j\n",
      "  0.01432609+0.j  0.09893363+0.j -0.09608408+0.j -0.66354082+0.j\n",
      " -0.00718014+0.j -0.04958488+0.j  0.0481567 +0.j  0.33256225+0.j]\n",
      "\n",
      " 0: ──H──RY(6)──────RY(8)────RY(5)────╭┤ State \n",
      " 1: ──H──RY(-12.5)──RY(9.5)──RY(0.5)──├┤ State \n",
      " 2: ──H──RY(11.2)───RY(-11)──RY(8)────├┤ State \n",
      " 3: ──H──RY(7)──────RY(-5)───RY(-7)───╰┤ State \n",
      "\n",
      "probs:\n",
      "[1.51734964e-04 7.23632517e-03 6.82547810e-03 3.25510862e-01\n",
      " 3.81150307e-05 1.81772710e-03 1.71452446e-03 8.17666287e-02\n",
      " 2.05236913e-04 9.78786299e-03 9.23215070e-03 4.40286422e-01\n",
      " 5.15544410e-05 2.45866007e-03 2.31906805e-03 1.10597650e-01]\n",
      "\n",
      "Binary permutations for 4:\n",
      "0 0 0 0 \n",
      "0 0 0 1 \n",
      "0 0 1 0 \n",
      "0 0 1 1 \n",
      "0 1 0 0 \n",
      "0 1 0 1 \n",
      "0 1 1 0 \n",
      "0 1 1 1 \n",
      "1 0 0 0 \n",
      "1 0 0 1 \n",
      "1 0 1 0 \n",
      "1 0 1 1 \n",
      "1 1 0 0 \n",
      "1 1 0 1 \n",
      "1 1 1 0 \n",
      "1 1 1 1 \n"
     ]
    }
   ],
   "source": [
    "# pennylane code \n",
    "\n",
    "# import the template\n",
    "from pennylane.templates.embeddings import AngleEmbedding\n",
    "dev = qml.device('default.qubit', wires=4)\n",
    "@qml.qnode(dev)\n",
    "def circuit(data, probs=False):\n",
    "    for i in range(4):\n",
    "        qml.Hadamard(i)\n",
    "    for i in range(len(data)):\n",
    "        AngleEmbedding(features=data[i], wires=range(4),rotation='Y')\n",
    "    if probs:\n",
    "      return  qml.probs(wires=range(4))\n",
    "    return  qml.state()\n",
    "    \n",
    "\n",
    "data = np.array([[6,-12.5,11.15,7],[8,9.5,-11,-5],[5,0.5,8,-7]])\n",
    "\n",
    "print(circuit(data))\n",
    "print()\n",
    "print(circuit.draw(show_all_wires=True))\n",
    "print(\"probs:\")\n",
    "print(circuit(data, True))\n",
    "\n",
    "# Print all binary strings\n",
    "qubits=4\n",
    "print(\"\\nBinary permutations for {}:\".format(qubits))\n",
    "generateAllBinaryStrings(qubits, [None] * qubits, 0)"
   ]
  }
 ],
 "metadata": {
  "interpreter": {
   "hash": "3067ead486e059ec00ffe7555bdb889e6e264a24dc711bf108106cc7baee8d5d"
  },
  "kernelspec": {
   "display_name": "Python 3.8.3 64-bit ('base': conda)",
   "name": "python3"
  },
  "language_info": {
   "codemirror_mode": {
    "name": "ipython",
    "version": 3
   },
   "file_extension": ".py",
   "mimetype": "text/x-python",
   "name": "python",
   "nbconvert_exporter": "python",
   "pygments_lexer": "ipython3",
   "version": "3.8.3"
  },
  "orig_nbformat": 4
 },
 "nbformat": 4,
 "nbformat_minor": 2
}
