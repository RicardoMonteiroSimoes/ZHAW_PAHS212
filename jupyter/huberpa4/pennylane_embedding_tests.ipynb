{
 "cells": [
  {
   "cell_type": "markdown",
   "metadata": {},
   "source": [
    "## Angle encoding\n"
   ]
  },
  {
   "cell_type": "code",
   "execution_count": 1,
   "metadata": {},
   "outputs": [
    {
     "name": "stdout",
     "output_type": "stream",
     "text": [
      "[0.33126825+0.j 0.74021789+0.j 0.23900489+0.j 0.53405569+0.j]\n",
      "\n",
      " 0: ──RY(1.25)──╭┤ State \n",
      " 1: ──RY(2.3)───╰┤ State \n",
      "\n",
      "probs:\n",
      "[0.10973865 0.54792253 0.05712334 0.28521548]\n",
      "------------\n",
      "[0.33126825+0.j 0.74021789+0.j 0.23900489+0.j 0.53405569+0.j]\n",
      "\n",
      " 0: ──RY(1.25)──╭┤ State \n",
      " 1: ──RY(2.3)───╰┤ State \n",
      "\n",
      "probs:\n",
      "[0.10973865 0.54792253 0.05712334 0.28521548]\n",
      "1.0\n"
     ]
    },
    {
     "name": "stderr",
     "output_type": "stream",
     "text": [
      "/Users/phuber/opt/anaconda3/lib/python3.9/site-packages/pennylane/qnode.py:838: UserWarning: The QNode.draw method has been deprecated. Please use the qml.draw(qnode)(*args) function instead.\n",
      "  warnings.warn(\n"
     ]
    }
   ],
   "source": [
    "import pennylane as qml\n",
    "from pennylane import numpy as np\n",
    "from pennylane.templates.embeddings import AngleEmbedding\n",
    "\n",
    "dev1 = qml.device('default.qubit', wires=2)\n",
    "dev2 = qml.device('default.qubit', wires=2)\n",
    "\n",
    "@qml.qnode(dev1)\n",
    "def circuit1(data, probs=False):\n",
    "    # for i in range(2):\n",
    "    #     qml.Hadamard(i)\n",
    "    for i in range(len(data)):\n",
    "        AngleEmbedding(features=data[i], wires=range(2), rotation='Y')\n",
    "    if probs:\n",
    "      return  qml.probs(wires=range(2))\n",
    "    return  qml.state()\n",
    "    \n",
    "\n",
    "@qml.qnode(dev2)\n",
    "def circuit2(data, probs=False):\n",
    "    # for i in range(2):\n",
    "    #     qml.Hadamard(i)\n",
    "    for i in range(len(data)):\n",
    "        qml.RY(data[i][0], wires=0) # input feature 1\n",
    "        qml.RY(data[i][1], wires=1) # input feature 2\n",
    "    if probs:\n",
    "      return  qml.probs(wires=range(2))\n",
    "    return  qml.state()\n",
    "    \n",
    "\n",
    "x = 1.25\n",
    "y = 2.3\n",
    "data = np.array([[x, y]])\n",
    "\n",
    "print(circuit1(data))\n",
    "print()\n",
    "print(circuit1.draw(show_all_wires=True))\n",
    "print(\"probs:\")\n",
    "print(circuit1(data, True))\n",
    "\n",
    "print(\"------------\")\n",
    "print(circuit2(data))\n",
    "print()\n",
    "print(circuit2.draw(show_all_wires=True))\n",
    "print(\"probs:\")\n",
    "probs = circuit2(data, True)\n",
    "print(circuit2(data, True))\n",
    "print(np.sum(probs))\n"
   ]
  },
  {
   "cell_type": "code",
   "execution_count": 2,
   "metadata": {},
   "outputs": [
    {
     "name": "stdout",
     "output_type": "stream",
     "text": [
      "[-0.30009115+0.j -0.26598567+0.j  0.68554814+0.j  0.60763531+0.j]\n",
      "\n",
      " 0: ──RY(10.2)──╭┤ State \n",
      " 1: ──RY(20.3)──╰┤ State \n",
      "\n",
      "probs:\n",
      "[0.0900547  0.07074837 0.46997626 0.36922067]\n"
     ]
    }
   ],
   "source": [
    "dev3 = qml.device('default.qubit', wires=2)\n",
    "\n",
    "@qml.qnode(dev3)\n",
    "def circuit3(data, probs=False):\n",
    "    for i in range(len(data)):\n",
    "        AngleEmbedding(features=data[i], wires=range(2), rotation='Y')\n",
    "    if probs:\n",
    "      return  qml.probs(wires=range(2))\n",
    "    return  qml.state()\n",
    "    \n",
    "\n",
    "x = 10.25\n",
    "y = 20.3\n",
    "x_scaled = 1.25\n",
    "y_scaled = 2.3\n",
    "data = np.array([[x, y]])\n",
    "\n",
    "print(circuit3(data))\n",
    "print()\n",
    "print(circuit3.draw(show_all_wires=True))\n",
    "print(\"probs:\")\n",
    "print(circuit3(data, True))"
   ]
  },
  {
   "cell_type": "code",
   "execution_count": 4,
   "metadata": {},
   "outputs": [
    {
     "name": "stdout",
     "output_type": "stream",
     "text": [
      "[0.81706929-0.56500528j 0.0950273 -0.06431652j]\n",
      "\n",
      " 0: ──Rot(1.2, 0.23, 0.01)──┤ State \n",
      "\n",
      "probs:\n",
      "[0.9868332 0.0131668]\n",
      "[0.81706929-0.56500528j 0.0950273 -0.06431652j]\n",
      "\n",
      " 0: ──RZ(1.2)──RY(0.23)──RZ(0.01)──┤ State \n",
      "\n",
      "probs:\n",
      "[0.9868332 0.0131668]\n"
     ]
    }
   ],
   "source": [
    "\n",
    "# Test rotation gate vs singe gates state\n",
    "dev4 = qml.device('default.qubit', wires=1)\n",
    "dev5 = qml.device('default.qubit', wires=1)\n",
    "\n",
    "@qml.qnode(dev4)\n",
    "def circuit4(data, probs=False):\n",
    "    qml.Rot(data[0], data[1], data[2], wires=0)\n",
    "    if probs:\n",
    "      return  qml.probs(wires=range(1))\n",
    "    return  qml.state()\n",
    "\n",
    "data = np.array([1.2, 0.23, 0.01])\n",
    "\n",
    "print(circuit4(data))\n",
    "print()\n",
    "print(circuit4.draw(show_all_wires=True))\n",
    "print(\"probs:\")\n",
    "print(circuit4(data, True))\n",
    "\n",
    "\n",
    "@qml.qnode(dev5)\n",
    "def circuit5(data, probs=False):\n",
    "    qml.RZ(data[0], wires=0) \n",
    "    qml.RY(data[1], wires=0) \n",
    "    qml.RZ(data[2], wires=0) \n",
    "    if probs:\n",
    "      return  qml.probs(wires=range(1))\n",
    "    return  qml.state()\n",
    "\n",
    "print(circuit5(data))\n",
    "print()\n",
    "print(circuit5.draw(show_all_wires=True))\n",
    "print(\"probs:\")\n",
    "print(circuit5(data, True))"
   ]
  }
 ],
 "metadata": {
  "interpreter": {
   "hash": "3067ead486e059ec00ffe7555bdb889e6e264a24dc711bf108106cc7baee8d5d"
  },
  "kernelspec": {
   "display_name": "Python 3.8.3 64-bit ('base': conda)",
   "name": "python3"
  },
  "language_info": {
   "codemirror_mode": {
    "name": "ipython",
    "version": 3
   },
   "file_extension": ".py",
   "mimetype": "text/x-python",
   "name": "python",
   "nbconvert_exporter": "python",
   "pygments_lexer": "ipython3",
   "version": "3.9.7"
  },
  "orig_nbformat": 4
 },
 "nbformat": 4,
 "nbformat_minor": 2
}
