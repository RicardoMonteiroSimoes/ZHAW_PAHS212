{
 "metadata": {
  "language_info": {
   "codemirror_mode": {
    "name": "ipython",
    "version": 3
   },
   "file_extension": ".py",
   "mimetype": "text/x-python",
   "name": "python",
   "nbconvert_exporter": "python",
   "pygments_lexer": "ipython3",
   "version": "3.8.8"
  },
  "orig_nbformat": 4,
  "kernelspec": {
   "name": "python3",
   "display_name": "Python 3.8.8 64-bit ('ki2_fs2020_env.yml': conda)"
  },
  "interpreter": {
   "hash": "fbe8c90503760908f9de92367f684dde77237d34c0b1123f8788edf57a3fb860"
  }
 },
 "nbformat": 4,
 "nbformat_minor": 2,
 "cells": [
  {
   "cell_type": "markdown",
   "source": [
    "This document is only to test if you have installed everything correctly to work with pennylane"
   ],
   "metadata": {}
  },
  {
   "cell_type": "markdown",
   "source": [
    "# Pennylane Qiskit tutorial:"
   ],
   "metadata": {}
  },
  {
   "cell_type": "code",
   "execution_count": 1,
   "source": [
    "%%capture\n",
    "\n",
    "# install\n",
    "!pip3 install pennylane\n",
    "!pip3 install pennylane-qiskit"
   ],
   "outputs": [],
   "metadata": {}
  },
  {
   "cell_type": "code",
   "execution_count": null,
   "source": [
    "# imports\n",
    "# if it fails here, you might not have installed all the required packages\n",
    "import pennylane as qml"
   ],
   "outputs": [],
   "metadata": {}
  },
  {
   "cell_type": "markdown",
   "source": [
    "Let's now build the simulator using qiskit 'qiskit.aer'"
   ],
   "metadata": {}
  },
  {
   "cell_type": "code",
   "execution_count": 78,
   "source": [
    "\n",
    "dev = qml.device('qiskit.aer', wires=2, shots=3000)\n"
   ],
   "outputs": [],
   "metadata": {}
  },
  {
   "cell_type": "markdown",
   "source": [
    "Let's construct a circuit containing 2 qubits and put them in a super position compile the circuit and run it. The result of this circuit should be a probability of ~1/4 for each of the following states: _{00,01,10,11}_"
   ],
   "metadata": {}
  },
  {
   "cell_type": "code",
   "execution_count": 81,
   "source": [
    "@qml.qnode(dev)\n",
    "def circuit():\n",
    "    qml.Hadamard(wires=0)\n",
    "    qml.Hadamard(wires=1)\n",
    "    return qml.probs(wires=[0, 1])\n",
    "\n",
    "# run circuit\n",
    "print(\"probabilities:\", circuit())\n",
    "\n",
    "# plot\n",
    "print(circuit.draw())\n"
   ],
   "outputs": [
    {
     "output_type": "stream",
     "name": "stdout",
     "text": [
      "probabilities: [0.24166667 0.25433333 0.24633333 0.25766667]\n",
      " 0: ──H──╭┤ Probs \n",
      " 1: ──H──╰┤ Probs \n",
      "\n"
     ]
    }
   ],
   "metadata": {}
  }
 ]
}