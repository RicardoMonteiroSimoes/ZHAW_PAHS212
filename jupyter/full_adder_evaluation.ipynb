{
 "cells": [
  {
   "cell_type": "code",
   "execution_count": 54,
   "source": [
    "import sys\n",
    "stdout = sys.stdout\n",
    "import matplotlib\n",
    "import matplotlib.pyplot as plt\n",
    "%matplotlib inline\n",
    "import numpy as np\n",
    "from qiskit import *\n",
    "from qiskit.circuit import Parameter\n",
    "from qiskit.visualization import plot_histogram\n",
    "from qiskit.providers.aer import QasmSimulator\n",
    "import qiskit.quantum_info as qi\n",
    "from qiskit.visualization import plot_bloch_vector\n",
    "\n",
    "import warnings\n",
    "warnings.simplefilter('ignore')"
   ],
   "outputs": [],
   "metadata": {}
  },
  {
   "cell_type": "markdown",
   "source": [
    "$$\n",
    "\\newcommand{\\ket}[1]{\\left|{#1}\\right\\rangle}\n",
    "\\newcommand{\\bra}[1]{\\left\\langle{#1}\\right|}\n",
    "\\newcommand{\\braket}[2]{\\left\\langle{#1}\\middle|{#2}\\right\\rangle}\n",
    "\\newcommand{\\ketbra}[2]{\\left|{#1}\\middle\\rangle\\langle{#2}\\right|}\n",
    "$$"
   ],
   "metadata": {}
  },
  {
   "cell_type": "code",
   "execution_count": 55,
   "source": [
    "#fix output\n",
    "sys.stdout = stdout"
   ],
   "outputs": [],
   "metadata": {}
  },
  {
   "cell_type": "markdown",
   "source": [],
   "metadata": {}
  },
  {
   "cell_type": "code",
   "execution_count": 56,
   "source": [
    "def assert_correct_counts(counts, expected_value):\n",
    "    keys = counts.keys()\n",
    "    if len(keys) == 1 and expected_value == list(keys)[0]:\n",
    "        print('✅ Correct prediction 🎉')\n",
    "        return True\n",
    "    else:\n",
    "        print('❌ False assertion, maybe there are also more than 1 results! 😥')\n",
    "        return False\n",
    "\n",
    "def compile_circuit_and_check(circuit, expected_value, shots=3000):\n",
    "    simulator = QasmSimulator()\n",
    "    compiled_circuit = transpile(circuit, simulator)\n",
    "    job = simulator.run(compiled_circuit, shots=shots)\n",
    "    result = job.result()\n",
    "    counts = result.get_counts(circuit)\n",
    "    result = assert_correct_counts(counts, expected_value)\n",
    "    return counts, result, list(counts.keys())[0]\n",
    "\n",
    "def check_if_matrix_is_unitary(qubits, matrix):\n",
    "    circuit = QuantumCircuit(qubits,qubits)\n",
    "    try:\n",
    "        circuit.unitary(addition, range(qubits), label=\"unitary check\")\n",
    "        print('✅ We got an unitary matrix! 🎉')\n",
    "    except:\n",
    "        print('❌ Input matrix is not unitary. 😥')\n",
    "    "
   ],
   "outputs": [],
   "metadata": {}
  },
  {
   "cell_type": "markdown",
   "source": [
    "# Full-Adder\n",
    "\n",
    "The goal is to construct a quantum circuit that resembles a neuron as seen in current machine learning.\n",
    "\n",
    "<center>\n",
    "<img src =\"https://miro.medium.com/max/875/1*T4ARzySpEQvEnr_9pc78pg.jpeg\" />\n",
    "\n",
    "<em>Image 1: <a href=\"https://towardsdatascience.com/deep-learning-versus-biological-neurons-floating-point-numbers-spikes-and-neurotransmitters-6eebfa3390e9\">Deep Learning Neuron</a></em>\n",
    "</center>\n",
    "\n",
    "The neuron consists of 2 components. One is the multiplication of input $x_i$ with weight $w_i$ as well as the summation of all resulting values. To tackle this problem, we will first start with the simpler of the two: _addition_"
   ],
   "metadata": {}
  },
  {
   "cell_type": "markdown",
   "source": [
    "## Addition in a quantum circuit\n",
    "\n",
    "Due to the nature of quantum gates, one is not able to simply copy the classical design of a [half-](https://en.wikipedia.org/wiki/Adder_(electronics)#Half_adder) or even [fulladder](https://en.wikipedia.org/wiki/Adder_(electronics)#Full_adder) over to a general quantum computer. This forces us to come up with a new solution that, from the outside, follows the same rules."
   ],
   "metadata": {}
  },
  {
   "cell_type": "markdown",
   "source": [
    "### Qubit representation\n",
    "\n",
    "In quantum circuits, qubits are usually represented as _vectors_, and the qubit states $\\ket{0}$ and $\\ket{1}$ are represented as $\\begin{pmatrix} 1 \\\\ 0 \\end{pmatrix}$ and $\\begin{pmatrix} 0 \\\\ 1 \\end{pmatrix}$, respectively. This allows us to test our supposed solutions mathematically before applying them as a circuit.\n",
    "\n",
    "When the amount of qubits is $n > 1$, we can represent them using a $2^n$ vector which we call _state-vector_. The _state-vector_ shows the current state of _all_ qubits.\n",
    "\n",
    "$$\n",
    "S =\\ \\begin{pmatrix} 0 \\\\ 1 \\\\ 0 \\\\ 0\\end{pmatrix} =\\ \\ket{01}\n",
    "$$\n",
    "$$\n",
    "S =\\ \\begin{pmatrix} 0 \\\\ 0 \\\\ 0 \\\\ 1\\end{pmatrix} =\\ \\ket{11}\n",
    "$$\n",
    "<center>\n",
    "<em>Example of 2 different state-vectors and their ket representation</em>\n",
    "</center>\n",
    "\n",
    "### Gates\n",
    "\n",
    "Gates in quantum circuits can always be represented as an unitary, reversible matrix. This imposes multiple rules upon us. The matrix $M$ needs to be unitary, which means;\n",
    "\n",
    "$$\n",
    "M*M^\\dagger =\\ M*\\overline{M^T} =\\ I\n",
    "$$\n",
    "\n",
    "This means that our matrix $M$ multiplied with its _conjugate transpose_ $M^\\dagger$ results in the identity matrix $I$ of the same size.\n",
    "The next part is the reversibility of the matrix. In this context, reversibility means we can deduct the input state(s) of the gate from the output state(s). This is also called \"bijection\" or \"one-to-one correspondence\".\n",
    "\n",
    "<center>\n",
    "<img src=\"https://upload.wikimedia.org/wikipedia/commons/a/a5/Bijection.svg\" />\n",
    "\n",
    "<em>Image 2: <a href=\"https://en.wikipedia.org/wiki/Bijection\">Graphical representation of bijection</a></em>\n",
    "</center>\n",
    "\n",
    "Using our _state-vector_, we can now also represent the resulting states with a _state-vector_. Lets assume the following:\n",
    "\n",
    "<center>\n",
    "<em>For $n$ qubits, we want to add both together and represent the result in the same qubits</em>\n",
    "</center>\n",
    "\n",
    "$$\n",
    "U_{add} *\\ \\begin{pmatrix} 1 \\\\ 0 \\\\ 0 \\\\ 0\\end{pmatrix} = \\begin{pmatrix} 1 \\\\ 0 \\\\ 0 \\\\ 0\\end{pmatrix} \\\\\n",
    "$$\n",
    "$$\n",
    "U_{add} *\\ \\begin{pmatrix} 0 \\\\ 1 \\\\ 0 \\\\ 0\\end{pmatrix} = \\begin{pmatrix} 0 \\\\ 1 \\\\ 0 \\\\ 0\\end{pmatrix} \\\\\n",
    "$$\n",
    "$$\n",
    "U_{add} *\\ \\begin{pmatrix} 0 \\\\ 0 \\\\ 1 \\\\ 0\\end{pmatrix} = \\begin{pmatrix} 0 \\\\ 0 \\\\ 1 \\\\ 0\\end{pmatrix} \\\\\n",
    "$$\n",
    "$$\n",
    "U_{add} *\\ \\begin{pmatrix} 0 \\\\ 0 \\\\ 0 \\\\ 1\\end{pmatrix} = \\begin{pmatrix} 1 \\\\ 0 \\\\ 0 \\\\ 0\\end{pmatrix} \\\\\n",
    "$$\n",
    "\n",
    "The attentive eye might've already stumbled upon a problem. We have two different _input-states_ that map to the same _output-state_. This means we are breaking the _bijection_ rule. Never the less, we can still try and see if we come up with a working matrix. For this we multiply the equations with the corresponding transposed _state-vector_ $S_i^T$\n",
    "\n",
    "$$\n",
    "O_0 * S_0^T = U_{0} = \\begin{pmatrix} 1 & 0 & 0 & 0\\\\ 0 & 0 & 0 & 0 \\\\ 0 & 0 & 0 & 0 \\\\ 0 & 0 & 0 & 0\\end{pmatrix} \\\\\n",
    "$$\n",
    "$$\n",
    "O_1 * S_1^T = U_{1} = \\begin{pmatrix} 0 & 0 & 0 & 0\\\\ 0 & 1 & 0 & 0 \\\\ 0 & 0 & 0 & 0 \\\\ 0 & 0 & 0 & 0\\end{pmatrix} \\\\\n",
    "$$\n",
    "$$\n",
    "O_2 * S_2^T = U_{2} = \\begin{pmatrix} 0 & 0 & 0 & 0\\\\ 0 & 0 & 0 & 0 \\\\ 0 & 1 & 0 & 0 \\\\ 0 & 0 & 0 & 0\\end{pmatrix} \\\\\n",
    "$$\n",
    "$$\n",
    "O_3 * S_3^T = U_{3} = \\begin{pmatrix} 0 & 0 & 0 & 1\\\\ 0 & 0 & 0 & 0 \\\\ 0 & 0 & 0 & 0 \\\\ 0 & 0 & 0 & 0\\end{pmatrix} \\\\\n",
    "$$\n",
    "\n",
    "The resultinig matrices $O_i$ are then summed up to create $U_{add}$\n",
    "\n",
    "$$\n",
    "U_{add} = \\sum_{i=0}^{n} U_{i} = \\begin{pmatrix} 1 & 0 & 0 & 1\\\\ 0 & 1 & 0 & 0 \\\\ 0 & 0 & 1 & 0 \\\\ 0 & 0 & 0 & 0\\end{pmatrix} \\\\\n",
    "$$\n",
    "\n",
    "_If you can't figure out why our unitary gate is left of the state, check [this chapter out](https://quantum.country/qcvc#multi-gate-quantum-circuit)_\n",
    "\n",
    "We can now verify if $U_{add}$ is unitary or not. As we have no _imaginary_ values in our matrix, we can skip the _conjugation_ part and limit ourselfs to this equation:\n",
    "\n",
    "$$\n",
    "U*U^T = I \\\\\n",
    "$$\n",
    "\n",
    "$$\n",
    "U^T = \\begin{pmatrix} 1 & 0 & 0 & 0\\\\ 0 & 1 & 0 & 0 \\\\ 0 & 0 & 1 & 0 \\\\ 1 & 0 & 0 & 0\\end{pmatrix} \\\\\n",
    "$$\n",
    "\n",
    "$$\n",
    "UU^T = \\begin{pmatrix} 1 & 0 & 0 & 1\\\\ 0 & 1 & 0 & 0 \\\\ 0 & 0 & 1 & 0 \\\\ 0 & 0 & 0 & 0\\end{pmatrix} *\\ \\begin{pmatrix} 1 & 0 & 0 & 0\\\\ 0 & 1 & 0 & 0 \\\\ 0 & 0 & 1 & 0 \\\\ 1 & 0 & 0 & 0\\end{pmatrix} =\\ \\begin{pmatrix} 2 & 0 & 0 & 0\\\\ 0 & 1 & 0 & 0 \\\\ 0 & 0 & 1 & 0 \\\\ 0 & 0 & 0 & 0\\end{pmatrix} \\neq \\begin{pmatrix} 1 & 0 & 0 & 0\\\\ 0 & 1 & 0 & 0 \\\\ 0 & 0 & 1 & 0 \\\\ 0 & 0 & 0 & 1\\end{pmatrix}\n",
    "$$\n",
    "\n",
    "As we can see, the matrix is _not_ unitary. We can also confirm this with qiskit."
   ],
   "metadata": {}
  },
  {
   "cell_type": "code",
   "execution_count": 57,
   "source": [
    "addition = qi.Operator([[1, 0, 0, 1],\n",
    "                        [0, 1, 0, 0],\n",
    "                        [0, 0, 1, 0],\n",
    "                        [0, 0, 0, 0]])\n",
    "\n",
    "check_if_matrix_is_unitary(2, addition)"
   ],
   "outputs": [
    {
     "output_type": "stream",
     "name": "stdout",
     "text": [
      "❌ Input matrix is not unitary. 😥\n"
     ]
    }
   ],
   "metadata": {}
  },
  {
   "cell_type": "markdown",
   "source": [
    "# Creating a reversible gate"
   ],
   "metadata": {}
  },
  {
   "cell_type": "markdown",
   "source": [
    "As previously annoted we have to make sure that our matrix follows the stated requirements. To enforce those, we make sure that the vectors for the _input-state_ and _output-state_ follow them. To evade the loss of information when applying the gate, we have to increase the amount of qubits for the addition of two 1 bit numbers to _3_. This allows us to put the result in the third qubit, whilst the other two qubits retain their state.\n",
    "\n",
    "This implies that our _state-vector_ now grows in size, from $2^2 =\\ 4$ to $2^3 =\\ 8$\n",
    "\n",
    "$$\n",
    "S = \\begin{pmatrix} 0 \\\\ 0 \\\\ 0 \\\\ 1 \\\\ 0 \\\\ 0 \\\\ 0 \\\\ 0\\end{pmatrix}\n",
    "$$\n",
    "\n",
    "With this, we can apply the same calculations as above to retrieve a new $U_{add}$ matrix.\n",
    "\n",
    "$$\n",
    "U_{add} = \\sum_{i=0}^{7} O_{i} *\\ S_{i}^T = \\begin{pmatrix}\n",
    "        1 & 0 & 0 & 0 & 0 & 0 & 0 & 0\\\\\n",
    "        0 & 0 & 0 & 0 & 0 & 1 & 0 & 0\\\\\n",
    "        0 & 0 & 0 & 0 & 0 & 0 & 1 & 0\\\\\n",
    "        0 & 0 & 0 & 1 & 0 & 0 & 0 & 0\\\\\n",
    "        0 & 0 & 0 & 0 & 1 & 0 & 0 & 0\\\\\n",
    "        0 & 1 & 0 & 0 & 0 & 0 & 0 & 0\\\\\n",
    "        0 & 0 & 1 & 0 & 0 & 0 & 0 & 0\\\\\n",
    "        0 & 0 & 0 & 0 & 0 & 0 & 0 &1\n",
    "        \\end{pmatrix}\n",
    "$$\n",
    "\n",
    "\n",
    "As we can see, we have a matrix where each column and row only has a single _1_ in it. This is a good indicator of it upholding the _bijection_ rule. Lets test it out with qiskit"
   ],
   "metadata": {}
  },
  {
   "cell_type": "code",
   "execution_count": 58,
   "source": [
    "addition = qi.Operator([[1, 0, 0, 0, 0, 0, 0, 0],\n",
    "                        [0, 0, 0, 0, 0, 1, 0, 0],\n",
    "                        [0, 0, 0, 0, 0, 0, 1, 0],\n",
    "                        [0, 0, 0, 1, 0, 0, 0, 0],\n",
    "                        [0, 0, 0, 0, 1, 0, 0, 0],\n",
    "                        [0, 1, 0, 0, 0, 0, 0, 0],\n",
    "                        [0, 0, 1, 0, 0, 0, 0, 0],\n",
    "                        [0, 0, 0, 0, 0, 0, 0, 1]])\n",
    "\n",
    "check_if_matrix_is_unitary(3, addition)"
   ],
   "outputs": [
    {
     "output_type": "stream",
     "name": "stdout",
     "text": [
      "✅ We got an unitary matrix! 🎉\n"
     ]
    }
   ],
   "metadata": {}
  },
  {
   "cell_type": "markdown",
   "source": [
    "Now that we have confirmed that our $U_{add}$ matrix is unitary, we can test it out with qiskit."
   ],
   "metadata": {}
  },
  {
   "cell_type": "code",
   "execution_count": 59,
   "source": [
    "#creates a basic 3 qubit circuit to test the 3 qubit matrix Uadd\n",
    "\n",
    "def generate_circuit(index):\n",
    "    circuit = QuantumCircuit(3,3)\n",
    "    if(state_matrix[index][1] == 1):\n",
    "        circuit.x(0)\n",
    "    if(state_matrix[index][0] == 1):\n",
    "        circuit.x(1)\n",
    "    circuit.barrier()\n",
    "    circuit.unitary(addition, [0, 1, 2], label='addition')\n",
    "    circuit.barrier()\n",
    "    circuit.measure(range(3),range(3)) \n",
    "    return circuit"
   ],
   "outputs": [],
   "metadata": {}
  },
  {
   "cell_type": "markdown",
   "source": [
    "Note that we have 3 qubits because we have to fulfill the requirements for quantum gates. One of these is reversability. As seen in the first paragraph, we have to set the output on an additional qubit to make the circuit reversible!"
   ],
   "metadata": {}
  },
  {
   "cell_type": "code",
   "execution_count": 60,
   "source": [
    "#creates static states to assert the matrix works correctly\n",
    "state_matrix = [[0,0],\n",
    "                [0,1],\n",
    "                [1,0],\n",
    "                [1,1]]\n",
    "\n",
    "#note that the MSB is the \"output\" bit C, and the LSB is the input bit A, the middle bit the input bit B\n",
    "#so we are doing A + B = C\n",
    "#MSB being the leftmost bit\n",
    "expected_states = [ '000',\n",
    "                    '101',\n",
    "                    '110',\n",
    "                    '011']\n",
    "\n",
    "for index, expected_state in enumerate(expected_states):\n",
    "    print(\"Testing for initial state \" + str(state_matrix[index]) + \" and expected measurment state \" + expected_state)\n",
    "    circuit = generate_circuit(index)\n",
    "    display(circuit.draw())\n",
    "    counts, _, _ = compile_circuit_and_check(circuit, expected_states[index])\n",
    "    display(plot_histogram(counts))"
   ],
   "outputs": [
    {
     "output_type": "stream",
     "name": "stdout",
     "text": [
      "Testing for initial state [0, 0] and expected measurment state 000\n"
     ]
    },
    {
     "output_type": "display_data",
     "data": {
      "text/html": [
       "<pre style=\"word-wrap: normal;white-space: pre;background: #fff0;line-height: 1.1;font-family: &quot;Courier New&quot;,Courier,monospace\">      ░ ┌───────────┐ ░ ┌─┐      \n",
       "q_0: ─░─┤0          ├─░─┤M├──────\n",
       "      ░ │           │ ░ └╥┘┌─┐   \n",
       "q_1: ─░─┤1 addition ├─░──╫─┤M├───\n",
       "      ░ │           │ ░  ║ └╥┘┌─┐\n",
       "q_2: ─░─┤2          ├─░──╫──╫─┤M├\n",
       "      ░ └───────────┘ ░  ║  ║ └╥┘\n",
       "c: 3/════════════════════╩══╩══╩═\n",
       "                         0  1  2 </pre>"
      ],
      "text/plain": [
       "      ░ ┌───────────┐ ░ ┌─┐      \n",
       "q_0: ─░─┤0          ├─░─┤M├──────\n",
       "      ░ │           │ ░ └╥┘┌─┐   \n",
       "q_1: ─░─┤1 addition ├─░──╫─┤M├───\n",
       "      ░ │           │ ░  ║ └╥┘┌─┐\n",
       "q_2: ─░─┤2          ├─░──╫──╫─┤M├\n",
       "      ░ └───────────┘ ░  ║  ║ └╥┘\n",
       "c: 3/════════════════════╩══╩══╩═\n",
       "                         0  1  2 "
      ]
     },
     "metadata": {}
    },
    {
     "output_type": "stream",
     "name": "stdout",
     "text": [
      "✅ Correct prediction 🎉\n"
     ]
    },
    {
     "output_type": "display_data",
     "data": {
      "image/png": "[encoded data removed]",
      "text/plain": [
       "<Figure size 504x360 with 1 Axes>"
      ]
     },
     "metadata": {}
    },
    {
     "output_type": "stream",
     "name": "stdout",
     "text": [
      "Testing for initial state [0, 1] and expected measurment state 101\n"
     ]
    },
    {
     "output_type": "display_data",
     "data": {
      "text/html": [
       "<pre style=\"word-wrap: normal;white-space: pre;background: #fff0;line-height: 1.1;font-family: &quot;Courier New&quot;,Courier,monospace\">     ┌───┐ ░ ┌───────────┐ ░ ┌─┐      \n",
       "q_0: ┤ X ├─░─┤0          ├─░─┤M├──────\n",
       "     └───┘ ░ │           │ ░ └╥┘┌─┐   \n",
       "q_1: ──────░─┤1 addition ├─░──╫─┤M├───\n",
       "           ░ │           │ ░  ║ └╥┘┌─┐\n",
       "q_2: ──────░─┤2          ├─░──╫──╫─┤M├\n",
       "           ░ └───────────┘ ░  ║  ║ └╥┘\n",
       "c: 3/═════════════════════════╩══╩══╩═\n",
       "                              0  1  2 </pre>"
      ],
      "text/plain": [
       "     ┌───┐ ░ ┌───────────┐ ░ ┌─┐      \n",
       "q_0: ┤ X ├─░─┤0          ├─░─┤M├──────\n",
       "     └───┘ ░ │           │ ░ └╥┘┌─┐   \n",
       "q_1: ──────░─┤1 addition ├─░──╫─┤M├───\n",
       "           ░ │           │ ░  ║ └╥┘┌─┐\n",
       "q_2: ──────░─┤2          ├─░──╫──╫─┤M├\n",
       "           ░ └───────────┘ ░  ║  ║ └╥┘\n",
       "c: 3/═════════════════════════╩══╩══╩═\n",
       "                              0  1  2 "
      ]
     },
     "metadata": {}
    },
    {
     "output_type": "stream",
     "name": "stdout",
     "text": [
      "✅ Correct prediction 🎉\n"
     ]
    },
    {
     "output_type": "display_data",
     "data": {
      "image/png": "[encoded data removed]",
      "text/plain": [
       "<Figure size 504x360 with 1 Axes>"
      ]
     },
     "metadata": {}
    },
    {
     "output_type": "stream",
     "name": "stdout",
     "text": [
      "Testing for initial state [1, 0] and expected measurment state 110\n"
     ]
    },
    {
     "output_type": "display_data",
     "data": {
      "text/html": [
       "<pre style=\"word-wrap: normal;white-space: pre;background: #fff0;line-height: 1.1;font-family: &quot;Courier New&quot;,Courier,monospace\">           ░ ┌───────────┐ ░ ┌─┐      \n",
       "q_0: ──────░─┤0          ├─░─┤M├──────\n",
       "     ┌───┐ ░ │           │ ░ └╥┘┌─┐   \n",
       "q_1: ┤ X ├─░─┤1 addition ├─░──╫─┤M├───\n",
       "     └───┘ ░ │           │ ░  ║ └╥┘┌─┐\n",
       "q_2: ──────░─┤2          ├─░──╫──╫─┤M├\n",
       "           ░ └───────────┘ ░  ║  ║ └╥┘\n",
       "c: 3/═════════════════════════╩══╩══╩═\n",
       "                              0  1  2 </pre>"
      ],
      "text/plain": [
       "           ░ ┌───────────┐ ░ ┌─┐      \n",
       "q_0: ──────░─┤0          ├─░─┤M├──────\n",
       "     ┌───┐ ░ │           │ ░ └╥┘┌─┐   \n",
       "q_1: ┤ X ├─░─┤1 addition ├─░──╫─┤M├───\n",
       "     └───┘ ░ │           │ ░  ║ └╥┘┌─┐\n",
       "q_2: ──────░─┤2          ├─░──╫──╫─┤M├\n",
       "           ░ └───────────┘ ░  ║  ║ └╥┘\n",
       "c: 3/═════════════════════════╩══╩══╩═\n",
       "                              0  1  2 "
      ]
     },
     "metadata": {}
    },
    {
     "output_type": "stream",
     "name": "stdout",
     "text": [
      "✅ Correct prediction 🎉\n"
     ]
    },
    {
     "output_type": "display_data",
     "data": {
      "image/png": "[encoded data removed]",
      "text/plain": [
       "<Figure size 504x360 with 1 Axes>"
      ]
     },
     "metadata": {}
    },
    {
     "output_type": "stream",
     "name": "stdout",
     "text": [
      "Testing for initial state [1, 1] and expected measurment state 011\n"
     ]
    },
    {
     "output_type": "display_data",
     "data": {
      "text/html": [
       "<pre style=\"word-wrap: normal;white-space: pre;background: #fff0;line-height: 1.1;font-family: &quot;Courier New&quot;,Courier,monospace\">     ┌───┐ ░ ┌───────────┐ ░ ┌─┐      \n",
       "q_0: ┤ X ├─░─┤0          ├─░─┤M├──────\n",
       "     ├───┤ ░ │           │ ░ └╥┘┌─┐   \n",
       "q_1: ┤ X ├─░─┤1 addition ├─░──╫─┤M├───\n",
       "     └───┘ ░ │           │ ░  ║ └╥┘┌─┐\n",
       "q_2: ──────░─┤2          ├─░──╫──╫─┤M├\n",
       "           ░ └───────────┘ ░  ║  ║ └╥┘\n",
       "c: 3/═════════════════════════╩══╩══╩═\n",
       "                              0  1  2 </pre>"
      ],
      "text/plain": [
       "     ┌───┐ ░ ┌───────────┐ ░ ┌─┐      \n",
       "q_0: ┤ X ├─░─┤0          ├─░─┤M├──────\n",
       "     ├───┤ ░ │           │ ░ └╥┘┌─┐   \n",
       "q_1: ┤ X ├─░─┤1 addition ├─░──╫─┤M├───\n",
       "     └───┘ ░ │           │ ░  ║ └╥┘┌─┐\n",
       "q_2: ──────░─┤2          ├─░──╫──╫─┤M├\n",
       "           ░ └───────────┘ ░  ║  ║ └╥┘\n",
       "c: 3/═════════════════════════╩══╩══╩═\n",
       "                              0  1  2 "
      ]
     },
     "metadata": {}
    },
    {
     "output_type": "stream",
     "name": "stdout",
     "text": [
      "✅ Correct prediction 🎉\n"
     ]
    },
    {
     "output_type": "display_data",
     "data": {
      "image/png": "[encoded data removed]",
      "text/plain": [
       "<Figure size 504x360 with 1 Axes>"
      ]
     },
     "metadata": {}
    }
   ],
   "metadata": {}
  },
  {
   "cell_type": "markdown",
   "source": [
    "As we can see, our selfmade addition matrix $U_{add}$ works correctly, as proven trough the simulator.\n",
    "\n",
    "### Carry over\n",
    "\n",
    "A classical Full adder always has a _Carry over_ bit. This bit is to signal the overflow to the next adder:\n",
    "\n",
    "<center>\n",
    "<img src=\"https://upload.wikimedia.org/wikipedia/commons/4/48/1-bit_full-adder.svg\" />\n",
    "\n",
    "<em>Image 3: <a href=\"https://en.wikipedia.org/wiki/Adder_(electronics)#Full_adder\">Full adder</a></em>\n",
    "</center>\n",
    "\n",
    "The _Carry over_ bit (from now on referenced as $C_{out}$) is critical to building a circuit that can add more than 1 bit wide numbers. Due to this we have to create another matrix that can fulfill the required needs. As is observable in _Image 3_, we also need an input bit that servers as $C_{in}$, to receive the signal from the previous full adder.\n",
    "\n",
    "$$\n",
    "q_0 =\\ B\\\\\n",
    "q_1 =\\ A\\\\\n",
    "q_3 =\\ C_{in} \\text{or}\\ O\\\\ \n",
    "q_4 =\\ C_{out}\n",
    "$$\n",
    "\n",
    "<center>\n",
    "\n",
    "| Out/Carry In | A | B | Carry Out | Result |\n",
    "|:------------:|:-:|:-:|:---------:|--------|\n",
    "|       0      | 0 | 0 |     0     |   000  |\n",
    "|       0      | 0 | 1 |     0     |   101  |\n",
    "|       0      | 1 | 0 |     0     |   110  |\n",
    "|       0      | 1 | 1 |     1     |   011  |\n",
    "|       1      | 0 | 0 |     0     |   100  |\n",
    "|       1      | 0 | 1 |     1     |   001  |\n",
    "|       1      | 1 | 0 |     1     |   010  |\n",
    "|       1      | 1 | 1 |     1     |   111  |\n",
    "\n",
    "</center>\n",
    "\n",
    "Again, we use the formula from above with $n = 2^4$ to create the matrix\n",
    "\n",
    "$$\n",
    "U_{add} = \\Sigma_{i=0}^{16} O_{i} *\\ S_{i}^T = \\begin{pmatrix}\n",
    "     1  &  0  &  0  &  0  &  0  &  0  &  0  &  0  &  1  &  0  &  0  &  0  &  0  &  0  &  0  &  0 \\\\\n",
    "     0  &  0  &  0  &  0  &  0  &  1  &  0  &  0  &  0  &  0  &  0  &  0  &  0  &  0  &  0  &  0 \\\\\n",
    "     0  &  0  &  0  &  0  &  0  &  0  &  1  &  0  &  0  &  0  &  0  &  0  &  0  &  0  &  0  &  0 \\\\\n",
    "     0  &  0  &  0  &  1  &  0  &  0  &  0  &  0  &  0  &  0  &  0  &  0  &  0  &  0  &  0  &  0 \\\\\n",
    "     0  &  0  &  0  &  0  &  1  &  0  &  0  &  0  &  0  &  0  &  0  &  0  &  1  &  0  &  0  &  0 \\\\\n",
    "     0  &  1  &  0  &  0  &  0  &  0  &  0  &  0  &  0  &  1  &  0  &  0  &  0  &  0  &  0  &  0 \\\\\n",
    "     0  &  0  &  1  &  0  &  0  &  0  &  0  &  0  &  0  &  0  &  1  &  0  &  0  &  0  &  0  &  0 \\\\\n",
    "     0  &  0  &  0  &  0  &  0  &  0  &  0  &  1  &  0  &  0  &  0  &  0  &  0  &  0  &  0  &  0 \\\\\n",
    "     0  &  0  &  0  &  0  &  0  &  0  &  0  &  0  &  0  &  0  &  0  &  0  &  0  &  0  &  0  &  0 \\\\\n",
    "     0  &  0  &  0  &  0  &  0  &  0  &  0  &  0  &  0  &  0  &  0  &  0  &  0  &  1  &  0  &  0 \\\\\n",
    "     0  &  0  &  0  &  0  &  0  &  0  &  0  &  0  &  0  &  0  &  0  &  0  &  0  &  0  &  1  &  0 \\\\\n",
    "     0  &  0  &  0  &  0  &  0  &  0  &  0  &  0  &  0  &  0  &  0  &  1  &  0  &  0  &  0  &  0 \\\\\n",
    "     0  &  0  &  0  &  0  &  0  &  0  &  0  &  0  &  0  &  0  &  0  &  0  &  0  &  0  &  0  &  0 \\\\\n",
    "     0  &  0  &  0  &  0  &  0  &  0  &  0  &  0  &  0  &  0  &  0  &  0  &  0  &  0  &  0  &  0 \\\\\n",
    "     0  &  0  &  0  &  0  &  0  &  0  &  0  &  0  &  0  &  0  &  0  &  0  &  0  &  0  &  0  &  0 \\\\\n",
    "     0  &  0  &  0  &  0  &  0  &  0  &  0  &  0  &  0  &  0  &  0  &  0  &  0  &  0  &  0  &  1 \\\\\n",
    "        \\end{pmatrix}\n",
    "$$\n",
    "\n",
    "It is immediately clear that this matrix cannot be used. The most obvious reason is because the matrix does not offer complete bijection, that is, each input is mapped exactly to one output. What we have here is a _non-injective, non-surjective_ input to output mapping.\n",
    "\n",
    "This forces us to search for other ways of handling carry over. _What if we tried using already existing gates for it?_\n",
    "When we extract the only situations that lead to the $C_{out}$ being one, we can observe that only the existance of _atleast_ two ones can lead to $C_{out} =\\ 1$.\n",
    "\n",
    "<center>\n",
    "\n",
    "| Out/Carry In | A | B | Carry Out | Result |\n",
    "|:------------:|:-:|:-:|:---------:|--------|\n",
    "|       0      | 1 | 1 |     1     |   011  |\n",
    "|       1      | 0 | 1 |     1     |   001  |\n",
    "|       1      | 1 | 0 |     1     |   010  |\n",
    "|       1      | 1 | 1 |     1     |   111  |\n",
    "\n",
    "</center>\n",
    "\n",
    "The _Toffoli_ gate, often also refered to as _CCNOT_ gate, is a 2 qubit controlled gate that applies a flip (_X_ gate) to the third qubit. Three of the four states can be covered using the _CCNOT_ gate. As the fourth state of $S_4 =\\ \\{A = 1 \\wedge\\ B = 1 \\wedge\\ C = 1\\}$ is covered by the state $S_1 =\\ \\{A = 1 \\wedge\\ B = 1\\}$, we will omit it for now."
   ],
   "metadata": {}
  },
  {
   "cell_type": "code",
   "execution_count": 61,
   "source": [
    "#4 qubits as defined on the table\n",
    "sub_circuit = QuantumRegister(4)\n",
    "carry_out = QuantumCircuit(sub_circuit, name=\"carry over\")\n",
    "carry_out.ccx(0,1,3)\n",
    "carry_out.ccx(1,2,3)\n",
    "carry_out.ccx(0,2,3)\n",
    "carry_out.draw()"
   ],
   "outputs": [
    {
     "output_type": "execute_result",
     "data": {
      "text/html": [
       "<pre style=\"word-wrap: normal;white-space: pre;background: #fff0;line-height: 1.1;font-family: &quot;Courier New&quot;,Courier,monospace\">                        \n",
       "q3253_0: ──■─────────■──\n",
       "           │         │  \n",
       "q3253_1: ──■────■────┼──\n",
       "           │    │    │  \n",
       "q3253_2: ──┼────■────■──\n",
       "         ┌─┴─┐┌─┴─┐┌─┴─┐\n",
       "q3253_3: ┤ X ├┤ X ├┤ X ├\n",
       "         └───┘└───┘└───┘</pre>"
      ],
      "text/plain": [
       "                        \n",
       "q3253_0: ──■─────────■──\n",
       "           │         │  \n",
       "q3253_1: ──■────■────┼──\n",
       "           │    │    │  \n",
       "q3253_2: ──┼────■────■──\n",
       "         ┌─┴─┐┌─┴─┐┌─┴─┐\n",
       "q3253_3: ┤ X ├┤ X ├┤ X ├\n",
       "         └───┘└───┘└───┘"
      ]
     },
     "metadata": {},
     "execution_count": 61
    }
   ],
   "metadata": {}
  },
  {
   "cell_type": "code",
   "execution_count": 62,
   "source": [
    "#function to generate testable circuits with the carry_over circuit\n",
    "def generate_circuit(index):\n",
    "    circuit = QuantumCircuit(4,4)\n",
    "    if(state_matrix[index][2] == 1):\n",
    "        circuit.x(0)\n",
    "    if(state_matrix[index][1] == 1):\n",
    "        circuit.x(1)\n",
    "    if(state_matrix[index][0] == 1):\n",
    "        circuit.x(2)\n",
    "    circuit.barrier()\n",
    "    circuit.append(carry_out, [0,1,2,3])\n",
    "    circuit.unitary(addition, [0, 1, 2], label='addition')\n",
    "    circuit.barrier()\n",
    "    circuit.measure(range(4),range(4)) \n",
    "    return circuit"
   ],
   "outputs": [],
   "metadata": {}
  },
  {
   "cell_type": "code",
   "execution_count": 63,
   "source": [
    "#we can only set the inital 3 qubits A and B (inputs) and C (carry in)\n",
    "state_matrix = [[0,1,1],\n",
    "                [1,0,1],\n",
    "                [1,1,0],\n",
    "                [1,1,1]]\n",
    "\n",
    "#We have to check all 4 output bits to see if it holds up!\n",
    "expected_states = [ '1011',\n",
    "                    '1001',\n",
    "                    '1010',\n",
    "                    '1111']\n",
    "\n",
    "for index, expected_state in enumerate(expected_states):\n",
    "    print(\"--------------------------------\")\n",
    "    print(\"Testing for initial state \" + str(state_matrix[index]) + \" and expected measurment state \" + expected_state)\n",
    "    circuit = generate_circuit(index)\n",
    "    display(circuit.draw())\n",
    "    counts, _, _ = compile_circuit_and_check(circuit, expected_states[index])\n",
    "    display(plot_histogram(counts))"
   ],
   "outputs": [
    {
     "output_type": "stream",
     "name": "stdout",
     "text": [
      "--------------------------------\n",
      "Testing for initial state [0, 1, 1] and expected measurment state 1011\n"
     ]
    },
    {
     "output_type": "display_data",
     "data": {
      "text/html": [
       "<pre style=\"word-wrap: normal;white-space: pre;background: #fff0;line-height: 1.1;font-family: &quot;Courier New&quot;,Courier,monospace\">     ┌───┐ ░ ┌─────────────┐┌───────────┐ ░ ┌─┐         \n",
       "q_0: ┤ X ├─░─┤0            ├┤0          ├─░─┤M├─────────\n",
       "     ├───┤ ░ │             ││           │ ░ └╥┘┌─┐      \n",
       "q_1: ┤ X ├─░─┤1            ├┤1 addition ├─░──╫─┤M├──────\n",
       "     └───┘ ░ │  carry over ││           │ ░  ║ └╥┘┌─┐   \n",
       "q_2: ──────░─┤2            ├┤2          ├─░──╫──╫─┤M├───\n",
       "           ░ │             │└───────────┘ ░  ║  ║ └╥┘┌─┐\n",
       "q_3: ──────░─┤3            ├──────────────░──╫──╫──╫─┤M├\n",
       "           ░ └─────────────┘              ░  ║  ║  ║ └╥┘\n",
       "c: 4/════════════════════════════════════════╩══╩══╩══╩═\n",
       "                                             0  1  2  3 </pre>"
      ],
      "text/plain": [
       "     ┌───┐ ░ ┌─────────────┐┌───────────┐ ░ ┌─┐         \n",
       "q_0: ┤ X ├─░─┤0            ├┤0          ├─░─┤M├─────────\n",
       "     ├───┤ ░ │             ││           │ ░ └╥┘┌─┐      \n",
       "q_1: ┤ X ├─░─┤1            ├┤1 addition ├─░──╫─┤M├──────\n",
       "     └───┘ ░ │  carry over ││           │ ░  ║ └╥┘┌─┐   \n",
       "q_2: ──────░─┤2            ├┤2          ├─░──╫──╫─┤M├───\n",
       "           ░ │             │└───────────┘ ░  ║  ║ └╥┘┌─┐\n",
       "q_3: ──────░─┤3            ├──────────────░──╫──╫──╫─┤M├\n",
       "           ░ └─────────────┘              ░  ║  ║  ║ └╥┘\n",
       "c: 4/════════════════════════════════════════╩══╩══╩══╩═\n",
       "                                             0  1  2  3 "
      ]
     },
     "metadata": {}
    },
    {
     "output_type": "stream",
     "name": "stdout",
     "text": [
      "✅ Correct prediction 🎉\n"
     ]
    },
    {
     "output_type": "display_data",
     "data": {
      "image/png": "[encoded data removed]",
      "text/plain": [
       "<Figure size 504x360 with 1 Axes>"
      ]
     },
     "metadata": {}
    },
    {
     "output_type": "stream",
     "name": "stdout",
     "text": [
      "--------------------------------\n",
      "Testing for initial state [1, 0, 1] and expected measurment state 1001\n"
     ]
    },
    {
     "output_type": "display_data",
     "data": {
      "text/html": [
       "<pre style=\"word-wrap: normal;white-space: pre;background: #fff0;line-height: 1.1;font-family: &quot;Courier New&quot;,Courier,monospace\">     ┌───┐ ░ ┌─────────────┐┌───────────┐ ░ ┌─┐         \n",
       "q_0: ┤ X ├─░─┤0            ├┤0          ├─░─┤M├─────────\n",
       "     └───┘ ░ │             ││           │ ░ └╥┘┌─┐      \n",
       "q_1: ──────░─┤1            ├┤1 addition ├─░──╫─┤M├──────\n",
       "     ┌───┐ ░ │  carry over ││           │ ░  ║ └╥┘┌─┐   \n",
       "q_2: ┤ X ├─░─┤2            ├┤2          ├─░──╫──╫─┤M├───\n",
       "     └───┘ ░ │             │└───────────┘ ░  ║  ║ └╥┘┌─┐\n",
       "q_3: ──────░─┤3            ├──────────────░──╫──╫──╫─┤M├\n",
       "           ░ └─────────────┘              ░  ║  ║  ║ └╥┘\n",
       "c: 4/════════════════════════════════════════╩══╩══╩══╩═\n",
       "                                             0  1  2  3 </pre>"
      ],
      "text/plain": [
       "     ┌───┐ ░ ┌─────────────┐┌───────────┐ ░ ┌─┐         \n",
       "q_0: ┤ X ├─░─┤0            ├┤0          ├─░─┤M├─────────\n",
       "     └───┘ ░ │             ││           │ ░ └╥┘┌─┐      \n",
       "q_1: ──────░─┤1            ├┤1 addition ├─░──╫─┤M├──────\n",
       "     ┌───┐ ░ │  carry over ││           │ ░  ║ └╥┘┌─┐   \n",
       "q_2: ┤ X ├─░─┤2            ├┤2          ├─░──╫──╫─┤M├───\n",
       "     └───┘ ░ │             │└───────────┘ ░  ║  ║ └╥┘┌─┐\n",
       "q_3: ──────░─┤3            ├──────────────░──╫──╫──╫─┤M├\n",
       "           ░ └─────────────┘              ░  ║  ║  ║ └╥┘\n",
       "c: 4/════════════════════════════════════════╩══╩══╩══╩═\n",
       "                                             0  1  2  3 "
      ]
     },
     "metadata": {}
    },
    {
     "output_type": "stream",
     "name": "stdout",
     "text": [
      "✅ Correct prediction 🎉\n"
     ]
    },
    {
     "output_type": "display_data",
     "data": {
      "image/png": "[encoded data removed]",
      "text/plain": [
       "<Figure size 504x360 with 1 Axes>"
      ]
     },
     "metadata": {}
    },
    {
     "output_type": "stream",
     "name": "stdout",
     "text": [
      "--------------------------------\n",
      "Testing for initial state [1, 1, 0] and expected measurment state 1010\n"
     ]
    },
    {
     "output_type": "display_data",
     "data": {
      "text/html": [
       "<pre style=\"word-wrap: normal;white-space: pre;background: #fff0;line-height: 1.1;font-family: &quot;Courier New&quot;,Courier,monospace\">           ░ ┌─────────────┐┌───────────┐ ░ ┌─┐         \n",
       "q_0: ──────░─┤0            ├┤0          ├─░─┤M├─────────\n",
       "     ┌───┐ ░ │             ││           │ ░ └╥┘┌─┐      \n",
       "q_1: ┤ X ├─░─┤1            ├┤1 addition ├─░──╫─┤M├──────\n",
       "     ├───┤ ░ │  carry over ││           │ ░  ║ └╥┘┌─┐   \n",
       "q_2: ┤ X ├─░─┤2            ├┤2          ├─░──╫──╫─┤M├───\n",
       "     └───┘ ░ │             │└───────────┘ ░  ║  ║ └╥┘┌─┐\n",
       "q_3: ──────░─┤3            ├──────────────░──╫──╫──╫─┤M├\n",
       "           ░ └─────────────┘              ░  ║  ║  ║ └╥┘\n",
       "c: 4/════════════════════════════════════════╩══╩══╩══╩═\n",
       "                                             0  1  2  3 </pre>"
      ],
      "text/plain": [
       "           ░ ┌─────────────┐┌───────────┐ ░ ┌─┐         \n",
       "q_0: ──────░─┤0            ├┤0          ├─░─┤M├─────────\n",
       "     ┌───┐ ░ │             ││           │ ░ └╥┘┌─┐      \n",
       "q_1: ┤ X ├─░─┤1            ├┤1 addition ├─░──╫─┤M├──────\n",
       "     ├───┤ ░ │  carry over ││           │ ░  ║ └╥┘┌─┐   \n",
       "q_2: ┤ X ├─░─┤2            ├┤2          ├─░──╫──╫─┤M├───\n",
       "     └───┘ ░ │             │└───────────┘ ░  ║  ║ └╥┘┌─┐\n",
       "q_3: ──────░─┤3            ├──────────────░──╫──╫──╫─┤M├\n",
       "           ░ └─────────────┘              ░  ║  ║  ║ └╥┘\n",
       "c: 4/════════════════════════════════════════╩══╩══╩══╩═\n",
       "                                             0  1  2  3 "
      ]
     },
     "metadata": {}
    },
    {
     "output_type": "stream",
     "name": "stdout",
     "text": [
      "✅ Correct prediction 🎉\n"
     ]
    },
    {
     "output_type": "display_data",
     "data": {
      "image/png": "[encoded data removed]",
      "text/plain": [
       "<Figure size 504x360 with 1 Axes>"
      ]
     },
     "metadata": {}
    },
    {
     "output_type": "stream",
     "name": "stdout",
     "text": [
      "--------------------------------\n",
      "Testing for initial state [1, 1, 1] and expected measurment state 1111\n"
     ]
    },
    {
     "output_type": "display_data",
     "data": {
      "text/html": [
       "<pre style=\"word-wrap: normal;white-space: pre;background: #fff0;line-height: 1.1;font-family: &quot;Courier New&quot;,Courier,monospace\">     ┌───┐ ░ ┌─────────────┐┌───────────┐ ░ ┌─┐         \n",
       "q_0: ┤ X ├─░─┤0            ├┤0          ├─░─┤M├─────────\n",
       "     ├───┤ ░ │             ││           │ ░ └╥┘┌─┐      \n",
       "q_1: ┤ X ├─░─┤1            ├┤1 addition ├─░──╫─┤M├──────\n",
       "     ├───┤ ░ │  carry over ││           │ ░  ║ └╥┘┌─┐   \n",
       "q_2: ┤ X ├─░─┤2            ├┤2          ├─░──╫──╫─┤M├───\n",
       "     └───┘ ░ │             │└───────────┘ ░  ║  ║ └╥┘┌─┐\n",
       "q_3: ──────░─┤3            ├──────────────░──╫──╫──╫─┤M├\n",
       "           ░ └─────────────┘              ░  ║  ║  ║ └╥┘\n",
       "c: 4/════════════════════════════════════════╩══╩══╩══╩═\n",
       "                                             0  1  2  3 </pre>"
      ],
      "text/plain": [
       "     ┌───┐ ░ ┌─────────────┐┌───────────┐ ░ ┌─┐         \n",
       "q_0: ┤ X ├─░─┤0            ├┤0          ├─░─┤M├─────────\n",
       "     ├───┤ ░ │             ││           │ ░ └╥┘┌─┐      \n",
       "q_1: ┤ X ├─░─┤1            ├┤1 addition ├─░──╫─┤M├──────\n",
       "     ├───┤ ░ │  carry over ││           │ ░  ║ └╥┘┌─┐   \n",
       "q_2: ┤ X ├─░─┤2            ├┤2          ├─░──╫──╫─┤M├───\n",
       "     └───┘ ░ │             │└───────────┘ ░  ║  ║ └╥┘┌─┐\n",
       "q_3: ──────░─┤3            ├──────────────░──╫──╫──╫─┤M├\n",
       "           ░ └─────────────┘              ░  ║  ║  ║ └╥┘\n",
       "c: 4/════════════════════════════════════════╩══╩══╩══╩═\n",
       "                                             0  1  2  3 "
      ]
     },
     "metadata": {}
    },
    {
     "output_type": "stream",
     "name": "stdout",
     "text": [
      "✅ Correct prediction 🎉\n"
     ]
    },
    {
     "output_type": "display_data",
     "data": {
      "image/png": "[encoded data removed]",
      "text/plain": [
       "<Figure size 504x360 with 1 Axes>"
      ]
     },
     "metadata": {}
    }
   ],
   "metadata": {}
  },
  {
   "cell_type": "markdown",
   "source": [
    "Now, lets create a silent check to see if this circuit holds true for _all_ cases that were defined in the table in a silent fashion"
   ],
   "metadata": {}
  },
  {
   "cell_type": "code",
   "execution_count": 64,
   "source": [
    "#silent fashion means no large print outs that cluster your view :)\n",
    "state_matrix = [[0,0,0],\n",
    "                [0,0,1],\n",
    "                [0,1,0],\n",
    "                [0,1,1],\n",
    "                [1,0,0],\n",
    "                [1,0,1],\n",
    "                [1,1,0],\n",
    "                [1,1,1]]\n",
    "\n",
    "expected_states = [ '0000',\n",
    "                    '0101',\n",
    "                    '0110',\n",
    "                    '1011', \n",
    "                    '0100', \n",
    "                    '1001',\n",
    "                    '1010',\n",
    "                    '1111']\n",
    "\n",
    "for index, expected_state in enumerate(expected_states):\n",
    "    print(\"--------------------------------\")\n",
    "    print(\"Testing for initial state \" + str(state_matrix[index]) + \" and expected measurment state \" + expected_state)\n",
    "    circuit = generate_circuit(index)\n",
    "    counts, _, _ = compile_circuit_and_check(circuit, expected_states[index])\n",
    "    "
   ],
   "outputs": [
    {
     "output_type": "stream",
     "name": "stdout",
     "text": [
      "--------------------------------\n",
      "Testing for initial state [0, 0, 0] and expected measurment state 0000\n",
      "✅ Correct prediction 🎉\n",
      "--------------------------------\n",
      "Testing for initial state [0, 0, 1] and expected measurment state 0101\n",
      "✅ Correct prediction 🎉\n",
      "--------------------------------\n",
      "Testing for initial state [0, 1, 0] and expected measurment state 0110\n",
      "✅ Correct prediction 🎉\n",
      "--------------------------------\n",
      "Testing for initial state [0, 1, 1] and expected measurment state 1011\n",
      "✅ Correct prediction 🎉\n",
      "--------------------------------\n",
      "Testing for initial state [1, 0, 0] and expected measurment state 0100\n",
      "✅ Correct prediction 🎉\n",
      "--------------------------------\n",
      "Testing for initial state [1, 0, 1] and expected measurment state 1001\n",
      "✅ Correct prediction 🎉\n",
      "--------------------------------\n",
      "Testing for initial state [1, 1, 0] and expected measurment state 1010\n",
      "✅ Correct prediction 🎉\n",
      "--------------------------------\n",
      "Testing for initial state [1, 1, 1] and expected measurment state 1111\n",
      "✅ Correct prediction 🎉\n"
     ]
    }
   ],
   "metadata": {}
  },
  {
   "cell_type": "markdown",
   "source": [
    "As we can see, we have managed to create a full adder circuit that can add 1 bit wide numbers. Trough code we also asserted the correct functionality of the circuit.\n",
    "\n",
    "# n qubit full adder\n",
    "\n",
    "To create a variable length full adder, we have to know how many qubits we need beforehand. Current hardware is limited by the amount of usable qubits. This leads to caution when designing circuits - it's better to use as little as possible.\n",
    "When we look back at _Image 3_, we can see that a classical _full adder_ has a $C_{in}$ as well as a $C_{out}$. Considering we already have to bring in a third qubit for the basic gate $U_{add}$, we can see how every gate after the first one can reuse $C_{out}$ as $C_{in}$. This is the same in classical circuits:\n",
    "\n",
    "<center>\n",
    "<img src=\"http://www.spec.gmu.edu/~pparis/classes/notes_101/img109.gif\" />\n",
    "\n",
    "<em>Image 4: <a href=\"http://www.spec.gmu.edu/~pparis/classes/notes_101/node112.html\">2-bit adder</a></em>\n",
    "</center>\n",
    "\n",
    "With this knowledge we can deduct a function to calculate the amount of qubits needed to be able to add _n_-bit wide words\n",
    "\n",
    "$$\n",
    "3n =\\ \\text{qubits needed}\n",
    "$$"
   ],
   "metadata": {}
  },
  {
   "cell_type": "markdown",
   "source": [
    "## Parameterized Gates\n",
    "\n",
    "To allow for a variable input for bit words $A$ and $B$ we could either rely on rebuilding the circuit with _X_ gates at the corresponding qubit, or use _parameterizable_ gates. There are a variety of different $R$ (as in rotational) gates around the three axes $X, Y$ and $Z$. \n",
    "We will, for no specific reason apart from previously using the $X$ gate, use the [$RX$ gate](https://qiskit.org/documentation/stubs/qiskit.circuit.library.RXGate.html). Its matrix is as follows, where as $\\theta$ is the parameter\n",
    "\n",
    "$$\n",
    "\\begin{split}RX(\\theta) = exp(-i \\frac{\\theta}{2} X) =\n",
    "    \\begin{pmatrix}\n",
    "        \\cos{\\frac{\\theta}{2}}   & -i\\sin{\\frac{\\theta}{2}} \\\\\n",
    "        -i\\sin{\\frac{\\theta}{2}} & \\cos{\\frac{\\theta}{2}}\n",
    "    \\end{pmatrix}\\end{split}\n",
    "$$\n",
    "\n",
    "As this is a rotation gate, we use $\\pi$ to apply a rotation. As the base state for $X$ is $\\ket{0}$, we have to apply $\\pi$ to it to rotate it to $\\ket{1}$. This can be visualized with qiskit:\n"
   ],
   "metadata": {}
  },
  {
   "cell_type": "code",
   "execution_count": 65,
   "source": [
    "#states |0> and |1>\n",
    "display(plot_bloch_vector([0,0,1], title=\"|0>\"))\n",
    "display(plot_bloch_vector([0,0,-1], title=\"|1>\"))"
   ],
   "outputs": [
    {
     "output_type": "display_data",
     "data": {
      "image/png": "[encoded data removed]",
      "text/plain": [
       "<Figure size 360x360 with 1 Axes>"
      ]
     },
     "metadata": {}
    },
    {
     "output_type": "display_data",
     "data": {
      "image/png": "[encoded data removed]",
      "text/plain": [
       "<Figure size 360x360 with 1 Axes>"
      ]
     },
     "metadata": {}
    }
   ],
   "metadata": {}
  },
  {
   "cell_type": "markdown",
   "source": [
    "Lets now verify this using a circuit"
   ],
   "metadata": {}
  },
  {
   "cell_type": "code",
   "execution_count": 66,
   "source": [
    "atheta = Parameter('aθ')\n",
    "btheta = Parameter('bθ')\n",
    "circuit = QuantumCircuit(2,2)\n",
    "circuit.rx(atheta,0)\n",
    "circuit.rx(btheta,1)\n",
    "circuit.barrier()\n",
    "circuit.measure(range(2), range(2))\n",
    "\n",
    "states = [  [0,0],\n",
    "            [0,1],\n",
    "            [1,0],\n",
    "            [1,1]]\n",
    "\n",
    "expected_values = [ '00',\n",
    "                    '01',\n",
    "                    '10',\n",
    "                    '11']\n",
    "\n",
    "for idx, val in enumerate(states):\n",
    "    print(\"--------------------------------\")\n",
    "    print(\"Testing for initial state \" + str(val) + \" and expected measurment state \" + expected_values[idx])\n",
    "    circuits = [circuit.bind_parameters([val[1]*np.pi, val[0]*np.pi])]\n",
    "    display(circuits[-1].draw())\n",
    "    compile_circuit_and_check(circuits[-1], expected_values[idx])"
   ],
   "outputs": [
    {
     "output_type": "stream",
     "name": "stdout",
     "text": [
      "--------------------------------\n",
      "Testing for initial state [0, 0] and expected measurment state 00\n"
     ]
    },
    {
     "output_type": "display_data",
     "data": {
      "text/html": [
       "<pre style=\"word-wrap: normal;white-space: pre;background: #fff0;line-height: 1.1;font-family: &quot;Courier New&quot;,Courier,monospace\">     ┌─────────┐ ░ ┌─┐   \n",
       "q_0: ┤ Rx(0.0) ├─░─┤M├───\n",
       "     ├─────────┤ ░ └╥┘┌─┐\n",
       "q_1: ┤ Rx(0.0) ├─░──╫─┤M├\n",
       "     └─────────┘ ░  ║ └╥┘\n",
       "c: 2/═══════════════╩══╩═\n",
       "                    0  1 </pre>"
      ],
      "text/plain": [
       "     ┌─────────┐ ░ ┌─┐   \n",
       "q_0: ┤ Rx(0.0) ├─░─┤M├───\n",
       "     ├─────────┤ ░ └╥┘┌─┐\n",
       "q_1: ┤ Rx(0.0) ├─░──╫─┤M├\n",
       "     └─────────┘ ░  ║ └╥┘\n",
       "c: 2/═══════════════╩══╩═\n",
       "                    0  1 "
      ]
     },
     "metadata": {}
    },
    {
     "output_type": "stream",
     "name": "stdout",
     "text": [
      "✅ Correct prediction 🎉\n",
      "--------------------------------\n",
      "Testing for initial state [0, 1] and expected measurment state 01\n"
     ]
    },
    {
     "output_type": "display_data",
     "data": {
      "text/html": [
       "<pre style=\"word-wrap: normal;white-space: pre;background: #fff0;line-height: 1.1;font-family: &quot;Courier New&quot;,Courier,monospace\">      ┌───────┐  ░ ┌─┐   \n",
       "q_0: ─┤ Rx(π) ├──░─┤M├───\n",
       "     ┌┴───────┴┐ ░ └╥┘┌─┐\n",
       "q_1: ┤ Rx(0.0) ├─░──╫─┤M├\n",
       "     └─────────┘ ░  ║ └╥┘\n",
       "c: 2/═══════════════╩══╩═\n",
       "                    0  1 </pre>"
      ],
      "text/plain": [
       "      ┌───────┐  ░ ┌─┐   \n",
       "q_0: ─┤ Rx(π) ├──░─┤M├───\n",
       "     ┌┴───────┴┐ ░ └╥┘┌─┐\n",
       "q_1: ┤ Rx(0.0) ├─░──╫─┤M├\n",
       "     └─────────┘ ░  ║ └╥┘\n",
       "c: 2/═══════════════╩══╩═\n",
       "                    0  1 "
      ]
     },
     "metadata": {}
    },
    {
     "output_type": "stream",
     "name": "stdout",
     "text": [
      "✅ Correct prediction 🎉\n",
      "--------------------------------\n",
      "Testing for initial state [1, 0] and expected measurment state 10\n"
     ]
    },
    {
     "output_type": "display_data",
     "data": {
      "text/html": [
       "<pre style=\"word-wrap: normal;white-space: pre;background: #fff0;line-height: 1.1;font-family: &quot;Courier New&quot;,Courier,monospace\">     ┌─────────┐ ░ ┌─┐   \n",
       "q_0: ┤ Rx(0.0) ├─░─┤M├───\n",
       "     └┬───────┬┘ ░ └╥┘┌─┐\n",
       "q_1: ─┤ Rx(π) ├──░──╫─┤M├\n",
       "      └───────┘  ░  ║ └╥┘\n",
       "c: 2/═══════════════╩══╩═\n",
       "                    0  1 </pre>"
      ],
      "text/plain": [
       "     ┌─────────┐ ░ ┌─┐   \n",
       "q_0: ┤ Rx(0.0) ├─░─┤M├───\n",
       "     └┬───────┬┘ ░ └╥┘┌─┐\n",
       "q_1: ─┤ Rx(π) ├──░──╫─┤M├\n",
       "      └───────┘  ░  ║ └╥┘\n",
       "c: 2/═══════════════╩══╩═\n",
       "                    0  1 "
      ]
     },
     "metadata": {}
    },
    {
     "output_type": "stream",
     "name": "stdout",
     "text": [
      "✅ Correct prediction 🎉\n",
      "--------------------------------\n",
      "Testing for initial state [1, 1] and expected measurment state 11\n"
     ]
    },
    {
     "output_type": "display_data",
     "data": {
      "text/html": [
       "<pre style=\"word-wrap: normal;white-space: pre;background: #fff0;line-height: 1.1;font-family: &quot;Courier New&quot;,Courier,monospace\">     ┌───────┐ ░ ┌─┐   \n",
       "q_0: ┤ Rx(π) ├─░─┤M├───\n",
       "     ├───────┤ ░ └╥┘┌─┐\n",
       "q_1: ┤ Rx(π) ├─░──╫─┤M├\n",
       "     └───────┘ ░  ║ └╥┘\n",
       "c: 2/═════════════╩══╩═\n",
       "                  0  1 </pre>"
      ],
      "text/plain": [
       "     ┌───────┐ ░ ┌─┐   \n",
       "q_0: ┤ Rx(π) ├─░─┤M├───\n",
       "     ├───────┤ ░ └╥┘┌─┐\n",
       "q_1: ┤ Rx(π) ├─░──╫─┤M├\n",
       "     └───────┘ ░  ║ └╥┘\n",
       "c: 2/═════════════╩══╩═\n",
       "                  0  1 "
      ]
     },
     "metadata": {}
    },
    {
     "output_type": "stream",
     "name": "stdout",
     "text": [
      "✅ Correct prediction 🎉\n"
     ]
    }
   ],
   "metadata": {}
  },
  {
   "cell_type": "markdown",
   "source": [
    "With this assertion, we can now start the final step of collecting our knowledge and building a generator for a $n$-bit full adder using quantum gates"
   ],
   "metadata": {}
  },
  {
   "cell_type": "code",
   "execution_count": 67,
   "source": [
    "def create_parameters(nparameters):\n",
    "    if nparameters > 123-97:\n",
    "        raise Exception('The generator is limited to ' + str(123-97-1) + ' bits!')\n",
    "    else:\n",
    "        params = []\n",
    "        for i in range(97, 97+nparameters):\n",
    "            params.append(Parameter(chr(i) + 'θ'))\n",
    "    return params\n",
    "\n",
    "def get_carry_over_circuit():\n",
    "    sub_circuit = QuantumRegister(4)\n",
    "    carry_out = QuantumCircuit(sub_circuit, name=\"carry over\")\n",
    "    carry_out.ccx(0,1,3)\n",
    "    carry_out.ccx(1,2,3)\n",
    "    carry_out.ccx(0,2,3)\n",
    "    return carry_out\n",
    "\n",
    "def get_adder_circuit():\n",
    "    return qi.Operator([[1, 0, 0, 0, 0, 0, 0, 0],\n",
    "                        [0, 0, 0, 0, 0, 1, 0, 0],\n",
    "                        [0, 0, 0, 0, 0, 0, 1, 0],\n",
    "                        [0, 0, 0, 1, 0, 0, 0, 0],\n",
    "                        [0, 0, 0, 0, 1, 0, 0, 0],\n",
    "                        [0, 1, 0, 0, 0, 0, 0, 0],\n",
    "                        [0, 0, 1, 0, 0, 0, 0, 0],\n",
    "                        [0, 0, 0, 0, 0, 0, 0, 1]])\n",
    "\n",
    "\n",
    "def create_full_adder(nbits):\n",
    "    if nbits < 1:\n",
    "        raise Exception('You can\\'t add less than 1 bit together!')\n",
    "    n = 3 * nbits + 1\n",
    "    if n < 4: n = 4\n",
    "    circuit = QuantumCircuit(n,nbits)\n",
    "    parameters = create_parameters(2*nbits)\n",
    "    iterparam = parameters.copy()\n",
    "    circuit.rx(iterparam[0],0)\n",
    "    circuit.rx(iterparam[1],1)\n",
    "    del iterparam[0:2]\n",
    "    iterable_parameters = iter(iterparam)\n",
    "    for i in range(4,n):\n",
    "        if i%3 == 0:\n",
    "            continue\n",
    "        else:\n",
    "            circuit.rx(next(iterable_parameters),i)\n",
    "    circuit.barrier()\n",
    "    #start the circuitry\n",
    "\n",
    "    for i in range(nbits):\n",
    "        if i == 0:\n",
    "            circuit.append(get_carry_over_circuit(), [0, 1, 2, 3])\n",
    "            circuit.unitary(get_adder_circuit(), [0, 1, 2], label='addition')\n",
    "            circuit.measure(2,0)\n",
    "        else:\n",
    "            circuit.append(get_carry_over_circuit(), [i*3+1, i*3+2, i*3, i*3+3])\n",
    "            circuit.unitary(get_adder_circuit(), [i*3+1, i*3+2, i*3], label='addition')\n",
    "            circuit.measure(i*3,i)\n",
    "\n",
    "    return circuit\n",
    "\n",
    "#drawin a max sized adder. max size is limited due to the alphabet not having more letters :)\n",
    "#watch out! using anything over 4 qubits on a local simulator will lead to exponentially large waiting times or even crash your python kernel\n",
    "create_full_adder(4).draw()"
   ],
   "outputs": [
    {
     "output_type": "execute_result",
     "data": {
      "text/html": [
       "<pre style=\"word-wrap: normal;white-space: pre;background: #fff0;line-height: 1.1;font-family: &quot;Courier New&quot;,Courier,monospace\">      ┌────────┐ ░ ┌─────────────┐ ┌───────────┐                      »\n",
       " q_0: ┤ Rx(aθ) ├─░─┤0            ├─┤0          ├──────────────────────»\n",
       "      ├────────┤ ░ │             │ │           │                      »\n",
       " q_1: ┤ Rx(bθ) ├─░─┤1            ├─┤1 addition ├──────────────────────»\n",
       "      └────────┘ ░ │  carry over │ │           │ ┌─┐                  »\n",
       " q_2: ───────────░─┤2            ├─┤2          ├─┤M├──────────────────»\n",
       "                 ░ │             │┌┴───────────┴┐└╥┘ ┌───────────┐ ┌─┐»\n",
       " q_3: ───────────░─┤3            ├┤2            ├─╫──┤2          ├─┤M├»\n",
       "      ┌────────┐ ░ └─────────────┘│             │ ║  │           │ └╥┘»\n",
       " q_4: ┤ Rx(cθ) ├─░────────────────┤0            ├─╫──┤0 addition ├──╫─»\n",
       "      ├────────┤ ░                │  carry over │ ║  │           │  ║ »\n",
       " q_5: ┤ Rx(dθ) ├─░────────────────┤1            ├─╫──┤1          ├──╫─»\n",
       "      └────────┘ ░                │             │ ║ ┌┴───────────┴┐ ║ »\n",
       " q_6: ───────────░────────────────┤3            ├─╫─┤2            ├─╫─»\n",
       "      ┌────────┐ ░                └─────────────┘ ║ │             │ ║ »\n",
       " q_7: ┤ Rx(eθ) ├─░────────────────────────────────╫─┤0            ├─╫─»\n",
       "      ├────────┤ ░                                ║ │  carry over │ ║ »\n",
       " q_8: ┤ Rx(fθ) ├─░────────────────────────────────╫─┤1            ├─╫─»\n",
       "      └────────┘ ░                                ║ │             │ ║ »\n",
       " q_9: ───────────░────────────────────────────────╫─┤3            ├─╫─»\n",
       "      ┌────────┐ ░                                ║ └─────────────┘ ║ »\n",
       "q_10: ┤ Rx(gθ) ├─░────────────────────────────────╫─────────────────╫─»\n",
       "      ├────────┤ ░                                ║                 ║ »\n",
       "q_11: ┤ Rx(hθ) ├─░────────────────────────────────╫─────────────────╫─»\n",
       "      └────────┘ ░                                ║                 ║ »\n",
       "q_12: ───────────░────────────────────────────────╫─────────────────╫─»\n",
       "                 ░                                ║                 ║ »\n",
       " c: 4/════════════════════════════════════════════╩═════════════════╩═»\n",
       "                                                  0                 1 »\n",
       "«                                        \n",
       "« q_0: ──────────────────────────────────\n",
       "«                                        \n",
       "« q_1: ──────────────────────────────────\n",
       "«                                        \n",
       "« q_2: ──────────────────────────────────\n",
       "«                                        \n",
       "« q_3: ──────────────────────────────────\n",
       "«                                        \n",
       "« q_4: ──────────────────────────────────\n",
       "«                                        \n",
       "« q_5: ──────────────────────────────────\n",
       "«       ┌───────────┐ ┌─┐                \n",
       "« q_6: ─┤2          ├─┤M├────────────────\n",
       "«       │           │ └╥┘                \n",
       "« q_7: ─┤0 addition ├──╫─────────────────\n",
       "«       │           │  ║                 \n",
       "« q_8: ─┤1          ├──╫─────────────────\n",
       "«      ┌┴───────────┴┐ ║ ┌───────────┐┌─┐\n",
       "« q_9: ┤2            ├─╫─┤2          ├┤M├\n",
       "«      │             │ ║ │           │└╥┘\n",
       "«q_10: ┤0            ├─╫─┤0 addition ├─╫─\n",
       "«      │  carry over │ ║ │           │ ║ \n",
       "«q_11: ┤1            ├─╫─┤1          ├─╫─\n",
       "«      │             │ ║ └───────────┘ ║ \n",
       "«q_12: ┤3            ├─╫───────────────╫─\n",
       "«      └─────────────┘ ║               ║ \n",
       "« c: 4/════════════════╩═══════════════╩═\n",
       "«                      2               3 </pre>"
      ],
      "text/plain": [
       "      ┌────────┐ ░ ┌─────────────┐ ┌───────────┐                      »\n",
       " q_0: ┤ Rx(aθ) ├─░─┤0            ├─┤0          ├──────────────────────»\n",
       "      ├────────┤ ░ │             │ │           │                      »\n",
       " q_1: ┤ Rx(bθ) ├─░─┤1            ├─┤1 addition ├──────────────────────»\n",
       "      └────────┘ ░ │  carry over │ │           │ ┌─┐                  »\n",
       " q_2: ───────────░─┤2            ├─┤2          ├─┤M├──────────────────»\n",
       "                 ░ │             │┌┴───────────┴┐└╥┘ ┌───────────┐ ┌─┐»\n",
       " q_3: ───────────░─┤3            ├┤2            ├─╫──┤2          ├─┤M├»\n",
       "      ┌────────┐ ░ └─────────────┘│             │ ║  │           │ └╥┘»\n",
       " q_4: ┤ Rx(cθ) ├─░────────────────┤0            ├─╫──┤0 addition ├──╫─»\n",
       "      ├────────┤ ░                │  carry over │ ║  │           │  ║ »\n",
       " q_5: ┤ Rx(dθ) ├─░────────────────┤1            ├─╫──┤1          ├──╫─»\n",
       "      └────────┘ ░                │             │ ║ ┌┴───────────┴┐ ║ »\n",
       " q_6: ───────────░────────────────┤3            ├─╫─┤2            ├─╫─»\n",
       "      ┌────────┐ ░                └─────────────┘ ║ │             │ ║ »\n",
       " q_7: ┤ Rx(eθ) ├─░────────────────────────────────╫─┤0            ├─╫─»\n",
       "      ├────────┤ ░                                ║ │  carry over │ ║ »\n",
       " q_8: ┤ Rx(fθ) ├─░────────────────────────────────╫─┤1            ├─╫─»\n",
       "      └────────┘ ░                                ║ │             │ ║ »\n",
       " q_9: ───────────░────────────────────────────────╫─┤3            ├─╫─»\n",
       "      ┌────────┐ ░                                ║ └─────────────┘ ║ »\n",
       "q_10: ┤ Rx(gθ) ├─░────────────────────────────────╫─────────────────╫─»\n",
       "      ├────────┤ ░                                ║                 ║ »\n",
       "q_11: ┤ Rx(hθ) ├─░────────────────────────────────╫─────────────────╫─»\n",
       "      └────────┘ ░                                ║                 ║ »\n",
       "q_12: ───────────░────────────────────────────────╫─────────────────╫─»\n",
       "                 ░                                ║                 ║ »\n",
       " c: 4/════════════════════════════════════════════╩═════════════════╩═»\n",
       "                                                  0                 1 »\n",
       "«                                        \n",
       "« q_0: ──────────────────────────────────\n",
       "«                                        \n",
       "« q_1: ──────────────────────────────────\n",
       "«                                        \n",
       "« q_2: ──────────────────────────────────\n",
       "«                                        \n",
       "« q_3: ──────────────────────────────────\n",
       "«                                        \n",
       "« q_4: ──────────────────────────────────\n",
       "«                                        \n",
       "« q_5: ──────────────────────────────────\n",
       "«       ┌───────────┐ ┌─┐                \n",
       "« q_6: ─┤2          ├─┤M├────────────────\n",
       "«       │           │ └╥┘                \n",
       "« q_7: ─┤0 addition ├──╫─────────────────\n",
       "«       │           │  ║                 \n",
       "« q_8: ─┤1          ├──╫─────────────────\n",
       "«      ┌┴───────────┴┐ ║ ┌───────────┐┌─┐\n",
       "« q_9: ┤2            ├─╫─┤2          ├┤M├\n",
       "«      │             │ ║ │           │└╥┘\n",
       "«q_10: ┤0            ├─╫─┤0 addition ├─╫─\n",
       "«      │  carry over │ ║ │           │ ║ \n",
       "«q_11: ┤1            ├─╫─┤1          ├─╫─\n",
       "«      │             │ ║ └───────────┘ ║ \n",
       "«q_12: ┤3            ├─╫───────────────╫─\n",
       "«      └─────────────┘ ║               ║ \n",
       "« c: 4/════════════════╩═══════════════╩═\n",
       "«                      2               3 "
      ]
     },
     "metadata": {},
     "execution_count": 67
    }
   ],
   "metadata": {}
  },
  {
   "cell_type": "markdown",
   "source": [
    "Now let's automate testing and make it go trough _every single possible input combination_ for $n$-bit wide words and check its output to assert that it's working as expected."
   ],
   "metadata": {}
  },
  {
   "cell_type": "code",
   "execution_count": 68,
   "source": [
    "# qubits to simulate and test:\n",
    "n = 3\n",
    "\n",
    "\n",
    "def compile_circuit_and_test(circuit, expected_value):\n",
    "    result = False\n",
    "    simulator = QasmSimulator()\n",
    "    compiled_circuit = transpile(circuit, simulator)\n",
    "    job = simulator.run(compiled_circuit, shots=3000)\n",
    "    result = job.result()\n",
    "    counts = result.get_counts(circuit)\n",
    "    keys = counts.keys()\n",
    "    if len(keys) == 1 and expected_value == list(keys)[0]:\n",
    "        result = True\n",
    "    return result, list(keys)[0]\n",
    "\n",
    "def turn_binary_strings_to_parameters(n, A, B):\n",
    "    Aiter = iter(A.replace('0b','')[::-1])\n",
    "    Biter = iter(B.replace('0b','')[::-1])\n",
    "    result = bin(int(A,2)+int(B,2)).replace('0b','')\n",
    "    params = np.zeros(n*2)\n",
    "    for i in range(0,n*2,2):\n",
    "        params[i] = int(next(Aiter, 0))*np.pi\n",
    "        params[i+1] = int(next(Biter, 0))*np.pi\n",
    "    return params, result\n",
    "\n",
    "def format_binary_to_length(n, binary):\n",
    "    while len(binary) > n:\n",
    "        binary = binary[1:]\n",
    "    while len(binary) < n:\n",
    "        binary = '0' + binary\n",
    "    return binary\n",
    "\n",
    "results = []\n",
    "circuit = create_full_adder(n)\n",
    "display(circuit.draw())\n",
    "\n",
    "for i in range(2**n):\n",
    "    A = bin(i).replace('0b','')\n",
    "    for j in range(2**n):\n",
    "        B = bin(j).replace('0b','')\n",
    "        Aiter = iter(A[::-1])\n",
    "        Biter = iter(B[::-1])\n",
    "        A = format_binary_to_length(n, A)\n",
    "        B = format_binary_to_length(n, B)\n",
    "        params, C = turn_binary_strings_to_parameters(n, A, B)\n",
    "        C = format_binary_to_length(n, C)\n",
    "        qc = circuit.bind_parameters(params)\n",
    "        result, Ccalculated = compile_circuit_and_test(qc, C)\n",
    "    \n",
    "        results.append([A,B,C,Ccalculated, '✅' if result else '❌'])\n",
    "\n",
    "\n",
    "from IPython.display import display, Markdown, Latex\n",
    "display(Markdown('|Ain | Bin | Cexpected | Ccalculated | Result |\\n'+'|:---:|:---:|:-----:|:------:|--------|\\n'+''.join(['|'+val[0]+'|'+val[1]+'|'+val[2]+'|'+val[3]+'|'+val[4]+'|\\n' for val in results])))"
   ],
   "outputs": [
    {
     "output_type": "display_data",
     "data": {
      "text/html": [
       "<pre style=\"word-wrap: normal;white-space: pre;background: #fff0;line-height: 1.1;font-family: &quot;Courier New&quot;,Courier,monospace\">     ┌────────┐ ░ ┌─────────────┐ ┌───────────┐                      »\n",
       "q_0: ┤ Rx(aθ) ├─░─┤0            ├─┤0          ├──────────────────────»\n",
       "     ├────────┤ ░ │             │ │           │                      »\n",
       "q_1: ┤ Rx(bθ) ├─░─┤1            ├─┤1 addition ├──────────────────────»\n",
       "     └────────┘ ░ │  carry over │ │           │ ┌─┐                  »\n",
       "q_2: ───────────░─┤2            ├─┤2          ├─┤M├──────────────────»\n",
       "                ░ │             │┌┴───────────┴┐└╥┘ ┌───────────┐ ┌─┐»\n",
       "q_3: ───────────░─┤3            ├┤2            ├─╫──┤2          ├─┤M├»\n",
       "     ┌────────┐ ░ └─────────────┘│             │ ║  │           │ └╥┘»\n",
       "q_4: ┤ Rx(cθ) ├─░────────────────┤0            ├─╫──┤0 addition ├──╫─»\n",
       "     ├────────┤ ░                │  carry over │ ║  │           │  ║ »\n",
       "q_5: ┤ Rx(dθ) ├─░────────────────┤1            ├─╫──┤1          ├──╫─»\n",
       "     └────────┘ ░                │             │ ║ ┌┴───────────┴┐ ║ »\n",
       "q_6: ───────────░────────────────┤3            ├─╫─┤2            ├─╫─»\n",
       "     ┌────────┐ ░                └─────────────┘ ║ │             │ ║ »\n",
       "q_7: ┤ Rx(eθ) ├─░────────────────────────────────╫─┤0            ├─╫─»\n",
       "     ├────────┤ ░                                ║ │  carry over │ ║ »\n",
       "q_8: ┤ Rx(fθ) ├─░────────────────────────────────╫─┤1            ├─╫─»\n",
       "     └────────┘ ░                                ║ │             │ ║ »\n",
       "q_9: ───────────░────────────────────────────────╫─┤3            ├─╫─»\n",
       "                ░                                ║ └─────────────┘ ║ »\n",
       "c: 3/════════════════════════════════════════════╩═════════════════╩═»\n",
       "                                                 0                 1 »\n",
       "«                     \n",
       "«q_0: ────────────────\n",
       "«                     \n",
       "«q_1: ────────────────\n",
       "«                     \n",
       "«q_2: ────────────────\n",
       "«                     \n",
       "«q_3: ────────────────\n",
       "«                     \n",
       "«q_4: ────────────────\n",
       "«                     \n",
       "«q_5: ────────────────\n",
       "«     ┌───────────┐┌─┐\n",
       "«q_6: ┤2          ├┤M├\n",
       "«     │           │└╥┘\n",
       "«q_7: ┤0 addition ├─╫─\n",
       "«     │           │ ║ \n",
       "«q_8: ┤1          ├─╫─\n",
       "«     └───────────┘ ║ \n",
       "«q_9: ──────────────╫─\n",
       "«                   ║ \n",
       "«c: 3/══════════════╩═\n",
       "«                   2 </pre>"
      ],
      "text/plain": [
       "     ┌────────┐ ░ ┌─────────────┐ ┌───────────┐                      »\n",
       "q_0: ┤ Rx(aθ) ├─░─┤0            ├─┤0          ├──────────────────────»\n",
       "     ├────────┤ ░ │             │ │           │                      »\n",
       "q_1: ┤ Rx(bθ) ├─░─┤1            ├─┤1 addition ├──────────────────────»\n",
       "     └────────┘ ░ │  carry over │ │           │ ┌─┐                  »\n",
       "q_2: ───────────░─┤2            ├─┤2          ├─┤M├──────────────────»\n",
       "                ░ │             │┌┴───────────┴┐└╥┘ ┌───────────┐ ┌─┐»\n",
       "q_3: ───────────░─┤3            ├┤2            ├─╫──┤2          ├─┤M├»\n",
       "     ┌────────┐ ░ └─────────────┘│             │ ║  │           │ └╥┘»\n",
       "q_4: ┤ Rx(cθ) ├─░────────────────┤0            ├─╫──┤0 addition ├──╫─»\n",
       "     ├────────┤ ░                │  carry over │ ║  │           │  ║ »\n",
       "q_5: ┤ Rx(dθ) ├─░────────────────┤1            ├─╫──┤1          ├──╫─»\n",
       "     └────────┘ ░                │             │ ║ ┌┴───────────┴┐ ║ »\n",
       "q_6: ───────────░────────────────┤3            ├─╫─┤2            ├─╫─»\n",
       "     ┌────────┐ ░                └─────────────┘ ║ │             │ ║ »\n",
       "q_7: ┤ Rx(eθ) ├─░────────────────────────────────╫─┤0            ├─╫─»\n",
       "     ├────────┤ ░                                ║ │  carry over │ ║ »\n",
       "q_8: ┤ Rx(fθ) ├─░────────────────────────────────╫─┤1            ├─╫─»\n",
       "     └────────┘ ░                                ║ │             │ ║ »\n",
       "q_9: ───────────░────────────────────────────────╫─┤3            ├─╫─»\n",
       "                ░                                ║ └─────────────┘ ║ »\n",
       "c: 3/════════════════════════════════════════════╩═════════════════╩═»\n",
       "                                                 0                 1 »\n",
       "«                     \n",
       "«q_0: ────────────────\n",
       "«                     \n",
       "«q_1: ────────────────\n",
       "«                     \n",
       "«q_2: ────────────────\n",
       "«                     \n",
       "«q_3: ────────────────\n",
       "«                     \n",
       "«q_4: ────────────────\n",
       "«                     \n",
       "«q_5: ────────────────\n",
       "«     ┌───────────┐┌─┐\n",
       "«q_6: ┤2          ├┤M├\n",
       "«     │           │└╥┘\n",
       "«q_7: ┤0 addition ├─╫─\n",
       "«     │           │ ║ \n",
       "«q_8: ┤1          ├─╫─\n",
       "«     └───────────┘ ║ \n",
       "«q_9: ──────────────╫─\n",
       "«                   ║ \n",
       "«c: 3/══════════════╩═\n",
       "«                   2 "
      ]
     },
     "metadata": {}
    },
    {
     "output_type": "display_data",
     "data": {
      "text/markdown": [
       "|Ain | Bin | Cexpected | Ccalculated | Result |\n",
       "|:---:|:---:|:-----:|:------:|--------|\n",
       "|000|000|000|000|✅|\n",
       "|000|001|001|001|✅|\n",
       "|000|010|010|010|✅|\n",
       "|000|011|011|011|✅|\n",
       "|000|100|100|100|✅|\n",
       "|000|101|101|101|✅|\n",
       "|000|110|110|110|✅|\n",
       "|000|111|111|111|✅|\n",
       "|001|000|001|001|✅|\n",
       "|001|001|010|010|✅|\n",
       "|001|010|011|011|✅|\n",
       "|001|011|100|100|✅|\n",
       "|001|100|101|101|✅|\n",
       "|001|101|110|110|✅|\n",
       "|001|110|111|111|✅|\n",
       "|001|111|000|000|✅|\n",
       "|010|000|010|010|✅|\n",
       "|010|001|011|011|✅|\n",
       "|010|010|100|100|✅|\n",
       "|010|011|101|101|✅|\n",
       "|010|100|110|110|✅|\n",
       "|010|101|111|111|✅|\n",
       "|010|110|000|000|✅|\n",
       "|010|111|001|001|✅|\n",
       "|011|000|011|011|✅|\n",
       "|011|001|100|100|✅|\n",
       "|011|010|101|101|✅|\n",
       "|011|011|110|110|✅|\n",
       "|011|100|111|111|✅|\n",
       "|011|101|000|000|✅|\n",
       "|011|110|001|001|✅|\n",
       "|011|111|010|010|✅|\n",
       "|100|000|100|100|✅|\n",
       "|100|001|101|101|✅|\n",
       "|100|010|110|110|✅|\n",
       "|100|011|111|111|✅|\n",
       "|100|100|000|000|✅|\n",
       "|100|101|001|001|✅|\n",
       "|100|110|010|010|✅|\n",
       "|100|111|011|011|✅|\n",
       "|101|000|101|101|✅|\n",
       "|101|001|110|110|✅|\n",
       "|101|010|111|111|✅|\n",
       "|101|011|000|000|✅|\n",
       "|101|100|001|001|✅|\n",
       "|101|101|010|010|✅|\n",
       "|101|110|011|011|✅|\n",
       "|101|111|100|100|✅|\n",
       "|110|000|110|110|✅|\n",
       "|110|001|111|111|✅|\n",
       "|110|010|000|000|✅|\n",
       "|110|011|001|001|✅|\n",
       "|110|100|010|010|✅|\n",
       "|110|101|011|011|✅|\n",
       "|110|110|100|100|✅|\n",
       "|110|111|101|101|✅|\n",
       "|111|000|111|111|✅|\n",
       "|111|001|000|000|✅|\n",
       "|111|010|001|001|✅|\n",
       "|111|011|010|010|✅|\n",
       "|111|100|011|011|✅|\n",
       "|111|101|100|100|✅|\n",
       "|111|110|101|101|✅|\n",
       "|111|111|110|110|✅|\n"
      ],
      "text/plain": [
       "<IPython.core.display.Markdown object>"
      ]
     },
     "metadata": {}
    }
   ],
   "metadata": {}
  },
  {
   "cell_type": "markdown",
   "source": [],
   "metadata": {}
  }
 ],
 "metadata": {
  "orig_nbformat": 4,
  "language_info": {
   "name": "python",
   "version": "3.9.7",
   "mimetype": "text/x-python",
   "codemirror_mode": {
    "name": "ipython",
    "version": 3
   },
   "pygments_lexer": "ipython3",
   "nbconvert_exporter": "python",
   "file_extension": ".py"
  },
  "kernelspec": {
   "name": "python3",
   "display_name": "Python 3.9.7 64-bit ('pa21': conda)"
  },
  "interpreter": {
   "hash": "cc11b3b19456420f34ecf6424352e5c6f3879c9b7bc1f01f1d73eadd631b83b5"
  }
 },
 "nbformat": 4,
 "nbformat_minor": 2
}