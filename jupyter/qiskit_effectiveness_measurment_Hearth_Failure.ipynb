{
 "cells": [
  {
   "cell_type": "markdown",
   "metadata": {},
   "source": [
    "# Measuring the effectiveness of trainable quantum neural networks\n",
    "\n",
    "To find out which of our designed circuits has any real, reproducable value, we will run each of them various times to see how they perform"
   ]
  },
  {
   "cell_type": "code",
   "execution_count": null,
   "metadata": {},
   "outputs": [],
   "source": []
  },
  {
   "cell_type": "code",
   "execution_count": 34,
   "metadata": {},
   "outputs": [],
   "source": [
    "#imports\n",
    "import csv\n",
    "\n",
    "import numpy as np\n",
    "import matplotlib.pyplot as plt\n",
    "\n",
    "from qiskit import Aer, QuantumCircuit\n",
    "from qiskit.quantum_info import Statevector\n",
    "from qiskit.visualization import plot_bloch_multivector\n",
    "from qiskit.visualization import plot_state_qsphere\n",
    "from qiskit.opflow import Z, I, StateFn\n",
    "from qiskit.utils import QuantumInstance\n",
    "from qiskit.circuit import Parameter\n",
    "from qiskit.circuit.library import RealAmplitudes, ZZFeatureMap\n",
    "from qiskit.algorithms.optimizers import *\n",
    "import qiskit.quantum_info as qi\n",
    "\n",
    "from qiskit_machine_learning.neural_networks import TwoLayerQNN, CircuitQNN\n",
    "from qiskit_machine_learning.algorithms.classifiers import NeuralNetworkClassifier, VQC\n",
    "from qiskit_machine_learning.algorithms.regressors import NeuralNetworkRegressor, VQR\n",
    "\n",
    "from sklearn.datasets import load_iris\n",
    "from sklearn.model_selection import train_test_split\n",
    "\n",
    "from typing import Union\n",
    "\n",
    "from qiskit_machine_learning.exceptions import QiskitMachineLearningError\n",
    "\n",
    "from IPython.display import clear_output\n",
    "\n",
    "import warnings\n",
    "warnings.simplefilter('ignore')\n",
    "\n",
    "import random\n",
    "import time\n",
    "\n",
    "random.seed(69069)\n",
    "np.random.seed(69069)"
   ]
  },
  {
   "cell_type": "code",
   "execution_count": 32,
   "metadata": {},
   "outputs": [
    {
     "name": "stdout",
     "output_type": "stream",
     "text": [
      "path already exists!\n"
     ]
    }
   ],
   "source": [
    "#create folder for figures\n",
    "import os\n",
    "path = '../figures/hearth_failure/non_randomized_split/'\n",
    "training_measurments_path = '../training_measurments/hearth_failure/non_randomized_split/'\n",
    "try:\n",
    "    os.makedirs(path)\n",
    "except:\n",
    "    print('path already exists!')\n",
    "\n",
    "try:\n",
    "    os.makedirs(training_measurments_path)\n",
    "except:\n",
    "    print('path already exists!')"
   ]
  },
  {
   "cell_type": "code",
   "execution_count": 49,
   "metadata": {},
   "outputs": [],
   "source": [
    "def plot_boxplots(run, title, circuit_index, save=False):\n",
    "    min = np.amin(run)-0.01\n",
    "    max = np.amax(run)+0.01\n",
    "    fig = plt.figure()\n",
    "    gs = fig.add_gridspec(1, 2, hspace=0, wspace=0)\n",
    "    (ax1, ax2) = gs.subplots(sharex='col', sharey='row')\n",
    "    ax1.set_ylim([min,max])\n",
    "    ax2.set_ylim([min,max])\n",
    "    fig.suptitle(title)\n",
    "    ax1.set_title('Training')\n",
    "    ax1.boxplot(run[0], showfliers=True, sym='k.')\n",
    "    ax2.set_title('Testing')\n",
    "    ax2.boxplot(run[1], showfliers=True, sym='k.')\n",
    "    if(save):\n",
    "        plt.savefig(path+title.replace(\" \", \"_\")+'.svg', format=\"svg\", transparent=True)\n",
    "    display(plt.show())"
   ]
  },
  {
   "cell_type": "code",
   "execution_count": 2,
   "metadata": {},
   "outputs": [],
   "source": [
    "#code to normalize features to a range of -1 and 1\n",
    "from sklearn.preprocessing import MinMaxScaler\n",
    "\n",
    "def normalize_data(data):\n",
    "    return MinMaxScaler().fit_transform(data) * 2 - 1\n",
    "\n",
    "#code to normalize features to a range of -pi and pi\n",
    "def pifi_data(data):\n",
    "    return MinMaxScaler().fit_transform(data) * 2 * np.pi - np.pi\n",
    "\n",
    "#code to leave features as is\n",
    "def as_is(data):\n",
    "    return data\n"
   ]
  },
  {
   "cell_type": "markdown",
   "metadata": {},
   "source": [
    "## IRIS tests\n",
    "We will now create the circuits needed for the IRIS tests"
   ]
  },
  {
   "cell_type": "code",
   "execution_count": 28,
   "metadata": {},
   "outputs": [],
   "source": [
    "import pandas as pd # data processing, CSV file I/O (e.g. pd.read_csv)\n",
    "\n",
    "#Arrays\n",
    "circuits = []\n",
    "datasets = []\n",
    "accuracy = []\n",
    "\n",
    "n_shots = 1024\n",
    "#Data\n",
    "heart_data = pd.read_csv('monteric/data/heart_failure_clinical_records_dataset.csv')\n",
    "\n",
    "# only the features used in the notebook\n",
    "Features = ['time','ejection_fraction','serum_creatinine']\n",
    "data = heart_data[Features]\n",
    "targets = heart_data[\"DEATH_EVENT\"]\n",
    "\n",
    "simulator_gpu = Aer.get_backend('aer_simulator')\n",
    "simulator_gpu.set_options(device='GPU')\n",
    "quantum_instance = QuantumInstance(simulator_gpu, shots=n_shots)\n",
    "\n",
    "datasets.append(data)\n",
    "datasets.append(normalize_data(data))\n",
    "datasets.append(pifi_data(data))\n",
    "\n",
    "n_features = 3\n",
    "\n",
    "output_shape = 2\n",
    "def parity(x):\n",
    "    return '{:b}'.format(x).count('1') % 2"
   ]
  },
  {
   "cell_type": "code",
   "execution_count": 4,
   "metadata": {},
   "outputs": [
    {
     "data": {
      "image/png": "[encoded data removed]",
      "text/plain": [
       "<Figure size 507.997x204.68 with 1 Axes>"
      ]
     },
     "execution_count": 4,
     "metadata": {},
     "output_type": "execute_result"
    }
   ],
   "source": [
    "feature_map = QuantumCircuit(3)\n",
    "ansatz = QuantumCircuit(3)\n",
    "for i in range(n_features):\n",
    "    feature_map.ry(Parameter('i_' + str(i)),i)\n",
    "    ansatz.ry(Parameter('w_' + str(i)),i)\n",
    "    ansatz.cry(Parameter('w_' + str(10+i)), i, (i+1)%3)\n",
    "\n",
    "\n",
    "qc = QuantumCircuit(3)\n",
    "qc.append(feature_map, range(3))\n",
    "qc.append(ansatz, range(3))\n",
    "\n",
    "circuits.append(qc.decompose().copy())\n",
    "circuits[-1].draw('mpl')"
   ]
  },
  {
   "cell_type": "code",
   "execution_count": 5,
   "metadata": {},
   "outputs": [
    {
     "data": {
      "image/png": "[encoded data removed]",
      "text/plain": [
       "<Figure size 387.597x204.68 with 1 Axes>"
      ]
     },
     "execution_count": 5,
     "metadata": {},
     "output_type": "execute_result"
    }
   ],
   "source": [
    "feature_map = QuantumCircuit(3)\n",
    "ansatz = QuantumCircuit(3)\n",
    "for i in range(3):\n",
    "    feature_map.ry(Parameter('i_' + str(i)),i)\n",
    "    ansatz.ry(Parameter('w_' + str(i)),i)\n",
    "\n",
    "for i in range(3):\n",
    "    ansatz.cry(Parameter('w_' + str(10+i)), i, (i+1)%3)\n",
    "\n",
    "\n",
    "qc = QuantumCircuit(3)\n",
    "qc.append(feature_map, range(3))\n",
    "qc.append(ansatz, range(3))\n",
    "\n",
    "circuits.append(qc.decompose().copy())\n",
    "circuits[-1].draw('mpl')"
   ]
  },
  {
   "cell_type": "code",
   "execution_count": 6,
   "metadata": {},
   "outputs": [
    {
     "data": {
      "image/png": "[encoded data removed]",
      "text/plain": [
       "<Figure size 507.997x204.68 with 1 Axes>"
      ]
     },
     "execution_count": 6,
     "metadata": {},
     "output_type": "execute_result"
    }
   ],
   "source": [
    "feature_map = QuantumCircuit(3)\n",
    "ansatz = QuantumCircuit(3)\n",
    "for i in range(3):\n",
    "    feature_map.ry(Parameter('i_' + str(i)),i)\n",
    "    ansatz.ry(Parameter('w_' + str(i)),i)\n",
    "    ansatz.cz(i, (i+1)%3)\n",
    "\n",
    "\n",
    "qc = QuantumCircuit(3)\n",
    "qc.append(feature_map, range(3))\n",
    "qc.append(ansatz, range(3))\n",
    "\n",
    "circuits.append(qc.decompose().copy())\n",
    "circuits[-1].draw('mpl')"
   ]
  },
  {
   "cell_type": "code",
   "execution_count": 7,
   "metadata": {},
   "outputs": [
    {
     "data": {
      "image/png": "[encoded data removed]",
      "text/plain": [
       "<Figure size 869.197x204.68 with 1 Axes>"
      ]
     },
     "execution_count": 7,
     "metadata": {},
     "output_type": "execute_result"
    }
   ],
   "source": [
    "feature_map = QuantumCircuit(3)\n",
    "ansatz = QuantumCircuit(3)\n",
    "for i in range(3):\n",
    "    feature_map.ry(Parameter('i_' + str(i)),i)\n",
    "    ansatz.ry(Parameter('w_' + str(i)),i)\n",
    "    ansatz.cry(Parameter('w_' + str(10+i)), i, (i+1)%3)\n",
    "\n",
    "\n",
    "for i in range(3):\n",
    "    ansatz.ry(Parameter('w_' + str(i+3)),i)\n",
    "    ansatz.cry(Parameter('w_' + str(10+i+3)), i, (i+1)%3)\n",
    "\n",
    "qc = QuantumCircuit(3)\n",
    "qc.append(feature_map, range(3))\n",
    "qc.append(ansatz, range(3))\n",
    "\n",
    "circuits.append(qc.decompose().copy())\n",
    "circuits[-1].draw('mpl')"
   ]
  },
  {
   "cell_type": "code",
   "execution_count": 8,
   "metadata": {},
   "outputs": [
    {
     "data": {
      "image/png": "[encoded data removed]",
      "text/plain": [
       "<Figure size 869.197x204.68 with 1 Axes>"
      ]
     },
     "execution_count": 8,
     "metadata": {},
     "output_type": "execute_result"
    }
   ],
   "source": [
    "feature_map = QuantumCircuit(3)\n",
    "ansatz = QuantumCircuit(3)\n",
    "for i in range(3):\n",
    "    feature_map.ry(Parameter('i_' + str(i)),i)\n",
    "    ansatz.ry(Parameter('w_' + str(i)),i)\n",
    "    ansatz.cz(i, (i+1)%3)\n",
    "\n",
    "\n",
    "for i in range(3):\n",
    "    ansatz.ry(Parameter('w_' + str(i+4)),i)\n",
    "    ansatz.cz(i, (i+1)%3)\n",
    "\n",
    "qc = QuantumCircuit(3)\n",
    "qc.append(feature_map, range(3))\n",
    "qc.append(ansatz, range(3))\n",
    "\n",
    "circuits.append(qc.decompose().copy())\n",
    "circuits[-1].draw('mpl')"
   ]
  },
  {
   "cell_type": "code",
   "execution_count": 9,
   "metadata": {},
   "outputs": [
    {
     "data": {
      "image/png": "[encoded data removed]",
      "text/plain": [
       "<Figure size 447.797x204.68 with 1 Axes>"
      ]
     },
     "execution_count": 9,
     "metadata": {},
     "output_type": "execute_result"
    }
   ],
   "source": [
    "feature_map = QuantumCircuit(3)\n",
    "ansatz = QuantumCircuit(3)\n",
    "for i in range(3):\n",
    "    feature_map.ry(Parameter('i_' + str(i)),i)\n",
    "    ansatz.cry(Parameter('w_' + str(10+i)), i, (i+1)%3)\n",
    "    ansatz.ry(Parameter('w_' + str(i)),i)\n",
    "\n",
    "\n",
    "qc = QuantumCircuit(3)\n",
    "qc.append(feature_map, range(3))\n",
    "qc.append(ansatz, range(3))\n",
    "\n",
    "circuits.append(qc.decompose().copy())\n",
    "circuits[-1].draw('mpl')"
   ]
  },
  {
   "cell_type": "code",
   "execution_count": 10,
   "metadata": {},
   "outputs": [
    {
     "data": {
      "image/png": "[encoded data removed]",
      "text/plain": [
       "<Figure size 434.526x84.28 with 1 Axes>"
      ]
     },
     "execution_count": 10,
     "metadata": {},
     "output_type": "execute_result"
    }
   ],
   "source": [
    "feature_map = QuantumCircuit(1)\n",
    "ansatz = QuantumCircuit(1)\n",
    "for i in range(3):\n",
    "    feature_map.ry(Parameter('i_' + str(i)),0)\n",
    "    ansatz.ry(Parameter('w_' + str(i)),0)\n",
    "\n",
    "\n",
    "qc = QuantumCircuit(1)\n",
    "qc.append(feature_map, range(1))\n",
    "qc.append(ansatz, range(1))\n",
    "\n",
    "circuits.append(qc.decompose().copy())\n",
    "circuits[-1].draw('mpl')"
   ]
  },
  {
   "cell_type": "markdown",
   "metadata": {},
   "source": [
    "### Functions needed for training"
   ]
  },
  {
   "cell_type": "code",
   "execution_count": 11,
   "metadata": {},
   "outputs": [],
   "source": [
    "def fit_and_score(circuit_classifier, x_train, y_train, x_test, y_test):\n",
    "    # fit classifier to data\n",
    "    circuit_classifier.fit(x_train, y_train)\n",
    "    score_train =  circuit_classifier.score(x_train, y_train)\n",
    "    score_test =  circuit_classifier.score(x_test, y_test)\n",
    "    print(\"Mean Accuracy training: \" + str(score_train))\n",
    "    print(\"Mean Accuracy testing: \" + str(score_test))\n",
    "    return score_train, score_test\n",
    "\n",
    "def get_classifier(circuit):\n",
    "    circuit_qnn = CircuitQNN(circuit=circuit,    \n",
    "                         input_params=circuit.parameters[0:n_features],\n",
    "                         weight_params=circuit.parameters[n_features:],\n",
    "                         interpret=parity,\n",
    "                         output_shape=output_shape,\n",
    "                         quantum_instance=quantum_instance)\n",
    "\n",
    "    # construct classifier\n",
    "    return NeuralNetworkClassifier(neural_network=circuit_qnn,                                             \n",
    "                                                optimizer=COBYLA())"
   ]
  },
  {
   "cell_type": "code",
   "execution_count": 12,
   "metadata": {},
   "outputs": [
    {
     "name": "stdout",
     "output_type": "stream",
     "text": [
      "Testing dataset 1\n"
     ]
    },
    {
     "data": {
      "text/plain": [
       "None"
      ]
     },
     "metadata": {},
     "output_type": "display_data"
    },
    {
     "name": "stdout",
     "output_type": "stream",
     "text": [
      "run: 1\n"
     ]
    },
    {
     "data": {
      "text/plain": [
       "None"
      ]
     },
     "metadata": {},
     "output_type": "display_data"
    },
    {
     "name": "stdout",
     "output_type": "stream",
     "text": [
      "Mean Accuracy training: 0.6205357142857143\n",
      "Mean Accuracy testing: 0.49333333333333335\n",
      "run: 2\n"
     ]
    },
    {
     "data": {
      "text/plain": [
       "None"
      ]
     },
     "metadata": {},
     "output_type": "display_data"
    },
    {
     "name": "stdout",
     "output_type": "stream",
     "text": [
      "Mean Accuracy training: 0.53125\n",
      "Mean Accuracy testing: 0.5466666666666666\n",
      "run: 3\n"
     ]
    },
    {
     "data": {
      "text/plain": [
       "None"
      ]
     },
     "metadata": {},
     "output_type": "display_data"
    },
    {
     "name": "stdout",
     "output_type": "stream",
     "text": [
      "Mean Accuracy training: 0.6071428571428571\n",
      "Mean Accuracy testing: 0.5733333333333334\n",
      "run: 4\n"
     ]
    },
    {
     "data": {
      "text/plain": [
       "None"
      ]
     },
     "metadata": {},
     "output_type": "display_data"
    },
    {
     "name": "stdout",
     "output_type": "stream",
     "text": [
      "Mean Accuracy training: 0.6383928571428571\n",
      "Mean Accuracy testing: 0.49333333333333335\n",
      "run: 5\n"
     ]
    },
    {
     "data": {
      "text/plain": [
       "None"
      ]
     },
     "metadata": {},
     "output_type": "display_data"
    },
    {
     "name": "stdout",
     "output_type": "stream",
     "text": [
      "Mean Accuracy training: 0.6383928571428571\n",
      "Mean Accuracy testing: 0.48\n",
      "run: 6\n"
     ]
    },
    {
     "data": {
      "text/plain": [
       "None"
      ]
     },
     "metadata": {},
     "output_type": "display_data"
    },
    {
     "name": "stdout",
     "output_type": "stream",
     "text": [
      "Mean Accuracy training: 0.6383928571428571\n",
      "Mean Accuracy testing: 0.49333333333333335\n",
      "run: 7\n"
     ]
    },
    {
     "data": {
      "text/plain": [
       "None"
      ]
     },
     "metadata": {},
     "output_type": "display_data"
    },
    {
     "name": "stdout",
     "output_type": "stream",
     "text": [
      "Mean Accuracy training: 0.6517857142857143\n",
      "Mean Accuracy testing: 0.5066666666666667\n",
      "run: 8\n"
     ]
    },
    {
     "data": {
      "text/plain": [
       "None"
      ]
     },
     "metadata": {},
     "output_type": "display_data"
    },
    {
     "name": "stdout",
     "output_type": "stream",
     "text": [
      "Mean Accuracy training: 0.6517857142857143\n",
      "Mean Accuracy testing: 0.49333333333333335\n",
      "run: 9\n"
     ]
    },
    {
     "data": {
      "text/plain": [
       "None"
      ]
     },
     "metadata": {},
     "output_type": "display_data"
    },
    {
     "name": "stdout",
     "output_type": "stream",
     "text": [
      "Mean Accuracy training: 0.6517857142857143\n",
      "Mean Accuracy testing: 0.5066666666666667\n",
      "run: 10\n"
     ]
    },
    {
     "data": {
      "text/plain": [
       "None"
      ]
     },
     "metadata": {},
     "output_type": "display_data"
    },
    {
     "name": "stdout",
     "output_type": "stream",
     "text": [
      "Mean Accuracy training: 0.6383928571428571\n",
      "Mean Accuracy testing: 0.48\n",
      "Circuit done\n"
     ]
    },
    {
     "data": {
      "text/plain": [
       "None"
      ]
     },
     "metadata": {},
     "output_type": "display_data"
    },
    {
     "name": "stdout",
     "output_type": "stream",
     "text": [
      "run: 1\n"
     ]
    },
    {
     "data": {
      "text/plain": [
       "None"
      ]
     },
     "metadata": {},
     "output_type": "display_data"
    },
    {
     "name": "stdout",
     "output_type": "stream",
     "text": [
      "Mean Accuracy training: 0.6294642857142857\n",
      "Mean Accuracy testing: 0.49333333333333335\n",
      "run: 2\n"
     ]
    },
    {
     "data": {
      "text/plain": [
       "None"
      ]
     },
     "metadata": {},
     "output_type": "display_data"
    },
    {
     "name": "stdout",
     "output_type": "stream",
     "text": [
      "Mean Accuracy training: 0.5491071428571429\n",
      "Mean Accuracy testing: 0.6133333333333333\n",
      "run: 3\n"
     ]
    },
    {
     "data": {
      "text/plain": [
       "None"
      ]
     },
     "metadata": {},
     "output_type": "display_data"
    },
    {
     "name": "stdout",
     "output_type": "stream",
     "text": [
      "Mean Accuracy training: 0.6517857142857143\n",
      "Mean Accuracy testing: 0.5066666666666667\n",
      "run: 4\n"
     ]
    },
    {
     "data": {
      "text/plain": [
       "None"
      ]
     },
     "metadata": {},
     "output_type": "display_data"
    },
    {
     "name": "stdout",
     "output_type": "stream",
     "text": [
      "Mean Accuracy training: 0.6428571428571429\n",
      "Mean Accuracy testing: 0.5066666666666667\n",
      "run: 5\n"
     ]
    },
    {
     "data": {
      "text/plain": [
       "None"
      ]
     },
     "metadata": {},
     "output_type": "display_data"
    },
    {
     "name": "stdout",
     "output_type": "stream",
     "text": [
      "Mean Accuracy training: 0.6428571428571429\n",
      "Mean Accuracy testing: 0.49333333333333335\n",
      "run: 6\n"
     ]
    },
    {
     "data": {
      "text/plain": [
       "None"
      ]
     },
     "metadata": {},
     "output_type": "display_data"
    },
    {
     "name": "stdout",
     "output_type": "stream",
     "text": [
      "Mean Accuracy training: 0.6294642857142857\n",
      "Mean Accuracy testing: 0.48\n",
      "run: 7\n"
     ]
    },
    {
     "data": {
      "text/plain": [
       "None"
      ]
     },
     "metadata": {},
     "output_type": "display_data"
    },
    {
     "name": "stdout",
     "output_type": "stream",
     "text": [
      "Mean Accuracy training: 0.65625\n",
      "Mean Accuracy testing: 0.52\n",
      "run: 8\n"
     ]
    },
    {
     "data": {
      "text/plain": [
       "None"
      ]
     },
     "metadata": {},
     "output_type": "display_data"
    },
    {
     "name": "stdout",
     "output_type": "stream",
     "text": [
      "Mean Accuracy training: 0.59375\n",
      "Mean Accuracy testing: 0.5333333333333333\n",
      "run: 9\n"
     ]
    },
    {
     "data": {
      "text/plain": [
       "None"
      ]
     },
     "metadata": {},
     "output_type": "display_data"
    },
    {
     "name": "stdout",
     "output_type": "stream",
     "text": [
      "Mean Accuracy training: 0.65625\n",
      "Mean Accuracy testing: 0.52\n",
      "run: 10\n"
     ]
    },
    {
     "data": {
      "text/plain": [
       "None"
      ]
     },
     "metadata": {},
     "output_type": "display_data"
    },
    {
     "name": "stdout",
     "output_type": "stream",
     "text": [
      "Mean Accuracy training: 0.6071428571428571\n",
      "Mean Accuracy testing: 0.5466666666666666\n",
      "Circuit done\n"
     ]
    },
    {
     "data": {
      "text/plain": [
       "None"
      ]
     },
     "metadata": {},
     "output_type": "display_data"
    },
    {
     "name": "stdout",
     "output_type": "stream",
     "text": [
      "run: 1\n"
     ]
    },
    {
     "data": {
      "text/plain": [
       "None"
      ]
     },
     "metadata": {},
     "output_type": "display_data"
    },
    {
     "name": "stdout",
     "output_type": "stream",
     "text": [
      "Mean Accuracy training: 0.5580357142857143\n",
      "Mean Accuracy testing: 0.5733333333333334\n",
      "run: 2\n"
     ]
    },
    {
     "data": {
      "text/plain": [
       "None"
      ]
     },
     "metadata": {},
     "output_type": "display_data"
    },
    {
     "name": "stdout",
     "output_type": "stream",
     "text": [
      "Mean Accuracy training: 0.5401785714285714\n",
      "Mean Accuracy testing: 0.5466666666666666\n",
      "run: 3\n"
     ]
    },
    {
     "data": {
      "text/plain": [
       "None"
      ]
     },
     "metadata": {},
     "output_type": "display_data"
    },
    {
     "name": "stdout",
     "output_type": "stream",
     "text": [
      "Mean Accuracy training: 0.5267857142857143\n",
      "Mean Accuracy testing: 0.6\n",
      "run: 4\n"
     ]
    },
    {
     "data": {
      "text/plain": [
       "None"
      ]
     },
     "metadata": {},
     "output_type": "display_data"
    },
    {
     "name": "stdout",
     "output_type": "stream",
     "text": [
      "Mean Accuracy training: 0.5223214285714286\n",
      "Mean Accuracy testing: 0.5333333333333333\n",
      "run: 5\n"
     ]
    },
    {
     "data": {
      "text/plain": [
       "None"
      ]
     },
     "metadata": {},
     "output_type": "display_data"
    },
    {
     "name": "stdout",
     "output_type": "stream",
     "text": [
      "Mean Accuracy training: 0.48214285714285715\n",
      "Mean Accuracy testing: 0.5066666666666667\n",
      "run: 6\n"
     ]
    },
    {
     "data": {
      "text/plain": [
       "None"
      ]
     },
     "metadata": {},
     "output_type": "display_data"
    },
    {
     "name": "stdout",
     "output_type": "stream",
     "text": [
      "Mean Accuracy training: 0.5401785714285714\n",
      "Mean Accuracy testing: 0.5466666666666666\n",
      "run: 7\n"
     ]
    },
    {
     "data": {
      "text/plain": [
       "None"
      ]
     },
     "metadata": {},
     "output_type": "display_data"
    },
    {
     "name": "stdout",
     "output_type": "stream",
     "text": [
      "Mean Accuracy training: 0.5491071428571429\n",
      "Mean Accuracy testing: 0.5066666666666667\n",
      "run: 8\n"
     ]
    },
    {
     "data": {
      "text/plain": [
       "None"
      ]
     },
     "metadata": {},
     "output_type": "display_data"
    },
    {
     "name": "stdout",
     "output_type": "stream",
     "text": [
      "Mean Accuracy training: 0.5580357142857143\n",
      "Mean Accuracy testing: 0.6266666666666667\n",
      "run: 9\n"
     ]
    },
    {
     "data": {
      "text/plain": [
       "None"
      ]
     },
     "metadata": {},
     "output_type": "display_data"
    },
    {
     "name": "stdout",
     "output_type": "stream",
     "text": [
      "Mean Accuracy training: 0.5446428571428571\n",
      "Mean Accuracy testing: 0.56\n",
      "run: 10\n"
     ]
    },
    {
     "data": {
      "text/plain": [
       "None"
      ]
     },
     "metadata": {},
     "output_type": "display_data"
    },
    {
     "name": "stdout",
     "output_type": "stream",
     "text": [
      "Mean Accuracy training: 0.5982142857142857\n",
      "Mean Accuracy testing: 0.52\n",
      "Circuit done\n"
     ]
    },
    {
     "data": {
      "text/plain": [
       "None"
      ]
     },
     "metadata": {},
     "output_type": "display_data"
    },
    {
     "name": "stdout",
     "output_type": "stream",
     "text": [
      "run: 1\n"
     ]
    },
    {
     "data": {
      "text/plain": [
       "None"
      ]
     },
     "metadata": {},
     "output_type": "display_data"
    },
    {
     "name": "stdout",
     "output_type": "stream",
     "text": [
      "Mean Accuracy training: 0.7008928571428571\n",
      "Mean Accuracy testing: 0.76\n",
      "run: 2\n"
     ]
    },
    {
     "data": {
      "text/plain": [
       "None"
      ]
     },
     "metadata": {},
     "output_type": "display_data"
    },
    {
     "name": "stdout",
     "output_type": "stream",
     "text": [
      "Mean Accuracy training: 0.7098214285714286\n",
      "Mean Accuracy testing: 0.6666666666666666\n",
      "run: 3\n"
     ]
    },
    {
     "data": {
      "text/plain": [
       "None"
      ]
     },
     "metadata": {},
     "output_type": "display_data"
    },
    {
     "name": "stdout",
     "output_type": "stream",
     "text": [
      "Mean Accuracy training: 0.7276785714285714\n",
      "Mean Accuracy testing: 0.76\n",
      "run: 4\n"
     ]
    },
    {
     "data": {
      "text/plain": [
       "None"
      ]
     },
     "metadata": {},
     "output_type": "display_data"
    },
    {
     "name": "stdout",
     "output_type": "stream",
     "text": [
      "Mean Accuracy training: 0.6696428571428571\n",
      "Mean Accuracy testing: 0.5733333333333334\n",
      "run: 5\n"
     ]
    },
    {
     "data": {
      "text/plain": [
       "None"
      ]
     },
     "metadata": {},
     "output_type": "display_data"
    },
    {
     "name": "stdout",
     "output_type": "stream",
     "text": [
      "Mean Accuracy training: 0.65625\n",
      "Mean Accuracy testing: 0.52\n",
      "run: 6\n"
     ]
    },
    {
     "data": {
      "text/plain": [
       "None"
      ]
     },
     "metadata": {},
     "output_type": "display_data"
    },
    {
     "name": "stdout",
     "output_type": "stream",
     "text": [
      "Mean Accuracy training: 0.7142857142857143\n",
      "Mean Accuracy testing: 0.76\n",
      "run: 7\n"
     ]
    },
    {
     "data": {
      "text/plain": [
       "None"
      ]
     },
     "metadata": {},
     "output_type": "display_data"
    },
    {
     "name": "stdout",
     "output_type": "stream",
     "text": [
      "Mean Accuracy training: 0.6160714285714286\n",
      "Mean Accuracy testing: 0.5066666666666667\n",
      "run: 8\n"
     ]
    },
    {
     "data": {
      "text/plain": [
       "None"
      ]
     },
     "metadata": {},
     "output_type": "display_data"
    },
    {
     "name": "stdout",
     "output_type": "stream",
     "text": [
      "Mean Accuracy training: 0.6875\n",
      "Mean Accuracy testing: 0.7466666666666667\n",
      "run: 9\n"
     ]
    },
    {
     "data": {
      "text/plain": [
       "None"
      ]
     },
     "metadata": {},
     "output_type": "display_data"
    },
    {
     "name": "stdout",
     "output_type": "stream",
     "text": [
      "Mean Accuracy training: 0.6428571428571429\n",
      "Mean Accuracy testing: 0.5066666666666667\n",
      "run: 10\n"
     ]
    },
    {
     "data": {
      "text/plain": [
       "None"
      ]
     },
     "metadata": {},
     "output_type": "display_data"
    },
    {
     "name": "stdout",
     "output_type": "stream",
     "text": [
      "Mean Accuracy training: 0.6919642857142857\n",
      "Mean Accuracy testing: 0.5733333333333334\n",
      "Circuit done\n"
     ]
    },
    {
     "data": {
      "text/plain": [
       "None"
      ]
     },
     "metadata": {},
     "output_type": "display_data"
    },
    {
     "name": "stdout",
     "output_type": "stream",
     "text": [
      "run: 1\n"
     ]
    },
    {
     "data": {
      "text/plain": [
       "None"
      ]
     },
     "metadata": {},
     "output_type": "display_data"
    },
    {
     "name": "stdout",
     "output_type": "stream",
     "text": [
      "Mean Accuracy training: 0.71875\n",
      "Mean Accuracy testing: 0.6933333333333334\n",
      "run: 2\n"
     ]
    },
    {
     "data": {
      "text/plain": [
       "None"
      ]
     },
     "metadata": {},
     "output_type": "display_data"
    },
    {
     "name": "stdout",
     "output_type": "stream",
     "text": [
      "Mean Accuracy training: 0.6428571428571429\n",
      "Mean Accuracy testing: 0.48\n",
      "run: 3\n"
     ]
    },
    {
     "data": {
      "text/plain": [
       "None"
      ]
     },
     "metadata": {},
     "output_type": "display_data"
    },
    {
     "name": "stdout",
     "output_type": "stream",
     "text": [
      "Mean Accuracy training: 0.6517857142857143\n",
      "Mean Accuracy testing: 0.48\n",
      "run: 4\n"
     ]
    },
    {
     "data": {
      "text/plain": [
       "None"
      ]
     },
     "metadata": {},
     "output_type": "display_data"
    },
    {
     "name": "stdout",
     "output_type": "stream",
     "text": [
      "Mean Accuracy training: 0.6383928571428571\n",
      "Mean Accuracy testing: 0.49333333333333335\n",
      "run: 5\n"
     ]
    },
    {
     "data": {
      "text/plain": [
       "None"
      ]
     },
     "metadata": {},
     "output_type": "display_data"
    },
    {
     "name": "stdout",
     "output_type": "stream",
     "text": [
      "Mean Accuracy training: 0.7276785714285714\n",
      "Mean Accuracy testing: 0.6666666666666666\n",
      "run: 6\n"
     ]
    },
    {
     "data": {
      "text/plain": [
       "None"
      ]
     },
     "metadata": {},
     "output_type": "display_data"
    },
    {
     "name": "stdout",
     "output_type": "stream",
     "text": [
      "Mean Accuracy training: 0.6428571428571429\n",
      "Mean Accuracy testing: 0.48\n",
      "run: 7\n"
     ]
    },
    {
     "data": {
      "text/plain": [
       "None"
      ]
     },
     "metadata": {},
     "output_type": "display_data"
    },
    {
     "name": "stdout",
     "output_type": "stream",
     "text": [
      "Mean Accuracy training: 0.6428571428571429\n",
      "Mean Accuracy testing: 0.48\n",
      "run: 8\n"
     ]
    },
    {
     "data": {
      "text/plain": [
       "None"
      ]
     },
     "metadata": {},
     "output_type": "display_data"
    },
    {
     "name": "stdout",
     "output_type": "stream",
     "text": [
      "Mean Accuracy training: 0.6428571428571429\n",
      "Mean Accuracy testing: 0.48\n",
      "run: 9\n"
     ]
    },
    {
     "data": {
      "text/plain": [
       "None"
      ]
     },
     "metadata": {},
     "output_type": "display_data"
    },
    {
     "name": "stdout",
     "output_type": "stream",
     "text": [
      "Mean Accuracy training: 0.6517857142857143\n",
      "Mean Accuracy testing: 0.5066666666666667\n",
      "run: 10\n"
     ]
    },
    {
     "data": {
      "text/plain": [
       "None"
      ]
     },
     "metadata": {},
     "output_type": "display_data"
    },
    {
     "name": "stdout",
     "output_type": "stream",
     "text": [
      "Mean Accuracy training: 0.6383928571428571\n",
      "Mean Accuracy testing: 0.5066666666666667\n",
      "Circuit done\n"
     ]
    },
    {
     "data": {
      "text/plain": [
       "None"
      ]
     },
     "metadata": {},
     "output_type": "display_data"
    },
    {
     "name": "stdout",
     "output_type": "stream",
     "text": [
      "run: 1\n"
     ]
    },
    {
     "data": {
      "text/plain": [
       "None"
      ]
     },
     "metadata": {},
     "output_type": "display_data"
    },
    {
     "name": "stdout",
     "output_type": "stream",
     "text": [
      "Mean Accuracy training: 0.6294642857142857\n",
      "Mean Accuracy testing: 0.48\n",
      "run: 2\n"
     ]
    },
    {
     "data": {
      "text/plain": [
       "None"
      ]
     },
     "metadata": {},
     "output_type": "display_data"
    },
    {
     "name": "stdout",
     "output_type": "stream",
     "text": [
      "Mean Accuracy training: 0.65625\n",
      "Mean Accuracy testing: 0.52\n",
      "run: 3\n"
     ]
    },
    {
     "data": {
      "text/plain": [
       "None"
      ]
     },
     "metadata": {},
     "output_type": "display_data"
    },
    {
     "name": "stdout",
     "output_type": "stream",
     "text": [
      "Mean Accuracy training: 0.6383928571428571\n",
      "Mean Accuracy testing: 0.49333333333333335\n",
      "run: 4\n"
     ]
    },
    {
     "data": {
      "text/plain": [
       "None"
      ]
     },
     "metadata": {},
     "output_type": "display_data"
    },
    {
     "name": "stdout",
     "output_type": "stream",
     "text": [
      "Mean Accuracy training: 0.625\n",
      "Mean Accuracy testing: 0.5066666666666667\n",
      "run: 5\n"
     ]
    },
    {
     "data": {
      "text/plain": [
       "None"
      ]
     },
     "metadata": {},
     "output_type": "display_data"
    },
    {
     "name": "stdout",
     "output_type": "stream",
     "text": [
      "Mean Accuracy training: 0.6383928571428571\n",
      "Mean Accuracy testing: 0.49333333333333335\n",
      "run: 6\n"
     ]
    },
    {
     "data": {
      "text/plain": [
       "None"
      ]
     },
     "metadata": {},
     "output_type": "display_data"
    },
    {
     "name": "stdout",
     "output_type": "stream",
     "text": [
      "Mean Accuracy training: 0.6294642857142857\n",
      "Mean Accuracy testing: 0.48\n",
      "run: 7\n"
     ]
    },
    {
     "data": {
      "text/plain": [
       "None"
      ]
     },
     "metadata": {},
     "output_type": "display_data"
    },
    {
     "name": "stdout",
     "output_type": "stream",
     "text": [
      "Mean Accuracy training: 0.6473214285714286\n",
      "Mean Accuracy testing: 0.5066666666666667\n",
      "run: 8\n"
     ]
    },
    {
     "data": {
      "text/plain": [
       "None"
      ]
     },
     "metadata": {},
     "output_type": "display_data"
    },
    {
     "name": "stdout",
     "output_type": "stream",
     "text": [
      "Mean Accuracy training: 0.65625\n",
      "Mean Accuracy testing: 0.5066666666666667\n",
      "run: 9\n"
     ]
    },
    {
     "data": {
      "text/plain": [
       "None"
      ]
     },
     "metadata": {},
     "output_type": "display_data"
    },
    {
     "name": "stdout",
     "output_type": "stream",
     "text": [
      "Mean Accuracy training: 0.6205357142857143\n",
      "Mean Accuracy testing: 0.5066666666666667\n",
      "run: 10\n"
     ]
    },
    {
     "data": {
      "text/plain": [
       "None"
      ]
     },
     "metadata": {},
     "output_type": "display_data"
    },
    {
     "name": "stdout",
     "output_type": "stream",
     "text": [
      "Mean Accuracy training: 0.65625\n",
      "Mean Accuracy testing: 0.5066666666666667\n",
      "Circuit done\n"
     ]
    },
    {
     "data": {
      "text/plain": [
       "None"
      ]
     },
     "metadata": {},
     "output_type": "display_data"
    },
    {
     "name": "stdout",
     "output_type": "stream",
     "text": [
      "run: 1\n"
     ]
    },
    {
     "data": {
      "text/plain": [
       "None"
      ]
     },
     "metadata": {},
     "output_type": "display_data"
    },
    {
     "name": "stdout",
     "output_type": "stream",
     "text": [
      "Mean Accuracy training: 0.5267857142857143\n",
      "Mean Accuracy testing: 0.4\n",
      "run: 2\n"
     ]
    },
    {
     "data": {
      "text/plain": [
       "None"
      ]
     },
     "metadata": {},
     "output_type": "display_data"
    },
    {
     "name": "stdout",
     "output_type": "stream",
     "text": [
      "Mean Accuracy training: 0.5357142857142857\n",
      "Mean Accuracy testing: 0.44\n",
      "run: 3\n"
     ]
    },
    {
     "data": {
      "text/plain": [
       "None"
      ]
     },
     "metadata": {},
     "output_type": "display_data"
    },
    {
     "name": "stdout",
     "output_type": "stream",
     "text": [
      "Mean Accuracy training: 0.5491071428571429\n",
      "Mean Accuracy testing: 0.44\n",
      "run: 4\n"
     ]
    },
    {
     "data": {
      "text/plain": [
       "None"
      ]
     },
     "metadata": {},
     "output_type": "display_data"
    },
    {
     "name": "stdout",
     "output_type": "stream",
     "text": [
      "Mean Accuracy training: 0.5267857142857143\n",
      "Mean Accuracy testing: 0.4\n",
      "run: 5\n"
     ]
    },
    {
     "data": {
      "text/plain": [
       "None"
      ]
     },
     "metadata": {},
     "output_type": "display_data"
    },
    {
     "name": "stdout",
     "output_type": "stream",
     "text": [
      "Mean Accuracy training: 0.5401785714285714\n",
      "Mean Accuracy testing: 0.4266666666666667\n",
      "run: 6\n"
     ]
    },
    {
     "data": {
      "text/plain": [
       "None"
      ]
     },
     "metadata": {},
     "output_type": "display_data"
    },
    {
     "name": "stdout",
     "output_type": "stream",
     "text": [
      "Mean Accuracy training: 0.5357142857142857\n",
      "Mean Accuracy testing: 0.44\n",
      "run: 7\n"
     ]
    },
    {
     "data": {
      "text/plain": [
       "None"
      ]
     },
     "metadata": {},
     "output_type": "display_data"
    },
    {
     "name": "stdout",
     "output_type": "stream",
     "text": [
      "Mean Accuracy training: 0.5401785714285714\n",
      "Mean Accuracy testing: 0.41333333333333333\n",
      "run: 8\n"
     ]
    },
    {
     "data": {
      "text/plain": [
       "None"
      ]
     },
     "metadata": {},
     "output_type": "display_data"
    },
    {
     "name": "stdout",
     "output_type": "stream",
     "text": [
      "Mean Accuracy training: 0.5178571428571429\n",
      "Mean Accuracy testing: 0.4\n",
      "run: 9\n"
     ]
    },
    {
     "data": {
      "text/plain": [
       "None"
      ]
     },
     "metadata": {},
     "output_type": "display_data"
    },
    {
     "name": "stdout",
     "output_type": "stream",
     "text": [
      "Mean Accuracy training: 0.5357142857142857\n",
      "Mean Accuracy testing: 0.44\n",
      "run: 10\n"
     ]
    },
    {
     "data": {
      "text/plain": [
       "None"
      ]
     },
     "metadata": {},
     "output_type": "display_data"
    },
    {
     "name": "stdout",
     "output_type": "stream",
     "text": [
      "Mean Accuracy training: 0.5401785714285714\n",
      "Mean Accuracy testing: 0.44\n",
      "Circuit done\n"
     ]
    },
    {
     "data": {
      "text/plain": [
       "None"
      ]
     },
     "metadata": {},
     "output_type": "display_data"
    }
   ],
   "source": [
    "#so\n",
    "raw_runs = []\n",
    "\n",
    "display(print(\"Testing dataset 1\"))\n",
    "for circuit in circuits:\n",
    "    training_data = []\n",
    "    testing_data = []\n",
    "    for i in range(10):\n",
    "        display(print('run: ' + str(i+1)))\n",
    "        classifier = get_classifier(circuit.copy())\n",
    "        x_train,x_test,y_train,y_test = train_test_split(datasets[0], targets, test_size=1-3/4, random_state=69069)\n",
    "        score_train, score_test = fit_and_score(classifier, x_train.values, y_train.values, x_test.values, y_test.values)\n",
    "        training_data.append(score_train)\n",
    "        testing_data.append(score_test)\n",
    "    display(print('Circuit done'))\n",
    "    raw_runs.append([training_data, testing_data])"
   ]
  },
  {
   "cell_type": "code",
   "execution_count": 13,
   "metadata": {},
   "outputs": [
    {
     "name": "stdout",
     "output_type": "stream",
     "text": [
      "[[[0.6205357142857143, 0.53125, 0.6071428571428571, 0.6383928571428571, 0.6383928571428571, 0.6383928571428571, 0.6517857142857143, 0.6517857142857143, 0.6517857142857143, 0.6383928571428571], [0.49333333333333335, 0.5466666666666666, 0.5733333333333334, 0.49333333333333335, 0.48, 0.49333333333333335, 0.5066666666666667, 0.49333333333333335, 0.5066666666666667, 0.48]], [[0.6294642857142857, 0.5491071428571429, 0.6517857142857143, 0.6428571428571429, 0.6428571428571429, 0.6294642857142857, 0.65625, 0.59375, 0.65625, 0.6071428571428571], [0.49333333333333335, 0.6133333333333333, 0.5066666666666667, 0.5066666666666667, 0.49333333333333335, 0.48, 0.52, 0.5333333333333333, 0.52, 0.5466666666666666]], [[0.5580357142857143, 0.5401785714285714, 0.5267857142857143, 0.5223214285714286, 0.48214285714285715, 0.5401785714285714, 0.5491071428571429, 0.5580357142857143, 0.5446428571428571, 0.5982142857142857], [0.5733333333333334, 0.5466666666666666, 0.6, 0.5333333333333333, 0.5066666666666667, 0.5466666666666666, 0.5066666666666667, 0.6266666666666667, 0.56, 0.52]], [[0.7008928571428571, 0.7098214285714286, 0.7276785714285714, 0.6696428571428571, 0.65625, 0.7142857142857143, 0.6160714285714286, 0.6875, 0.6428571428571429, 0.6919642857142857], [0.76, 0.6666666666666666, 0.76, 0.5733333333333334, 0.52, 0.76, 0.5066666666666667, 0.7466666666666667, 0.5066666666666667, 0.5733333333333334]], [[0.71875, 0.6428571428571429, 0.6517857142857143, 0.6383928571428571, 0.7276785714285714, 0.6428571428571429, 0.6428571428571429, 0.6428571428571429, 0.6517857142857143, 0.6383928571428571], [0.6933333333333334, 0.48, 0.48, 0.49333333333333335, 0.6666666666666666, 0.48, 0.48, 0.48, 0.5066666666666667, 0.5066666666666667]], [[0.6294642857142857, 0.65625, 0.6383928571428571, 0.625, 0.6383928571428571, 0.6294642857142857, 0.6473214285714286, 0.65625, 0.6205357142857143, 0.65625], [0.48, 0.52, 0.49333333333333335, 0.5066666666666667, 0.49333333333333335, 0.48, 0.5066666666666667, 0.5066666666666667, 0.5066666666666667, 0.5066666666666667]], [[0.5267857142857143, 0.5357142857142857, 0.5491071428571429, 0.5267857142857143, 0.5401785714285714, 0.5357142857142857, 0.5401785714285714, 0.5178571428571429, 0.5357142857142857, 0.5401785714285714], [0.4, 0.44, 0.44, 0.4, 0.4266666666666667, 0.44, 0.41333333333333333, 0.4, 0.44, 0.44]]]\n"
     ]
    }
   ],
   "source": [
    "print(raw_runs)"
   ]
  },
  {
   "cell_type": "code",
   "execution_count": 50,
   "metadata": {},
   "outputs": [
    {
     "data": {
      "image/png": "[encoded data removed]",
      "text/plain": [
       "<Figure size 432x288 with 2 Axes>"
      ]
     },
     "metadata": {
      "needs_background": "light"
     },
     "output_type": "display_data"
    },
    {
     "data": {
      "text/plain": [
       "None"
      ]
     },
     "metadata": {},
     "output_type": "display_data"
    },
    {
     "data": {
      "image/png": "[encoded data removed]",
      "text/plain": [
       "<Figure size 432x288 with 2 Axes>"
      ]
     },
     "metadata": {
      "needs_background": "light"
     },
     "output_type": "display_data"
    },
    {
     "data": {
      "text/plain": [
       "None"
      ]
     },
     "metadata": {},
     "output_type": "display_data"
    },
    {
     "data": {
      "image/png": "[encoded data removed]",
      "text/plain": [
       "<Figure size 432x288 with 2 Axes>"
      ]
     },
     "metadata": {
      "needs_background": "light"
     },
     "output_type": "display_data"
    },
    {
     "data": {
      "text/plain": [
       "None"
      ]
     },
     "metadata": {},
     "output_type": "display_data"
    },
    {
     "data": {
      "image/png": "[encoded data removed]",
      "text/plain": [
       "<Figure size 432x288 with 2 Axes>"
      ]
     },
     "metadata": {
      "needs_background": "light"
     },
     "output_type": "display_data"
    },
    {
     "data": {
      "text/plain": [
       "None"
      ]
     },
     "metadata": {},
     "output_type": "display_data"
    },
    {
     "data": {
      "image/png": "[encoded data removed]",
      "text/plain": [
       "<Figure size 432x288 with 2 Axes>"
      ]
     },
     "metadata": {
      "needs_background": "light"
     },
     "output_type": "display_data"
    },
    {
     "data": {
      "text/plain": [
       "None"
      ]
     },
     "metadata": {},
     "output_type": "display_data"
    },
    {
     "data": {
      "image/png": "[encoded data removed]",
      "text/plain": [
       "<Figure size 432x288 with 2 Axes>"
      ]
     },
     "metadata": {
      "needs_background": "light"
     },
     "output_type": "display_data"
    },
    {
     "data": {
      "text/plain": [
       "None"
      ]
     },
     "metadata": {},
     "output_type": "display_data"
    },
    {
     "data": {
      "image/png": "[encoded data removed]",
      "text/plain": [
       "<Figure size 432x288 with 2 Axes>"
      ]
     },
     "metadata": {
      "needs_background": "light"
     },
     "output_type": "display_data"
    },
    {
     "data": {
      "text/plain": [
       "None"
      ]
     },
     "metadata": {},
     "output_type": "display_data"
    }
   ],
   "source": [
    "for index, run in enumerate(raw_runs):\n",
    "    title = \"Raw data with 10 iterations @\" + str(n_shots) + \" shots for circuit \" + str(index+1)\n",
    "    plot_boxplots(run, title, index+1, save=True)"
   ]
  },
  {
   "cell_type": "code",
   "execution_count": 15,
   "metadata": {},
   "outputs": [
    {
     "name": "stdout",
     "output_type": "stream",
     "text": [
      "Testing dataset 2\n"
     ]
    },
    {
     "data": {
      "text/plain": [
       "None"
      ]
     },
     "metadata": {},
     "output_type": "display_data"
    },
    {
     "name": "stdout",
     "output_type": "stream",
     "text": [
      "run: 1\n"
     ]
    },
    {
     "data": {
      "text/plain": [
       "None"
      ]
     },
     "metadata": {},
     "output_type": "display_data"
    },
    {
     "name": "stdout",
     "output_type": "stream",
     "text": [
      "Mean Accuracy training: 0.6741071428571429\n",
      "Mean Accuracy testing: 0.7733333333333333\n",
      "run: 2\n"
     ]
    },
    {
     "data": {
      "text/plain": [
       "None"
      ]
     },
     "metadata": {},
     "output_type": "display_data"
    },
    {
     "name": "stdout",
     "output_type": "stream",
     "text": [
      "Mean Accuracy training: 0.6785714285714286\n",
      "Mean Accuracy testing: 0.7733333333333333\n",
      "run: 3\n"
     ]
    },
    {
     "data": {
      "text/plain": [
       "None"
      ]
     },
     "metadata": {},
     "output_type": "display_data"
    },
    {
     "name": "stdout",
     "output_type": "stream",
     "text": [
      "Mean Accuracy training: 0.6830357142857143\n",
      "Mean Accuracy testing: 0.7733333333333333\n",
      "run: 4\n"
     ]
    },
    {
     "data": {
      "text/plain": [
       "None"
      ]
     },
     "metadata": {},
     "output_type": "display_data"
    },
    {
     "name": "stdout",
     "output_type": "stream",
     "text": [
      "Mean Accuracy training: 0.6830357142857143\n",
      "Mean Accuracy testing: 0.7733333333333333\n",
      "run: 5\n"
     ]
    },
    {
     "data": {
      "text/plain": [
       "None"
      ]
     },
     "metadata": {},
     "output_type": "display_data"
    },
    {
     "name": "stdout",
     "output_type": "stream",
     "text": [
      "Mean Accuracy training: 0.7053571428571429\n",
      "Mean Accuracy testing: 0.7866666666666666\n",
      "run: 6\n"
     ]
    },
    {
     "data": {
      "text/plain": [
       "None"
      ]
     },
     "metadata": {},
     "output_type": "display_data"
    },
    {
     "name": "stdout",
     "output_type": "stream",
     "text": [
      "Mean Accuracy training: 0.6785714285714286\n",
      "Mean Accuracy testing: 0.76\n",
      "run: 7\n"
     ]
    },
    {
     "data": {
      "text/plain": [
       "None"
      ]
     },
     "metadata": {},
     "output_type": "display_data"
    },
    {
     "name": "stdout",
     "output_type": "stream",
     "text": [
      "Mean Accuracy training: 0.6964285714285714\n",
      "Mean Accuracy testing: 0.7866666666666666\n",
      "run: 8\n"
     ]
    },
    {
     "data": {
      "text/plain": [
       "None"
      ]
     },
     "metadata": {},
     "output_type": "display_data"
    },
    {
     "name": "stdout",
     "output_type": "stream",
     "text": [
      "Mean Accuracy training: 0.6919642857142857\n",
      "Mean Accuracy testing: 0.7733333333333333\n",
      "run: 9\n"
     ]
    },
    {
     "data": {
      "text/plain": [
       "None"
      ]
     },
     "metadata": {},
     "output_type": "display_data"
    },
    {
     "name": "stdout",
     "output_type": "stream",
     "text": [
      "Mean Accuracy training: 0.6964285714285714\n",
      "Mean Accuracy testing: 0.76\n",
      "run: 10\n"
     ]
    },
    {
     "data": {
      "text/plain": [
       "None"
      ]
     },
     "metadata": {},
     "output_type": "display_data"
    },
    {
     "name": "stdout",
     "output_type": "stream",
     "text": [
      "Mean Accuracy training: 0.6919642857142857\n",
      "Mean Accuracy testing: 0.7733333333333333\n",
      "Circuit done\n"
     ]
    },
    {
     "data": {
      "text/plain": [
       "None"
      ]
     },
     "metadata": {},
     "output_type": "display_data"
    },
    {
     "name": "stdout",
     "output_type": "stream",
     "text": [
      "run: 1\n"
     ]
    },
    {
     "data": {
      "text/plain": [
       "None"
      ]
     },
     "metadata": {},
     "output_type": "display_data"
    },
    {
     "name": "stdout",
     "output_type": "stream",
     "text": [
      "Mean Accuracy training: 0.6919642857142857\n",
      "Mean Accuracy testing: 0.76\n",
      "run: 2\n"
     ]
    },
    {
     "data": {
      "text/plain": [
       "None"
      ]
     },
     "metadata": {},
     "output_type": "display_data"
    },
    {
     "name": "stdout",
     "output_type": "stream",
     "text": [
      "Mean Accuracy training: 0.7142857142857143\n",
      "Mean Accuracy testing: 0.7733333333333333\n",
      "run: 3\n"
     ]
    },
    {
     "data": {
      "text/plain": [
       "None"
      ]
     },
     "metadata": {},
     "output_type": "display_data"
    },
    {
     "name": "stdout",
     "output_type": "stream",
     "text": [
      "Mean Accuracy training: 0.6696428571428571\n",
      "Mean Accuracy testing: 0.72\n",
      "run: 4\n"
     ]
    },
    {
     "data": {
      "text/plain": [
       "None"
      ]
     },
     "metadata": {},
     "output_type": "display_data"
    },
    {
     "name": "stdout",
     "output_type": "stream",
     "text": [
      "Mean Accuracy training: 0.6875\n",
      "Mean Accuracy testing: 0.76\n",
      "run: 5\n"
     ]
    },
    {
     "data": {
      "text/plain": [
       "None"
      ]
     },
     "metadata": {},
     "output_type": "display_data"
    },
    {
     "name": "stdout",
     "output_type": "stream",
     "text": [
      "Mean Accuracy training: 0.6964285714285714\n",
      "Mean Accuracy testing: 0.7733333333333333\n",
      "run: 6\n"
     ]
    },
    {
     "data": {
      "text/plain": [
       "None"
      ]
     },
     "metadata": {},
     "output_type": "display_data"
    },
    {
     "name": "stdout",
     "output_type": "stream",
     "text": [
      "Mean Accuracy training: 0.6830357142857143\n",
      "Mean Accuracy testing: 0.7466666666666667\n",
      "run: 7\n"
     ]
    },
    {
     "data": {
      "text/plain": [
       "None"
      ]
     },
     "metadata": {},
     "output_type": "display_data"
    },
    {
     "name": "stdout",
     "output_type": "stream",
     "text": [
      "Mean Accuracy training: 0.6696428571428571\n",
      "Mean Accuracy testing: 0.72\n",
      "run: 8\n"
     ]
    },
    {
     "data": {
      "text/plain": [
       "None"
      ]
     },
     "metadata": {},
     "output_type": "display_data"
    },
    {
     "name": "stdout",
     "output_type": "stream",
     "text": [
      "Mean Accuracy training: 0.7098214285714286\n",
      "Mean Accuracy testing: 0.7733333333333333\n",
      "run: 9\n"
     ]
    },
    {
     "data": {
      "text/plain": [
       "None"
      ]
     },
     "metadata": {},
     "output_type": "display_data"
    },
    {
     "name": "stdout",
     "output_type": "stream",
     "text": [
      "Mean Accuracy training: 0.6696428571428571\n",
      "Mean Accuracy testing: 0.72\n",
      "run: 10\n"
     ]
    },
    {
     "data": {
      "text/plain": [
       "None"
      ]
     },
     "metadata": {},
     "output_type": "display_data"
    },
    {
     "name": "stdout",
     "output_type": "stream",
     "text": [
      "Mean Accuracy training: 0.7008928571428571\n",
      "Mean Accuracy testing: 0.7733333333333333\n",
      "Circuit done\n"
     ]
    },
    {
     "data": {
      "text/plain": [
       "None"
      ]
     },
     "metadata": {},
     "output_type": "display_data"
    },
    {
     "name": "stdout",
     "output_type": "stream",
     "text": [
      "run: 1\n"
     ]
    },
    {
     "data": {
      "text/plain": [
       "None"
      ]
     },
     "metadata": {},
     "output_type": "display_data"
    },
    {
     "name": "stdout",
     "output_type": "stream",
     "text": [
      "Mean Accuracy training: 0.7232142857142857\n",
      "Mean Accuracy testing: 0.7733333333333333\n",
      "run: 2\n"
     ]
    },
    {
     "data": {
      "text/plain": [
       "None"
      ]
     },
     "metadata": {},
     "output_type": "display_data"
    },
    {
     "name": "stdout",
     "output_type": "stream",
     "text": [
      "Mean Accuracy training: 0.7008928571428571\n",
      "Mean Accuracy testing: 0.76\n",
      "run: 3\n"
     ]
    },
    {
     "data": {
      "text/plain": [
       "None"
      ]
     },
     "metadata": {},
     "output_type": "display_data"
    },
    {
     "name": "stdout",
     "output_type": "stream",
     "text": [
      "Mean Accuracy training: 0.6875\n",
      "Mean Accuracy testing: 0.7333333333333333\n",
      "run: 4\n"
     ]
    },
    {
     "data": {
      "text/plain": [
       "None"
      ]
     },
     "metadata": {},
     "output_type": "display_data"
    },
    {
     "name": "stdout",
     "output_type": "stream",
     "text": [
      "Mean Accuracy training: 0.6741071428571429\n",
      "Mean Accuracy testing: 0.72\n",
      "run: 5\n"
     ]
    },
    {
     "data": {
      "text/plain": [
       "None"
      ]
     },
     "metadata": {},
     "output_type": "display_data"
    },
    {
     "name": "stdout",
     "output_type": "stream",
     "text": [
      "Mean Accuracy training: 0.6741071428571429\n",
      "Mean Accuracy testing: 0.72\n",
      "run: 6\n"
     ]
    },
    {
     "data": {
      "text/plain": [
       "None"
      ]
     },
     "metadata": {},
     "output_type": "display_data"
    },
    {
     "name": "stdout",
     "output_type": "stream",
     "text": [
      "Mean Accuracy training: 0.7276785714285714\n",
      "Mean Accuracy testing: 0.7866666666666666\n",
      "run: 7\n"
     ]
    },
    {
     "data": {
      "text/plain": [
       "None"
      ]
     },
     "metadata": {},
     "output_type": "display_data"
    },
    {
     "name": "stdout",
     "output_type": "stream",
     "text": [
      "Mean Accuracy training: 0.6830357142857143\n",
      "Mean Accuracy testing: 0.7466666666666667\n",
      "run: 8\n"
     ]
    },
    {
     "data": {
      "text/plain": [
       "None"
      ]
     },
     "metadata": {},
     "output_type": "display_data"
    },
    {
     "name": "stdout",
     "output_type": "stream",
     "text": [
      "Mean Accuracy training: 0.6785714285714286\n",
      "Mean Accuracy testing: 0.72\n",
      "run: 9\n"
     ]
    },
    {
     "data": {
      "text/plain": [
       "None"
      ]
     },
     "metadata": {},
     "output_type": "display_data"
    },
    {
     "name": "stdout",
     "output_type": "stream",
     "text": [
      "Mean Accuracy training: 0.6741071428571429\n",
      "Mean Accuracy testing: 0.72\n",
      "run: 10\n"
     ]
    },
    {
     "data": {
      "text/plain": [
       "None"
      ]
     },
     "metadata": {},
     "output_type": "display_data"
    },
    {
     "name": "stdout",
     "output_type": "stream",
     "text": [
      "Mean Accuracy training: 0.6741071428571429\n",
      "Mean Accuracy testing: 0.72\n",
      "Circuit done\n"
     ]
    },
    {
     "data": {
      "text/plain": [
       "None"
      ]
     },
     "metadata": {},
     "output_type": "display_data"
    },
    {
     "name": "stdout",
     "output_type": "stream",
     "text": [
      "run: 1\n"
     ]
    },
    {
     "data": {
      "text/plain": [
       "None"
      ]
     },
     "metadata": {},
     "output_type": "display_data"
    },
    {
     "name": "stdout",
     "output_type": "stream",
     "text": [
      "Mean Accuracy training: 0.6741071428571429\n",
      "Mean Accuracy testing: 0.72\n",
      "run: 2\n"
     ]
    },
    {
     "data": {
      "text/plain": [
       "None"
      ]
     },
     "metadata": {},
     "output_type": "display_data"
    },
    {
     "name": "stdout",
     "output_type": "stream",
     "text": [
      "Mean Accuracy training: 0.6875\n",
      "Mean Accuracy testing: 0.72\n",
      "run: 3\n"
     ]
    },
    {
     "data": {
      "text/plain": [
       "None"
      ]
     },
     "metadata": {},
     "output_type": "display_data"
    },
    {
     "name": "stdout",
     "output_type": "stream",
     "text": [
      "Mean Accuracy training: 0.6696428571428571\n",
      "Mean Accuracy testing: 0.72\n",
      "run: 4\n"
     ]
    },
    {
     "data": {
      "text/plain": [
       "None"
      ]
     },
     "metadata": {},
     "output_type": "display_data"
    },
    {
     "name": "stdout",
     "output_type": "stream",
     "text": [
      "Mean Accuracy training: 0.7008928571428571\n",
      "Mean Accuracy testing: 0.7733333333333333\n",
      "run: 5\n"
     ]
    },
    {
     "data": {
      "text/plain": [
       "None"
      ]
     },
     "metadata": {},
     "output_type": "display_data"
    },
    {
     "name": "stdout",
     "output_type": "stream",
     "text": [
      "Mean Accuracy training: 0.6785714285714286\n",
      "Mean Accuracy testing: 0.72\n",
      "run: 6\n"
     ]
    },
    {
     "data": {
      "text/plain": [
       "None"
      ]
     },
     "metadata": {},
     "output_type": "display_data"
    },
    {
     "name": "stdout",
     "output_type": "stream",
     "text": [
      "Mean Accuracy training: 0.6741071428571429\n",
      "Mean Accuracy testing: 0.72\n",
      "run: 7\n"
     ]
    },
    {
     "data": {
      "text/plain": [
       "None"
      ]
     },
     "metadata": {},
     "output_type": "display_data"
    },
    {
     "name": "stdout",
     "output_type": "stream",
     "text": [
      "Mean Accuracy training: 0.6651785714285714\n",
      "Mean Accuracy testing: 0.72\n",
      "run: 8\n"
     ]
    },
    {
     "data": {
      "text/plain": [
       "None"
      ]
     },
     "metadata": {},
     "output_type": "display_data"
    },
    {
     "name": "stdout",
     "output_type": "stream",
     "text": [
      "Mean Accuracy training: 0.6964285714285714\n",
      "Mean Accuracy testing: 0.7733333333333333\n",
      "run: 9\n"
     ]
    },
    {
     "data": {
      "text/plain": [
       "None"
      ]
     },
     "metadata": {},
     "output_type": "display_data"
    },
    {
     "name": "stdout",
     "output_type": "stream",
     "text": [
      "Mean Accuracy training: 0.6696428571428571\n",
      "Mean Accuracy testing: 0.72\n",
      "run: 10\n"
     ]
    },
    {
     "data": {
      "text/plain": [
       "None"
      ]
     },
     "metadata": {},
     "output_type": "display_data"
    },
    {
     "name": "stdout",
     "output_type": "stream",
     "text": [
      "Mean Accuracy training: 0.6741071428571429\n",
      "Mean Accuracy testing: 0.72\n",
      "Circuit done\n"
     ]
    },
    {
     "data": {
      "text/plain": [
       "None"
      ]
     },
     "metadata": {},
     "output_type": "display_data"
    },
    {
     "name": "stdout",
     "output_type": "stream",
     "text": [
      "run: 1\n"
     ]
    },
    {
     "data": {
      "text/plain": [
       "None"
      ]
     },
     "metadata": {},
     "output_type": "display_data"
    },
    {
     "name": "stdout",
     "output_type": "stream",
     "text": [
      "Mean Accuracy training: 0.6919642857142857\n",
      "Mean Accuracy testing: 0.7333333333333333\n",
      "run: 2\n"
     ]
    },
    {
     "data": {
      "text/plain": [
       "None"
      ]
     },
     "metadata": {},
     "output_type": "display_data"
    },
    {
     "name": "stdout",
     "output_type": "stream",
     "text": [
      "Mean Accuracy training: 0.6741071428571429\n",
      "Mean Accuracy testing: 0.72\n",
      "run: 3\n"
     ]
    },
    {
     "data": {
      "text/plain": [
       "None"
      ]
     },
     "metadata": {},
     "output_type": "display_data"
    },
    {
     "name": "stdout",
     "output_type": "stream",
     "text": [
      "Mean Accuracy training: 0.6875\n",
      "Mean Accuracy testing: 0.7333333333333333\n",
      "run: 4\n"
     ]
    },
    {
     "data": {
      "text/plain": [
       "None"
      ]
     },
     "metadata": {},
     "output_type": "display_data"
    },
    {
     "name": "stdout",
     "output_type": "stream",
     "text": [
      "Mean Accuracy training: 0.6651785714285714\n",
      "Mean Accuracy testing: 0.72\n",
      "run: 5\n"
     ]
    },
    {
     "data": {
      "text/plain": [
       "None"
      ]
     },
     "metadata": {},
     "output_type": "display_data"
    },
    {
     "name": "stdout",
     "output_type": "stream",
     "text": [
      "Mean Accuracy training: 0.7008928571428571\n",
      "Mean Accuracy testing: 0.7733333333333333\n",
      "run: 6\n"
     ]
    },
    {
     "data": {
      "text/plain": [
       "None"
      ]
     },
     "metadata": {},
     "output_type": "display_data"
    },
    {
     "name": "stdout",
     "output_type": "stream",
     "text": [
      "Mean Accuracy training: 0.7142857142857143\n",
      "Mean Accuracy testing: 0.7333333333333333\n",
      "run: 7\n"
     ]
    },
    {
     "data": {
      "text/plain": [
       "None"
      ]
     },
     "metadata": {},
     "output_type": "display_data"
    },
    {
     "name": "stdout",
     "output_type": "stream",
     "text": [
      "Mean Accuracy training: 0.6964285714285714\n",
      "Mean Accuracy testing: 0.7733333333333333\n",
      "run: 8\n"
     ]
    },
    {
     "data": {
      "text/plain": [
       "None"
      ]
     },
     "metadata": {},
     "output_type": "display_data"
    },
    {
     "name": "stdout",
     "output_type": "stream",
     "text": [
      "Mean Accuracy training: 0.6785714285714286\n",
      "Mean Accuracy testing: 0.72\n",
      "run: 9\n"
     ]
    },
    {
     "data": {
      "text/plain": [
       "None"
      ]
     },
     "metadata": {},
     "output_type": "display_data"
    },
    {
     "name": "stdout",
     "output_type": "stream",
     "text": [
      "Mean Accuracy training: 0.6785714285714286\n",
      "Mean Accuracy testing: 0.72\n",
      "run: 10\n"
     ]
    },
    {
     "data": {
      "text/plain": [
       "None"
      ]
     },
     "metadata": {},
     "output_type": "display_data"
    },
    {
     "name": "stdout",
     "output_type": "stream",
     "text": [
      "Mean Accuracy training: 0.6741071428571429\n",
      "Mean Accuracy testing: 0.72\n",
      "Circuit done\n"
     ]
    },
    {
     "data": {
      "text/plain": [
       "None"
      ]
     },
     "metadata": {},
     "output_type": "display_data"
    },
    {
     "name": "stdout",
     "output_type": "stream",
     "text": [
      "run: 1\n"
     ]
    },
    {
     "data": {
      "text/plain": [
       "None"
      ]
     },
     "metadata": {},
     "output_type": "display_data"
    },
    {
     "name": "stdout",
     "output_type": "stream",
     "text": [
      "Mean Accuracy training: 0.6741071428571429\n",
      "Mean Accuracy testing: 0.72\n",
      "run: 2\n"
     ]
    },
    {
     "data": {
      "text/plain": [
       "None"
      ]
     },
     "metadata": {},
     "output_type": "display_data"
    },
    {
     "name": "stdout",
     "output_type": "stream",
     "text": [
      "Mean Accuracy training: 0.6785714285714286\n",
      "Mean Accuracy testing: 0.72\n",
      "run: 3\n"
     ]
    },
    {
     "data": {
      "text/plain": [
       "None"
      ]
     },
     "metadata": {},
     "output_type": "display_data"
    },
    {
     "name": "stdout",
     "output_type": "stream",
     "text": [
      "Mean Accuracy training: 0.6785714285714286\n",
      "Mean Accuracy testing: 0.7733333333333333\n",
      "run: 4\n"
     ]
    },
    {
     "data": {
      "text/plain": [
       "None"
      ]
     },
     "metadata": {},
     "output_type": "display_data"
    },
    {
     "name": "stdout",
     "output_type": "stream",
     "text": [
      "Mean Accuracy training: 0.6830357142857143\n",
      "Mean Accuracy testing: 0.7466666666666667\n",
      "run: 5\n"
     ]
    },
    {
     "data": {
      "text/plain": [
       "None"
      ]
     },
     "metadata": {},
     "output_type": "display_data"
    },
    {
     "name": "stdout",
     "output_type": "stream",
     "text": [
      "Mean Accuracy training: 0.6785714285714286\n",
      "Mean Accuracy testing: 0.72\n",
      "run: 6\n"
     ]
    },
    {
     "data": {
      "text/plain": [
       "None"
      ]
     },
     "metadata": {},
     "output_type": "display_data"
    },
    {
     "name": "stdout",
     "output_type": "stream",
     "text": [
      "Mean Accuracy training: 0.6830357142857143\n",
      "Mean Accuracy testing: 0.7466666666666667\n",
      "run: 7\n"
     ]
    },
    {
     "data": {
      "text/plain": [
       "None"
      ]
     },
     "metadata": {},
     "output_type": "display_data"
    },
    {
     "name": "stdout",
     "output_type": "stream",
     "text": [
      "Mean Accuracy training: 0.6830357142857143\n",
      "Mean Accuracy testing: 0.72\n",
      "run: 8\n"
     ]
    },
    {
     "data": {
      "text/plain": [
       "None"
      ]
     },
     "metadata": {},
     "output_type": "display_data"
    },
    {
     "name": "stdout",
     "output_type": "stream",
     "text": [
      "Mean Accuracy training: 0.6919642857142857\n",
      "Mean Accuracy testing: 0.76\n",
      "run: 9\n"
     ]
    },
    {
     "data": {
      "text/plain": [
       "None"
      ]
     },
     "metadata": {},
     "output_type": "display_data"
    },
    {
     "name": "stdout",
     "output_type": "stream",
     "text": [
      "Mean Accuracy training: 0.6830357142857143\n",
      "Mean Accuracy testing: 0.72\n",
      "run: 10\n"
     ]
    },
    {
     "data": {
      "text/plain": [
       "None"
      ]
     },
     "metadata": {},
     "output_type": "display_data"
    },
    {
     "name": "stdout",
     "output_type": "stream",
     "text": [
      "Mean Accuracy training: 0.6741071428571429\n",
      "Mean Accuracy testing: 0.72\n",
      "Circuit done\n"
     ]
    },
    {
     "data": {
      "text/plain": [
       "None"
      ]
     },
     "metadata": {},
     "output_type": "display_data"
    },
    {
     "name": "stdout",
     "output_type": "stream",
     "text": [
      "run: 1\n"
     ]
    },
    {
     "data": {
      "text/plain": [
       "None"
      ]
     },
     "metadata": {},
     "output_type": "display_data"
    },
    {
     "name": "stdout",
     "output_type": "stream",
     "text": [
      "Mean Accuracy training: 0.7633928571428571\n",
      "Mean Accuracy testing: 0.8133333333333334\n",
      "run: 2\n"
     ]
    },
    {
     "data": {
      "text/plain": [
       "None"
      ]
     },
     "metadata": {},
     "output_type": "display_data"
    },
    {
     "name": "stdout",
     "output_type": "stream",
     "text": [
      "Mean Accuracy training: 0.7633928571428571\n",
      "Mean Accuracy testing: 0.8133333333333334\n",
      "run: 3\n"
     ]
    },
    {
     "data": {
      "text/plain": [
       "None"
      ]
     },
     "metadata": {},
     "output_type": "display_data"
    },
    {
     "name": "stdout",
     "output_type": "stream",
     "text": [
      "Mean Accuracy training: 0.7544642857142857\n",
      "Mean Accuracy testing: 0.8\n",
      "run: 4\n"
     ]
    },
    {
     "data": {
      "text/plain": [
       "None"
      ]
     },
     "metadata": {},
     "output_type": "display_data"
    },
    {
     "name": "stdout",
     "output_type": "stream",
     "text": [
      "Mean Accuracy training: 0.7098214285714286\n",
      "Mean Accuracy testing: 0.8\n",
      "run: 5\n"
     ]
    },
    {
     "data": {
      "text/plain": [
       "None"
      ]
     },
     "metadata": {},
     "output_type": "display_data"
    },
    {
     "name": "stdout",
     "output_type": "stream",
     "text": [
      "Mean Accuracy training: 0.7589285714285714\n",
      "Mean Accuracy testing: 0.8\n",
      "run: 6\n"
     ]
    },
    {
     "data": {
      "text/plain": [
       "None"
      ]
     },
     "metadata": {},
     "output_type": "display_data"
    },
    {
     "name": "stdout",
     "output_type": "stream",
     "text": [
      "Mean Accuracy training: 0.7723214285714286\n",
      "Mean Accuracy testing: 0.8\n",
      "run: 7\n"
     ]
    },
    {
     "data": {
      "text/plain": [
       "None"
      ]
     },
     "metadata": {},
     "output_type": "display_data"
    },
    {
     "name": "stdout",
     "output_type": "stream",
     "text": [
      "Mean Accuracy training: 0.7633928571428571\n",
      "Mean Accuracy testing: 0.8133333333333334\n",
      "run: 8\n"
     ]
    },
    {
     "data": {
      "text/plain": [
       "None"
      ]
     },
     "metadata": {},
     "output_type": "display_data"
    },
    {
     "name": "stdout",
     "output_type": "stream",
     "text": [
      "Mean Accuracy training: 0.7633928571428571\n",
      "Mean Accuracy testing: 0.8\n",
      "run: 9\n"
     ]
    },
    {
     "data": {
      "text/plain": [
       "None"
      ]
     },
     "metadata": {},
     "output_type": "display_data"
    },
    {
     "name": "stdout",
     "output_type": "stream",
     "text": [
      "Mean Accuracy training: 0.7544642857142857\n",
      "Mean Accuracy testing: 0.8\n",
      "run: 10\n"
     ]
    },
    {
     "data": {
      "text/plain": [
       "None"
      ]
     },
     "metadata": {},
     "output_type": "display_data"
    },
    {
     "name": "stdout",
     "output_type": "stream",
     "text": [
      "Mean Accuracy training: 0.7633928571428571\n",
      "Mean Accuracy testing: 0.8133333333333334\n",
      "Circuit done\n"
     ]
    },
    {
     "data": {
      "text/plain": [
       "None"
      ]
     },
     "metadata": {},
     "output_type": "display_data"
    }
   ],
   "source": [
    "normalized_runs = []\n",
    "\n",
    "display(print(\"Testing dataset 2\"))\n",
    "for circuit in circuits:\n",
    "    training_data = []\n",
    "    testing_data = []\n",
    "    for i in range(10):\n",
    "        display(print('run: ' + str(i+1)))\n",
    "        classifier = get_classifier(circuit.copy())\n",
    "        x_train,x_test,y_train,y_test = train_test_split(datasets[1], targets, test_size=1-3/4, random_state=69069)\n",
    "        score_train, score_test = fit_and_score(classifier, x_train, y_train.values, x_test, y_test.values)\n",
    "        training_data.append(score_train)\n",
    "        testing_data.append(score_test)\n",
    "    display(print('Circuit done'))\n",
    "    normalized_runs.append([training_data, testing_data])"
   ]
  },
  {
   "cell_type": "code",
   "execution_count": 16,
   "metadata": {},
   "outputs": [
    {
     "name": "stdout",
     "output_type": "stream",
     "text": [
      "[[[0.6741071428571429, 0.6785714285714286, 0.6830357142857143, 0.6830357142857143, 0.7053571428571429, 0.6785714285714286, 0.6964285714285714, 0.6919642857142857, 0.6964285714285714, 0.6919642857142857], [0.7733333333333333, 0.7733333333333333, 0.7733333333333333, 0.7733333333333333, 0.7866666666666666, 0.76, 0.7866666666666666, 0.7733333333333333, 0.76, 0.7733333333333333]], [[0.6919642857142857, 0.7142857142857143, 0.6696428571428571, 0.6875, 0.6964285714285714, 0.6830357142857143, 0.6696428571428571, 0.7098214285714286, 0.6696428571428571, 0.7008928571428571], [0.76, 0.7733333333333333, 0.72, 0.76, 0.7733333333333333, 0.7466666666666667, 0.72, 0.7733333333333333, 0.72, 0.7733333333333333]], [[0.7232142857142857, 0.7008928571428571, 0.6875, 0.6741071428571429, 0.6741071428571429, 0.7276785714285714, 0.6830357142857143, 0.6785714285714286, 0.6741071428571429, 0.6741071428571429], [0.7733333333333333, 0.76, 0.7333333333333333, 0.72, 0.72, 0.7866666666666666, 0.7466666666666667, 0.72, 0.72, 0.72]], [[0.6741071428571429, 0.6875, 0.6696428571428571, 0.7008928571428571, 0.6785714285714286, 0.6741071428571429, 0.6651785714285714, 0.6964285714285714, 0.6696428571428571, 0.6741071428571429], [0.72, 0.72, 0.72, 0.7733333333333333, 0.72, 0.72, 0.72, 0.7733333333333333, 0.72, 0.72]], [[0.6919642857142857, 0.6741071428571429, 0.6875, 0.6651785714285714, 0.7008928571428571, 0.7142857142857143, 0.6964285714285714, 0.6785714285714286, 0.6785714285714286, 0.6741071428571429], [0.7333333333333333, 0.72, 0.7333333333333333, 0.72, 0.7733333333333333, 0.7333333333333333, 0.7733333333333333, 0.72, 0.72, 0.72]], [[0.6741071428571429, 0.6785714285714286, 0.6785714285714286, 0.6830357142857143, 0.6785714285714286, 0.6830357142857143, 0.6830357142857143, 0.6919642857142857, 0.6830357142857143, 0.6741071428571429], [0.72, 0.72, 0.7733333333333333, 0.7466666666666667, 0.72, 0.7466666666666667, 0.72, 0.76, 0.72, 0.72]], [[0.7633928571428571, 0.7633928571428571, 0.7544642857142857, 0.7098214285714286, 0.7589285714285714, 0.7723214285714286, 0.7633928571428571, 0.7633928571428571, 0.7544642857142857, 0.7633928571428571], [0.8133333333333334, 0.8133333333333334, 0.8, 0.8, 0.8, 0.8, 0.8133333333333334, 0.8, 0.8, 0.8133333333333334]]]\n"
     ]
    }
   ],
   "source": [
    "print(normalized_runs)"
   ]
  },
  {
   "cell_type": "code",
   "execution_count": 51,
   "metadata": {},
   "outputs": [
    {
     "data": {
      "image/png": "[encoded data removed]",
      "text/plain": [
       "<Figure size 432x288 with 2 Axes>"
      ]
     },
     "metadata": {
      "needs_background": "light"
     },
     "output_type": "display_data"
    },
    {
     "data": {
      "text/plain": [
       "None"
      ]
     },
     "metadata": {},
     "output_type": "display_data"
    },
    {
     "data": {
      "image/png": "[encoded data removed]",
      "text/plain": [
       "<Figure size 432x288 with 2 Axes>"
      ]
     },
     "metadata": {
      "needs_background": "light"
     },
     "output_type": "display_data"
    },
    {
     "data": {
      "text/plain": [
       "None"
      ]
     },
     "metadata": {},
     "output_type": "display_data"
    },
    {
     "data": {
      "image/png": "[encoded data removed]",
      "text/plain": [
       "<Figure size 432x288 with 2 Axes>"
      ]
     },
     "metadata": {
      "needs_background": "light"
     },
     "output_type": "display_data"
    },
    {
     "data": {
      "text/plain": [
       "None"
      ]
     },
     "metadata": {},
     "output_type": "display_data"
    },
    {
     "data": {
      "image/png": "[encoded data removed]",
      "text/plain": [
       "<Figure size 432x288 with 2 Axes>"
      ]
     },
     "metadata": {
      "needs_background": "light"
     },
     "output_type": "display_data"
    },
    {
     "data": {
      "text/plain": [
       "None"
      ]
     },
     "metadata": {},
     "output_type": "display_data"
    },
    {
     "data": {
      "image/png": "[encoded data removed]",
      "text/plain": [
       "<Figure size 432x288 with 2 Axes>"
      ]
     },
     "metadata": {
      "needs_background": "light"
     },
     "output_type": "display_data"
    },
    {
     "data": {
      "text/plain": [
       "None"
      ]
     },
     "metadata": {},
     "output_type": "display_data"
    },
    {
     "data": {
      "image/png": "[encoded data removed]",
      "text/plain": [
       "<Figure size 432x288 with 2 Axes>"
      ]
     },
     "metadata": {
      "needs_background": "light"
     },
     "output_type": "display_data"
    },
    {
     "data": {
      "text/plain": [
       "None"
      ]
     },
     "metadata": {},
     "output_type": "display_data"
    },
    {
     "data": {
      "image/png": "[encoded data removed]",
      "text/plain": [
       "<Figure size 432x288 with 2 Axes>"
      ]
     },
     "metadata": {
      "needs_background": "light"
     },
     "output_type": "display_data"
    },
    {
     "data": {
      "text/plain": [
       "None"
      ]
     },
     "metadata": {},
     "output_type": "display_data"
    }
   ],
   "source": [
    "for index, run in enumerate(normalized_runs):\n",
    "    title = \"Normalized data with 10 iterations @\" + str(n_shots) + \" shots for circuit \" + str(index+1)\n",
    "    plot_boxplots(run, title, index+1, save=True)"
   ]
  },
  {
   "cell_type": "code",
   "execution_count": 20,
   "metadata": {},
   "outputs": [
    {
     "name": "stdout",
     "output_type": "stream",
     "text": [
      "Testing dataset 3\n"
     ]
    },
    {
     "data": {
      "text/plain": [
       "None"
      ]
     },
     "metadata": {},
     "output_type": "display_data"
    },
    {
     "name": "stdout",
     "output_type": "stream",
     "text": [
      "run: 1\n"
     ]
    },
    {
     "data": {
      "text/plain": [
       "None"
      ]
     },
     "metadata": {},
     "output_type": "display_data"
    },
    {
     "name": "stdout",
     "output_type": "stream",
     "text": [
      "Mean Accuracy training: 0.7232142857142857\n",
      "Mean Accuracy testing: 0.68\n",
      "run: 2\n"
     ]
    },
    {
     "data": {
      "text/plain": [
       "None"
      ]
     },
     "metadata": {},
     "output_type": "display_data"
    },
    {
     "name": "stdout",
     "output_type": "stream",
     "text": [
      "Mean Accuracy training: 0.7410714285714286\n",
      "Mean Accuracy testing: 0.68\n",
      "run: 3\n"
     ]
    },
    {
     "data": {
      "text/plain": [
       "None"
      ]
     },
     "metadata": {},
     "output_type": "display_data"
    },
    {
     "name": "stdout",
     "output_type": "stream",
     "text": [
      "Mean Accuracy training: 0.6205357142857143\n",
      "Mean Accuracy testing: 0.64\n",
      "run: 4\n"
     ]
    },
    {
     "data": {
      "text/plain": [
       "None"
      ]
     },
     "metadata": {},
     "output_type": "display_data"
    },
    {
     "name": "stdout",
     "output_type": "stream",
     "text": [
      "Mean Accuracy training: 0.7276785714285714\n",
      "Mean Accuracy testing: 0.68\n",
      "run: 5\n"
     ]
    },
    {
     "data": {
      "text/plain": [
       "None"
      ]
     },
     "metadata": {},
     "output_type": "display_data"
    },
    {
     "name": "stdout",
     "output_type": "stream",
     "text": [
      "Mean Accuracy training: 0.7232142857142857\n",
      "Mean Accuracy testing: 0.6666666666666666\n",
      "run: 6\n"
     ]
    },
    {
     "data": {
      "text/plain": [
       "None"
      ]
     },
     "metadata": {},
     "output_type": "display_data"
    },
    {
     "name": "stdout",
     "output_type": "stream",
     "text": [
      "Mean Accuracy training: 0.6383928571428571\n",
      "Mean Accuracy testing: 0.6533333333333333\n",
      "run: 7\n"
     ]
    },
    {
     "data": {
      "text/plain": [
       "None"
      ]
     },
     "metadata": {},
     "output_type": "display_data"
    },
    {
     "name": "stdout",
     "output_type": "stream",
     "text": [
      "Mean Accuracy training: 0.6339285714285714\n",
      "Mean Accuracy testing: 0.6666666666666666\n",
      "run: 8\n"
     ]
    },
    {
     "data": {
      "text/plain": [
       "None"
      ]
     },
     "metadata": {},
     "output_type": "display_data"
    },
    {
     "name": "stdout",
     "output_type": "stream",
     "text": [
      "Mean Accuracy training: 0.6294642857142857\n",
      "Mean Accuracy testing: 0.68\n",
      "run: 9\n"
     ]
    },
    {
     "data": {
      "text/plain": [
       "None"
      ]
     },
     "metadata": {},
     "output_type": "display_data"
    },
    {
     "name": "stdout",
     "output_type": "stream",
     "text": [
      "Mean Accuracy training: 0.6651785714285714\n",
      "Mean Accuracy testing: 0.68\n",
      "run: 10\n"
     ]
    },
    {
     "data": {
      "text/plain": [
       "None"
      ]
     },
     "metadata": {},
     "output_type": "display_data"
    },
    {
     "name": "stdout",
     "output_type": "stream",
     "text": [
      "Mean Accuracy training: 0.6160714285714286\n",
      "Mean Accuracy testing: 0.5066666666666667\n",
      "Circuit done\n"
     ]
    },
    {
     "data": {
      "text/plain": [
       "None"
      ]
     },
     "metadata": {},
     "output_type": "display_data"
    },
    {
     "name": "stdout",
     "output_type": "stream",
     "text": [
      "run: 1\n"
     ]
    },
    {
     "data": {
      "text/plain": [
       "None"
      ]
     },
     "metadata": {},
     "output_type": "display_data"
    },
    {
     "name": "stdout",
     "output_type": "stream",
     "text": [
      "Mean Accuracy training: 0.6294642857142857\n",
      "Mean Accuracy testing: 0.6533333333333333\n",
      "run: 2\n"
     ]
    },
    {
     "data": {
      "text/plain": [
       "None"
      ]
     },
     "metadata": {},
     "output_type": "display_data"
    },
    {
     "name": "stdout",
     "output_type": "stream",
     "text": [
      "Mean Accuracy training: 0.7321428571428571\n",
      "Mean Accuracy testing: 0.7066666666666667\n",
      "run: 3\n"
     ]
    },
    {
     "data": {
      "text/plain": [
       "None"
      ]
     },
     "metadata": {},
     "output_type": "display_data"
    },
    {
     "name": "stdout",
     "output_type": "stream",
     "text": [
      "Mean Accuracy training: 0.6026785714285714\n",
      "Mean Accuracy testing: 0.64\n",
      "run: 4\n"
     ]
    },
    {
     "data": {
      "text/plain": [
       "None"
      ]
     },
     "metadata": {},
     "output_type": "display_data"
    },
    {
     "name": "stdout",
     "output_type": "stream",
     "text": [
      "Mean Accuracy training: 0.6116071428571429\n",
      "Mean Accuracy testing: 0.6533333333333333\n",
      "run: 5\n"
     ]
    },
    {
     "data": {
      "text/plain": [
       "None"
      ]
     },
     "metadata": {},
     "output_type": "display_data"
    },
    {
     "name": "stdout",
     "output_type": "stream",
     "text": [
      "Mean Accuracy training: 0.6071428571428571\n",
      "Mean Accuracy testing: 0.6533333333333333\n",
      "run: 6\n"
     ]
    },
    {
     "data": {
      "text/plain": [
       "None"
      ]
     },
     "metadata": {},
     "output_type": "display_data"
    },
    {
     "name": "stdout",
     "output_type": "stream",
     "text": [
      "Mean Accuracy training: 0.6026785714285714\n",
      "Mean Accuracy testing: 0.5733333333333334\n",
      "run: 7\n"
     ]
    },
    {
     "data": {
      "text/plain": [
       "None"
      ]
     },
     "metadata": {},
     "output_type": "display_data"
    },
    {
     "name": "stdout",
     "output_type": "stream",
     "text": [
      "Mean Accuracy training: 0.7321428571428571\n",
      "Mean Accuracy testing: 0.68\n",
      "run: 8\n"
     ]
    },
    {
     "data": {
      "text/plain": [
       "None"
      ]
     },
     "metadata": {},
     "output_type": "display_data"
    },
    {
     "name": "stdout",
     "output_type": "stream",
     "text": [
      "Mean Accuracy training: 0.71875\n",
      "Mean Accuracy testing: 0.6666666666666666\n",
      "run: 9\n"
     ]
    },
    {
     "data": {
      "text/plain": [
       "None"
      ]
     },
     "metadata": {},
     "output_type": "display_data"
    },
    {
     "name": "stdout",
     "output_type": "stream",
     "text": [
      "Mean Accuracy training: 0.71875\n",
      "Mean Accuracy testing: 0.68\n",
      "run: 10\n"
     ]
    },
    {
     "data": {
      "text/plain": [
       "None"
      ]
     },
     "metadata": {},
     "output_type": "display_data"
    },
    {
     "name": "stdout",
     "output_type": "stream",
     "text": [
      "Mean Accuracy training: 0.7098214285714286\n",
      "Mean Accuracy testing: 0.6666666666666666\n",
      "Circuit done\n"
     ]
    },
    {
     "data": {
      "text/plain": [
       "None"
      ]
     },
     "metadata": {},
     "output_type": "display_data"
    },
    {
     "name": "stdout",
     "output_type": "stream",
     "text": [
      "run: 1\n"
     ]
    },
    {
     "data": {
      "text/plain": [
       "None"
      ]
     },
     "metadata": {},
     "output_type": "display_data"
    },
    {
     "name": "stdout",
     "output_type": "stream",
     "text": [
      "Mean Accuracy training: 0.6205357142857143\n",
      "Mean Accuracy testing: 0.6666666666666666\n",
      "run: 2\n"
     ]
    },
    {
     "data": {
      "text/plain": [
       "None"
      ]
     },
     "metadata": {},
     "output_type": "display_data"
    },
    {
     "name": "stdout",
     "output_type": "stream",
     "text": [
      "Mean Accuracy training: 0.6607142857142857\n",
      "Mean Accuracy testing: 0.7066666666666667\n",
      "run: 3\n"
     ]
    },
    {
     "data": {
      "text/plain": [
       "None"
      ]
     },
     "metadata": {},
     "output_type": "display_data"
    },
    {
     "name": "stdout",
     "output_type": "stream",
     "text": [
      "Mean Accuracy training: 0.6026785714285714\n",
      "Mean Accuracy testing: 0.6266666666666667\n",
      "run: 4\n"
     ]
    },
    {
     "data": {
      "text/plain": [
       "None"
      ]
     },
     "metadata": {},
     "output_type": "display_data"
    },
    {
     "name": "stdout",
     "output_type": "stream",
     "text": [
      "Mean Accuracy training: 0.625\n",
      "Mean Accuracy testing: 0.6666666666666666\n",
      "run: 5\n"
     ]
    },
    {
     "data": {
      "text/plain": [
       "None"
      ]
     },
     "metadata": {},
     "output_type": "display_data"
    },
    {
     "name": "stdout",
     "output_type": "stream",
     "text": [
      "Mean Accuracy training: 0.6160714285714286\n",
      "Mean Accuracy testing: 0.64\n",
      "run: 6\n"
     ]
    },
    {
     "data": {
      "text/plain": [
       "None"
      ]
     },
     "metadata": {},
     "output_type": "display_data"
    },
    {
     "name": "stdout",
     "output_type": "stream",
     "text": [
      "Mean Accuracy training: 0.6116071428571429\n",
      "Mean Accuracy testing: 0.64\n",
      "run: 7\n"
     ]
    },
    {
     "data": {
      "text/plain": [
       "None"
      ]
     },
     "metadata": {},
     "output_type": "display_data"
    },
    {
     "name": "stdout",
     "output_type": "stream",
     "text": [
      "Mean Accuracy training: 0.6205357142857143\n",
      "Mean Accuracy testing: 0.6533333333333333\n",
      "run: 8\n"
     ]
    },
    {
     "data": {
      "text/plain": [
       "None"
      ]
     },
     "metadata": {},
     "output_type": "display_data"
    },
    {
     "name": "stdout",
     "output_type": "stream",
     "text": [
      "Mean Accuracy training: 0.6160714285714286\n",
      "Mean Accuracy testing: 0.6266666666666667\n",
      "run: 9\n"
     ]
    },
    {
     "data": {
      "text/plain": [
       "None"
      ]
     },
     "metadata": {},
     "output_type": "display_data"
    },
    {
     "name": "stdout",
     "output_type": "stream",
     "text": [
      "Mean Accuracy training: 0.6205357142857143\n",
      "Mean Accuracy testing: 0.64\n",
      "run: 10\n"
     ]
    },
    {
     "data": {
      "text/plain": [
       "None"
      ]
     },
     "metadata": {},
     "output_type": "display_data"
    },
    {
     "name": "stdout",
     "output_type": "stream",
     "text": [
      "Mean Accuracy training: 0.6160714285714286\n",
      "Mean Accuracy testing: 0.6533333333333333\n",
      "Circuit done\n"
     ]
    },
    {
     "data": {
      "text/plain": [
       "None"
      ]
     },
     "metadata": {},
     "output_type": "display_data"
    },
    {
     "name": "stdout",
     "output_type": "stream",
     "text": [
      "run: 1\n"
     ]
    },
    {
     "data": {
      "text/plain": [
       "None"
      ]
     },
     "metadata": {},
     "output_type": "display_data"
    },
    {
     "name": "stdout",
     "output_type": "stream",
     "text": [
      "Mean Accuracy training: 0.6785714285714286\n",
      "Mean Accuracy testing: 0.7066666666666667\n",
      "run: 2\n"
     ]
    },
    {
     "data": {
      "text/plain": [
       "None"
      ]
     },
     "metadata": {},
     "output_type": "display_data"
    },
    {
     "name": "stdout",
     "output_type": "stream",
     "text": [
      "Mean Accuracy training: 0.7544642857142857\n",
      "Mean Accuracy testing: 0.7466666666666667\n",
      "run: 3\n"
     ]
    },
    {
     "data": {
      "text/plain": [
       "None"
      ]
     },
     "metadata": {},
     "output_type": "display_data"
    },
    {
     "name": "stdout",
     "output_type": "stream",
     "text": [
      "Mean Accuracy training: 0.7142857142857143\n",
      "Mean Accuracy testing: 0.68\n",
      "run: 4\n"
     ]
    },
    {
     "data": {
      "text/plain": [
       "None"
      ]
     },
     "metadata": {},
     "output_type": "display_data"
    },
    {
     "name": "stdout",
     "output_type": "stream",
     "text": [
      "Mean Accuracy training: 0.75\n",
      "Mean Accuracy testing: 0.8\n",
      "run: 5\n"
     ]
    },
    {
     "data": {
      "text/plain": [
       "None"
      ]
     },
     "metadata": {},
     "output_type": "display_data"
    },
    {
     "name": "stdout",
     "output_type": "stream",
     "text": [
      "Mean Accuracy training: 0.6116071428571429\n",
      "Mean Accuracy testing: 0.6666666666666666\n",
      "run: 6\n"
     ]
    },
    {
     "data": {
      "text/plain": [
       "None"
      ]
     },
     "metadata": {},
     "output_type": "display_data"
    },
    {
     "name": "stdout",
     "output_type": "stream",
     "text": [
      "Mean Accuracy training: 0.6830357142857143\n",
      "Mean Accuracy testing: 0.76\n",
      "run: 7\n"
     ]
    },
    {
     "data": {
      "text/plain": [
       "None"
      ]
     },
     "metadata": {},
     "output_type": "display_data"
    },
    {
     "name": "stdout",
     "output_type": "stream",
     "text": [
      "Mean Accuracy training: 0.75\n",
      "Mean Accuracy testing: 0.72\n",
      "run: 8\n"
     ]
    },
    {
     "data": {
      "text/plain": [
       "None"
      ]
     },
     "metadata": {},
     "output_type": "display_data"
    },
    {
     "name": "stdout",
     "output_type": "stream",
     "text": [
      "Mean Accuracy training: 0.75\n",
      "Mean Accuracy testing: 0.6933333333333334\n",
      "run: 9\n"
     ]
    },
    {
     "data": {
      "text/plain": [
       "None"
      ]
     },
     "metadata": {},
     "output_type": "display_data"
    },
    {
     "name": "stdout",
     "output_type": "stream",
     "text": [
      "Mean Accuracy training: 0.7410714285714286\n",
      "Mean Accuracy testing: 0.7733333333333333\n",
      "run: 10\n"
     ]
    },
    {
     "data": {
      "text/plain": [
       "None"
      ]
     },
     "metadata": {},
     "output_type": "display_data"
    },
    {
     "name": "stdout",
     "output_type": "stream",
     "text": [
      "Mean Accuracy training: 0.75\n",
      "Mean Accuracy testing: 0.68\n",
      "Circuit done\n"
     ]
    },
    {
     "data": {
      "text/plain": [
       "None"
      ]
     },
     "metadata": {},
     "output_type": "display_data"
    },
    {
     "name": "stdout",
     "output_type": "stream",
     "text": [
      "run: 1\n"
     ]
    },
    {
     "data": {
      "text/plain": [
       "None"
      ]
     },
     "metadata": {},
     "output_type": "display_data"
    },
    {
     "name": "stdout",
     "output_type": "stream",
     "text": [
      "Mean Accuracy training: 0.6830357142857143\n",
      "Mean Accuracy testing: 0.72\n",
      "run: 2\n"
     ]
    },
    {
     "data": {
      "text/plain": [
       "None"
      ]
     },
     "metadata": {},
     "output_type": "display_data"
    },
    {
     "name": "stdout",
     "output_type": "stream",
     "text": [
      "Mean Accuracy training: 0.6875\n",
      "Mean Accuracy testing: 0.7066666666666667\n",
      "run: 3\n"
     ]
    },
    {
     "data": {
      "text/plain": [
       "None"
      ]
     },
     "metadata": {},
     "output_type": "display_data"
    },
    {
     "name": "stdout",
     "output_type": "stream",
     "text": [
      "Mean Accuracy training: 0.6785714285714286\n",
      "Mean Accuracy testing: 0.72\n",
      "run: 4\n"
     ]
    },
    {
     "data": {
      "text/plain": [
       "None"
      ]
     },
     "metadata": {},
     "output_type": "display_data"
    },
    {
     "name": "stdout",
     "output_type": "stream",
     "text": [
      "Mean Accuracy training: 0.6830357142857143\n",
      "Mean Accuracy testing: 0.7066666666666667\n",
      "run: 5\n"
     ]
    },
    {
     "data": {
      "text/plain": [
       "None"
      ]
     },
     "metadata": {},
     "output_type": "display_data"
    },
    {
     "name": "stdout",
     "output_type": "stream",
     "text": [
      "Mean Accuracy training: 0.6830357142857143\n",
      "Mean Accuracy testing: 0.7066666666666667\n",
      "run: 6\n"
     ]
    },
    {
     "data": {
      "text/plain": [
       "None"
      ]
     },
     "metadata": {},
     "output_type": "display_data"
    },
    {
     "name": "stdout",
     "output_type": "stream",
     "text": [
      "Mean Accuracy training: 0.6964285714285714\n",
      "Mean Accuracy testing: 0.7066666666666667\n",
      "run: 7\n"
     ]
    },
    {
     "data": {
      "text/plain": [
       "None"
      ]
     },
     "metadata": {},
     "output_type": "display_data"
    },
    {
     "name": "stdout",
     "output_type": "stream",
     "text": [
      "Mean Accuracy training: 0.6830357142857143\n",
      "Mean Accuracy testing: 0.72\n",
      "run: 8\n"
     ]
    },
    {
     "data": {
      "text/plain": [
       "None"
      ]
     },
     "metadata": {},
     "output_type": "display_data"
    },
    {
     "name": "stdout",
     "output_type": "stream",
     "text": [
      "Mean Accuracy training: 0.6830357142857143\n",
      "Mean Accuracy testing: 0.72\n",
      "run: 9\n"
     ]
    },
    {
     "data": {
      "text/plain": [
       "None"
      ]
     },
     "metadata": {},
     "output_type": "display_data"
    },
    {
     "name": "stdout",
     "output_type": "stream",
     "text": [
      "Mean Accuracy training: 0.6875\n",
      "Mean Accuracy testing: 0.6933333333333334\n",
      "run: 10\n"
     ]
    },
    {
     "data": {
      "text/plain": [
       "None"
      ]
     },
     "metadata": {},
     "output_type": "display_data"
    },
    {
     "name": "stdout",
     "output_type": "stream",
     "text": [
      "Mean Accuracy training: 0.6875\n",
      "Mean Accuracy testing: 0.7066666666666667\n",
      "Circuit done\n"
     ]
    },
    {
     "data": {
      "text/plain": [
       "None"
      ]
     },
     "metadata": {},
     "output_type": "display_data"
    },
    {
     "name": "stdout",
     "output_type": "stream",
     "text": [
      "run: 1\n"
     ]
    },
    {
     "data": {
      "text/plain": [
       "None"
      ]
     },
     "metadata": {},
     "output_type": "display_data"
    },
    {
     "name": "stdout",
     "output_type": "stream",
     "text": [
      "Mean Accuracy training: 0.7008928571428571\n",
      "Mean Accuracy testing: 0.6933333333333334\n",
      "run: 2\n"
     ]
    },
    {
     "data": {
      "text/plain": [
       "None"
      ]
     },
     "metadata": {},
     "output_type": "display_data"
    },
    {
     "name": "stdout",
     "output_type": "stream",
     "text": [
      "Mean Accuracy training: 0.7053571428571429\n",
      "Mean Accuracy testing: 0.6933333333333334\n",
      "run: 3\n"
     ]
    },
    {
     "data": {
      "text/plain": [
       "None"
      ]
     },
     "metadata": {},
     "output_type": "display_data"
    },
    {
     "name": "stdout",
     "output_type": "stream",
     "text": [
      "Mean Accuracy training: 0.7321428571428571\n",
      "Mean Accuracy testing: 0.6533333333333333\n",
      "run: 4\n"
     ]
    },
    {
     "data": {
      "text/plain": [
       "None"
      ]
     },
     "metadata": {},
     "output_type": "display_data"
    },
    {
     "name": "stdout",
     "output_type": "stream",
     "text": [
      "Mean Accuracy training: 0.7098214285714286\n",
      "Mean Accuracy testing: 0.6933333333333334\n",
      "run: 5\n"
     ]
    },
    {
     "data": {
      "text/plain": [
       "None"
      ]
     },
     "metadata": {},
     "output_type": "display_data"
    },
    {
     "name": "stdout",
     "output_type": "stream",
     "text": [
      "Mean Accuracy training: 0.7142857142857143\n",
      "Mean Accuracy testing: 0.7066666666666667\n",
      "run: 6\n"
     ]
    },
    {
     "data": {
      "text/plain": [
       "None"
      ]
     },
     "metadata": {},
     "output_type": "display_data"
    },
    {
     "name": "stdout",
     "output_type": "stream",
     "text": [
      "Mean Accuracy training: 0.6919642857142857\n",
      "Mean Accuracy testing: 0.64\n",
      "run: 7\n"
     ]
    },
    {
     "data": {
      "text/plain": [
       "None"
      ]
     },
     "metadata": {},
     "output_type": "display_data"
    },
    {
     "name": "stdout",
     "output_type": "stream",
     "text": [
      "Mean Accuracy training: 0.7008928571428571\n",
      "Mean Accuracy testing: 0.6933333333333334\n",
      "run: 8\n"
     ]
    },
    {
     "data": {
      "text/plain": [
       "None"
      ]
     },
     "metadata": {},
     "output_type": "display_data"
    },
    {
     "name": "stdout",
     "output_type": "stream",
     "text": [
      "Mean Accuracy training: 0.7276785714285714\n",
      "Mean Accuracy testing: 0.7066666666666667\n",
      "run: 9\n"
     ]
    },
    {
     "data": {
      "text/plain": [
       "None"
      ]
     },
     "metadata": {},
     "output_type": "display_data"
    },
    {
     "name": "stdout",
     "output_type": "stream",
     "text": [
      "Mean Accuracy training: 0.6964285714285714\n",
      "Mean Accuracy testing: 0.68\n",
      "run: 10\n"
     ]
    },
    {
     "data": {
      "text/plain": [
       "None"
      ]
     },
     "metadata": {},
     "output_type": "display_data"
    },
    {
     "name": "stdout",
     "output_type": "stream",
     "text": [
      "Mean Accuracy training: 0.7053571428571429\n",
      "Mean Accuracy testing: 0.6666666666666666\n",
      "Circuit done\n"
     ]
    },
    {
     "data": {
      "text/plain": [
       "None"
      ]
     },
     "metadata": {},
     "output_type": "display_data"
    },
    {
     "name": "stdout",
     "output_type": "stream",
     "text": [
      "run: 1\n"
     ]
    },
    {
     "data": {
      "text/plain": [
       "None"
      ]
     },
     "metadata": {},
     "output_type": "display_data"
    },
    {
     "name": "stdout",
     "output_type": "stream",
     "text": [
      "Mean Accuracy training: 0.6607142857142857\n",
      "Mean Accuracy testing: 0.5066666666666667\n",
      "run: 2\n"
     ]
    },
    {
     "data": {
      "text/plain": [
       "None"
      ]
     },
     "metadata": {},
     "output_type": "display_data"
    },
    {
     "name": "stdout",
     "output_type": "stream",
     "text": [
      "Mean Accuracy training: 0.6607142857142857\n",
      "Mean Accuracy testing: 0.5066666666666667\n",
      "run: 3\n"
     ]
    },
    {
     "data": {
      "text/plain": [
       "None"
      ]
     },
     "metadata": {},
     "output_type": "display_data"
    },
    {
     "name": "stdout",
     "output_type": "stream",
     "text": [
      "Mean Accuracy training: 0.6428571428571429\n",
      "Mean Accuracy testing: 0.52\n",
      "run: 4\n"
     ]
    },
    {
     "data": {
      "text/plain": [
       "None"
      ]
     },
     "metadata": {},
     "output_type": "display_data"
    },
    {
     "name": "stdout",
     "output_type": "stream",
     "text": [
      "Mean Accuracy training: 0.6651785714285714\n",
      "Mean Accuracy testing: 0.52\n",
      "run: 5\n"
     ]
    },
    {
     "data": {
      "text/plain": [
       "None"
      ]
     },
     "metadata": {},
     "output_type": "display_data"
    },
    {
     "name": "stdout",
     "output_type": "stream",
     "text": [
      "Mean Accuracy training: 0.6517857142857143\n",
      "Mean Accuracy testing: 0.52\n",
      "run: 6\n"
     ]
    },
    {
     "data": {
      "text/plain": [
       "None"
      ]
     },
     "metadata": {},
     "output_type": "display_data"
    },
    {
     "name": "stdout",
     "output_type": "stream",
     "text": [
      "Mean Accuracy training: 0.6473214285714286\n",
      "Mean Accuracy testing: 0.5066666666666667\n",
      "run: 7\n"
     ]
    },
    {
     "data": {
      "text/plain": [
       "None"
      ]
     },
     "metadata": {},
     "output_type": "display_data"
    },
    {
     "name": "stdout",
     "output_type": "stream",
     "text": [
      "Mean Accuracy training: 0.65625\n",
      "Mean Accuracy testing: 0.5066666666666667\n",
      "run: 8\n"
     ]
    },
    {
     "data": {
      "text/plain": [
       "None"
      ]
     },
     "metadata": {},
     "output_type": "display_data"
    },
    {
     "name": "stdout",
     "output_type": "stream",
     "text": [
      "Mean Accuracy training: 0.65625\n",
      "Mean Accuracy testing: 0.5066666666666667\n",
      "run: 9\n"
     ]
    },
    {
     "data": {
      "text/plain": [
       "None"
      ]
     },
     "metadata": {},
     "output_type": "display_data"
    },
    {
     "name": "stdout",
     "output_type": "stream",
     "text": [
      "Mean Accuracy training: 0.65625\n",
      "Mean Accuracy testing: 0.5066666666666667\n",
      "run: 10\n"
     ]
    },
    {
     "data": {
      "text/plain": [
       "None"
      ]
     },
     "metadata": {},
     "output_type": "display_data"
    },
    {
     "name": "stdout",
     "output_type": "stream",
     "text": [
      "Mean Accuracy training: 0.65625\n",
      "Mean Accuracy testing: 0.5066666666666667\n",
      "Circuit done\n"
     ]
    },
    {
     "data": {
      "text/plain": [
       "None"
      ]
     },
     "metadata": {},
     "output_type": "display_data"
    }
   ],
   "source": [
    "pified_runs = []\n",
    "\n",
    "\n",
    "display(print(\"Testing dataset 3\"))\n",
    "for circuit in circuits:\n",
    "    training_data = []\n",
    "    testing_data = []\n",
    "    for i in range(10):\n",
    "        display(print('run: ' + str(i+1)))\n",
    "        classifier = get_classifier(circuit.copy())\n",
    "        x_train,x_test,y_train,y_test = train_test_split(datasets[2], targets, test_size=1-3/4, random_state=69069)\n",
    "        score_train, score_test = fit_and_score(classifier, x_train, y_train.values, x_test, y_test.values)\n",
    "        training_data.append(score_train)\n",
    "        testing_data.append(score_test)\n",
    "    display(print('Circuit done'))\n",
    "    pified_runs.append([training_data, testing_data])"
   ]
  },
  {
   "cell_type": "code",
   "execution_count": 21,
   "metadata": {},
   "outputs": [
    {
     "name": "stdout",
     "output_type": "stream",
     "text": [
      "[[[0.7232142857142857, 0.7410714285714286, 0.6205357142857143, 0.7276785714285714, 0.7232142857142857, 0.6383928571428571, 0.6339285714285714, 0.6294642857142857, 0.6651785714285714, 0.6160714285714286], [0.68, 0.68, 0.64, 0.68, 0.6666666666666666, 0.6533333333333333, 0.6666666666666666, 0.68, 0.68, 0.5066666666666667]], [[0.6294642857142857, 0.7321428571428571, 0.6026785714285714, 0.6116071428571429, 0.6071428571428571, 0.6026785714285714, 0.7321428571428571, 0.71875, 0.71875, 0.7098214285714286], [0.6533333333333333, 0.7066666666666667, 0.64, 0.6533333333333333, 0.6533333333333333, 0.5733333333333334, 0.68, 0.6666666666666666, 0.68, 0.6666666666666666]], [[0.6205357142857143, 0.6607142857142857, 0.6026785714285714, 0.625, 0.6160714285714286, 0.6116071428571429, 0.6205357142857143, 0.6160714285714286, 0.6205357142857143, 0.6160714285714286], [0.6666666666666666, 0.7066666666666667, 0.6266666666666667, 0.6666666666666666, 0.64, 0.64, 0.6533333333333333, 0.6266666666666667, 0.64, 0.6533333333333333]], [[0.6785714285714286, 0.7544642857142857, 0.7142857142857143, 0.75, 0.6116071428571429, 0.6830357142857143, 0.75, 0.75, 0.7410714285714286, 0.75], [0.7066666666666667, 0.7466666666666667, 0.68, 0.8, 0.6666666666666666, 0.76, 0.72, 0.6933333333333334, 0.7733333333333333, 0.68]], [[0.6830357142857143, 0.6875, 0.6785714285714286, 0.6830357142857143, 0.6830357142857143, 0.6964285714285714, 0.6830357142857143, 0.6830357142857143, 0.6875, 0.6875], [0.72, 0.7066666666666667, 0.72, 0.7066666666666667, 0.7066666666666667, 0.7066666666666667, 0.72, 0.72, 0.6933333333333334, 0.7066666666666667]], [[0.7008928571428571, 0.7053571428571429, 0.7321428571428571, 0.7098214285714286, 0.7142857142857143, 0.6919642857142857, 0.7008928571428571, 0.7276785714285714, 0.6964285714285714, 0.7053571428571429], [0.6933333333333334, 0.6933333333333334, 0.6533333333333333, 0.6933333333333334, 0.7066666666666667, 0.64, 0.6933333333333334, 0.7066666666666667, 0.68, 0.6666666666666666]], [[0.6607142857142857, 0.6607142857142857, 0.6428571428571429, 0.6651785714285714, 0.6517857142857143, 0.6473214285714286, 0.65625, 0.65625, 0.65625, 0.65625], [0.5066666666666667, 0.5066666666666667, 0.52, 0.52, 0.52, 0.5066666666666667, 0.5066666666666667, 0.5066666666666667, 0.5066666666666667, 0.5066666666666667]]]\n"
     ]
    }
   ],
   "source": [
    "print(pified_runs)"
   ]
  },
  {
   "cell_type": "code",
   "execution_count": 52,
   "metadata": {},
   "outputs": [
    {
     "data": {
      "image/png": "[encoded data removed]",
      "text/plain": [
       "<Figure size 432x288 with 2 Axes>"
      ]
     },
     "metadata": {
      "needs_background": "light"
     },
     "output_type": "display_data"
    },
    {
     "data": {
      "text/plain": [
       "None"
      ]
     },
     "metadata": {},
     "output_type": "display_data"
    },
    {
     "data": {
      "image/png": "[encoded data removed]",
      "text/plain": [
       "<Figure size 432x288 with 2 Axes>"
      ]
     },
     "metadata": {
      "needs_background": "light"
     },
     "output_type": "display_data"
    },
    {
     "data": {
      "text/plain": [
       "None"
      ]
     },
     "metadata": {},
     "output_type": "display_data"
    },
    {
     "data": {
      "image/png": "[encoded data removed]",
      "text/plain": [
       "<Figure size 432x288 with 2 Axes>"
      ]
     },
     "metadata": {
      "needs_background": "light"
     },
     "output_type": "display_data"
    },
    {
     "data": {
      "text/plain": [
       "None"
      ]
     },
     "metadata": {},
     "output_type": "display_data"
    },
    {
     "data": {
      "image/png": "[encoded data removed]",
      "text/plain": [
       "<Figure size 432x288 with 2 Axes>"
      ]
     },
     "metadata": {
      "needs_background": "light"
     },
     "output_type": "display_data"
    },
    {
     "data": {
      "text/plain": [
       "None"
      ]
     },
     "metadata": {},
     "output_type": "display_data"
    },
    {
     "data": {
      "image/png": "[encoded data removed]",
      "text/plain": [
       "<Figure size 432x288 with 2 Axes>"
      ]
     },
     "metadata": {
      "needs_background": "light"
     },
     "output_type": "display_data"
    },
    {
     "data": {
      "text/plain": [
       "None"
      ]
     },
     "metadata": {},
     "output_type": "display_data"
    },
    {
     "data": {
      "image/png": "[encoded data removed]",
      "text/plain": [
       "<Figure size 432x288 with 2 Axes>"
      ]
     },
     "metadata": {
      "needs_background": "light"
     },
     "output_type": "display_data"
    },
    {
     "data": {
      "text/plain": [
       "None"
      ]
     },
     "metadata": {},
     "output_type": "display_data"
    },
    {
     "data": {
      "image/png": "[encoded data removed]",
      "text/plain": [
       "<Figure size 432x288 with 2 Axes>"
      ]
     },
     "metadata": {
      "needs_background": "light"
     },
     "output_type": "display_data"
    },
    {
     "data": {
      "text/plain": [
       "None"
      ]
     },
     "metadata": {},
     "output_type": "display_data"
    }
   ],
   "source": [
    "for index, run in enumerate(pified_runs):\n",
    "    title = \"Pified data with 10 iterations @\" + str(n_shots) + \" shots for circuit \" + str(index+1)\n",
    "    plot_boxplots(run, title, index+1, save=True)"
   ]
  },
  {
   "cell_type": "code",
   "execution_count": 41,
   "metadata": {},
   "outputs": [],
   "source": [
    "#Save all training measurments\n",
    "with open(training_measurments_path + '/raw_data.csv', 'w', newline='') as csvfile:\n",
    "    writer = csv.writer(csvfile, delimiter=';',)\n",
    "    writer.writerow(['circuit', 'type', 'accuracy'])\n",
    "    for index, circuit in enumerate(raw_runs):\n",
    "        for jndex, run in enumerate(circuit[0]):\n",
    "            writer.writerow(np.append([index+1, 'Training'], run))\n",
    "        for jndex, run in enumerate(circuit[0]):\n",
    "            writer.writerow(np.append([index+1, 'Testing'], run))\n",
    "\n",
    "#Save all training measurments\n",
    "with open(training_measurments_path + '/normalized_data.csv', 'w', newline='') as csvfile:\n",
    "    writer = csv.writer(csvfile, delimiter=';',)\n",
    "    writer.writerow(['circuit', 'type', 'accuracy'])\n",
    "    for index, circuit in enumerate(normalized_runs):\n",
    "        for jndex, run in enumerate(circuit[0]):\n",
    "            writer.writerow(np.append([index+1, 'Training'], run))\n",
    "        for jndex, run in enumerate(circuit[0]):\n",
    "            writer.writerow(np.append([index+1, 'Testing'], run))\n",
    "\n",
    "#Save all training measurments\n",
    "with open(training_measurments_path + '/pified_data.csv', 'w', newline='') as csvfile:\n",
    "    writer = csv.writer(csvfile, delimiter=';',)\n",
    "    writer.writerow(['circuit', 'type', 'accuracy'])\n",
    "    for index, circuit in enumerate(pified_runs):\n",
    "        for jndex, run in enumerate(circuit[0]):\n",
    "            writer.writerow(np.append([index+1, 'Training'], run))\n",
    "        for jndex, run in enumerate(circuit[0]):\n",
    "            writer.writerow(np.append([index+1, 'Testing'], run))"
   ]
  }
 ],
 "metadata": {
  "interpreter": {
   "hash": "7dff90bf0edc63b1a5b0049d053e2a20a1e4479256ba225ac630738703d0db5a"
  },
  "kernelspec": {
   "display_name": "Python 3.9.7 64-bit ('pa21': conda)",
   "language": "python",
   "name": "python3"
  },
  "language_info": {
   "codemirror_mode": {
    "name": "ipython",
    "version": 3
   },
   "file_extension": ".py",
   "mimetype": "text/x-python",
   "name": "python",
   "nbconvert_exporter": "python",
   "pygments_lexer": "ipython3",
   "version": "3.9.7"
  },
  "orig_nbformat": 4
 },
 "nbformat": 4,
 "nbformat_minor": 2
}
