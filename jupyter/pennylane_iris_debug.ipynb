{
 "cells": [
  {
   "cell_type": "markdown",
   "metadata": {},
   "source": [
    "# PennyLane: Variational classifier with Iris data\n",
    "\n",
    "Variational circuits are circuits that can be trained using supervised learning or labelled data to classify new data.\n",
    "\n",
    "The Variational Circuit can be implemented using the Parity Function:\n",
    "\n",
    "$$\n",
    "\\begin{split}f: x \\in \\{0,1\\}^{\\otimes n} \\rightarrow y =\n",
    "\\begin{cases} 1 \\text{  if uneven number of ones in } x \\\\ 0\n",
    "\\text{ otherwise} \\end{cases}.\\end{split}\n",
    "$$\n",
    "\n",
    "<img src=\"images/circuit-centric quantum classifier.png\" alt=\"\" />"
   ]
  },
  {
   "cell_type": "code",
   "execution_count": 155,
   "metadata": {},
   "outputs": [],
   "source": [
    "\n",
    "# install\n",
    "# !pip3 install pennylane\n",
    "# !pip3 install pennylane-qiskit\n",
    "# !pip3 install pylatexenc\n",
    "\n",
    "# imports\n",
    "import pennylane as qml\n",
    "from pennylane import numpy as np\n",
    "from pennylane.optimize import NesterovMomentumOptimizer\n",
    "import matplotlib.pyplot as plt\n",
    "\n",
    "import warnings\n",
    "import matplotlib.cbook\n",
    "warnings.filterwarnings(\"ignore\",category=matplotlib.cbook.mplDeprecation)"
   ]
  },
  {
   "cell_type": "markdown",
   "metadata": {},
   "source": [
    "Create quantum device"
   ]
  },
  {
   "cell_type": "code",
   "execution_count": 165,
   "metadata": {},
   "outputs": [],
   "source": [
    "# dev = qml.device(\"default.qubit\", wires=2)\n",
    "dev = qml.device(\"qiskit.aer\", wires=2)"
   ]
  },
  {
   "cell_type": "markdown",
   "metadata": {},
   "source": [
    "## [Step 1] State preparation:\n",
    "Every input x is translated into a set of angles\n",
    "\n",
    "> This is amplitude encoding, which literally means you prepare an amplitude vector that resembles your data input.\n",
    "\n",
    "The statepreparation circuit is coded according to the scheme in this Paper: [Transformation of quantum states using uniformly controlled rotations](https://arxiv.org/abs/quant-ph/0407010)"
   ]
  },
  {
   "cell_type": "code",
   "execution_count": 171,
   "metadata": {},
   "outputs": [],
   "source": [
    "def get_angles(x):\n",
    "    beta0 = 2 * np.arcsin(np.sqrt(x[1] ** 2) / np.sqrt(x[0] ** 2 + x[1] ** 2 + 1e-12))\n",
    "    beta1 = 2 * np.arcsin(np.sqrt(x[3] ** 2) / np.sqrt(x[2] ** 2 + x[3] ** 2 + 1e-12))\n",
    "    beta2 = 2 * np.arcsin(\n",
    "        np.sqrt(x[2] ** 2 + x[3] ** 2)\n",
    "        / np.sqrt(x[0] ** 2 + x[1] ** 2 + x[2] ** 2 + x[3] ** 2)\n",
    "    )\n",
    "    return np.array([beta2, -beta1 / 2, beta1 / 2, -beta0 / 2, beta0 / 2])\n",
    "\n",
    "def statepreparation(a):\n",
    "    qml.RY(a[0], wires=0)\n",
    "\n",
    "    qml.CNOT(wires=[0, 1])\n",
    "    qml.RY(a[1], wires=1)\n",
    "    # qml.CNOT(wires=[0, 1])\n",
    "    # qml.RY(a[2], wires=1)\n",
    "\n",
    "    # qml.PauliX(wires=0)\n",
    "    # qml.CNOT(wires=[0, 1])\n",
    "    # qml.RY(a[3], wires=1)\n",
    "    # qml.CNOT(wires=[0, 1])\n",
    "    # qml.RY(a[4], wires=1)\n",
    "    # qml.PauliX(wires=0)\n"
   ]
  },
  {
   "cell_type": "markdown",
   "metadata": {},
   "source": [
    "Test the current routine:"
   ]
  },
  {
   "cell_type": "code",
   "execution_count": 172,
   "metadata": {},
   "outputs": [
    {
     "name": "stdout",
     "output_type": "stream",
     "text": [
      "x               :  [0.44376016 0.83205029 0.33282012 0.        ]\n",
      "angles          :  [ 0.67858523 -0.          0.         -1.080839    1.080839  ]\n",
      "expvalues       :  [0.7890625 0.7890625]\n",
      "probs           :  [0.89746094 0.         0.         0.10253906]\n"
     ]
    },
    {
     "data": {
      "image/png": "[encoded data removed]",
      "text/plain": [
       "<Figure size 387.452x204.68 with 1 Axes>"
      ]
     },
     "metadata": {},
     "output_type": "display_data"
    },
    {
     "name": "stdout",
     "output_type": "stream",
     "text": [
      "     ┌─────────────┐              ┌─┐   \n",
      "q_0: ┤ Ry(0.67859) ├──■───────────┤M├───\n",
      "     └─────────────┘┌─┴─┐┌───────┐└╥┘┌─┐\n",
      "q_1: ───────────────┤ X ├┤ Ry(0) ├─╫─┤M├\n",
      "                    └───┘└───────┘ ║ └╥┘\n",
      "c: 2/══════════════════════════════╩══╩═\n",
      "                                   0  1 \n"
     ]
    }
   ],
   "source": [
    "# x = np.array([0.53896774, 0.79503606, 0.27826503, 0.0], requires_grad=False) # <-- already preprocessed data example (preprocessing will follow below)\n",
    "x = np.array([0.44376016, 0.83205029, 0.33282012, 0.0], requires_grad=False) # <-- already preprocessed data example (preprocessing will follow below)\n",
    "ang = get_angles(x)\n",
    "\n",
    "@qml.qnode(dev)\n",
    "def test(angles):\n",
    "    statepreparation(angles)\n",
    "    # return qml.expval(qml.PauliZ(0))\n",
    "    return [qml.expval(qml.PauliZ(0)), qml.expval(qml.PauliZ(1))]\n",
    "\n",
    "expvalues = test(ang)\n",
    "\n",
    "@qml.qnode(dev)\n",
    "def test_probs(angles):\n",
    "    statepreparation(angles)\n",
    "    return qml.probs(wires=[0, 1])\n",
    "\n",
    "probs = test_probs(ang)\n",
    "\n",
    "print(\"x               : \", x)\n",
    "print(\"angles          : \", ang)\n",
    "\n",
    "print(\"expvalues       : \", expvalues)\n",
    "print(\"probs           : \", probs)\n",
    "\n",
    "\n",
    "# dev._circuit.draw(output='mpl')\n",
    "\n",
    "if dev.short_name == \"qiskit.aer\":\n",
    "  # only if device is qiskit\n",
    "  display(dev._circuit.draw(output='mpl'))\n",
    "  print(dev._circuit.draw())\n",
    "else:\n",
    "  print(\"amplitude vector: \", dev.state)\n",
    "  print(\"amplitude vector (real): \", np.real(dev.state))\n",
    "  print(test.draw())\n",
    "\n",
    "\n"
   ]
  },
  {
   "cell_type": "markdown",
   "metadata": {},
   "source": [
    "Define the layer function:\n",
    "\n",
    "`qml.Rot(phi, theta, omega, wires)`:\n",
    "\n",
    "Arbitrary single qubit rotation:\n",
    "$$\n",
    "\\begin{split}R(\\phi,\\theta,\\omega) = RZ(\\omega)RY(\\theta)RZ(\\phi)= \\begin{bmatrix}\n",
    "e^{-i(\\phi+\\omega)/2}\\cos(\\theta/2) & -e^{i(\\phi-\\omega)/2}\\sin(\\theta/2) \\\\\n",
    "e^{-i(\\phi-\\omega)/2}\\sin(\\theta/2) & e^{i(\\phi+\\omega)/2}\\cos(\\theta/2)\n",
    "\\end{bmatrix}.\\end{split}\n",
    "$$"
   ]
  },
  {
   "cell_type": "code",
   "execution_count": 132,
   "metadata": {},
   "outputs": [],
   "source": [
    "def layer(W):\n",
    "    qml.Rot(W[0, 0], W[0, 1], W[0, 2], wires=0)\n",
    "    qml.Rot(W[1, 0], W[1, 1], W[1, 2], wires=1)\n",
    "    qml.CNOT(wires=[0, 1])"
   ]
  },
  {
   "cell_type": "markdown",
   "metadata": {},
   "source": [
    "-----------------------------------------"
   ]
  },
  {
   "cell_type": "markdown",
   "metadata": {},
   "source": [
    "Define `circuit`, variational classifier model, `square_loss`, `cost` and `accuracy` function"
   ]
  },
  {
   "cell_type": "code",
   "execution_count": 133,
   "metadata": {},
   "outputs": [],
   "source": [
    "@qml.qnode(dev)\n",
    "def circuit(weights, angles):\n",
    "    statepreparation(angles)\n",
    "    for W in weights:\n",
    "        layer(W)\n",
    "    return qml.expval(qml.PauliZ(0))\n",
    "\n",
    "def variational_classifier(var, angles):\n",
    "    weights = var[0]\n",
    "    bias = var[1]\n",
    "    return circuit(weights, angles) + bias\n",
    "\n",
    "def square_loss(labels, predictions):\n",
    "    loss = 0\n",
    "    for l, p in zip(labels, predictions):\n",
    "        loss = loss + (l - p) ** 2\n",
    "    loss = loss / len(labels)\n",
    "    return loss\n",
    "\n",
    "def cost(weights, features, labels):\n",
    "    predictions = [variational_classifier(weights, f) for f in features]\n",
    "    return square_loss(labels, predictions)\n",
    "\n",
    "def accuracy(labels, predictions):\n",
    "    loss = 0\n",
    "    for l, p in zip(labels, predictions):\n",
    "        if abs(l - p) < 1e-5:\n",
    "            loss = loss + 1\n",
    "    loss = loss / len(labels)\n",
    "    return loss"
   ]
  },
  {
   "cell_type": "markdown",
   "metadata": {},
   "source": [
    "## Data: Load the Iris data set. \n",
    "\n",
    "Link: [iris_classes1and2_scaled.txt](https://raw.githubusercontent.com/XanaduAI/qml/master/demonstrations/variational_classifier/data/iris_classes1and2_scaled.txt)\n",
    "> The Iris dataset is scaled (by putting zero mean and unit deviation), and classes 1 and 2 were selected.\n",
    "\n",
    "## Stages of preprocessing\n",
    "Do some preprocessing withe the iris data:\n",
    "- Padding:\n",
    "  - For example x = (x<sub>1</sub>, x<sub>2</sub>, x<sub>3</sub>)<sup>T</sup> would be extended to  x' = (x<sub>1</sub>, x<sub>2</sub>, x<sub>3</sub>, 0)<sup>T</sup>\n",
    "- Normalization by using the formerly padded X data\n",
    "- Create features by using `get_angles` function from above unsig the formerly padded and normalized X data"
   ]
  },
  {
   "cell_type": "code",
   "execution_count": 170,
   "metadata": {},
   "outputs": [
    {
     "name": "stdout",
     "output_type": "stream",
     "text": [
      "First X sample (original)  : [0.4  0.75]\n",
      "First X sample (padded)    : [0.4  0.75 0.3  0.  ]\n",
      "First X sample (normalized): [0.44376016 0.83205029 0.33282012 0.        ]\n",
      "First features sample      : [ 0.67858523 -0.          0.         -1.080839    1.080839  ]\n",
      "[-1. -1. -1. -1. -1. -1. -1. -1. -1. -1. -1. -1. -1. -1. -1. -1. -1. -1.\n",
      " -1. -1. -1. -1. -1. -1. -1. -1. -1. -1. -1. -1. -1. -1. -1. -1. -1. -1.\n",
      " -1. -1. -1. -1. -1. -1. -1. -1. -1. -1. -1. -1. -1. -1.  1.  1.  1.  1.\n",
      "  1.  1.  1.  1.  1.  1.  1.  1.  1.  1.  1.  1.  1.  1.  1.  1.  1.  1.\n",
      "  1.  1.  1.  1.  1.  1.  1.  1.  1.  1.  1.  1.  1.  1.  1.  1.  1.  1.\n",
      "  1.  1.  1.  1.  1.  1.  1.  1.  1.  1.]\n"
     ]
    }
   ],
   "source": [
    "data = np.loadtxt(\"data/iris_classes1and2_scaled.txt\")\n",
    "X = data[:, 0:2]\n",
    "print(\"First X sample (original)  :\", X[0])\n",
    "\n",
    "# pad the vectors to size 2^2 with constant values\n",
    "padding = 0.3 * np.ones((len(X), 1))\n",
    "X_pad = np.c_[np.c_[X, padding], np.zeros((len(X), 1))]\n",
    "print(\"First X sample (padded)    :\", X_pad[0])\n",
    "\n",
    "# normalize each input\n",
    "normalization = np.sqrt(np.sum(X_pad ** 2, -1))\n",
    "X_norm = (X_pad.T / normalization).T\n",
    "print(\"First X sample (normalized):\", X_norm[0])\n",
    "\n",
    "# angles for state preparation are new features\n",
    "# X is renamed to features\n",
    "features = np.array([get_angles(x) for x in X_norm])\n",
    "print(\"First features sample      :\", features[0])\n",
    "\n",
    "Y = data[:, -1]\n",
    "\n",
    "# print(\"features\", features)"
   ]
  },
  {
   "cell_type": "markdown",
   "metadata": {},
   "source": [
    "Stages of preprocessing: plots"
   ]
  },
  {
   "cell_type": "code",
   "execution_count": 135,
   "metadata": {},
   "outputs": [
    {
     "data": {
      "image/png": "[encoded data removed]",
      "text/plain": [
       "<Figure size 432x288 with 1 Axes>"
      ]
     },
     "metadata": {
      "needs_background": "light"
     },
     "output_type": "display_data"
    },
    {
     "data": {
      "image/png": "[encoded data removed]",
      "text/plain": [
       "<Figure size 432x288 with 1 Axes>"
      ]
     },
     "metadata": {
      "needs_background": "light"
     },
     "output_type": "display_data"
    },
    {
     "data": {
      "image/png": "[encoded data removed]",
      "text/plain": [
       "<Figure size 432x288 with 1 Axes>"
      ]
     },
     "metadata": {
      "needs_background": "light"
     },
     "output_type": "display_data"
    }
   ],
   "source": [
    "\n",
    "plt.figure()\n",
    "plt.scatter(X[:, 0][Y == 1], X[:, 1][Y == 1], c=\"b\", marker=\"o\", edgecolors=\"k\")\n",
    "plt.scatter(X[:, 0][Y == -1], X[:, 1][Y == -1], c=\"r\", marker=\"o\", edgecolors=\"k\")\n",
    "plt.title(\"Original data\")\n",
    "plt.show()\n",
    "\n",
    "plt.figure()\n",
    "dim1 = 0\n",
    "dim2 = 1\n",
    "plt.scatter(\n",
    "    X_norm[:, dim1][Y == 1], X_norm[:, dim2][Y == 1], c=\"b\", marker=\"o\", edgecolors=\"k\"\n",
    ")\n",
    "plt.scatter(\n",
    "    X_norm[:, dim1][Y == -1], X_norm[:, dim2][Y == -1], c=\"r\", marker=\"o\", edgecolors=\"k\"\n",
    ")\n",
    "plt.title(\"Padded and normalised data (dims {} and {})\".format(dim1, dim2))\n",
    "plt.show()\n",
    "\n",
    "plt.figure()\n",
    "dim1 = 0\n",
    "dim2 = 3\n",
    "plt.scatter(\n",
    "    features[:, dim1][Y == 1], features[:, dim2][Y == 1], c=\"b\", marker=\"o\", edgecolors=\"k\"\n",
    ")\n",
    "plt.scatter(\n",
    "    features[:, dim1][Y == -1], features[:, dim2][Y == -1], c=\"r\", marker=\"o\", edgecolors=\"k\"\n",
    ")\n",
    "plt.title(\"Feature vectors (dims {} and {})\".format(dim1, dim2))\n",
    "plt.show()"
   ]
  },
  {
   "cell_type": "markdown",
   "metadata": {},
   "source": [
    "Split data into training and validation set"
   ]
  },
  {
   "cell_type": "code",
   "execution_count": 136,
   "metadata": {},
   "outputs": [],
   "source": [
    "np.random.seed(0)\n",
    "num_data = len(Y)\n",
    "num_train = int(0.75 * num_data)\n",
    "index = np.random.permutation(range(num_data))\n",
    "feats_train = features[index[:num_train]]\n",
    "Y_train = Y[index[:num_train]]\n",
    "feats_val = features[index[num_train:]]\n",
    "Y_val = Y[index[num_train:]]\n",
    "\n",
    "# We need these later for plotting\n",
    "X_train = X[index[:num_train]]\n",
    "X_val = X[index[num_train:]]"
   ]
  },
  {
   "cell_type": "markdown",
   "metadata": {},
   "source": [
    "Initialize variables"
   ]
  },
  {
   "cell_type": "code",
   "execution_count": 143,
   "metadata": {},
   "outputs": [
    {
     "name": "stdout",
     "output_type": "stream",
     "text": [
      "var_init weights (tensor([[[-0.00024326, -0.00738031,  0.00279925],\n",
      "         [-0.0009815 ,  0.00910179,  0.00317218]],\n",
      "\n",
      "        [[ 0.00786328, -0.00466419, -0.00944446],\n",
      "         [-0.0041005 , -0.0001702 ,  0.00379152]],\n",
      "\n",
      "        [[ 0.02259309, -0.00042257, -0.00955945],\n",
      "         [-0.00345982, -0.00463596,  0.00481481]],\n",
      "\n",
      "        [[-0.01540797,  0.00063262,  0.00156507],\n",
      "         [ 0.00232181, -0.00597316, -0.00237922]],\n",
      "\n",
      "        [[-0.01424061, -0.0049332 , -0.00542861],\n",
      "         [ 0.0041605 , -0.01156182,  0.00781198]],\n",
      "\n",
      "        [[ 0.01494485, -0.02069985,  0.00426259],\n",
      "         [ 0.00676908, -0.00637437, -0.00397272]]], requires_grad=True), 0.0)\n"
     ]
    }
   ],
   "source": [
    "num_qubits = 2\n",
    "num_layers = 6\n",
    "var_init = (0.01 * np.random.randn(num_layers, num_qubits, 3), 0.0)\n",
    "print(\"var_init weights\", var_init)\n"
   ]
  },
  {
   "cell_type": "markdown",
   "metadata": {},
   "source": [
    "Optimize cost"
   ]
  },
  {
   "cell_type": "code",
   "execution_count": 138,
   "metadata": {},
   "outputs": [
    {
     "name": "stdout",
     "output_type": "stream",
     "text": [
      "Iter:     1 | Cost: 1.5157746 | Acc train: 0.4933333 | Acc validation: 0.5600000 \n"
     ]
    }
   ],
   "source": [
    "opt = NesterovMomentumOptimizer(0.01)\n",
    "batch_size = 5\n",
    "\n",
    "# train the variational classifier\n",
    "var = var_init\n",
    "\n",
    "# Do 60 iterations\n",
    "for it in range(1):\n",
    "\n",
    "    # Update the weights by one optimizer step\n",
    "    batch_index = np.random.randint(0, num_train, (batch_size,))\n",
    "    feats_train_batch = feats_train[batch_index]\n",
    "    Y_train_batch = Y_train[batch_index]\n",
    "    var = opt.step(lambda v: cost(v, feats_train_batch, Y_train_batch), var)\n",
    "\n",
    "    # Compute predictions on train and validation set\n",
    "    predictions_train = [np.sign(variational_classifier(var, f)) for f in feats_train]\n",
    "    predictions_val = [np.sign(variational_classifier(var, f)) for f in feats_val]\n",
    "\n",
    "    # Compute accuracy on train and validation set\n",
    "    acc_train = accuracy(Y_train, predictions_train)\n",
    "    acc_val = accuracy(Y_val, predictions_val)\n",
    "\n",
    "    print(\n",
    "        \"Iter: {:5d} | Cost: {:0.7f} | Acc train: {:0.7f} | Acc validation: {:0.7f} \"\n",
    "        \"\".format(it + 1, cost(var, features, Y), acc_train, acc_val)\n",
    "    )"
   ]
  },
  {
   "cell_type": "code",
   "execution_count": 141,
   "metadata": {},
   "outputs": [
    {
     "name": "stdout",
     "output_type": "stream",
     "text": [
      "     ┌─────────────┐                     ┌───┐                        »\n",
      "q_0: ┤ Ry(0.28098) ├──■─────────────■────┤ X ├────■────────────────■──»\n",
      "     └─────────────┘┌─┴─┐┌───────┐┌─┴─┐┌─┴───┴─┐┌─┴─┐┌──────────┐┌─┴─┐»\n",
      "q_1: ───────────────┤ X ├┤ Ry(0) ├┤ X ├┤ Ry(0) ├┤ X ├┤ Ry(-π/4) ├┤ X ├»\n",
      "                    └───┘└───────┘└───┘└───────┘└───┘└──────────┘└───┘»\n",
      "c: 2/═════════════════════════════════════════════════════════════════»\n",
      "                                                                      »\n",
      "«        ┌───┐   ┌───────────────┐┌───────────────┐  ┌──────────────┐      »\n",
      "«q_0: ───┤ X ├───┤ Rz(0.0042042) ├┤ Ry(-0.001835) ├──┤ Rz(0.014849) ├───■──»\n",
      "«     ┌──┴───┴──┐├───────────────┤├───────────────┴┐┌┴──────────────┴┐┌─┴─┐»\n",
      "«q_1: ┤ Ry(π/4) ├┤ Rz(0.0064859) ├┤ Ry(-0.0035896) ├┤ Rz(-0.0069544) ├┤ X ├»\n",
      "«     └─────────┘└───────────────┘└────────────────┘└────────────────┘└───┘»\n",
      "«c: 2/═════════════════════════════════════════════════════════════════════»\n",
      "«                                                                          »\n",
      "«     ┌────────────────┐┌────────────────┐┌────────────────┐     »\n",
      "«q_0: ┤ Rz(-0.0038205) ├┤ Ry(-0.0047232) ├┤ Rz(-0.0065826) ├──■──»\n",
      "«     ├────────────────┤├───────────────┬┘└┬──────────────┬┘┌─┴─┐»\n",
      "«q_1: ┤ Rz(-0.0014848) ├┤ Ry(0.0063201) ├──┤ Rz(0.017856) ├─┤ X ├»\n",
      "«     └────────────────┘└───────────────┘  └──────────────┘ └───┘»\n",
      "«c: 2/═══════════════════════════════════════════════════════════»\n",
      "«                                                                »\n",
      "«     ┌───────────────┐ ┌───────────────┐ ┌───────────────┐     »\n",
      "«q_0: ┤ Rz(0.0018786) ├─┤ Ry(-0.018698) ├─┤ Rz(0.0013721) ├──■──»\n",
      "«     ├───────────────┴┐├───────────────┴┐├───────────────┤┌─┴─┐»\n",
      "«q_1: ┤ Rz(-0.0085655) ├┤ Ry(-0.0020583) ├┤ Rz(0.0049902) ├┤ X ├»\n",
      "«     └────────────────┘└────────────────┘└───────────────┘└───┘»\n",
      "«c: 2/══════════════════════════════════════════════════════════»\n",
      "«                                                               »\n",
      "«     ┌────────────────┐┌───────────────┐┌────────────────┐     »\n",
      "«q_0: ┤ Rz(-0.0085169) ├┤ Ry(0.0063944) ├┤ Rz(-0.0097844) ├──■──»\n",
      "«     └┬─────────────┬─┘├───────────────┤├───────────────┬┘┌─┴─┐»\n",
      "«q_1: ─┤ Rz(0.01021) ├──┤ Ry(0.0035282) ├┤ Rz(-0.012431) ├─┤ X ├»\n",
      "«      └─────────────┘  └───────────────┘└───────────────┘ └───┘»\n",
      "«c: 2/══════════════════════════════════════════════════════════»\n",
      "«                                                               »\n",
      "«     ┌───────────────┐┌───────────────┐ ┌──────────────┐     »\n",
      "«q_0: ┤ Rz(0.0092688) ├┤ Ry(-0.010676) ├─┤ Rz(0.018627) ├──■──»\n",
      "«     └┬──────────────┤├───────────────┤┌┴──────────────┤┌─┴─┐»\n",
      "«q_1: ─┤ Rz(0.015192) ├┤ Ry(-0.014422) ├┤ Rz(0.0037277) ├┤ X ├»\n",
      "«      └──────────────┘└───────────────┘└───────────────┘└───┘»\n",
      "«c: 2/════════════════════════════════════════════════════════»\n",
      "«                                                             »\n",
      "«     ┌─────────────────┐┌───────────────┐┌───────────────┐      ┌─┐   \n",
      "«q_0: ┤ Rz(-0.00069559) ├┤ Ry(0.0088244) ├┤ Rz(0.0048419) ├───■──┤M├───\n",
      "«     └┬───────────────┬┘├───────────────┤├───────────────┴┐┌─┴─┐└╥┘┌─┐\n",
      "«q_1: ─┤ Rz(0.0082375) ├─┤ Ry(0.0091396) ├┤ Rz(-0.0058349) ├┤ X ├─╫─┤M├\n",
      "«      └───────────────┘ └───────────────┘└────────────────┘└───┘ ║ └╥┘\n",
      "«c: 2/════════════════════════════════════════════════════════════╩══╩═\n",
      "«                                                                 0  1 \n"
     ]
    }
   ],
   "source": [
    "\n",
    "# if device is \"qiskit.aer\"\n",
    "if dev.short_name == \"qiskit.aer\":\n",
    "  dev._circuit.draw(output=\"mpl\") \n",
    "  print(dev._circuit.draw())\n",
    "else:\n",
    "  # if device is \"default.qubit\"\n",
    "  print(circuit.draw())"
   ]
  },
  {
   "cell_type": "markdown",
   "metadata": {},
   "source": [
    "Final Plot of the continuous output of the variational classifier for the first two dimensions of the Iris data set:"
   ]
  },
  {
   "cell_type": "code",
   "execution_count": 140,
   "metadata": {},
   "outputs": [
    {
     "data": {
      "image/png": "[encoded data removed]",
      "text/plain": [
       "<Figure size 640x480 with 2 Axes>"
      ]
     },
     "metadata": {
      "needs_background": "light"
     },
     "output_type": "display_data"
    }
   ],
   "source": [
    "plt.figure(figsize=(8, 6), dpi=80)\n",
    "cm = plt.cm.RdBu\n",
    "\n",
    "# make data for decision regions\n",
    "xx, yy = np.meshgrid(np.linspace(0.0, 1.5, 20), np.linspace(0.0, 1.5, 20))\n",
    "X_grid = [np.array([x, y]) for x, y in zip(xx.flatten(), yy.flatten())]\n",
    "\n",
    "# preprocess grid points like data inputs above\n",
    "padding = 0.3 * np.ones((len(X_grid), 1))\n",
    "X_grid = np.c_[np.c_[X_grid, padding], np.zeros((len(X_grid), 1))]  # pad each input\n",
    "normalization = np.sqrt(np.sum(X_grid ** 2, -1))\n",
    "X_grid = (X_grid.T / normalization).T  # normalize each input\n",
    "features_grid = np.array(\n",
    "    [get_angles(x) for x in X_grid]\n",
    ")  # angles for state preparation are new features\n",
    "predictions_grid = [variational_classifier(var, f) for f in features_grid]\n",
    "Z = np.reshape(predictions_grid, xx.shape)\n",
    "\n",
    "# plot decision regions\n",
    "cnt = plt.contourf(\n",
    "    xx, yy, Z, levels=np.arange(-1, 1.1, 0.1), cmap=cm, alpha=0.8, extend=\"both\"\n",
    ")\n",
    "plt.contour(\n",
    "    xx, yy, Z, levels=[0.0], colors=(\"black\",), linestyles=(\"--\",), linewidths=(0.8,)\n",
    ")\n",
    "plt.colorbar(cnt, ticks=[-1, 0, 1])\n",
    "\n",
    "# plot data\n",
    "plt.scatter(\n",
    "    X_train[:, 0][Y_train == 1],\n",
    "    X_train[:, 1][Y_train == 1],\n",
    "    c=\"b\",\n",
    "    marker=\"o\",\n",
    "    edgecolors=\"k\",\n",
    "    label=\"class 1 train\",\n",
    ")\n",
    "plt.scatter(\n",
    "    X_val[:, 0][Y_val == 1],\n",
    "    X_val[:, 1][Y_val == 1],\n",
    "    c=\"b\",\n",
    "    marker=\"^\",\n",
    "    edgecolors=\"k\",\n",
    "    label=\"class 1 validation\",\n",
    ")\n",
    "plt.scatter(\n",
    "    X_train[:, 0][Y_train == -1],\n",
    "    X_train[:, 1][Y_train == -1],\n",
    "    c=\"r\",\n",
    "    marker=\"o\",\n",
    "    edgecolors=\"k\",\n",
    "    label=\"class -1 train\",\n",
    ")\n",
    "plt.scatter(\n",
    "    X_val[:, 0][Y_val == -1],\n",
    "    X_val[:, 1][Y_val == -1],\n",
    "    c=\"r\",\n",
    "    marker=\"^\",\n",
    "    edgecolors=\"k\",\n",
    "    label=\"class -1 validation\",\n",
    ")\n",
    "\n",
    "plt.legend()\n",
    "plt.show()"
   ]
  },
  {
   "cell_type": "markdown",
   "metadata": {},
   "source": [
    "Relevant links & papers:\n",
    "- https://pennylane.ai/qml/demos/tutorial_variational_classifier.html\n",
    "- [Circuit-centric quantum classifiers](https://arxiv.org/pdf/1804.00633.pdf)\n",
    "- [Transformation of quantum states using uniformly controlled rotations](https://arxiv.org/abs/quant-ph/0407010)\n",
    "- https://pennylane.ai/qml/demos/tutorial_general_parshift.html\n",
    "\n",
    "# Todo: paper to onedrive "
   ]
  }
 ],
 "metadata": {
  "interpreter": {
   "hash": "3067ead486e059ec00ffe7555bdb889e6e264a24dc711bf108106cc7baee8d5d"
  },
  "kernelspec": {
   "display_name": "Python 3.8.3 64-bit ('base': conda)",
   "name": "python3"
  },
  "language_info": {
   "codemirror_mode": {
    "name": "ipython",
    "version": 3
   },
   "file_extension": ".py",
   "mimetype": "text/x-python",
   "name": "python",
   "nbconvert_exporter": "python",
   "pygments_lexer": "ipython3",
   "version": "3.8.3"
  },
  "orig_nbformat": 4
 },
 "nbformat": 4,
 "nbformat_minor": 2
}
