{
 "cells": [
  {
   "cell_type": "code",
   "execution_count": 21,
   "source": [
    "import sys\n",
    "stdout = sys.stdout\n",
    "import matplotlib\n",
    "import matplotlib.pyplot as plt\n",
    "%matplotlib inline\n",
    "import numpy as np\n",
    "from qiskit import *\n",
    "from qiskit.circuit import Parameter\n",
    "from qiskit.visualization import plot_histogram\n",
    "from qiskit.providers.aer import QasmSimulator\n",
    "import qiskit.quantum_info as qi\n",
    "from qiskit.visualization import plot_bloch_vector\n",
    "from IPython.display import display, Markdown, Latex\n",
    "from qiskit.providers.ibmq import least_busy\n",
    "\n",
    "import warnings\n",
    "warnings.simplefilter('ignore')"
   ],
   "outputs": [],
   "metadata": {}
  },
  {
   "cell_type": "markdown",
   "source": [
    "$$\n",
    "\\newcommand{\\ket}[1]{\\left|{#1}\\right\\rangle}\n",
    "\\newcommand{\\bra}[1]{\\left\\langle{#1}\\right|}\n",
    "\\newcommand{\\braket}[2]{\\left\\langle{#1}\\middle|{#2}\\right\\rangle}\n",
    "\\newcommand{\\ketbra}[2]{\\left|{#1}\\middle\\rangle\\langle{#2}\\right|}\n",
    "$$"
   ],
   "metadata": {}
  },
  {
   "cell_type": "code",
   "execution_count": 22,
   "source": [
    "#fix output\n",
    "sys.stdout = stdout"
   ],
   "outputs": [],
   "metadata": {}
  },
  {
   "cell_type": "code",
   "execution_count": 23,
   "source": [
    "def assert_correct_counts(counts, expected_value):\n",
    "    keys = counts.keys()\n",
    "    if len(keys) == 1 and expected_value == list(keys)[0]:\n",
    "        print('✅ Correct prediction 🎉')\n",
    "        return True\n",
    "    else:\n",
    "        print('❌ False assertion, maybe there are also more than 1 results! 😥')\n",
    "        return False\n",
    "\n",
    "def compile_circuit_and_check(circuit, expected_value, shots=3000, simulator = QasmSimulator()):\n",
    "    compiled_circuit = transpile(circuit, simulator)\n",
    "    job = simulator.run(compiled_circuit, shots=shots)\n",
    "    result = job.result()\n",
    "    counts = result.get_counts(circuit)\n",
    "    result = assert_correct_counts(counts, expected_value)\n",
    "    return counts, result, list(counts.keys())[0]\n",
    "\n",
    "def check_if_matrix_is_unitary(qubits, matrix):\n",
    "    circuit = QuantumCircuit(qubits,qubits)\n",
    "    try:\n",
    "        circuit.unitary(addition, range(qubits), label=\"unitary check\")\n",
    "        print('✅ We got an unitary matrix! 🎉')\n",
    "    except:\n",
    "        print('❌ Input matrix is not unitary. 😥')\n",
    "    "
   ],
   "outputs": [],
   "metadata": {}
  },
  {
   "cell_type": "markdown",
   "source": [
    "# Binary multiplier\n",
    "\n",
    "The rules of basic binary multiplication are relatively simple.\n",
    "\n",
    "$$\n",
    "0 \\times 0 =\\ 0 \\\\\n",
    "0 \\times 1 =\\ 0 \\\\\n",
    "1 \\times 0 =\\ 0 \\\\\n",
    "1 \\times 1 =\\ 1 \\\\\n",
    "$$\n",
    "\n",
    "As previously defined in the [_full adder evaluation_](full_adder_evaluation.ipynb), to construct a reversible matrix that can be used as a quantum gate we have to assert bijection. Using this information, we can construct the _state-matrix_ $S$ and the _output-matrix_ $O$.\n",
    "\n",
    "$$\n",
    "S = \\begin{pmatrix}\n",
    "        1 & 0 & 0 & 0 & 0 & 0 & 0 & 0\\\\\n",
    "        0 & 1 & 0 & 0 & 0 & 0 & 0 & 0\\\\\n",
    "        0 & 0 & 1 & 0 & 0 & 0 & 0 & 0\\\\\n",
    "        0 & 0 & 0 & 1 & 0 & 0 & 0 & 0\\\\\n",
    "        0 & 0 & 0 & 0 & 1 & 0 & 0 & 0\\\\\n",
    "        0 & 0 & 0 & 0 & 0 & 1 & 0 & 0\\\\\n",
    "        0 & 0 & 0 & 0 & 0 & 0 & 1 & 0\\\\\n",
    "        0 & 0 & 0 & 0 & 0 & 0 & 0 & 1\\\\\n",
    "        \\end{pmatrix} \\\\\n",
    "$$\n",
    "\n",
    "$$\n",
    "O = \\begin{pmatrix}\n",
    "        1 & 0 & 0 & 0 & 0 & 0 & 0 & 0\\\\\n",
    "        0 & 1 & 0 & 0 & 0 & 0 & 0 & 0\\\\\n",
    "        0 & 0 & 1 & 0 & 0 & 0 & 0 & 0\\\\\n",
    "        0 & 0 & 0 & 0 & 0 & 0 & 0 & 1\\\\\n",
    "        0 & 0 & 0 & 0 & 1 & 0 & 0 & 0\\\\\n",
    "        0 & 0 & 0 & 0 & 0 & 1 & 0 & 0\\\\\n",
    "        0 & 0 & 0 & 0 & 0 & 0 & 1 & 0\\\\\n",
    "        0 & 0 & 0 & 1 & 0 & 0 & 0 & 0\\\\\n",
    "        \\end{pmatrix} \\\\\n",
    "$$\n",
    "\n",
    "The observant eye will realized that something is wrong about the _output-matrix_ $O$, and you are quite right. To assert reversability, we have to make sure that our gate function is fully bijective. The problem arises as soon as we get into the states $\\ket{1xy}$. As we completely ignore the state of qubit 3 for the multiplication, we would have 2 _input-states_ that lead to the same _output-state_. Hence why we have to _assume_ that the third qubit is always 0 at the execution of the gate. As the _state-matrix_ $S$ is the unitary matrix, we can deduct that $U_{multiplication} =\\ O$, hence why we have to assert that $O*O^\\dagger =\\ I$\n",
    "\n",
    "Using these 2 matrices, we can now build the _multiplication matrix_  $U_{multiplication}$.\n",
    "\n",
    "$$\n",
    "O * S^T =\\ U_{multiplication} \\\\\n",
    "$$\n",
    "$$\n",
    "U_{multiplication} = \\begin{pmatrix}\n",
    "        1 & 0 & 0 & 0 & 0 & 0 & 0 & 0\\\\\n",
    "        0 & 1 & 0 & 0 & 0 & 0 & 0 & 0\\\\\n",
    "        0 & 0 & 1 & 0 & 0 & 0 & 0 & 0\\\\\n",
    "        0 & 0 & 0 & 0 & 0 & 0 & 0 & 1\\\\\n",
    "        0 & 0 & 0 & 0 & 1 & 0 & 0 & 0\\\\\n",
    "        0 & 0 & 0 & 0 & 0 & 1 & 0 & 0\\\\\n",
    "        0 & 0 & 0 & 0 & 0 & 0 & 1 & 0\\\\\n",
    "        0 & 0 & 0 & 1 & 0 & 0 & 0 & 0\\\\\n",
    "        \\end{pmatrix} \\\\\n",
    "$$\n",
    "\n",
    "Lets check it out using qiskit"
   ],
   "metadata": {}
  },
  {
   "cell_type": "code",
   "execution_count": 24,
   "source": [
    "multiplication = qi.Operator([[1, 0, 0, 0, 0, 0, 0, 0],\n",
    "                              [0, 1, 0, 0, 0, 0, 0, 0],\n",
    "                              [0, 0, 1, 0, 0, 0, 0, 0],\n",
    "                              [0, 0, 0, 0, 0, 0, 0, 1],\n",
    "                              [0, 0, 0, 0, 1, 0, 0, 0],\n",
    "                              [0, 0, 0, 0, 0, 1, 0, 0],\n",
    "                              [0, 0, 0, 0, 0, 0, 1, 0],\n",
    "                              [0, 0, 0, 1, 0, 0, 0, 0]])\n",
    "\n",
    "check_if_matrix_is_unitary(3, multiplication)"
   ],
   "outputs": [
    {
     "output_type": "stream",
     "name": "stdout",
     "text": [
      "✅ We got an unitary matrix! 🎉\n"
     ]
    }
   ],
   "metadata": {}
  },
  {
   "cell_type": "markdown",
   "source": [
    "Now that we have confirmed that our $U_{multiplication}$ matrix is unitary, we can test it out with qiskit.\n"
   ],
   "metadata": {}
  },
  {
   "cell_type": "code",
   "execution_count": 25,
   "source": [
    "#creates a basic 3 qubit circuit to test the 3 qubit matrix Uadd\n",
    "\n",
    "def generate_circuit(state):\n",
    "    circuit = QuantumCircuit(3,3)\n",
    "    for idx, val in enumerate(state):\n",
    "        if val == 1:\n",
    "            circuit.x(len(state)-1-idx)\n",
    "    circuit.barrier()\n",
    "    circuit.unitary(multiplication, [0, 1, 2], label='multiplication')\n",
    "    circuit.barrier()\n",
    "    circuit.measure(range(3),range(3)) \n",
    "    return circuit\n",
    "\n",
    "print('Circuit depth: ' + str(generate_circuit([0,1]).decompose().depth()))"
   ],
   "outputs": [
    {
     "output_type": "stream",
     "name": "stdout",
     "text": [
      "Circuit depth: 3\n"
     ]
    }
   ],
   "metadata": {}
  },
  {
   "cell_type": "markdown",
   "source": [
    "Note that we have 3 qubits because we have to fulfill the requirements for quantum gates. One of these is reversability. As seen in the first paragraph, we have to set the output on an additional qubit to make the circuit reversible!"
   ],
   "metadata": {}
  },
  {
   "cell_type": "code",
   "execution_count": 26,
   "source": [
    "#creates static states to assert the matrix works correctly\n",
    "state_matrix = [[0,0],\n",
    "                [0,1],\n",
    "                [1,0],\n",
    "                [1,1]]\n",
    "\n",
    "#note that the MSB is the \"output\" bit C, and the LSB is the input bit A, the middle bit the input bit B\n",
    "#so we are doing A + B = C\n",
    "#MSB being the leftmost bit\n",
    "expected_states = [ '000',\n",
    "                    '001',\n",
    "                    '010',\n",
    "                    '111']\n",
    "\n",
    "for index, expected_state in enumerate(expected_states):\n",
    "    print(\"Testing for initial state \" + str(state_matrix[index]) + \" and expected measurment state \" + expected_state)\n",
    "    circuit = generate_circuit(state_matrix[index])\n",
    "    display(circuit.draw())\n",
    "    counts, result, _ = compile_circuit_and_check(circuit, expected_states[index])\n",
    "    display(plot_histogram(counts))"
   ],
   "outputs": [
    {
     "output_type": "stream",
     "name": "stdout",
     "text": [
      "Testing for initial state [0, 0] and expected measurment state 000\n"
     ]
    },
    {
     "output_type": "display_data",
     "data": {
      "text/html": [
       "<pre style=\"word-wrap: normal;white-space: pre;background: #fff0;line-height: 1.1;font-family: &quot;Courier New&quot;,Courier,monospace\">      ░ ┌─────────────────┐ ░ ┌─┐      \n",
       "q_0: ─░─┤0                ├─░─┤M├──────\n",
       "      ░ │                 │ ░ └╥┘┌─┐   \n",
       "q_1: ─░─┤1 multiplication ├─░──╫─┤M├───\n",
       "      ░ │                 │ ░  ║ └╥┘┌─┐\n",
       "q_2: ─░─┤2                ├─░──╫──╫─┤M├\n",
       "      ░ └─────────────────┘ ░  ║  ║ └╥┘\n",
       "c: 3/══════════════════════════╩══╩══╩═\n",
       "                               0  1  2 </pre>"
      ],
      "text/plain": [
       "      ░ ┌─────────────────┐ ░ ┌─┐      \n",
       "q_0: ─░─┤0                ├─░─┤M├──────\n",
       "      ░ │                 │ ░ └╥┘┌─┐   \n",
       "q_1: ─░─┤1 multiplication ├─░──╫─┤M├───\n",
       "      ░ │                 │ ░  ║ └╥┘┌─┐\n",
       "q_2: ─░─┤2                ├─░──╫──╫─┤M├\n",
       "      ░ └─────────────────┘ ░  ║  ║ └╥┘\n",
       "c: 3/══════════════════════════╩══╩══╩═\n",
       "                               0  1  2 "
      ]
     },
     "metadata": {}
    },
    {
     "output_type": "stream",
     "name": "stdout",
     "text": [
      "✅ Correct prediction 🎉\n"
     ]
    },
    {
     "output_type": "display_data",
     "data": {
      "image/png": "[encoded data removed]",
      "text/plain": [
       "<Figure size 504x360 with 1 Axes>"
      ]
     },
     "metadata": {}
    },
    {
     "output_type": "stream",
     "name": "stdout",
     "text": [
      "Testing for initial state [0, 1] and expected measurment state 001\n"
     ]
    },
    {
     "output_type": "display_data",
     "data": {
      "text/html": [
       "<pre style=\"word-wrap: normal;white-space: pre;background: #fff0;line-height: 1.1;font-family: &quot;Courier New&quot;,Courier,monospace\">     ┌───┐ ░ ┌─────────────────┐ ░ ┌─┐      \n",
       "q_0: ┤ X ├─░─┤0                ├─░─┤M├──────\n",
       "     └───┘ ░ │                 │ ░ └╥┘┌─┐   \n",
       "q_1: ──────░─┤1 multiplication ├─░──╫─┤M├───\n",
       "           ░ │                 │ ░  ║ └╥┘┌─┐\n",
       "q_2: ──────░─┤2                ├─░──╫──╫─┤M├\n",
       "           ░ └─────────────────┘ ░  ║  ║ └╥┘\n",
       "c: 3/═══════════════════════════════╩══╩══╩═\n",
       "                                    0  1  2 </pre>"
      ],
      "text/plain": [
       "     ┌───┐ ░ ┌─────────────────┐ ░ ┌─┐      \n",
       "q_0: ┤ X ├─░─┤0                ├─░─┤M├──────\n",
       "     └───┘ ░ │                 │ ░ └╥┘┌─┐   \n",
       "q_1: ──────░─┤1 multiplication ├─░──╫─┤M├───\n",
       "           ░ │                 │ ░  ║ └╥┘┌─┐\n",
       "q_2: ──────░─┤2                ├─░──╫──╫─┤M├\n",
       "           ░ └─────────────────┘ ░  ║  ║ └╥┘\n",
       "c: 3/═══════════════════════════════╩══╩══╩═\n",
       "                                    0  1  2 "
      ]
     },
     "metadata": {}
    },
    {
     "output_type": "stream",
     "name": "stdout",
     "text": [
      "✅ Correct prediction 🎉\n"
     ]
    },
    {
     "output_type": "display_data",
     "data": {
      "image/png": "[encoded data removed]",
      "text/plain": [
       "<Figure size 504x360 with 1 Axes>"
      ]
     },
     "metadata": {}
    },
    {
     "output_type": "stream",
     "name": "stdout",
     "text": [
      "Testing for initial state [1, 0] and expected measurment state 010\n"
     ]
    },
    {
     "output_type": "display_data",
     "data": {
      "text/html": [
       "<pre style=\"word-wrap: normal;white-space: pre;background: #fff0;line-height: 1.1;font-family: &quot;Courier New&quot;,Courier,monospace\">           ░ ┌─────────────────┐ ░ ┌─┐      \n",
       "q_0: ──────░─┤0                ├─░─┤M├──────\n",
       "     ┌───┐ ░ │                 │ ░ └╥┘┌─┐   \n",
       "q_1: ┤ X ├─░─┤1 multiplication ├─░──╫─┤M├───\n",
       "     └───┘ ░ │                 │ ░  ║ └╥┘┌─┐\n",
       "q_2: ──────░─┤2                ├─░──╫──╫─┤M├\n",
       "           ░ └─────────────────┘ ░  ║  ║ └╥┘\n",
       "c: 3/═══════════════════════════════╩══╩══╩═\n",
       "                                    0  1  2 </pre>"
      ],
      "text/plain": [
       "           ░ ┌─────────────────┐ ░ ┌─┐      \n",
       "q_0: ──────░─┤0                ├─░─┤M├──────\n",
       "     ┌───┐ ░ │                 │ ░ └╥┘┌─┐   \n",
       "q_1: ┤ X ├─░─┤1 multiplication ├─░──╫─┤M├───\n",
       "     └───┘ ░ │                 │ ░  ║ └╥┘┌─┐\n",
       "q_2: ──────░─┤2                ├─░──╫──╫─┤M├\n",
       "           ░ └─────────────────┘ ░  ║  ║ └╥┘\n",
       "c: 3/═══════════════════════════════╩══╩══╩═\n",
       "                                    0  1  2 "
      ]
     },
     "metadata": {}
    },
    {
     "output_type": "stream",
     "name": "stdout",
     "text": [
      "✅ Correct prediction 🎉\n"
     ]
    },
    {
     "output_type": "display_data",
     "data": {
      "image/png": "[encoded data removed]",
      "text/plain": [
       "<Figure size 504x360 with 1 Axes>"
      ]
     },
     "metadata": {}
    },
    {
     "output_type": "stream",
     "name": "stdout",
     "text": [
      "Testing for initial state [1, 1] and expected measurment state 111\n"
     ]
    },
    {
     "output_type": "display_data",
     "data": {
      "text/html": [
       "<pre style=\"word-wrap: normal;white-space: pre;background: #fff0;line-height: 1.1;font-family: &quot;Courier New&quot;,Courier,monospace\">     ┌───┐ ░ ┌─────────────────┐ ░ ┌─┐      \n",
       "q_0: ┤ X ├─░─┤0                ├─░─┤M├──────\n",
       "     ├───┤ ░ │                 │ ░ └╥┘┌─┐   \n",
       "q_1: ┤ X ├─░─┤1 multiplication ├─░──╫─┤M├───\n",
       "     └───┘ ░ │                 │ ░  ║ └╥┘┌─┐\n",
       "q_2: ──────░─┤2                ├─░──╫──╫─┤M├\n",
       "           ░ └─────────────────┘ ░  ║  ║ └╥┘\n",
       "c: 3/═══════════════════════════════╩══╩══╩═\n",
       "                                    0  1  2 </pre>"
      ],
      "text/plain": [
       "     ┌───┐ ░ ┌─────────────────┐ ░ ┌─┐      \n",
       "q_0: ┤ X ├─░─┤0                ├─░─┤M├──────\n",
       "     ├───┤ ░ │                 │ ░ └╥┘┌─┐   \n",
       "q_1: ┤ X ├─░─┤1 multiplication ├─░──╫─┤M├───\n",
       "     └───┘ ░ │                 │ ░  ║ └╥┘┌─┐\n",
       "q_2: ──────░─┤2                ├─░──╫──╫─┤M├\n",
       "           ░ └─────────────────┘ ░  ║  ║ └╥┘\n",
       "c: 3/═══════════════════════════════╩══╩══╩═\n",
       "                                    0  1  2 "
      ]
     },
     "metadata": {}
    },
    {
     "output_type": "stream",
     "name": "stdout",
     "text": [
      "✅ Correct prediction 🎉\n"
     ]
    },
    {
     "output_type": "display_data",
     "data": {
      "image/png": "[encoded data removed]",
      "text/plain": [
       "<Figure size 504x360 with 1 Axes>"
      ]
     },
     "metadata": {}
    }
   ],
   "metadata": {}
  },
  {
   "cell_type": "markdown",
   "source": [
    "As we can see, our selfmade addition matrix $U_{multiplication}$ works correctly, as proven trough the simulator.\n",
    "\n",
    "### n-bit wide multiplication\n",
    "\n",
    "To multiply bitwords larger than 1, we have to check the rules of binary multiplication. \n",
    "\n",
    "<center>\n",
    "<img src=\"https://d138zd1ktt9iqe.cloudfront.net/media/seo_landing_files/binary-multiplication-example-1-1623819040.png\" />\n",
    "\n",
    "<em>Image 1: <a href=\"https://www.cuemath.com/numbers/binary-multiplication/\">Binary multiplication of 110 x 11</a></em>\n",
    "</center>\n",
    "\n",
    "\n",
    "For $a*b =\\ c$, we multiple $a$ by each bit of $b$, starting with the LSB (rightmost bit). \n",
    "After each bit of $b$, we add a placeholder and continue on the next row. After mutliplying each bit of $b$, we can add together all partial products to receive $c$. To further test our theory, we will construct multiplier that can multiply two 2-wide bitwords together. For this, we will need the addition matrix as well as the carry over circuit of the previous chapter."
   ],
   "metadata": {}
  },
  {
   "cell_type": "code",
   "execution_count": 27,
   "source": [
    "addition = qi.Operator([[1, 0, 0, 0, 0, 0, 0, 0],\n",
    "                        [0, 0, 0, 0, 0, 1, 0, 0],\n",
    "                        [0, 0, 0, 0, 0, 0, 1, 0],\n",
    "                        [0, 0, 0, 1, 0, 0, 0, 0],\n",
    "                        [0, 0, 0, 0, 1, 0, 0, 0],\n",
    "                        [0, 1, 0, 0, 0, 0, 0, 0],\n",
    "                        [0, 0, 1, 0, 0, 0, 0, 0],\n",
    "                        [0, 0, 0, 0, 0, 0, 0, 1]])\n",
    "\n",
    "def get_carry_over_circuit():\n",
    "    sub_circuit = QuantumRegister(4)\n",
    "    carry_out = QuantumCircuit(sub_circuit, name=\"carry over\")\n",
    "    carry_out.ccx(0,1,3)\n",
    "    carry_out.ccx(1,2,3)\n",
    "    carry_out.ccx(0,2,3)\n",
    "    return carry_out"
   ],
   "outputs": [],
   "metadata": {}
  },
  {
   "cell_type": "markdown",
   "source": [
    "We also have to consider the output. Whilst the output for the multiplication of two 1 bit wide words is again 1 bit wide, for 2 bits we can have up to a 4 bit wide word. We can prove this with the following code:"
   ],
   "metadata": {}
  },
  {
   "cell_type": "code",
   "execution_count": 28,
   "source": [
    "print(bin(3))\n",
    "print(bin(3))\n",
    "print(bin(3*3))"
   ],
   "outputs": [
    {
     "output_type": "stream",
     "name": "stdout",
     "text": [
      "0b11\n",
      "0b11\n",
      "0b1001\n"
     ]
    }
   ],
   "metadata": {}
  },
  {
   "cell_type": "code",
   "execution_count": 29,
   "source": [
    "#adapt function to add\n",
    "def generate_circuit(state):\n",
    "    circuit = QuantumCircuit(12,4)\n",
    "    if state[1] == 1:\n",
    "        circuit.x(0)\n",
    "    if state[0] == 1:\n",
    "        circuit.x(1)\n",
    "    if state[3] == 1:\n",
    "        circuit.x(2)\n",
    "    if state[2] == 1:\n",
    "        circuit.x(3)\n",
    "    circuit.barrier()\n",
    "    circuit.unitary(multiplication, [0, 2, 4], label='multiplication')\n",
    "    circuit.unitary(multiplication, [0, 3, 5], label='multiplication')\n",
    "    circuit.unitary(multiplication, [1, 2, 6], label='multiplication')\n",
    "    circuit.unitary(multiplication, [1, 3, 7], label='multiplication')\n",
    "    circuit.measure(4,0)\n",
    "    circuit.append(get_carry_over_circuit(), [5, 6, 8, 9])\n",
    "    circuit.unitary(addition, [5, 6, 8], label='addition')\n",
    "    circuit.measure(8,1)\n",
    "    circuit.append(get_carry_over_circuit(), [7, 9, 10, 11])\n",
    "    circuit.unitary(addition, [7, 9, 10], label= 'addition')\n",
    "    circuit.measure(10,2)\n",
    "    circuit.measure(11,3)\n",
    "    return circuit\n",
    "\n",
    "#full adder sub circuit\n",
    "def create_full_adder(nbits):\n",
    "    if nbits < 1:\n",
    "        raise Exception('You can\\'t add less than 1 bit together!')\n",
    "    n = 3 * nbits + 1\n",
    "    if n < 4: n = 4\n",
    "    circuit = QuantumCircuit(n,nbits)\n",
    "    parameters = create_parameters(2*nbits)\n",
    "    iterparam = parameters.copy()\n",
    "    circuit.rx(iterparam[0],0)\n",
    "    circuit.rx(iterparam[1],1)\n",
    "    del iterparam[0:2]\n",
    "    iterable_parameters = iter(iterparam)\n",
    "    for i in range(4,n):\n",
    "        if i%3 == 0:\n",
    "            continue\n",
    "        else:\n",
    "            circuit.rx(next(iterable_parameters),i)\n",
    "    circuit.barrier()\n",
    "    #start the circuitry\n",
    "\n",
    "    for i in range(nbits):\n",
    "        if i == 0:\n",
    "            circuit.append(get_carry_over_circuit(), [0, 1, 2, 3])\n",
    "            circuit.unitary(get_adder_circuit(), [0, 1, 2], label='addition')\n",
    "            circuit.measure(2,0)\n",
    "        else:\n",
    "            circuit.append(get_carry_over_circuit(), [i*3+1, i*3+2, i*3, i*3+3])\n",
    "            circuit.unitary(get_adder_circuit(), [i*3+1, i*3+2, i*3], label='addition')\n",
    "            circuit.measure(i*3,i)\n",
    "\n",
    "    return circuit"
   ],
   "outputs": [],
   "metadata": {}
  },
  {
   "cell_type": "code",
   "execution_count": 30,
   "source": [
    "def test_full_multiplier():\n",
    "    n = 2 # width of input bitwords\n",
    "    # contains both input words \n",
    "    # [a1, a0, b1, b0]\n",
    "    state_matrix = [[0,0,0,0],\n",
    "                    [0,0,0,1],\n",
    "                    [0,0,1,0],\n",
    "                    [0,0,1,1],\n",
    "                    [0,1,0,0],\n",
    "                    [0,1,0,1],\n",
    "                    [0,1,1,0],\n",
    "                    [0,1,1,1],\n",
    "                    [1,0,0,0],\n",
    "                    [1,0,0,1],\n",
    "                    [1,0,1,0],\n",
    "                    [1,0,1,1],\n",
    "                    [1,1,0,0],\n",
    "                    [1,1,0,1],\n",
    "                    [1,1,1,0],\n",
    "                    [1,1,1,1]]\n",
    "\n",
    "    results = []\n",
    "\n",
    "    for index, state in enumerate(state_matrix):\n",
    "        a = int(str(state[0]) + str(state[1]), 2)\n",
    "        b = int(str(state[2]) + str(state[3]), 2)\n",
    "        c = bin(a*b).replace('0b','')\n",
    "        while len(c) < n*2:\n",
    "            c = '0' + c\n",
    "        circuit = generate_circuit(state)\n",
    "        counts, result, ccalculated = compile_circuit_and_check(circuit, c)\n",
    "        print(counts)\n",
    "        results.append([bin(a).replace('0b',''), bin(b).replace('0b',''), c, ccalculated, '✅' if result else '❌'])\n",
    "\n",
    "    display(Markdown('|Ain | Bin | Cexpected | Ccalculated | Result |\\n'+'|:---:|:---:|:-----:|:------:|--------|\\n'+''.join(['|'+val[0]+'|'+val[1]+'|'+val[2]+'|'+val[3]+'|'+val[4]+'|\\n' for val in results])))\n",
    "\n",
    "test_full_multiplier()"
   ],
   "outputs": [
    {
     "output_type": "stream",
     "name": "stdout",
     "text": [
      "✅ Correct prediction 🎉\n",
      "{'0000': 3000}\n",
      "✅ Correct prediction 🎉\n",
      "{'0000': 3000}\n",
      "✅ Correct prediction 🎉\n",
      "{'0000': 3000}\n",
      "✅ Correct prediction 🎉\n",
      "{'0000': 3000}\n",
      "✅ Correct prediction 🎉\n",
      "{'0000': 3000}\n",
      "✅ Correct prediction 🎉\n",
      "{'0001': 3000}\n",
      "✅ Correct prediction 🎉\n",
      "{'0010': 3000}\n",
      "✅ Correct prediction 🎉\n",
      "{'0011': 3000}\n",
      "✅ Correct prediction 🎉\n",
      "{'0000': 3000}\n",
      "✅ Correct prediction 🎉\n",
      "{'0010': 3000}\n",
      "✅ Correct prediction 🎉\n",
      "{'0100': 3000}\n",
      "✅ Correct prediction 🎉\n",
      "{'0110': 3000}\n",
      "✅ Correct prediction 🎉\n",
      "{'0000': 3000}\n",
      "✅ Correct prediction 🎉\n",
      "{'0011': 3000}\n",
      "✅ Correct prediction 🎉\n",
      "{'0110': 3000}\n",
      "✅ Correct prediction 🎉\n",
      "{'1001': 3000}\n"
     ]
    },
    {
     "output_type": "display_data",
     "data": {
      "text/markdown": [
       "|Ain | Bin | Cexpected | Ccalculated | Result |\n",
       "|:---:|:---:|:-----:|:------:|--------|\n",
       "|0|0|0000|0000|✅|\n",
       "|0|1|0000|0000|✅|\n",
       "|0|10|0000|0000|✅|\n",
       "|0|11|0000|0000|✅|\n",
       "|1|0|0000|0000|✅|\n",
       "|1|1|0001|0001|✅|\n",
       "|1|10|0010|0010|✅|\n",
       "|1|11|0011|0011|✅|\n",
       "|10|0|0000|0000|✅|\n",
       "|10|1|0010|0010|✅|\n",
       "|10|10|0100|0100|✅|\n",
       "|10|11|0110|0110|✅|\n",
       "|11|0|0000|0000|✅|\n",
       "|11|1|0011|0011|✅|\n",
       "|11|10|0110|0110|✅|\n",
       "|11|11|1001|1001|✅|\n"
      ],
      "text/plain": [
       "<IPython.core.display.Markdown object>"
      ]
     },
     "metadata": {}
    }
   ],
   "metadata": {}
  },
  {
   "cell_type": "markdown",
   "source": [
    "## Quantum circuit depth and width\n",
    "\n",
    "Current quantum hardware is strongly limited by the amount of avaliable qubit lanes as well as the possible gate depth. In addition to these limitations, the current problem of ever increasing noise and errors with gate depth means that the current usability is highly tied to the complexity of the circuitry. If we go by the current circuit to add two 2-wide bitwords together, we get the following numbers:\n",
    "\n",
    "$$\n",
    "A_{width} =\\ B_{width} = 2\\\\\n",
    "C_{width} =\\ A_{width} + B_{width} =\\ 4\\\\\n",
    "Interim_{width} =\\  C_{width} =\\ 4\\\\\n",
    "n =\\ A_{width}  +B_{width} + C_{width} + Interim_{width} = 12\\\\\n",
    "n = A_{width}*2 * 3 =\\ 6A_{width}\\\\\n",
    "$$\n",
    "\n",
    "Going from this example, if we want to multiply two 8 bit wide bitwords, we'd have to construct a _48 qubit_ wide circuit. To calculate the depth we have to take a look at the _decomposed_ circuit, as it shows the single gates used:"
   ],
   "metadata": {}
  },
  {
   "cell_type": "code",
   "execution_count": 31,
   "source": [
    "circuit = generate_circuit([0,1,0,1]).decompose()\n",
    "display(circuit.draw('mpl'))\n",
    "print('Circuit depth: ' + str(circuit.depth()))"
   ],
   "outputs": [
    {
     "output_type": "display_data",
     "data": {
      "image/png": "[encoded data removed]",
      "text/plain": [
       "<Figure size 1484.18x806.68 with 1 Axes>"
      ]
     },
     "metadata": {}
    },
    {
     "output_type": "stream",
     "name": "stdout",
     "text": [
      "Circuit depth: 11\n"
     ]
    }
   ],
   "metadata": {}
  },
  {
   "cell_type": "markdown",
   "source": [
    "As defined in the previous chapter, we know that we can reuse the $C_{out}$ qubit as $C_{in}$ in the next adder, which helps _a bit_ but not much in the wider picture. During the tests of the 1 wide multiplier, the depth was only 3. So by only doubling the _width_ of the input, we quadrupled the amount of needed qubits. The depth follows closely: its value has now more than tripled.\n",
    "\n",
    "The full adder also grows, but at a much lower speed. For 1 bit wide input, we only need 4 qubits (if we use a full adder, that means we have a carry over qubit). But for 2 bit wide input, we need 7, so we nearly doubled the amount needed. The depth of a 1 bit wide full adder is 6, whilst the one of a 2 bit wide full adder is 8, thanks to the reusability of the $C_{out}$ qubit.\n",
    "\n",
    "To help reduce the amount of qubits needed, we could [use measured, and therefor reset qubits, again](https://www.ibm.com/blogs/research/2021/02/quantum-mid-circuit-measurement/) in the circuit. This has the ability to reduce the amount of needed qubits, but increases the depth of the circuit. To create a comparison, we will try to build the 2 wide bit multiplier circuit by reusing measured qubits."
   ],
   "metadata": {}
  },
  {
   "cell_type": "code",
   "execution_count": 32,
   "source": [
    "#adapt function to reuse measured qubits\n",
    "def generate_circuit(state):\n",
    "    circuit = QuantumCircuit(10,4)\n",
    "    if state[1] == 1:\n",
    "        circuit.x(0)\n",
    "    if state[0] == 1:\n",
    "        circuit.x(1)\n",
    "    if state[3] == 1:\n",
    "        circuit.x(2)\n",
    "    if state[2] == 1:\n",
    "        circuit.x(3)\n",
    "    circuit.barrier()\n",
    "    circuit.unitary(multiplication, [0, 2, 4], label='multiplication')\n",
    "    circuit.unitary(multiplication, [0, 3, 5], label='multiplication')\n",
    "    circuit.unitary(multiplication, [1, 2, 6], label='multiplication')\n",
    "    circuit.unitary(multiplication, [1, 3, 7], label='multiplication')\n",
    "    circuit.measure(4,0)\n",
    "    circuit.reset(4)\n",
    "    circuit.append(get_carry_over_circuit(), [5, 6, 4, 8])\n",
    "    circuit.unitary(addition, [5, 6, 4], label='addition')\n",
    "    circuit.measure(4,1)\n",
    "    circuit.reset(4)\n",
    "    circuit.append(get_carry_over_circuit(), [7, 8, 4, 9])\n",
    "    circuit.unitary(addition, [7, 8, 4], label= 'addition')\n",
    "    circuit.measure(4,2)\n",
    "    circuit.measure(9,3)\n",
    "    return circuit"
   ],
   "outputs": [],
   "metadata": {}
  },
  {
   "cell_type": "code",
   "execution_count": 33,
   "source": [
    "test_full_multiplier()\n",
    "\n",
    "circuit = generate_circuit([0,1,0,1]).decompose()\n",
    "display(circuit.draw('mpl'))\n",
    "print('Circuit depth: ' + str(circuit.depth()))"
   ],
   "outputs": [
    {
     "output_type": "stream",
     "name": "stdout",
     "text": [
      "✅ Correct prediction 🎉\n",
      "{'0000': 3000}\n",
      "✅ Correct prediction 🎉\n",
      "{'0000': 3000}\n",
      "✅ Correct prediction 🎉\n",
      "{'0000': 3000}\n",
      "✅ Correct prediction 🎉\n",
      "{'0000': 3000}\n",
      "✅ Correct prediction 🎉\n",
      "{'0000': 3000}\n",
      "✅ Correct prediction 🎉\n",
      "{'0001': 3000}\n",
      "✅ Correct prediction 🎉\n",
      "{'0010': 3000}\n",
      "✅ Correct prediction 🎉\n",
      "{'0011': 3000}\n",
      "✅ Correct prediction 🎉\n",
      "{'0000': 3000}\n",
      "✅ Correct prediction 🎉\n",
      "{'0010': 3000}\n",
      "✅ Correct prediction 🎉\n",
      "{'0100': 3000}\n",
      "✅ Correct prediction 🎉\n",
      "{'0110': 3000}\n",
      "✅ Correct prediction 🎉\n",
      "{'0000': 3000}\n",
      "✅ Correct prediction 🎉\n",
      "{'0011': 3000}\n",
      "✅ Correct prediction 🎉\n",
      "{'0110': 3000}\n",
      "✅ Correct prediction 🎉\n",
      "{'1001': 3000}\n"
     ]
    },
    {
     "output_type": "display_data",
     "data": {
      "text/markdown": [
       "|Ain | Bin | Cexpected | Ccalculated | Result |\n",
       "|:---:|:---:|:-----:|:------:|--------|\n",
       "|0|0|0000|0000|✅|\n",
       "|0|1|0000|0000|✅|\n",
       "|0|10|0000|0000|✅|\n",
       "|0|11|0000|0000|✅|\n",
       "|1|0|0000|0000|✅|\n",
       "|1|1|0001|0001|✅|\n",
       "|1|10|0010|0010|✅|\n",
       "|1|11|0011|0011|✅|\n",
       "|10|0|0000|0000|✅|\n",
       "|10|1|0010|0010|✅|\n",
       "|10|10|0100|0100|✅|\n",
       "|10|11|0110|0110|✅|\n",
       "|11|0|0000|0000|✅|\n",
       "|11|1|0011|0011|✅|\n",
       "|11|10|0110|0110|✅|\n",
       "|11|11|1001|1001|✅|\n"
      ],
      "text/plain": [
       "<IPython.core.display.Markdown object>"
      ]
     },
     "metadata": {}
    },
    {
     "output_type": "display_data",
     "data": {
      "image/png": "[encoded data removed]",
      "text/plain": [
       "<Figure size 1471.2x686.28 with 1 Axes>"
      ]
     },
     "metadata": {}
    },
    {
     "output_type": "stream",
     "name": "stdout",
     "text": [
      "Circuit depth: 13\n"
     ]
    }
   ],
   "metadata": {}
  },
  {
   "cell_type": "markdown",
   "source": [
    "With this we were able to reduce the amount of needed qubits by 2 to 10 only. At the same time, _according to qiskit_, the depth increased by _1_. It is unclear why this is the case, but the current assumption is that _measuring and reusing_ a qubit means it adds an overhead to the lane because the qubit has to be reset to an initial state again.\n",
    "It's also important to note that after a _measurment_, it is important to use `circuit.reset(n)` to reset the qubit itself to the state $\\ket{0}$. Else, even after measurment, its state is preserved."
   ],
   "metadata": {}
  },
  {
   "cell_type": "markdown",
   "source": [
    "# Conclusion\n",
    "\n",
    "These two experiments have shown that _unitary_ gates can be incredibly powerfull. Being able to condense a multi gate adder/multiplier circuit into a single gate (albeit what happens in the background physically is unkown to us) can be seen as a big advantage. At the same time, it feels like a gigantic waste of potential. Whilst it does work and one could argue that using rotations to multiply/add together values, you'd still have the problem of extracting the result. The main idea has always been to use these circuits to reconstruct a classical neuron, that is used in a NN. Whilst it is possible that it can be usefull, we need to explore the two main features that make qubits special, which are _entanglement_ and _superpositions_. This has been stated multiple times, not only theoretically with [Shor's algorithm](https://en.wikipedia.org/wiki/Shor%27s_algorithm) or [Grover's algorithm](https://en.wikipedia.org/wiki/Grover%27s_algorithm), but also physically, for example with a [hybrid solution for _Multiple Query Optimizations_](https://arxiv.org/abs/2107.10508). \n",
    "\n",
    "## Next Steps\n",
    "\n",
    "Intuition says that using the constructed circuitry is not worth it. The operations can already be done in a terribly efficient way on classical hardware, and do not show any signs of improvement when used on quantum computers. Furthermore, some research shows promising results when trying to combine the featurespace of quantum computing with the right problem definition. In the papers from _[Frankhauser et al.](https://arxiv.org/abs/2107.10508)_, _[Rossi et al.](https://arxiv.org/abs/1211.5554)_ and _[Glick et al.](Covariant quantum kernels for data with group structure)_, we can see some form of structure. Refered to as \"data with group structure\", we can see that these problems can be encoded in their entirity as a quantum circuit."
   ],
   "metadata": {}
  }
 ],
 "metadata": {
  "orig_nbformat": 4,
  "language_info": {
   "name": "python",
   "version": "3.9.7",
   "mimetype": "text/x-python",
   "codemirror_mode": {
    "name": "ipython",
    "version": 3
   },
   "pygments_lexer": "ipython3",
   "nbconvert_exporter": "python",
   "file_extension": ".py"
  },
  "kernelspec": {
   "name": "python3",
   "display_name": "Python 3.9.7 64-bit ('pa21': conda)"
  },
  "interpreter": {
   "hash": "cc11b3b19456420f34ecf6424352e5c6f3879c9b7bc1f01f1d73eadd631b83b5"
  }
 },
 "nbformat": 4,
 "nbformat_minor": 2
}