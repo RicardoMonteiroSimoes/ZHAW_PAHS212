{
 "cells": [
  {
   "cell_type": "code",
   "execution_count": 330,
   "source": [
    "import sys\n",
    "stdout = sys.stdout\n",
    "import matplotlib\n",
    "%matplotlib inline\n",
    "import numpy as np\n",
    "from qiskit import QuantumCircuit, transpile\n",
    "from qiskit.visualization import plot_histogram\n",
    "from qiskit.providers.aer import QasmSimulator\n",
    "\n",
    "import warnings\n",
    "warnings.simplefilter('ignore')"
   ],
   "outputs": [],
   "metadata": {}
  },
  {
   "cell_type": "code",
   "execution_count": 331,
   "source": [
    "#fix output\n",
    "sys.stdout = stdout\n",
    "simulator = QasmSimulator()"
   ],
   "outputs": [],
   "metadata": {}
  },
  {
   "cell_type": "code",
   "execution_count": 332,
   "source": [
    "def assert_correct_counts(counts, expected_value):\n",
    "    keys = counts.keys()\n",
    "    if len(keys) != 1:\n",
    "        print('False assertion, maybe there are also more than 1 results!')\n",
    "    elif expected_value == list(keys)[0]:\n",
    "        print('Correct prediction')\n",
    "\n",
    "def compile_circuit_and_check(circuit, expected_value):\n",
    "    compiled_circuit = transpile(circuit, simulator)\n",
    "    job = simulator.run(compiled_circuit, shots=3000)\n",
    "    result = job.result()\n",
    "    counts = result.get_counts(circuit)\n",
    "    assert_correct_counts(counts, expected_value)\n",
    "    return counts"
   ],
   "outputs": [],
   "metadata": {}
  },
  {
   "cell_type": "markdown",
   "source": [
    "# Vector-Operations\n",
    "\n"
   ],
   "metadata": {}
  },
  {
   "cell_type": "markdown",
   "source": [
    "# Circuit to add 2 qubits together\n",
    "\n",
    "Due to the nature of quantum gates, one is not able to simply copy the classical design of a [half-](https://en.wikipedia.org/wiki/Adder_(electronics)#Half_adder) or even [fulladder](https://en.wikipedia.org/wiki/Adder_(electronics)#Full_adder) over to a general quantum computer. This means we have to construct something applicable, that can do the same for us."
   ],
   "metadata": {}
  },
  {
   "cell_type": "markdown",
   "source": [
    "## Creating a simple 2 qubit adder\n",
    "\n",
    "Qubits are usually represented as _vectors_, and the qubit states $\\ket{0}$ and $\\ket{1}$ are represented as $\\begin{pmatrix} 1 \\\\ 0 \\end{pmatrix}$ and $\\begin{pmatrix} 0 \\\\ 1 \\end{pmatrix}$, respectively.\n",
    "\n",
    "When working with more than 1 qubit, we can resemble the statespace as one large vector. With 2 qubits, we have 4 possible states $S$ can be in: \"00, 01, 10, 11\". This means we can represent the whole state-space with one simple vector:\n",
    "\n",
    "$$\n",
    "S = \\begin{pmatrix} 0 \\\\ 1 \\\\ 0 \\\\ 0\\end{pmatrix}\n",
    "$$\n",
    "\n",
    "Where the _1_ in the vector would represent $\\ket{01}$.\n",
    "\n",
    "In this case, we only have one state that would cause any change when doing _addition_. The state to trigger it would be $\\ket{11}$, and it's addition would result in $\\ket{00}$ with a carry of _1_, which we will ignore for now.\n",
    "\n",
    "To create a matrix (which we will call $U_{add}$ from now on) that allows the addition of 2 qubits, we can set up equations with our current knowledge:\n",
    "\n",
    "$$\n",
    "\n",
    "U_{add} *\\ \\begin{pmatrix} 1 \\\\ 0 \\\\ 0 \\\\ 0\\end{pmatrix} = \\begin{pmatrix} 1 \\\\ 0 \\\\ 0 \\\\ 0\\end{pmatrix} \\\\\n",
    "U_{add} *\\ \\begin{pmatrix} 0 \\\\ 1 \\\\ 0 \\\\ 0\\end{pmatrix} = \\begin{pmatrix} 0 \\\\ 1 \\\\ 0 \\\\ 0\\end{pmatrix} \\\\\n",
    "U_{add} *\\ \\begin{pmatrix} 0 \\\\ 0 \\\\ 1 \\\\ 0\\end{pmatrix} = \\begin{pmatrix} 0 \\\\ 0 \\\\ 1 \\\\ 0\\end{pmatrix} \\\\\n",
    "U_{add} *\\ \\begin{pmatrix} 0 \\\\ 0 \\\\ 0 \\\\ 1\\end{pmatrix} = \\begin{pmatrix} 1 \\\\ 0 \\\\ 0 \\\\ 0\\end{pmatrix} \\\\\n",
    "\n",
    "$$\n",
    "\n",
    "To find the matrix needed, we can simply multiply the output $O_n$ with the transposed input state $S_n$ to get $U_n$. To create the definitive matrix, we then just add all the resulting matrices together to receive $U_{add}$.\n",
    "\n",
    "$$\n",
    "O_0 * S_0^T = U_{0} = \\begin{pmatrix} 1 & 0 & 0 & 0\\\\ 0 & 0 & 0 & 0 \\\\ 0 & 0 & 0 & 0 \\\\ 0 & 0 & 0 & 0\\end{pmatrix} \\\\\n",
    "O_1 * S_1^T = U_{1} = \\begin{pmatrix} 0 & 0 & 0 & 0\\\\ 0 & 1 & 0 & 0 \\\\ 0 & 0 & 0 & 0 \\\\ 0 & 0 & 0 & 0\\end{pmatrix} \\\\\n",
    "O_2 * S_2^T = U_{2} = \\begin{pmatrix} 0 & 0 & 0 & 0\\\\ 0 & 0 & 0 & 0 \\\\ 0 & 1 & 0 & 0 \\\\ 0 & 0 & 0 & 0\\end{pmatrix} \\\\\n",
    "O_3 * S_3^T = U_{3} = \\begin{pmatrix} 0 & 0 & 0 & 1\\\\ 0 & 0 & 0 & 0 \\\\ 0 & 0 & 0 & 0 \\\\ 0 & 0 & 0 & 0\\end{pmatrix} \\\\\n",
    "$$\n",
    "\n",
    "Now we can add up all matrices to get $U_{add}$\n",
    "\n",
    "$$\n",
    "U_{add} = \\Sigma_{i=0}^{3} U_{i} = \\begin{pmatrix} 1 & 0 & 0 & 1\\\\ 0 & 1 & 0 & 0 \\\\ 0 & 0 & 1 & 0 \\\\ 0 & 0 & 0 & 0\\end{pmatrix}\n",
    "\n",
    "$$\n",
    "\n",
    "_If you can't figure out why our unitary gate is left of the state, check [this]() out_ <- todo, insert how gates are applied to a qubit"
   ],
   "metadata": {}
  },
  {
   "cell_type": "markdown",
   "source": [
    "Qiskit offers the possibility to create an unitary gate that can be defined using a matrix. Whilst we could just plug the matrix right in, we have to make sure that the matrix is unitary, as all quantum gates have to be unitary. To check if a matrix is unitary, we have the following equation which has to be fulfilled:\n",
    "\n",
    "$$\n",
    "\n",
    "U^{\\dagger}U =\\ UU^{\\dagger} = I\\\\\n",
    "U^{\\dagger} =\\ \\overline{U^T}\n",
    "$$\n",
    "\n",
    "The _conjugate_ of the matrix would be multiplying all _imaginary constants_ wiht _-1_. As our matrix does not contain any, we can ignore this step. The next one would be to get the transpose of the matrix:\n",
    "\n",
    "$$\n",
    "\n",
    "U^T = \\begin{pmatrix} 1 & 0 & 0 & 0\\\\ 0 & 1 & 0 & 0 \\\\ 0 & 0 & 1 & 0 \\\\ 1 & 0 & 0 & 0\\end{pmatrix}\n",
    "\n",
    "$$\n",
    "\n",
    "From here we can then multiply $U$ with $U^T$ and see whether or not our matrix is unitary\n",
    "\n",
    "$$\n",
    "\n",
    "UU^T = \\begin{pmatrix} 1 & 0 & 0 & 1\\\\ 0 & 1 & 0 & 0 \\\\ 0 & 0 & 1 & 0 \\\\ 0 & 0 & 0 & 0\\end{pmatrix} *\\ \\begin{pmatrix} 1 & 0 & 0 & 0\\\\ 0 & 1 & 0 & 0 \\\\ 0 & 0 & 1 & 0 \\\\ 1 & 0 & 0 & 0\\end{pmatrix} =\\ \\begin{pmatrix} 2 & 0 & 0 & 0\\\\ 0 & 1 & 0 & 0 \\\\ 0 & 0 & 1 & 0 \\\\ 0 & 0 & 0 & 0\\end{pmatrix} \\neq \\begin{pmatrix} 1 & 0 & 0 & 0\\\\ 0 & 1 & 0 & 0 \\\\ 0 & 0 & 1 & 0 \\\\ 0 & 0 & 0 & 1\\end{pmatrix}\n",
    "\n",
    "$$\n",
    "\n",
    "As we have shown, the matrix is not unitary. This is also confirmed through Qiskits self-check. "
   ],
   "metadata": {}
  },
  {
   "cell_type": "code",
   "execution_count": 333,
   "source": [
    "# This requires us to import a specific part of the library\n",
    "import qiskit.quantum_info as qi\n",
    "\n",
    "addition = qi.Operator([[1, 0, 0, 1],\n",
    "                        [0, 1, 0, 0],\n",
    "                        [0, 0, 1, 0],\n",
    "                        [0, 0, 0, 0]])\n",
    "\n",
    "circuit = QuantumCircuit(2,2)\n",
    "circuit.unitary(addition, [0,1], label=\"addition\")"
   ],
   "outputs": [
    {
     "output_type": "error",
     "ename": "ExtensionError",
     "evalue": "'Input matrix is not unitary.'",
     "traceback": [
      "\u001b[0;31m---------------------------------------------------------------------------\u001b[0m",
      "\u001b[0;31mExtensionError\u001b[0m                            Traceback (most recent call last)",
      "\u001b[0;32m/tmp/ipykernel_1266/2542920648.py\u001b[0m in \u001b[0;36m<module>\u001b[0;34m\u001b[0m\n\u001b[1;32m      8\u001b[0m \u001b[0;34m\u001b[0m\u001b[0m\n\u001b[1;32m      9\u001b[0m \u001b[0mcircuit\u001b[0m \u001b[0;34m=\u001b[0m \u001b[0mQuantumCircuit\u001b[0m\u001b[0;34m(\u001b[0m\u001b[0;36m2\u001b[0m\u001b[0;34m,\u001b[0m\u001b[0;36m2\u001b[0m\u001b[0;34m)\u001b[0m\u001b[0;34m\u001b[0m\u001b[0;34m\u001b[0m\u001b[0m\n\u001b[0;32m---> 10\u001b[0;31m \u001b[0mcircuit\u001b[0m\u001b[0;34m.\u001b[0m\u001b[0munitary\u001b[0m\u001b[0;34m(\u001b[0m\u001b[0maddition\u001b[0m\u001b[0;34m,\u001b[0m \u001b[0;34m[\u001b[0m\u001b[0;36m0\u001b[0m\u001b[0;34m,\u001b[0m\u001b[0;36m1\u001b[0m\u001b[0;34m]\u001b[0m\u001b[0;34m,\u001b[0m \u001b[0mlabel\u001b[0m\u001b[0;34m=\u001b[0m\u001b[0;34m\"addition\"\u001b[0m\u001b[0;34m)\u001b[0m\u001b[0;34m\u001b[0m\u001b[0;34m\u001b[0m\u001b[0m\n\u001b[0m",
      "\u001b[0;32m~/miniconda3/envs/pa21/lib/python3.9/site-packages/qiskit/extensions/unitary.py\u001b[0m in \u001b[0;36munitary\u001b[0;34m(self, obj, qubits, label)\u001b[0m\n\u001b[1;32m    216\u001b[0m \u001b[0;32mdef\u001b[0m \u001b[0munitary\u001b[0m\u001b[0;34m(\u001b[0m\u001b[0mself\u001b[0m\u001b[0;34m,\u001b[0m \u001b[0mobj\u001b[0m\u001b[0;34m,\u001b[0m \u001b[0mqubits\u001b[0m\u001b[0;34m,\u001b[0m \u001b[0mlabel\u001b[0m\u001b[0;34m=\u001b[0m\u001b[0;32mNone\u001b[0m\u001b[0;34m)\u001b[0m\u001b[0;34m:\u001b[0m\u001b[0;34m\u001b[0m\u001b[0;34m\u001b[0m\u001b[0m\n\u001b[1;32m    217\u001b[0m     \u001b[0;34m\"\"\"Apply unitary gate to q.\"\"\"\u001b[0m\u001b[0;34m\u001b[0m\u001b[0;34m\u001b[0m\u001b[0m\n\u001b[0;32m--> 218\u001b[0;31m     \u001b[0mgate\u001b[0m \u001b[0;34m=\u001b[0m \u001b[0mUnitaryGate\u001b[0m\u001b[0;34m(\u001b[0m\u001b[0mobj\u001b[0m\u001b[0;34m,\u001b[0m \u001b[0mlabel\u001b[0m\u001b[0;34m=\u001b[0m\u001b[0mlabel\u001b[0m\u001b[0;34m)\u001b[0m\u001b[0;34m\u001b[0m\u001b[0;34m\u001b[0m\u001b[0m\n\u001b[0m\u001b[1;32m    219\u001b[0m     \u001b[0;32mif\u001b[0m \u001b[0misinstance\u001b[0m\u001b[0;34m(\u001b[0m\u001b[0mqubits\u001b[0m\u001b[0;34m,\u001b[0m \u001b[0mQuantumRegister\u001b[0m\u001b[0;34m)\u001b[0m\u001b[0;34m:\u001b[0m\u001b[0;34m\u001b[0m\u001b[0;34m\u001b[0m\u001b[0m\n\u001b[1;32m    220\u001b[0m         \u001b[0mqubits\u001b[0m \u001b[0;34m=\u001b[0m \u001b[0mqubits\u001b[0m\u001b[0;34m[\u001b[0m\u001b[0;34m:\u001b[0m\u001b[0;34m]\u001b[0m\u001b[0;34m\u001b[0m\u001b[0;34m\u001b[0m\u001b[0m\n",
      "\u001b[0;32m~/miniconda3/envs/pa21/lib/python3.9/site-packages/qiskit/extensions/unitary.py\u001b[0m in \u001b[0;36m__init__\u001b[0;34m(self, data, label)\u001b[0m\n\u001b[1;32m     60\u001b[0m         \u001b[0;31m# Check input is unitary\u001b[0m\u001b[0;34m\u001b[0m\u001b[0;34m\u001b[0m\u001b[0m\n\u001b[1;32m     61\u001b[0m         \u001b[0;32mif\u001b[0m \u001b[0;32mnot\u001b[0m \u001b[0mis_unitary_matrix\u001b[0m\u001b[0;34m(\u001b[0m\u001b[0mdata\u001b[0m\u001b[0;34m)\u001b[0m\u001b[0;34m:\u001b[0m\u001b[0;34m\u001b[0m\u001b[0;34m\u001b[0m\u001b[0m\n\u001b[0;32m---> 62\u001b[0;31m             \u001b[0;32mraise\u001b[0m \u001b[0mExtensionError\u001b[0m\u001b[0;34m(\u001b[0m\u001b[0;34m\"Input matrix is not unitary.\"\u001b[0m\u001b[0;34m)\u001b[0m\u001b[0;34m\u001b[0m\u001b[0;34m\u001b[0m\u001b[0m\n\u001b[0m\u001b[1;32m     63\u001b[0m         \u001b[0;31m# Check input is N-qubit matrix\u001b[0m\u001b[0;34m\u001b[0m\u001b[0;34m\u001b[0m\u001b[0m\n\u001b[1;32m     64\u001b[0m         \u001b[0minput_dim\u001b[0m\u001b[0;34m,\u001b[0m \u001b[0moutput_dim\u001b[0m \u001b[0;34m=\u001b[0m \u001b[0mdata\u001b[0m\u001b[0;34m.\u001b[0m\u001b[0mshape\u001b[0m\u001b[0;34m\u001b[0m\u001b[0;34m\u001b[0m\u001b[0m\n",
      "\u001b[0;31mExtensionError\u001b[0m: 'Input matrix is not unitary.'"
     ]
    }
   ],
   "metadata": {}
  },
  {
   "cell_type": "markdown",
   "source": [
    "# Toffoli Gate"
   ],
   "metadata": {}
  },
  {
   "cell_type": "markdown",
   "source": [
    "The reason why this isn't an adequate matrix is because we \"lose\" the input information. In quantum circuits, gates have to be reversible, which means there cannot be a loss of information. This means, that for our addition, we have to add in _at least_ another qubit, so that we can apply the result on the last qubit. Due to this, our state vector now changes from a length of 4 to 8:\n",
    "\n",
    "$$\n",
    "S = \\begin{pmatrix} 0 \\\\ 0 \\\\ 0 \\\\ 1 \\\\ 0 \\\\ 0 \\\\ 0 \\\\ 0\\end{pmatrix}\n",
    "$$\n",
    "\n",
    "With this, we can apply the same calculations as above to retrieve a new $U_{add}$ matrix.\n",
    "\n",
    "$$\n",
    "U_{add} = \\Sigma_{i=0}^{7} O_{i} *\\ S_{i}^T = \\begin{pmatrix}\n",
    "        1 & 0 & 0 & 0 & 0 & 0 & 0 & 0\\\\\n",
    "        0 & 1 & 0 & 0 & 0 & 0 & 0 & 0\\\\\n",
    "        0 & 0 & 1 & 0 & 0 & 0 & 0 & 0\\\\\n",
    "        0 & 0 & 0 & 0 & 0 & 0 & 0 & 1\\\\\n",
    "        0 & 0 & 0 & 0 & 1 & 0 & 0 & 0\\\\\n",
    "        0 & 0 & 0 & 0 & 0 & 1 & 0 & 0\\\\\n",
    "        0 & 0 & 0 & 0 & 0 & 0 & 1 & 0\\\\\n",
    "        0 & 0 & 0 & 1 & 0 & 0 & 0 & 0\n",
    "        \\end{pmatrix}\n",
    "$$\n",
    "\n",
    "\n",
    "This is equivalent to the _Toffoli_ Gate, also called a _CCNOT_ Gate\n"
   ],
   "metadata": {}
  },
  {
   "cell_type": "markdown",
   "source": [
    "To explore more solutions, we can extend $S$ from 2 qubits to three. This would allow us to show the carry. "
   ],
   "metadata": {}
  },
  {
   "cell_type": "markdown",
   "source": [
    "Let's now create a 2 qubit circuit and test the different states and their output"
   ],
   "metadata": {}
  },
  {
   "cell_type": "code",
   "execution_count": null,
   "source": [
    "state_matrix = [[0,0],\n",
    "                [0,1],\n",
    "                [1,0],\n",
    "                [1,1]]\n",
    "\n",
    "expected_state = ['00','01','10','00']\n",
    "\n",
    "for state in state_matrix:\n",
    "    circuit = QuantumCircuit(2,2)\n",
    "    if state[0] == 1:\n",
    "        circuit.x(0)\n",
    "    if state[1] == 1:\n",
    "        circuit.x(1)\n",
    "    circuit.barrier()\n",
    "    circuit.unitary(addition, [0,1], label=\"addition\")\n",
    "    circuit.barrier()\n",
    "    circuit.measure([0,1],[0,1])\n",
    "    circuit.draw()"
   ],
   "outputs": [
    {
     "output_type": "error",
     "ename": "ExtensionError",
     "evalue": "'Input matrix is not unitary.'",
     "traceback": [
      "\u001b[0;31m---------------------------------------------------------------------------\u001b[0m",
      "\u001b[0;31mExtensionError\u001b[0m                            Traceback (most recent call last)",
      "\u001b[0;32m/tmp/ipykernel_1266/2975941807.py\u001b[0m in \u001b[0;36m<module>\u001b[0;34m\u001b[0m\n\u001b[1;32m     13\u001b[0m         \u001b[0mcircuit\u001b[0m\u001b[0;34m.\u001b[0m\u001b[0mx\u001b[0m\u001b[0;34m(\u001b[0m\u001b[0;36m1\u001b[0m\u001b[0;34m)\u001b[0m\u001b[0;34m\u001b[0m\u001b[0;34m\u001b[0m\u001b[0m\n\u001b[1;32m     14\u001b[0m     \u001b[0mcircuit\u001b[0m\u001b[0;34m.\u001b[0m\u001b[0mbarrier\u001b[0m\u001b[0;34m(\u001b[0m\u001b[0;34m)\u001b[0m\u001b[0;34m\u001b[0m\u001b[0;34m\u001b[0m\u001b[0m\n\u001b[0;32m---> 15\u001b[0;31m     \u001b[0mcircuit\u001b[0m\u001b[0;34m.\u001b[0m\u001b[0munitary\u001b[0m\u001b[0;34m(\u001b[0m\u001b[0maddition\u001b[0m\u001b[0;34m,\u001b[0m \u001b[0;34m[\u001b[0m\u001b[0;36m0\u001b[0m\u001b[0;34m,\u001b[0m\u001b[0;36m1\u001b[0m\u001b[0;34m]\u001b[0m\u001b[0;34m,\u001b[0m \u001b[0mlabel\u001b[0m\u001b[0;34m=\u001b[0m\u001b[0;34m\"addition\"\u001b[0m\u001b[0;34m)\u001b[0m\u001b[0;34m\u001b[0m\u001b[0;34m\u001b[0m\u001b[0m\n\u001b[0m\u001b[1;32m     16\u001b[0m     \u001b[0mcircuit\u001b[0m\u001b[0;34m.\u001b[0m\u001b[0mbarrier\u001b[0m\u001b[0;34m(\u001b[0m\u001b[0;34m)\u001b[0m\u001b[0;34m\u001b[0m\u001b[0;34m\u001b[0m\u001b[0m\n\u001b[1;32m     17\u001b[0m     \u001b[0mcircuit\u001b[0m\u001b[0;34m.\u001b[0m\u001b[0mmeasure\u001b[0m\u001b[0;34m(\u001b[0m\u001b[0;34m[\u001b[0m\u001b[0;36m0\u001b[0m\u001b[0;34m,\u001b[0m\u001b[0;36m1\u001b[0m\u001b[0;34m]\u001b[0m\u001b[0;34m,\u001b[0m\u001b[0;34m[\u001b[0m\u001b[0;36m0\u001b[0m\u001b[0;34m,\u001b[0m\u001b[0;36m1\u001b[0m\u001b[0;34m]\u001b[0m\u001b[0;34m)\u001b[0m\u001b[0;34m\u001b[0m\u001b[0;34m\u001b[0m\u001b[0m\n",
      "\u001b[0;32m~/miniconda3/envs/pa21/lib/python3.9/site-packages/qiskit/extensions/unitary.py\u001b[0m in \u001b[0;36munitary\u001b[0;34m(self, obj, qubits, label)\u001b[0m\n\u001b[1;32m    216\u001b[0m \u001b[0;32mdef\u001b[0m \u001b[0munitary\u001b[0m\u001b[0;34m(\u001b[0m\u001b[0mself\u001b[0m\u001b[0;34m,\u001b[0m \u001b[0mobj\u001b[0m\u001b[0;34m,\u001b[0m \u001b[0mqubits\u001b[0m\u001b[0;34m,\u001b[0m \u001b[0mlabel\u001b[0m\u001b[0;34m=\u001b[0m\u001b[0;32mNone\u001b[0m\u001b[0;34m)\u001b[0m\u001b[0;34m:\u001b[0m\u001b[0;34m\u001b[0m\u001b[0;34m\u001b[0m\u001b[0m\n\u001b[1;32m    217\u001b[0m     \u001b[0;34m\"\"\"Apply unitary gate to q.\"\"\"\u001b[0m\u001b[0;34m\u001b[0m\u001b[0;34m\u001b[0m\u001b[0m\n\u001b[0;32m--> 218\u001b[0;31m     \u001b[0mgate\u001b[0m \u001b[0;34m=\u001b[0m \u001b[0mUnitaryGate\u001b[0m\u001b[0;34m(\u001b[0m\u001b[0mobj\u001b[0m\u001b[0;34m,\u001b[0m \u001b[0mlabel\u001b[0m\u001b[0;34m=\u001b[0m\u001b[0mlabel\u001b[0m\u001b[0;34m)\u001b[0m\u001b[0;34m\u001b[0m\u001b[0;34m\u001b[0m\u001b[0m\n\u001b[0m\u001b[1;32m    219\u001b[0m     \u001b[0;32mif\u001b[0m \u001b[0misinstance\u001b[0m\u001b[0;34m(\u001b[0m\u001b[0mqubits\u001b[0m\u001b[0;34m,\u001b[0m \u001b[0mQuantumRegister\u001b[0m\u001b[0;34m)\u001b[0m\u001b[0;34m:\u001b[0m\u001b[0;34m\u001b[0m\u001b[0;34m\u001b[0m\u001b[0m\n\u001b[1;32m    220\u001b[0m         \u001b[0mqubits\u001b[0m \u001b[0;34m=\u001b[0m \u001b[0mqubits\u001b[0m\u001b[0;34m[\u001b[0m\u001b[0;34m:\u001b[0m\u001b[0;34m]\u001b[0m\u001b[0;34m\u001b[0m\u001b[0;34m\u001b[0m\u001b[0m\n",
      "\u001b[0;32m~/miniconda3/envs/pa21/lib/python3.9/site-packages/qiskit/extensions/unitary.py\u001b[0m in \u001b[0;36m__init__\u001b[0;34m(self, data, label)\u001b[0m\n\u001b[1;32m     60\u001b[0m         \u001b[0;31m# Check input is unitary\u001b[0m\u001b[0;34m\u001b[0m\u001b[0;34m\u001b[0m\u001b[0m\n\u001b[1;32m     61\u001b[0m         \u001b[0;32mif\u001b[0m \u001b[0;32mnot\u001b[0m \u001b[0mis_unitary_matrix\u001b[0m\u001b[0;34m(\u001b[0m\u001b[0mdata\u001b[0m\u001b[0;34m)\u001b[0m\u001b[0;34m:\u001b[0m\u001b[0;34m\u001b[0m\u001b[0;34m\u001b[0m\u001b[0m\n\u001b[0;32m---> 62\u001b[0;31m             \u001b[0;32mraise\u001b[0m \u001b[0mExtensionError\u001b[0m\u001b[0;34m(\u001b[0m\u001b[0;34m\"Input matrix is not unitary.\"\u001b[0m\u001b[0;34m)\u001b[0m\u001b[0;34m\u001b[0m\u001b[0;34m\u001b[0m\u001b[0m\n\u001b[0m\u001b[1;32m     63\u001b[0m         \u001b[0;31m# Check input is N-qubit matrix\u001b[0m\u001b[0;34m\u001b[0m\u001b[0;34m\u001b[0m\u001b[0m\n\u001b[1;32m     64\u001b[0m         \u001b[0minput_dim\u001b[0m\u001b[0;34m,\u001b[0m \u001b[0moutput_dim\u001b[0m \u001b[0;34m=\u001b[0m \u001b[0mdata\u001b[0m\u001b[0;34m.\u001b[0m\u001b[0mshape\u001b[0m\u001b[0;34m\u001b[0m\u001b[0;34m\u001b[0m\u001b[0m\n",
      "\u001b[0;31mExtensionError\u001b[0m: 'Input matrix is not unitary.'"
     ]
    }
   ],
   "metadata": {}
  }
 ],
 "metadata": {
  "orig_nbformat": 4,
  "language_info": {
   "name": "python",
   "version": "3.9.7",
   "mimetype": "text/x-python",
   "codemirror_mode": {
    "name": "ipython",
    "version": 3
   },
   "pygments_lexer": "ipython3",
   "nbconvert_exporter": "python",
   "file_extension": ".py"
  },
  "kernelspec": {
   "name": "python3",
   "display_name": "Python 3.9.7 64-bit ('pa21': conda)"
  },
  "interpreter": {
   "hash": "cc11b3b19456420f34ecf6424352e5c6f3879c9b7bc1f01f1d73eadd631b83b5"
  }
 },
 "nbformat": 4,
 "nbformat_minor": 2
}